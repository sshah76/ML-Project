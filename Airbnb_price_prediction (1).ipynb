{
  "cells": [
    {
      "cell_type": "markdown",
      "metadata": {
        "id": "wJ5svEfJZG3I"
      },
      "source": [
        "# Airbnb Pricing Prediction\n",
        "\n",
        "Problem Statement: The project aims to predict the price of Airbnb listings from the     given number of features in the dataset\n",
        "\n"
      ]
    },
    {
      "cell_type": "markdown",
      "metadata": {
        "id": "mN_9lUWpm8D6"
      },
      "source": [
        "# Table of Contents\n",
        "\n",
        "1. Data Preview\n",
        "2. Data Exploration and Visulization\n",
        "3. Data Cleaning\n",
        "4. Train and Test Split\n",
        "5. Building Pipleline\n",
        "6. Modeling Techniques\n",
        "7. Tuning the models\n",
        "8. Evaluate final model on the Test Set\n",
        "9. References"
      ]
    },
    {
      "cell_type": "markdown",
      "metadata": {
        "id": "EiYKeI8PHbW7"
      },
      "source": [
        "# Data Preview"
      ]
    },
    {
      "cell_type": "code",
      "execution_count": null,
      "metadata": {
        "colab": {
          "base_uri": "https://localhost:8080/"
        },
        "id": "ayyUqgXNPYeK",
        "outputId": "dd1b9de1-1a05-4c7e-9fb2-bde56121a3c2"
      },
      "outputs": [
        {
          "output_type": "stream",
          "name": "stdout",
          "text": [
            "Drive already mounted at /content/drive; to attempt to forcibly remount, call drive.mount(\"/content/drive\", force_remount=True).\n"
          ]
        }
      ],
      "source": [
        "import pandas as pd\n",
        "import numpy as np\n",
        "import seaborn as sns\n",
        "import matplotlib.pyplot as plt\n",
        "\n",
        "from google.colab import drive\n",
        "drive.mount('/content/drive')\n",
        "data = pd.read_csv('/content/drive/Shareddrives/810-Teamproject/train.csv')"
      ]
    },
    {
      "cell_type": "markdown",
      "metadata": {
        "id": "eACs5IgTHlgJ"
      },
      "source": [
        "* The dataset has 74111 rows, and 29 columns\n",
        "* The dataset have mixed types of Numeric, Category, Date, String"
      ]
    },
    {
      "cell_type": "markdown",
      "metadata": {
        "id": "JqhE8CcWHTzG"
      },
      "source": [
        "| Column title| Data Type   |Description|\n",
        "| :----------- | :----------- | :--------|\n",
        "| `ID`       | Categorical      |Unique identifier given to each property listing       |\n",
        "| `Log Price`         |Numeric| Logged price of each Airbnb property |\n",
        "| `Property_Type` |Categorical| Type of housing, i.e. apartment, single-family home, etc |\n",
        "| `Room_Type`       |Categorical|Is the property going to be shared with the host, or will the guests be on property on their own                        |\n",
        "| `Amenities`    | Dictionary| Features being offered by the property, such as Internet, Cable, Free Parking, or any other items that add value to the guest experience                      |\n",
        "| `Accommodates `       | Numeric|Maximum number of guests that can stay on the property              |\n",
        "| `Bathrooms`       | Numeric| Number of bathrooms that the property offers |\n",
        "| `Bed_Type`     | Categorical| The type of bed that is offered, i.e. sofa bed, real bed, or futon |\n",
        "| `Cancellation_Policy` |Categorical| The flexibility levels being offered by hosts if a guest was to cancel their reservation, i.e. strict, moderate, or flexible |\n",
        "| `Cleaning_Fee`  | Categorical|Whether or not their is a cleaning fee included in the price |\n",
        "| `City`  | Categorical|The city where the property is located |\n",
        "| `Description `  |Categorical| Brief summary of the property, such as the space, the amenities, local attractions, etc |\n",
        "| `First_Review`  |Date |The date of the first review that was written for each property |\n",
        "| `Host_Has_Profile_Pic`  | Categorical| Whether the property’s host has a profile picture|\n",
        "| `Host_Identity_Verified `  | Categorical|Whether the host has taken the necessary steps to verify their account with Airbnb, such as providing an ID and sending a picture of themselves so that Airbnb could check against the ID to make sure they are who they say they are |\n",
        "| `Host_Response_Rate`  | Numeric |Percentage of guest inquiries that the host replies back to out of the total number of guest inquiries |\n",
        "| `Host_Since `  | Date| The year that the host joined Airbnb as a designated host |\n",
        "| `Instant_Bookable`  |Categorical| Whether the property can be booked right away, or if the guest would require the host to accept the booking before the reservation is confirmed|\n",
        "| `Last_Review `  | Date| Date of the most recent review|\n",
        "| `Latitude  `  | Numeric|The exact latitudinal points on a map of a specific property |\n",
        "| `Longitude`  | Numeric|(The exact longitudinal points on a map of a specific property |\n",
        "| `Name `  | Categorical| Listing name given to the property |\n",
        "| `Neighbourhood`  |Categorical| Small area within a city, i.e. Brookline is a neighborhood in Boston |\n",
        "| `Number_Of_Reviews  `  | Numeric|The total number of guest reviews given on each individual property |\n",
        "| `Review_Scores_Rating`  | Numeric|Average of the ratings given by the guests for each property |\n",
        "| `Thumbnail_URL `  | Categorical| Link that will bring you directly to the photos of the property|\n",
        "| `Zip Code`  |Categorical| Series of numbers used to distinguish addresses in geographic groupings |\n",
        "| `Bedrooms `  | Numeric|Total number of bedrooms that the property contains |\n",
        "| `Beds `  | Numeric| Total number of beds that the property offers |\n",
        "\n"
      ]
    },
    {
      "cell_type": "code",
      "execution_count": null,
      "metadata": {
        "colab": {
          "base_uri": "https://localhost:8080/"
        },
        "id": "aB-5E58FQQCt",
        "outputId": "39e0bce4-3323-4ad8-caed-c97d1c1c3976"
      },
      "outputs": [
        {
          "output_type": "stream",
          "name": "stdout",
          "text": [
            "<class 'pandas.core.frame.DataFrame'>\n",
            "RangeIndex: 74111 entries, 0 to 74110\n",
            "Data columns (total 29 columns):\n",
            " #   Column                  Non-Null Count  Dtype  \n",
            "---  ------                  --------------  -----  \n",
            " 0   id                      74111 non-null  int64  \n",
            " 1   log_price               74111 non-null  float64\n",
            " 2   property_type           74111 non-null  object \n",
            " 3   room_type               74111 non-null  object \n",
            " 4   amenities               74111 non-null  object \n",
            " 5   accommodates            74111 non-null  int64  \n",
            " 6   bathrooms               73911 non-null  float64\n",
            " 7   bed_type                74111 non-null  object \n",
            " 8   cancellation_policy     74111 non-null  object \n",
            " 9   cleaning_fee            74111 non-null  bool   \n",
            " 10  city                    74111 non-null  object \n",
            " 11  description             74111 non-null  object \n",
            " 12  first_review            58247 non-null  object \n",
            " 13  host_has_profile_pic    73923 non-null  object \n",
            " 14  host_identity_verified  73923 non-null  object \n",
            " 15  host_response_rate      55812 non-null  object \n",
            " 16  host_since              73923 non-null  object \n",
            " 17  instant_bookable        74111 non-null  object \n",
            " 18  last_review             58284 non-null  object \n",
            " 19  latitude                74111 non-null  float64\n",
            " 20  longitude               74111 non-null  float64\n",
            " 21  name                    74111 non-null  object \n",
            " 22  neighbourhood           67239 non-null  object \n",
            " 23  number_of_reviews       74111 non-null  int64  \n",
            " 24  review_scores_rating    57389 non-null  float64\n",
            " 25  thumbnail_url           65895 non-null  object \n",
            " 26  zipcode                 73145 non-null  object \n",
            " 27  bedrooms                74020 non-null  float64\n",
            " 28  beds                    73980 non-null  float64\n",
            "dtypes: bool(1), float64(7), int64(3), object(18)\n",
            "memory usage: 15.9+ MB\n"
          ]
        }
      ],
      "source": [
        "data.info()"
      ]
    },
    {
      "cell_type": "markdown",
      "metadata": {
        "id": "Zc4m3yN2IXKX"
      },
      "source": [
        "We decided to drop some columns, the reasons why are as follows:\n",
        "1. *id* column is not helpful in predicting the price\n",
        "2. *description* is a column with long text about the description on what the Airbnb might include. Text analysis is something we haven't covered in class yet\n",
        "3. *neighborhood* & *zipcode* have missing values and hence are redundant as we have longitude and latitude, so we decided to mainly use *longitude* and *latitude* to predict instead\n",
        "4. *thumbnail_url* are  links to access the picture of Airbnb, which includes image analysis, which we haven't covered in class\n",
        "5. *amenities* has unlimited value in the dictionary, and it includes text handing. This is something else which we haven't covered in class, so we decided to drop it."
      ]
    },
    {
      "cell_type": "code",
      "execution_count": null,
      "metadata": {
        "id": "P5uaB4ioIZsf"
      },
      "outputs": [],
      "source": [
        "data = data.drop(['id','description','name','neighbourhood','thumbnail_url','zipcode','amenities'],axis=1)"
      ]
    },
    {
      "cell_type": "code",
      "execution_count": null,
      "metadata": {
        "colab": {
          "base_uri": "https://localhost:8080/",
          "height": 386
        },
        "id": "rgEi_mSSRCYo",
        "outputId": "d16c410d-e58b-46d6-d446-09cccb3762a6"
      },
      "outputs": [
        {
          "output_type": "execute_result",
          "data": {
            "text/plain": [
              "   log_price property_type        room_type  accommodates  bathrooms  \\\n",
              "0    5.01064     Apartment  Entire home/apt             3    1.00000   \n",
              "1    5.12990     Apartment  Entire home/apt             7    1.00000   \n",
              "2    4.97673     Apartment  Entire home/apt             5    1.00000   \n",
              "3    6.62007         House  Entire home/apt             4    1.00000   \n",
              "4    4.74493     Apartment  Entire home/apt             2    1.00000   \n",
              "\n",
              "   bed_type cancellation_policy  cleaning_fee city first_review  ...  \\\n",
              "0  Real Bed              strict          True  NYC   2016-06-18  ...   \n",
              "1  Real Bed              strict          True  NYC   2017-08-05  ...   \n",
              "2  Real Bed            moderate          True  NYC   2017-04-30  ...   \n",
              "3  Real Bed            flexible          True   SF          NaN  ...   \n",
              "4  Real Bed            moderate          True   DC   2015-05-12  ...   \n",
              "\n",
              "  host_response_rate  host_since instant_bookable last_review latitude  \\\n",
              "0                NaN  2012-03-26                f  2016-07-18 40.69652   \n",
              "1               100%  2017-06-19                t  2017-09-23 40.76612   \n",
              "2               100%  2016-10-25                t  2017-09-14 40.80811   \n",
              "3                NaN  2015-04-19                f         NaN 37.77200   \n",
              "4               100%  2015-03-01                t  2017-01-22 38.92563   \n",
              "\n",
              "   longitude  number_of_reviews  review_scores_rating  bedrooms    beds  \n",
              "0  -73.99162                  2             100.00000   1.00000 1.00000  \n",
              "1  -73.98904                  6              93.00000   3.00000 3.00000  \n",
              "2  -73.94376                 10              92.00000   1.00000 3.00000  \n",
              "3 -122.43162                  0                   NaN   2.00000 2.00000  \n",
              "4  -77.03460                  4              40.00000   0.00000 1.00000  \n",
              "\n",
              "[5 rows x 22 columns]"
            ],
            "text/html": [
              "\n",
              "  <div id=\"df-f7bbc991-c3e8-4261-9988-64513f95b7b6\">\n",
              "    <div class=\"colab-df-container\">\n",
              "      <div>\n",
              "<style scoped>\n",
              "    .dataframe tbody tr th:only-of-type {\n",
              "        vertical-align: middle;\n",
              "    }\n",
              "\n",
              "    .dataframe tbody tr th {\n",
              "        vertical-align: top;\n",
              "    }\n",
              "\n",
              "    .dataframe thead th {\n",
              "        text-align: right;\n",
              "    }\n",
              "</style>\n",
              "<table border=\"1\" class=\"dataframe\">\n",
              "  <thead>\n",
              "    <tr style=\"text-align: right;\">\n",
              "      <th></th>\n",
              "      <th>log_price</th>\n",
              "      <th>property_type</th>\n",
              "      <th>room_type</th>\n",
              "      <th>accommodates</th>\n",
              "      <th>bathrooms</th>\n",
              "      <th>bed_type</th>\n",
              "      <th>cancellation_policy</th>\n",
              "      <th>cleaning_fee</th>\n",
              "      <th>city</th>\n",
              "      <th>first_review</th>\n",
              "      <th>...</th>\n",
              "      <th>host_response_rate</th>\n",
              "      <th>host_since</th>\n",
              "      <th>instant_bookable</th>\n",
              "      <th>last_review</th>\n",
              "      <th>latitude</th>\n",
              "      <th>longitude</th>\n",
              "      <th>number_of_reviews</th>\n",
              "      <th>review_scores_rating</th>\n",
              "      <th>bedrooms</th>\n",
              "      <th>beds</th>\n",
              "    </tr>\n",
              "  </thead>\n",
              "  <tbody>\n",
              "    <tr>\n",
              "      <th>0</th>\n",
              "      <td>5.01064</td>\n",
              "      <td>Apartment</td>\n",
              "      <td>Entire home/apt</td>\n",
              "      <td>3</td>\n",
              "      <td>1.00000</td>\n",
              "      <td>Real Bed</td>\n",
              "      <td>strict</td>\n",
              "      <td>True</td>\n",
              "      <td>NYC</td>\n",
              "      <td>2016-06-18</td>\n",
              "      <td>...</td>\n",
              "      <td>NaN</td>\n",
              "      <td>2012-03-26</td>\n",
              "      <td>f</td>\n",
              "      <td>2016-07-18</td>\n",
              "      <td>40.69652</td>\n",
              "      <td>-73.99162</td>\n",
              "      <td>2</td>\n",
              "      <td>100.00000</td>\n",
              "      <td>1.00000</td>\n",
              "      <td>1.00000</td>\n",
              "    </tr>\n",
              "    <tr>\n",
              "      <th>1</th>\n",
              "      <td>5.12990</td>\n",
              "      <td>Apartment</td>\n",
              "      <td>Entire home/apt</td>\n",
              "      <td>7</td>\n",
              "      <td>1.00000</td>\n",
              "      <td>Real Bed</td>\n",
              "      <td>strict</td>\n",
              "      <td>True</td>\n",
              "      <td>NYC</td>\n",
              "      <td>2017-08-05</td>\n",
              "      <td>...</td>\n",
              "      <td>100%</td>\n",
              "      <td>2017-06-19</td>\n",
              "      <td>t</td>\n",
              "      <td>2017-09-23</td>\n",
              "      <td>40.76612</td>\n",
              "      <td>-73.98904</td>\n",
              "      <td>6</td>\n",
              "      <td>93.00000</td>\n",
              "      <td>3.00000</td>\n",
              "      <td>3.00000</td>\n",
              "    </tr>\n",
              "    <tr>\n",
              "      <th>2</th>\n",
              "      <td>4.97673</td>\n",
              "      <td>Apartment</td>\n",
              "      <td>Entire home/apt</td>\n",
              "      <td>5</td>\n",
              "      <td>1.00000</td>\n",
              "      <td>Real Bed</td>\n",
              "      <td>moderate</td>\n",
              "      <td>True</td>\n",
              "      <td>NYC</td>\n",
              "      <td>2017-04-30</td>\n",
              "      <td>...</td>\n",
              "      <td>100%</td>\n",
              "      <td>2016-10-25</td>\n",
              "      <td>t</td>\n",
              "      <td>2017-09-14</td>\n",
              "      <td>40.80811</td>\n",
              "      <td>-73.94376</td>\n",
              "      <td>10</td>\n",
              "      <td>92.00000</td>\n",
              "      <td>1.00000</td>\n",
              "      <td>3.00000</td>\n",
              "    </tr>\n",
              "    <tr>\n",
              "      <th>3</th>\n",
              "      <td>6.62007</td>\n",
              "      <td>House</td>\n",
              "      <td>Entire home/apt</td>\n",
              "      <td>4</td>\n",
              "      <td>1.00000</td>\n",
              "      <td>Real Bed</td>\n",
              "      <td>flexible</td>\n",
              "      <td>True</td>\n",
              "      <td>SF</td>\n",
              "      <td>NaN</td>\n",
              "      <td>...</td>\n",
              "      <td>NaN</td>\n",
              "      <td>2015-04-19</td>\n",
              "      <td>f</td>\n",
              "      <td>NaN</td>\n",
              "      <td>37.77200</td>\n",
              "      <td>-122.43162</td>\n",
              "      <td>0</td>\n",
              "      <td>NaN</td>\n",
              "      <td>2.00000</td>\n",
              "      <td>2.00000</td>\n",
              "    </tr>\n",
              "    <tr>\n",
              "      <th>4</th>\n",
              "      <td>4.74493</td>\n",
              "      <td>Apartment</td>\n",
              "      <td>Entire home/apt</td>\n",
              "      <td>2</td>\n",
              "      <td>1.00000</td>\n",
              "      <td>Real Bed</td>\n",
              "      <td>moderate</td>\n",
              "      <td>True</td>\n",
              "      <td>DC</td>\n",
              "      <td>2015-05-12</td>\n",
              "      <td>...</td>\n",
              "      <td>100%</td>\n",
              "      <td>2015-03-01</td>\n",
              "      <td>t</td>\n",
              "      <td>2017-01-22</td>\n",
              "      <td>38.92563</td>\n",
              "      <td>-77.03460</td>\n",
              "      <td>4</td>\n",
              "      <td>40.00000</td>\n",
              "      <td>0.00000</td>\n",
              "      <td>1.00000</td>\n",
              "    </tr>\n",
              "  </tbody>\n",
              "</table>\n",
              "<p>5 rows × 22 columns</p>\n",
              "</div>\n",
              "      <button class=\"colab-df-convert\" onclick=\"convertToInteractive('df-f7bbc991-c3e8-4261-9988-64513f95b7b6')\"\n",
              "              title=\"Convert this dataframe to an interactive table.\"\n",
              "              style=\"display:none;\">\n",
              "        \n",
              "  <svg xmlns=\"http://www.w3.org/2000/svg\" height=\"24px\"viewBox=\"0 0 24 24\"\n",
              "       width=\"24px\">\n",
              "    <path d=\"M0 0h24v24H0V0z\" fill=\"none\"/>\n",
              "    <path d=\"M18.56 5.44l.94 2.06.94-2.06 2.06-.94-2.06-.94-.94-2.06-.94 2.06-2.06.94zm-11 1L8.5 8.5l.94-2.06 2.06-.94-2.06-.94L8.5 2.5l-.94 2.06-2.06.94zm10 10l.94 2.06.94-2.06 2.06-.94-2.06-.94-.94-2.06-.94 2.06-2.06.94z\"/><path d=\"M17.41 7.96l-1.37-1.37c-.4-.4-.92-.59-1.43-.59-.52 0-1.04.2-1.43.59L10.3 9.45l-7.72 7.72c-.78.78-.78 2.05 0 2.83L4 21.41c.39.39.9.59 1.41.59.51 0 1.02-.2 1.41-.59l7.78-7.78 2.81-2.81c.8-.78.8-2.07 0-2.86zM5.41 20L4 18.59l7.72-7.72 1.47 1.35L5.41 20z\"/>\n",
              "  </svg>\n",
              "      </button>\n",
              "      \n",
              "  <style>\n",
              "    .colab-df-container {\n",
              "      display:flex;\n",
              "      flex-wrap:wrap;\n",
              "      gap: 12px;\n",
              "    }\n",
              "\n",
              "    .colab-df-convert {\n",
              "      background-color: #E8F0FE;\n",
              "      border: none;\n",
              "      border-radius: 50%;\n",
              "      cursor: pointer;\n",
              "      display: none;\n",
              "      fill: #1967D2;\n",
              "      height: 32px;\n",
              "      padding: 0 0 0 0;\n",
              "      width: 32px;\n",
              "    }\n",
              "\n",
              "    .colab-df-convert:hover {\n",
              "      background-color: #E2EBFA;\n",
              "      box-shadow: 0px 1px 2px rgba(60, 64, 67, 0.3), 0px 1px 3px 1px rgba(60, 64, 67, 0.15);\n",
              "      fill: #174EA6;\n",
              "    }\n",
              "\n",
              "    [theme=dark] .colab-df-convert {\n",
              "      background-color: #3B4455;\n",
              "      fill: #D2E3FC;\n",
              "    }\n",
              "\n",
              "    [theme=dark] .colab-df-convert:hover {\n",
              "      background-color: #434B5C;\n",
              "      box-shadow: 0px 1px 3px 1px rgba(0, 0, 0, 0.15);\n",
              "      filter: drop-shadow(0px 1px 2px rgba(0, 0, 0, 0.3));\n",
              "      fill: #FFFFFF;\n",
              "    }\n",
              "  </style>\n",
              "\n",
              "      <script>\n",
              "        const buttonEl =\n",
              "          document.querySelector('#df-f7bbc991-c3e8-4261-9988-64513f95b7b6 button.colab-df-convert');\n",
              "        buttonEl.style.display =\n",
              "          google.colab.kernel.accessAllowed ? 'block' : 'none';\n",
              "\n",
              "        async function convertToInteractive(key) {\n",
              "          const element = document.querySelector('#df-f7bbc991-c3e8-4261-9988-64513f95b7b6');\n",
              "          const dataTable =\n",
              "            await google.colab.kernel.invokeFunction('convertToInteractive',\n",
              "                                                     [key], {});\n",
              "          if (!dataTable) return;\n",
              "\n",
              "          const docLinkHtml = 'Like what you see? Visit the ' +\n",
              "            '<a target=\"_blank\" href=https://colab.research.google.com/notebooks/data_table.ipynb>data table notebook</a>'\n",
              "            + ' to learn more about interactive tables.';\n",
              "          element.innerHTML = '';\n",
              "          dataTable['output_type'] = 'display_data';\n",
              "          await google.colab.output.renderOutput(dataTable, element);\n",
              "          const docLink = document.createElement('div');\n",
              "          docLink.innerHTML = docLinkHtml;\n",
              "          element.appendChild(docLink);\n",
              "        }\n",
              "      </script>\n",
              "    </div>\n",
              "  </div>\n",
              "  "
            ]
          },
          "metadata": {},
          "execution_count": 167
        }
      ],
      "source": [
        "data.head()"
      ]
    },
    {
      "cell_type": "markdown",
      "metadata": {
        "id": "o2bnhCVR7D9P"
      },
      "source": [
        "# Data Exploration and Visualization"
      ]
    },
    {
      "cell_type": "markdown",
      "metadata": {
        "id": "xd2nXyOq48fs"
      },
      "source": [
        "Summary statistic of Categorical variables"
      ]
    },
    {
      "cell_type": "code",
      "execution_count": null,
      "metadata": {
        "colab": {
          "base_uri": "https://localhost:8080/",
          "height": 256
        },
        "id": "BjXCSceWXi2n",
        "outputId": "699c0ea6-5c50-44a1-aee0-01b7405413c4"
      },
      "outputs": [
        {
          "output_type": "execute_result",
          "data": {
            "text/plain": [
              "       property_type        room_type  bed_type cancellation_policy   city  \\\n",
              "count          74111            74111     74111               74111  74111   \n",
              "unique            35                3         5                   5      6   \n",
              "top        Apartment  Entire home/apt  Real Bed              strict    NYC   \n",
              "freq           49003            41310     72028               32374  32349   \n",
              "\n",
              "       first_review host_has_profile_pic host_identity_verified  \\\n",
              "count         58247                73923                  73923   \n",
              "unique         2554                    2                      2   \n",
              "top      2017-01-01                    t                      t   \n",
              "freq            293                73697                  49748   \n",
              "\n",
              "       host_response_rate  host_since instant_bookable last_review  \n",
              "count               55812       73923            74111       58284  \n",
              "unique                 80        3087                2        1371  \n",
              "top                  100%  2015-03-30                f  2017-04-30  \n",
              "freq                43254         246            54660        1344  "
            ],
            "text/html": [
              "\n",
              "  <div id=\"df-ad57a143-ac27-449d-b3aa-3d5cfbfef5c3\">\n",
              "    <div class=\"colab-df-container\">\n",
              "      <div>\n",
              "<style scoped>\n",
              "    .dataframe tbody tr th:only-of-type {\n",
              "        vertical-align: middle;\n",
              "    }\n",
              "\n",
              "    .dataframe tbody tr th {\n",
              "        vertical-align: top;\n",
              "    }\n",
              "\n",
              "    .dataframe thead th {\n",
              "        text-align: right;\n",
              "    }\n",
              "</style>\n",
              "<table border=\"1\" class=\"dataframe\">\n",
              "  <thead>\n",
              "    <tr style=\"text-align: right;\">\n",
              "      <th></th>\n",
              "      <th>property_type</th>\n",
              "      <th>room_type</th>\n",
              "      <th>bed_type</th>\n",
              "      <th>cancellation_policy</th>\n",
              "      <th>city</th>\n",
              "      <th>first_review</th>\n",
              "      <th>host_has_profile_pic</th>\n",
              "      <th>host_identity_verified</th>\n",
              "      <th>host_response_rate</th>\n",
              "      <th>host_since</th>\n",
              "      <th>instant_bookable</th>\n",
              "      <th>last_review</th>\n",
              "    </tr>\n",
              "  </thead>\n",
              "  <tbody>\n",
              "    <tr>\n",
              "      <th>count</th>\n",
              "      <td>74111</td>\n",
              "      <td>74111</td>\n",
              "      <td>74111</td>\n",
              "      <td>74111</td>\n",
              "      <td>74111</td>\n",
              "      <td>58247</td>\n",
              "      <td>73923</td>\n",
              "      <td>73923</td>\n",
              "      <td>55812</td>\n",
              "      <td>73923</td>\n",
              "      <td>74111</td>\n",
              "      <td>58284</td>\n",
              "    </tr>\n",
              "    <tr>\n",
              "      <th>unique</th>\n",
              "      <td>35</td>\n",
              "      <td>3</td>\n",
              "      <td>5</td>\n",
              "      <td>5</td>\n",
              "      <td>6</td>\n",
              "      <td>2554</td>\n",
              "      <td>2</td>\n",
              "      <td>2</td>\n",
              "      <td>80</td>\n",
              "      <td>3087</td>\n",
              "      <td>2</td>\n",
              "      <td>1371</td>\n",
              "    </tr>\n",
              "    <tr>\n",
              "      <th>top</th>\n",
              "      <td>Apartment</td>\n",
              "      <td>Entire home/apt</td>\n",
              "      <td>Real Bed</td>\n",
              "      <td>strict</td>\n",
              "      <td>NYC</td>\n",
              "      <td>2017-01-01</td>\n",
              "      <td>t</td>\n",
              "      <td>t</td>\n",
              "      <td>100%</td>\n",
              "      <td>2015-03-30</td>\n",
              "      <td>f</td>\n",
              "      <td>2017-04-30</td>\n",
              "    </tr>\n",
              "    <tr>\n",
              "      <th>freq</th>\n",
              "      <td>49003</td>\n",
              "      <td>41310</td>\n",
              "      <td>72028</td>\n",
              "      <td>32374</td>\n",
              "      <td>32349</td>\n",
              "      <td>293</td>\n",
              "      <td>73697</td>\n",
              "      <td>49748</td>\n",
              "      <td>43254</td>\n",
              "      <td>246</td>\n",
              "      <td>54660</td>\n",
              "      <td>1344</td>\n",
              "    </tr>\n",
              "  </tbody>\n",
              "</table>\n",
              "</div>\n",
              "      <button class=\"colab-df-convert\" onclick=\"convertToInteractive('df-ad57a143-ac27-449d-b3aa-3d5cfbfef5c3')\"\n",
              "              title=\"Convert this dataframe to an interactive table.\"\n",
              "              style=\"display:none;\">\n",
              "        \n",
              "  <svg xmlns=\"http://www.w3.org/2000/svg\" height=\"24px\"viewBox=\"0 0 24 24\"\n",
              "       width=\"24px\">\n",
              "    <path d=\"M0 0h24v24H0V0z\" fill=\"none\"/>\n",
              "    <path d=\"M18.56 5.44l.94 2.06.94-2.06 2.06-.94-2.06-.94-.94-2.06-.94 2.06-2.06.94zm-11 1L8.5 8.5l.94-2.06 2.06-.94-2.06-.94L8.5 2.5l-.94 2.06-2.06.94zm10 10l.94 2.06.94-2.06 2.06-.94-2.06-.94-.94-2.06-.94 2.06-2.06.94z\"/><path d=\"M17.41 7.96l-1.37-1.37c-.4-.4-.92-.59-1.43-.59-.52 0-1.04.2-1.43.59L10.3 9.45l-7.72 7.72c-.78.78-.78 2.05 0 2.83L4 21.41c.39.39.9.59 1.41.59.51 0 1.02-.2 1.41-.59l7.78-7.78 2.81-2.81c.8-.78.8-2.07 0-2.86zM5.41 20L4 18.59l7.72-7.72 1.47 1.35L5.41 20z\"/>\n",
              "  </svg>\n",
              "      </button>\n",
              "      \n",
              "  <style>\n",
              "    .colab-df-container {\n",
              "      display:flex;\n",
              "      flex-wrap:wrap;\n",
              "      gap: 12px;\n",
              "    }\n",
              "\n",
              "    .colab-df-convert {\n",
              "      background-color: #E8F0FE;\n",
              "      border: none;\n",
              "      border-radius: 50%;\n",
              "      cursor: pointer;\n",
              "      display: none;\n",
              "      fill: #1967D2;\n",
              "      height: 32px;\n",
              "      padding: 0 0 0 0;\n",
              "      width: 32px;\n",
              "    }\n",
              "\n",
              "    .colab-df-convert:hover {\n",
              "      background-color: #E2EBFA;\n",
              "      box-shadow: 0px 1px 2px rgba(60, 64, 67, 0.3), 0px 1px 3px 1px rgba(60, 64, 67, 0.15);\n",
              "      fill: #174EA6;\n",
              "    }\n",
              "\n",
              "    [theme=dark] .colab-df-convert {\n",
              "      background-color: #3B4455;\n",
              "      fill: #D2E3FC;\n",
              "    }\n",
              "\n",
              "    [theme=dark] .colab-df-convert:hover {\n",
              "      background-color: #434B5C;\n",
              "      box-shadow: 0px 1px 3px 1px rgba(0, 0, 0, 0.15);\n",
              "      filter: drop-shadow(0px 1px 2px rgba(0, 0, 0, 0.3));\n",
              "      fill: #FFFFFF;\n",
              "    }\n",
              "  </style>\n",
              "\n",
              "      <script>\n",
              "        const buttonEl =\n",
              "          document.querySelector('#df-ad57a143-ac27-449d-b3aa-3d5cfbfef5c3 button.colab-df-convert');\n",
              "        buttonEl.style.display =\n",
              "          google.colab.kernel.accessAllowed ? 'block' : 'none';\n",
              "\n",
              "        async function convertToInteractive(key) {\n",
              "          const element = document.querySelector('#df-ad57a143-ac27-449d-b3aa-3d5cfbfef5c3');\n",
              "          const dataTable =\n",
              "            await google.colab.kernel.invokeFunction('convertToInteractive',\n",
              "                                                     [key], {});\n",
              "          if (!dataTable) return;\n",
              "\n",
              "          const docLinkHtml = 'Like what you see? Visit the ' +\n",
              "            '<a target=\"_blank\" href=https://colab.research.google.com/notebooks/data_table.ipynb>data table notebook</a>'\n",
              "            + ' to learn more about interactive tables.';\n",
              "          element.innerHTML = '';\n",
              "          dataTable['output_type'] = 'display_data';\n",
              "          await google.colab.output.renderOutput(dataTable, element);\n",
              "          const docLink = document.createElement('div');\n",
              "          docLink.innerHTML = docLinkHtml;\n",
              "          element.appendChild(docLink);\n",
              "        }\n",
              "      </script>\n",
              "    </div>\n",
              "  </div>\n",
              "  "
            ]
          },
          "metadata": {},
          "execution_count": 168
        }
      ],
      "source": [
        "data.describe(include=object)"
      ]
    },
    {
      "cell_type": "markdown",
      "metadata": {
        "id": "RYdbBoUy4_py"
      },
      "source": [
        "Summary statistics of Numerical variables"
      ]
    },
    {
      "cell_type": "code",
      "execution_count": null,
      "metadata": {
        "colab": {
          "base_uri": "https://localhost:8080/",
          "height": 364
        },
        "id": "GMmBYMjkXl2f",
        "outputId": "406e3216-1193-4895-93d6-6f30c758fab2"
      },
      "outputs": [
        {
          "output_type": "execute_result",
          "data": {
            "text/plain": [
              "        log_price  accommodates   bathrooms    latitude   longitude  \\\n",
              "count 74111.00000   74111.00000 73911.00000 74111.00000 74111.00000   \n",
              "mean      4.78207       3.15515     1.23526    38.44596   -92.39753   \n",
              "std       0.71739       2.15359     0.58204     3.08017    21.70532   \n",
              "min       0.00000       1.00000     0.00000    33.33890  -122.51150   \n",
              "25%       4.31749       2.00000     1.00000    34.12791  -118.34237   \n",
              "50%       4.70953       2.00000     1.00000    40.66214   -76.99696   \n",
              "75%       5.22036       4.00000     1.00000    40.74610   -73.95466   \n",
              "max       7.60040      16.00000     8.00000    42.39044   -70.98505   \n",
              "\n",
              "       number_of_reviews  review_scores_rating    bedrooms        beds  \n",
              "count        74111.00000           57389.00000 74020.00000 73980.00000  \n",
              "mean            20.90057              94.06736     1.26579     1.71087  \n",
              "std             37.82864               7.83656     0.85214     1.25414  \n",
              "min              0.00000              20.00000     0.00000     0.00000  \n",
              "25%              1.00000              92.00000     1.00000     1.00000  \n",
              "50%              6.00000              96.00000     1.00000     1.00000  \n",
              "75%             23.00000             100.00000     1.00000     2.00000  \n",
              "max            605.00000             100.00000    10.00000    18.00000  "
            ],
            "text/html": [
              "\n",
              "  <div id=\"df-ac38dedb-8ac2-47f4-ba5a-fdf2ae9dbdac\">\n",
              "    <div class=\"colab-df-container\">\n",
              "      <div>\n",
              "<style scoped>\n",
              "    .dataframe tbody tr th:only-of-type {\n",
              "        vertical-align: middle;\n",
              "    }\n",
              "\n",
              "    .dataframe tbody tr th {\n",
              "        vertical-align: top;\n",
              "    }\n",
              "\n",
              "    .dataframe thead th {\n",
              "        text-align: right;\n",
              "    }\n",
              "</style>\n",
              "<table border=\"1\" class=\"dataframe\">\n",
              "  <thead>\n",
              "    <tr style=\"text-align: right;\">\n",
              "      <th></th>\n",
              "      <th>log_price</th>\n",
              "      <th>accommodates</th>\n",
              "      <th>bathrooms</th>\n",
              "      <th>latitude</th>\n",
              "      <th>longitude</th>\n",
              "      <th>number_of_reviews</th>\n",
              "      <th>review_scores_rating</th>\n",
              "      <th>bedrooms</th>\n",
              "      <th>beds</th>\n",
              "    </tr>\n",
              "  </thead>\n",
              "  <tbody>\n",
              "    <tr>\n",
              "      <th>count</th>\n",
              "      <td>74111.00000</td>\n",
              "      <td>74111.00000</td>\n",
              "      <td>73911.00000</td>\n",
              "      <td>74111.00000</td>\n",
              "      <td>74111.00000</td>\n",
              "      <td>74111.00000</td>\n",
              "      <td>57389.00000</td>\n",
              "      <td>74020.00000</td>\n",
              "      <td>73980.00000</td>\n",
              "    </tr>\n",
              "    <tr>\n",
              "      <th>mean</th>\n",
              "      <td>4.78207</td>\n",
              "      <td>3.15515</td>\n",
              "      <td>1.23526</td>\n",
              "      <td>38.44596</td>\n",
              "      <td>-92.39753</td>\n",
              "      <td>20.90057</td>\n",
              "      <td>94.06736</td>\n",
              "      <td>1.26579</td>\n",
              "      <td>1.71087</td>\n",
              "    </tr>\n",
              "    <tr>\n",
              "      <th>std</th>\n",
              "      <td>0.71739</td>\n",
              "      <td>2.15359</td>\n",
              "      <td>0.58204</td>\n",
              "      <td>3.08017</td>\n",
              "      <td>21.70532</td>\n",
              "      <td>37.82864</td>\n",
              "      <td>7.83656</td>\n",
              "      <td>0.85214</td>\n",
              "      <td>1.25414</td>\n",
              "    </tr>\n",
              "    <tr>\n",
              "      <th>min</th>\n",
              "      <td>0.00000</td>\n",
              "      <td>1.00000</td>\n",
              "      <td>0.00000</td>\n",
              "      <td>33.33890</td>\n",
              "      <td>-122.51150</td>\n",
              "      <td>0.00000</td>\n",
              "      <td>20.00000</td>\n",
              "      <td>0.00000</td>\n",
              "      <td>0.00000</td>\n",
              "    </tr>\n",
              "    <tr>\n",
              "      <th>25%</th>\n",
              "      <td>4.31749</td>\n",
              "      <td>2.00000</td>\n",
              "      <td>1.00000</td>\n",
              "      <td>34.12791</td>\n",
              "      <td>-118.34237</td>\n",
              "      <td>1.00000</td>\n",
              "      <td>92.00000</td>\n",
              "      <td>1.00000</td>\n",
              "      <td>1.00000</td>\n",
              "    </tr>\n",
              "    <tr>\n",
              "      <th>50%</th>\n",
              "      <td>4.70953</td>\n",
              "      <td>2.00000</td>\n",
              "      <td>1.00000</td>\n",
              "      <td>40.66214</td>\n",
              "      <td>-76.99696</td>\n",
              "      <td>6.00000</td>\n",
              "      <td>96.00000</td>\n",
              "      <td>1.00000</td>\n",
              "      <td>1.00000</td>\n",
              "    </tr>\n",
              "    <tr>\n",
              "      <th>75%</th>\n",
              "      <td>5.22036</td>\n",
              "      <td>4.00000</td>\n",
              "      <td>1.00000</td>\n",
              "      <td>40.74610</td>\n",
              "      <td>-73.95466</td>\n",
              "      <td>23.00000</td>\n",
              "      <td>100.00000</td>\n",
              "      <td>1.00000</td>\n",
              "      <td>2.00000</td>\n",
              "    </tr>\n",
              "    <tr>\n",
              "      <th>max</th>\n",
              "      <td>7.60040</td>\n",
              "      <td>16.00000</td>\n",
              "      <td>8.00000</td>\n",
              "      <td>42.39044</td>\n",
              "      <td>-70.98505</td>\n",
              "      <td>605.00000</td>\n",
              "      <td>100.00000</td>\n",
              "      <td>10.00000</td>\n",
              "      <td>18.00000</td>\n",
              "    </tr>\n",
              "  </tbody>\n",
              "</table>\n",
              "</div>\n",
              "      <button class=\"colab-df-convert\" onclick=\"convertToInteractive('df-ac38dedb-8ac2-47f4-ba5a-fdf2ae9dbdac')\"\n",
              "              title=\"Convert this dataframe to an interactive table.\"\n",
              "              style=\"display:none;\">\n",
              "        \n",
              "  <svg xmlns=\"http://www.w3.org/2000/svg\" height=\"24px\"viewBox=\"0 0 24 24\"\n",
              "       width=\"24px\">\n",
              "    <path d=\"M0 0h24v24H0V0z\" fill=\"none\"/>\n",
              "    <path d=\"M18.56 5.44l.94 2.06.94-2.06 2.06-.94-2.06-.94-.94-2.06-.94 2.06-2.06.94zm-11 1L8.5 8.5l.94-2.06 2.06-.94-2.06-.94L8.5 2.5l-.94 2.06-2.06.94zm10 10l.94 2.06.94-2.06 2.06-.94-2.06-.94-.94-2.06-.94 2.06-2.06.94z\"/><path d=\"M17.41 7.96l-1.37-1.37c-.4-.4-.92-.59-1.43-.59-.52 0-1.04.2-1.43.59L10.3 9.45l-7.72 7.72c-.78.78-.78 2.05 0 2.83L4 21.41c.39.39.9.59 1.41.59.51 0 1.02-.2 1.41-.59l7.78-7.78 2.81-2.81c.8-.78.8-2.07 0-2.86zM5.41 20L4 18.59l7.72-7.72 1.47 1.35L5.41 20z\"/>\n",
              "  </svg>\n",
              "      </button>\n",
              "      \n",
              "  <style>\n",
              "    .colab-df-container {\n",
              "      display:flex;\n",
              "      flex-wrap:wrap;\n",
              "      gap: 12px;\n",
              "    }\n",
              "\n",
              "    .colab-df-convert {\n",
              "      background-color: #E8F0FE;\n",
              "      border: none;\n",
              "      border-radius: 50%;\n",
              "      cursor: pointer;\n",
              "      display: none;\n",
              "      fill: #1967D2;\n",
              "      height: 32px;\n",
              "      padding: 0 0 0 0;\n",
              "      width: 32px;\n",
              "    }\n",
              "\n",
              "    .colab-df-convert:hover {\n",
              "      background-color: #E2EBFA;\n",
              "      box-shadow: 0px 1px 2px rgba(60, 64, 67, 0.3), 0px 1px 3px 1px rgba(60, 64, 67, 0.15);\n",
              "      fill: #174EA6;\n",
              "    }\n",
              "\n",
              "    [theme=dark] .colab-df-convert {\n",
              "      background-color: #3B4455;\n",
              "      fill: #D2E3FC;\n",
              "    }\n",
              "\n",
              "    [theme=dark] .colab-df-convert:hover {\n",
              "      background-color: #434B5C;\n",
              "      box-shadow: 0px 1px 3px 1px rgba(0, 0, 0, 0.15);\n",
              "      filter: drop-shadow(0px 1px 2px rgba(0, 0, 0, 0.3));\n",
              "      fill: #FFFFFF;\n",
              "    }\n",
              "  </style>\n",
              "\n",
              "      <script>\n",
              "        const buttonEl =\n",
              "          document.querySelector('#df-ac38dedb-8ac2-47f4-ba5a-fdf2ae9dbdac button.colab-df-convert');\n",
              "        buttonEl.style.display =\n",
              "          google.colab.kernel.accessAllowed ? 'block' : 'none';\n",
              "\n",
              "        async function convertToInteractive(key) {\n",
              "          const element = document.querySelector('#df-ac38dedb-8ac2-47f4-ba5a-fdf2ae9dbdac');\n",
              "          const dataTable =\n",
              "            await google.colab.kernel.invokeFunction('convertToInteractive',\n",
              "                                                     [key], {});\n",
              "          if (!dataTable) return;\n",
              "\n",
              "          const docLinkHtml = 'Like what you see? Visit the ' +\n",
              "            '<a target=\"_blank\" href=https://colab.research.google.com/notebooks/data_table.ipynb>data table notebook</a>'\n",
              "            + ' to learn more about interactive tables.';\n",
              "          element.innerHTML = '';\n",
              "          dataTable['output_type'] = 'display_data';\n",
              "          await google.colab.output.renderOutput(dataTable, element);\n",
              "          const docLink = document.createElement('div');\n",
              "          docLink.innerHTML = docLinkHtml;\n",
              "          element.appendChild(docLink);\n",
              "        }\n",
              "      </script>\n",
              "    </div>\n",
              "  </div>\n",
              "  "
            ]
          },
          "metadata": {},
          "execution_count": 169
        }
      ],
      "source": [
        "data.describe()"
      ]
    },
    {
      "cell_type": "markdown",
      "metadata": {
        "id": "EXlKNtRbROmg"
      },
      "source": [
        "Target Variable: *log_price*\n",
        "\n",
        "We aim to use the above Airbnb dataset to predict the log price of each individual listing based on the given variables in the data. We plotted the distribution plot for the target variable to check how distributed the prices are, and found that since we are using the log of prices, the values follow close to normal distribution. The log value makes it a better metric for prediction."
      ]
    },
    {
      "cell_type": "code",
      "execution_count": null,
      "metadata": {
        "colab": {
          "base_uri": "https://localhost:8080/",
          "height": 387
        },
        "id": "QnufhqKFBA8Q",
        "outputId": "36003b39-10ba-42ea-e6bc-6a9b6bdbb5f7"
      },
      "outputs": [
        {
          "output_type": "stream",
          "name": "stderr",
          "text": [
            "/usr/local/lib/python3.8/dist-packages/seaborn/distributions.py:2619: FutureWarning:\n",
            "\n",
            "`distplot` is a deprecated function and will be removed in a future version. Please adapt your code to use either `displot` (a figure-level function with similar flexibility) or `histplot` (an axes-level function for histograms).\n",
            "\n"
          ]
        },
        {
          "output_type": "display_data",
          "data": {
            "text/plain": [
              "<Figure size 432x288 with 1 Axes>"
            ],
            "image/png": "[encoded data removed]"
          },
          "metadata": {
            "needs_background": "light"
          }
        }
      ],
      "source": [
        "sns.distplot(data['log_price'])\n",
        "plt.axvline(data['log_price'].median(), ymax= 0.95, linestyle='--')\n",
        "plt.title('Log Price distribution')\n",
        "plt.show();"
      ]
    },
    {
      "cell_type": "markdown",
      "metadata": {
        "id": "oo0nhy_XTtNL"
      },
      "source": [
        "The below graph represents the count of airbnb listings in each city in the dataset considered. We can observe that New York City and Los Angeles have a higher number of airbnb listings as compared to other major cities in the US"
      ]
    },
    {
      "cell_type": "code",
      "execution_count": null,
      "metadata": {
        "colab": {
          "base_uri": "https://localhost:8080/"
        },
        "id": "_6zFnUeTzSuS",
        "outputId": "d7a6f04b-06ea-4846-f2c0-8658d16244e4"
      },
      "outputs": [
        {
          "output_type": "execute_result",
          "data": {
            "text/plain": [
              "NYC        32349\n",
              "LA         22453\n",
              "SF          6434\n",
              "DC          5688\n",
              "Chicago     3719\n",
              "Boston      3468\n",
              "Name: city, dtype: int64"
            ]
          },
          "metadata": {},
          "execution_count": 171
        }
      ],
      "source": [
        "data.city.value_counts()"
      ]
    },
    {
      "cell_type": "code",
      "execution_count": null,
      "metadata": {
        "colab": {
          "base_uri": "https://localhost:8080/",
          "height": 213
        },
        "id": "MOmsvLbhThgO",
        "outputId": "891e1e42-2014-4cb6-959f-2ab5f2717deb"
      },
      "outputs": [
        {
          "output_type": "display_data",
          "data": {
            "text/plain": [
              "<Figure size 468x187.2 with 1 Axes>"
            ],
            "image/png": "[encoded data removed]"
          },
          "metadata": {
            "needs_background": "light"
          }
        }
      ],
      "source": [
        "ax = sns.catplot(y=\"city\", kind=\"count\", data=data, height=2.6,order=data['city'].value_counts().index,aspect=2.5).set(title='Count of Airbnb Listings across cities')"
      ]
    },
    {
      "cell_type": "code",
      "execution_count": null,
      "metadata": {
        "id": "4YZNOViH63Ey"
      },
      "outputs": [],
      "source": [
        "!pip install ipywidgets\n",
        "import ipywidgets as widgets\n",
        "from ipywidgets import *"
      ]
    },
    {
      "cell_type": "markdown",
      "metadata": {
        "id": "vO5Ik4Lz6U_h"
      },
      "source": [
        "Geographic plot of Airbnb locations and their *log_prices* plotted for various cities. The brighter color (yellow) of the dots indicate higher priced properties and a darker color (blue) indicates lower priced properties."
      ]
    },
    {
      "cell_type": "code",
      "execution_count": null,
      "metadata": {
        "colab": {
          "base_uri": "https://localhost:8080/",
          "height": 649,
          "referenced_widgets": [
            "b258c22273df470abade6350b1a83e10",
            "290c09fd796043d2adf937f5a76005cd",
            "9c42614642c54df6ba3475b74e83671e",
            "d2d018beefd7438a9dd709ee2012e16e",
            "2d5ac8f4dd3744668887d4df2341bd04",
            "6650f4a916e146b0b6aeaf133a6834f5",
            "187013a482ea41f2b72ca0851ecf4d94"
          ]
        },
        "id": "4n8v9Nus289x",
        "outputId": "f4f639df-637c-4157-90e8-ae4c968d06e3"
      },
      "outputs": [
        {
          "output_type": "display_data",
          "data": {
            "text/plain": [
              "interactive(children=(Dropdown(description='Choose_city', options=('NYC', 'LA', 'SF', 'DC', 'Chicago', 'Boston…"
            ],
            "application/vnd.jupyter.widget-view+json": {
              "version_major": 2,
              "version_minor": 0,
              "model_id": "b258c22273df470abade6350b1a83e10"
            }
          },
          "metadata": {}
        }
      ],
      "source": [
        "import plotly.express as px\n",
        "def create_map(city):\n",
        "    price_view = lambda x: 'price: ' + str(round(x, 2))\n",
        "\n",
        "    if city in {'NYC', 'LA'}:\n",
        "        fraction = 0.2\n",
        "    else:\n",
        "        fraction = 0.6\n",
        "\n",
        "    df_temp = data[data['city'] == city].sample(frac=fraction,random_state=101)\n",
        "    df_temp['log_price'] = np.round(df_temp['log_price'], 2)\n",
        "\n",
        "    fig = px.scatter_mapbox(df_temp,\n",
        "                            lat=\"latitude\",\n",
        "                            lon=\"longitude\",\n",
        "                            hover_data=[\"log_price\"],\n",
        "                            color='log_price',\n",
        "                            zoom=10)\n",
        "\n",
        "    fig.update_layout(\n",
        "            title = f'Airbnb prices in {city}',\n",
        "            geo_scope='usa',\n",
        "            width=1000,\n",
        "            height=600,\n",
        "            mapbox_style=\"white-bg\",\n",
        "            mapbox_layers=[{\n",
        "                 \"below\": 'traces',\n",
        "                 \"sourcetype\": \"raster\",\n",
        "                 \"sourceattribution\": \"United States Geological Survey\",\n",
        "                 \"source\": [\"https://basemap.nationalmap.gov/arcgis/rest/services/USGSImageryOnly/MapServer/tile/{z}/{y}/{x}\"]\n",
        "              }]\n",
        "    )\n",
        "    #fig.update_layout(margin={\"r\":0,\"t\":0,\"l\":0,\"b\":0})\n",
        "    #fig.update_geos(fitbounds=\"locations\")\n",
        "    fig.show()\n",
        "\n",
        "city = interact(lambda Choose_city: create_map(Choose_city), Choose_city=['NYC', 'LA', 'SF', 'DC', 'Chicago', 'Boston'])  #widget"
      ]
    },
    {
      "cell_type": "markdown",
      "metadata": {
        "id": "1XymBEg1VXxw"
      },
      "source": [
        "While trying to analze the common property types we found that Apartment and House are the two most common types of Properties listed in Airbnb."
      ]
    },
    {
      "cell_type": "code",
      "execution_count": null,
      "metadata": {
        "colab": {
          "base_uri": "https://localhost:8080/",
          "height": 385
        },
        "id": "46UT5x6PVH7B",
        "outputId": "59421295-5a9d-4392-da60-d5e972bb7f73"
      },
      "outputs": [
        {
          "output_type": "display_data",
          "data": {
            "text/plain": [
              "<Figure size 360x360 with 1 Axes>"
            ],
            "image/png": "[encoded data removed]"
          },
          "metadata": {
            "needs_background": "light"
          }
        }
      ],
      "source": [
        "ax = sns.catplot(y=\"property_type\", kind=\"count\",data=data).set(title='Most popular Property Types')"
      ]
    },
    {
      "cell_type": "markdown",
      "metadata": {
        "id": "vINu6j6V7gXC"
      },
      "source": [
        "Now we will explore the correlation among the variables, along with the target variable."
      ]
    },
    {
      "cell_type": "code",
      "execution_count": null,
      "metadata": {
        "colab": {
          "base_uri": "https://localhost:8080/",
          "height": 427
        },
        "id": "3qB6Kpku7UYC",
        "outputId": "2199071d-7d18-42aa-fda5-ddc7e59af1df"
      },
      "outputs": [
        {
          "output_type": "execute_result",
          "data": {
            "text/plain": [
              "                      log_price  accommodates  bathrooms  cleaning_fee  \\\n",
              "log_price               1.00000       0.56757    0.35542       0.11119   \n",
              "accommodates            0.56757       1.00000    0.50563       0.18231   \n",
              "bathrooms               0.35542       0.50563    1.00000       0.05378   \n",
              "cleaning_fee            0.11119       0.18231    0.05378       1.00000   \n",
              "latitude               -0.00219      -0.07831   -0.13796      -0.06091   \n",
              "longitude              -0.04753      -0.08516   -0.13503      -0.06850   \n",
              "number_of_reviews      -0.03247       0.04196   -0.04138       0.11020   \n",
              "review_scores_rating    0.09122      -0.01713    0.01054       0.03488   \n",
              "bedrooms                0.47321       0.70926    0.58994       0.10545   \n",
              "beds                    0.44215       0.81080    0.52559       0.13163   \n",
              "\n",
              "                      latitude  longitude  number_of_reviews  \\\n",
              "log_price             -0.00219   -0.04753           -0.03247   \n",
              "accommodates          -0.07831   -0.08516            0.04196   \n",
              "bathrooms             -0.13796   -0.13503           -0.04138   \n",
              "cleaning_fee          -0.06091   -0.06850            0.11020   \n",
              "latitude               1.00000    0.89606           -0.01764   \n",
              "longitude              0.89606    1.00000           -0.05001   \n",
              "number_of_reviews     -0.01764   -0.05001            1.00000   \n",
              "review_scores_rating  -0.03286   -0.04880            0.01171   \n",
              "bedrooms              -0.05916   -0.07611           -0.03515   \n",
              "beds                  -0.08029   -0.08215            0.03111   \n",
              "\n",
              "                      review_scores_rating  bedrooms     beds  \n",
              "log_price                          0.09122   0.47321  0.44215  \n",
              "accommodates                      -0.01713   0.70926  0.81080  \n",
              "bathrooms                          0.01054   0.58994  0.52559  \n",
              "cleaning_fee                       0.03488   0.10545  0.13163  \n",
              "latitude                          -0.03286  -0.05916 -0.08029  \n",
              "longitude                         -0.04880  -0.07611 -0.08215  \n",
              "number_of_reviews                  0.01171  -0.03515  0.03111  \n",
              "review_scores_rating               1.00000   0.01114 -0.02733  \n",
              "bedrooms                           0.01114   1.00000  0.70942  \n",
              "beds                              -0.02733   0.70942  1.00000  "
            ],
            "text/html": [
              "\n",
              "  <div id=\"df-283c43dc-44b5-4c30-b6d8-319349822b91\">\n",
              "    <div class=\"colab-df-container\">\n",
              "      <div>\n",
              "<style scoped>\n",
              "    .dataframe tbody tr th:only-of-type {\n",
              "        vertical-align: middle;\n",
              "    }\n",
              "\n",
              "    .dataframe tbody tr th {\n",
              "        vertical-align: top;\n",
              "    }\n",
              "\n",
              "    .dataframe thead th {\n",
              "        text-align: right;\n",
              "    }\n",
              "</style>\n",
              "<table border=\"1\" class=\"dataframe\">\n",
              "  <thead>\n",
              "    <tr style=\"text-align: right;\">\n",
              "      <th></th>\n",
              "      <th>log_price</th>\n",
              "      <th>accommodates</th>\n",
              "      <th>bathrooms</th>\n",
              "      <th>cleaning_fee</th>\n",
              "      <th>latitude</th>\n",
              "      <th>longitude</th>\n",
              "      <th>number_of_reviews</th>\n",
              "      <th>review_scores_rating</th>\n",
              "      <th>bedrooms</th>\n",
              "      <th>beds</th>\n",
              "    </tr>\n",
              "  </thead>\n",
              "  <tbody>\n",
              "    <tr>\n",
              "      <th>log_price</th>\n",
              "      <td>1.00000</td>\n",
              "      <td>0.56757</td>\n",
              "      <td>0.35542</td>\n",
              "      <td>0.11119</td>\n",
              "      <td>-0.00219</td>\n",
              "      <td>-0.04753</td>\n",
              "      <td>-0.03247</td>\n",
              "      <td>0.09122</td>\n",
              "      <td>0.47321</td>\n",
              "      <td>0.44215</td>\n",
              "    </tr>\n",
              "    <tr>\n",
              "      <th>accommodates</th>\n",
              "      <td>0.56757</td>\n",
              "      <td>1.00000</td>\n",
              "      <td>0.50563</td>\n",
              "      <td>0.18231</td>\n",
              "      <td>-0.07831</td>\n",
              "      <td>-0.08516</td>\n",
              "      <td>0.04196</td>\n",
              "      <td>-0.01713</td>\n",
              "      <td>0.70926</td>\n",
              "      <td>0.81080</td>\n",
              "    </tr>\n",
              "    <tr>\n",
              "      <th>bathrooms</th>\n",
              "      <td>0.35542</td>\n",
              "      <td>0.50563</td>\n",
              "      <td>1.00000</td>\n",
              "      <td>0.05378</td>\n",
              "      <td>-0.13796</td>\n",
              "      <td>-0.13503</td>\n",
              "      <td>-0.04138</td>\n",
              "      <td>0.01054</td>\n",
              "      <td>0.58994</td>\n",
              "      <td>0.52559</td>\n",
              "    </tr>\n",
              "    <tr>\n",
              "      <th>cleaning_fee</th>\n",
              "      <td>0.11119</td>\n",
              "      <td>0.18231</td>\n",
              "      <td>0.05378</td>\n",
              "      <td>1.00000</td>\n",
              "      <td>-0.06091</td>\n",
              "      <td>-0.06850</td>\n",
              "      <td>0.11020</td>\n",
              "      <td>0.03488</td>\n",
              "      <td>0.10545</td>\n",
              "      <td>0.13163</td>\n",
              "    </tr>\n",
              "    <tr>\n",
              "      <th>latitude</th>\n",
              "      <td>-0.00219</td>\n",
              "      <td>-0.07831</td>\n",
              "      <td>-0.13796</td>\n",
              "      <td>-0.06091</td>\n",
              "      <td>1.00000</td>\n",
              "      <td>0.89606</td>\n",
              "      <td>-0.01764</td>\n",
              "      <td>-0.03286</td>\n",
              "      <td>-0.05916</td>\n",
              "      <td>-0.08029</td>\n",
              "    </tr>\n",
              "    <tr>\n",
              "      <th>longitude</th>\n",
              "      <td>-0.04753</td>\n",
              "      <td>-0.08516</td>\n",
              "      <td>-0.13503</td>\n",
              "      <td>-0.06850</td>\n",
              "      <td>0.89606</td>\n",
              "      <td>1.00000</td>\n",
              "      <td>-0.05001</td>\n",
              "      <td>-0.04880</td>\n",
              "      <td>-0.07611</td>\n",
              "      <td>-0.08215</td>\n",
              "    </tr>\n",
              "    <tr>\n",
              "      <th>number_of_reviews</th>\n",
              "      <td>-0.03247</td>\n",
              "      <td>0.04196</td>\n",
              "      <td>-0.04138</td>\n",
              "      <td>0.11020</td>\n",
              "      <td>-0.01764</td>\n",
              "      <td>-0.05001</td>\n",
              "      <td>1.00000</td>\n",
              "      <td>0.01171</td>\n",
              "      <td>-0.03515</td>\n",
              "      <td>0.03111</td>\n",
              "    </tr>\n",
              "    <tr>\n",
              "      <th>review_scores_rating</th>\n",
              "      <td>0.09122</td>\n",
              "      <td>-0.01713</td>\n",
              "      <td>0.01054</td>\n",
              "      <td>0.03488</td>\n",
              "      <td>-0.03286</td>\n",
              "      <td>-0.04880</td>\n",
              "      <td>0.01171</td>\n",
              "      <td>1.00000</td>\n",
              "      <td>0.01114</td>\n",
              "      <td>-0.02733</td>\n",
              "    </tr>\n",
              "    <tr>\n",
              "      <th>bedrooms</th>\n",
              "      <td>0.47321</td>\n",
              "      <td>0.70926</td>\n",
              "      <td>0.58994</td>\n",
              "      <td>0.10545</td>\n",
              "      <td>-0.05916</td>\n",
              "      <td>-0.07611</td>\n",
              "      <td>-0.03515</td>\n",
              "      <td>0.01114</td>\n",
              "      <td>1.00000</td>\n",
              "      <td>0.70942</td>\n",
              "    </tr>\n",
              "    <tr>\n",
              "      <th>beds</th>\n",
              "      <td>0.44215</td>\n",
              "      <td>0.81080</td>\n",
              "      <td>0.52559</td>\n",
              "      <td>0.13163</td>\n",
              "      <td>-0.08029</td>\n",
              "      <td>-0.08215</td>\n",
              "      <td>0.03111</td>\n",
              "      <td>-0.02733</td>\n",
              "      <td>0.70942</td>\n",
              "      <td>1.00000</td>\n",
              "    </tr>\n",
              "  </tbody>\n",
              "</table>\n",
              "</div>\n",
              "      <button class=\"colab-df-convert\" onclick=\"convertToInteractive('df-283c43dc-44b5-4c30-b6d8-319349822b91')\"\n",
              "              title=\"Convert this dataframe to an interactive table.\"\n",
              "              style=\"display:none;\">\n",
              "        \n",
              "  <svg xmlns=\"http://www.w3.org/2000/svg\" height=\"24px\"viewBox=\"0 0 24 24\"\n",
              "       width=\"24px\">\n",
              "    <path d=\"M0 0h24v24H0V0z\" fill=\"none\"/>\n",
              "    <path d=\"M18.56 5.44l.94 2.06.94-2.06 2.06-.94-2.06-.94-.94-2.06-.94 2.06-2.06.94zm-11 1L8.5 8.5l.94-2.06 2.06-.94-2.06-.94L8.5 2.5l-.94 2.06-2.06.94zm10 10l.94 2.06.94-2.06 2.06-.94-2.06-.94-.94-2.06-.94 2.06-2.06.94z\"/><path d=\"M17.41 7.96l-1.37-1.37c-.4-.4-.92-.59-1.43-.59-.52 0-1.04.2-1.43.59L10.3 9.45l-7.72 7.72c-.78.78-.78 2.05 0 2.83L4 21.41c.39.39.9.59 1.41.59.51 0 1.02-.2 1.41-.59l7.78-7.78 2.81-2.81c.8-.78.8-2.07 0-2.86zM5.41 20L4 18.59l7.72-7.72 1.47 1.35L5.41 20z\"/>\n",
              "  </svg>\n",
              "      </button>\n",
              "      \n",
              "  <style>\n",
              "    .colab-df-container {\n",
              "      display:flex;\n",
              "      flex-wrap:wrap;\n",
              "      gap: 12px;\n",
              "    }\n",
              "\n",
              "    .colab-df-convert {\n",
              "      background-color: #E8F0FE;\n",
              "      border: none;\n",
              "      border-radius: 50%;\n",
              "      cursor: pointer;\n",
              "      display: none;\n",
              "      fill: #1967D2;\n",
              "      height: 32px;\n",
              "      padding: 0 0 0 0;\n",
              "      width: 32px;\n",
              "    }\n",
              "\n",
              "    .colab-df-convert:hover {\n",
              "      background-color: #E2EBFA;\n",
              "      box-shadow: 0px 1px 2px rgba(60, 64, 67, 0.3), 0px 1px 3px 1px rgba(60, 64, 67, 0.15);\n",
              "      fill: #174EA6;\n",
              "    }\n",
              "\n",
              "    [theme=dark] .colab-df-convert {\n",
              "      background-color: #3B4455;\n",
              "      fill: #D2E3FC;\n",
              "    }\n",
              "\n",
              "    [theme=dark] .colab-df-convert:hover {\n",
              "      background-color: #434B5C;\n",
              "      box-shadow: 0px 1px 3px 1px rgba(0, 0, 0, 0.15);\n",
              "      filter: drop-shadow(0px 1px 2px rgba(0, 0, 0, 0.3));\n",
              "      fill: #FFFFFF;\n",
              "    }\n",
              "  </style>\n",
              "\n",
              "      <script>\n",
              "        const buttonEl =\n",
              "          document.querySelector('#df-283c43dc-44b5-4c30-b6d8-319349822b91 button.colab-df-convert');\n",
              "        buttonEl.style.display =\n",
              "          google.colab.kernel.accessAllowed ? 'block' : 'none';\n",
              "\n",
              "        async function convertToInteractive(key) {\n",
              "          const element = document.querySelector('#df-283c43dc-44b5-4c30-b6d8-319349822b91');\n",
              "          const dataTable =\n",
              "            await google.colab.kernel.invokeFunction('convertToInteractive',\n",
              "                                                     [key], {});\n",
              "          if (!dataTable) return;\n",
              "\n",
              "          const docLinkHtml = 'Like what you see? Visit the ' +\n",
              "            '<a target=\"_blank\" href=https://colab.research.google.com/notebooks/data_table.ipynb>data table notebook</a>'\n",
              "            + ' to learn more about interactive tables.';\n",
              "          element.innerHTML = '';\n",
              "          dataTable['output_type'] = 'display_data';\n",
              "          await google.colab.output.renderOutput(dataTable, element);\n",
              "          const docLink = document.createElement('div');\n",
              "          docLink.innerHTML = docLinkHtml;\n",
              "          element.appendChild(docLink);\n",
              "        }\n",
              "      </script>\n",
              "    </div>\n",
              "  </div>\n",
              "  "
            ]
          },
          "metadata": {},
          "execution_count": 176
        }
      ],
      "source": [
        "data.corr()"
      ]
    },
    {
      "cell_type": "markdown",
      "metadata": {
        "id": "OGTzyiqb74WF"
      },
      "source": [
        "The below heatmap is showing the correlation that each individual variable has with one another. In terms of log price, the variable that has the lowest correlation with it is longitude with a value of -0.05. The variable that had the highest correlation with log price was accommodates with a value of 0.57."
      ]
    },
    {
      "cell_type": "code",
      "execution_count": null,
      "metadata": {
        "colab": {
          "base_uri": "https://localhost:8080/",
          "height": 542
        },
        "id": "nO8wC7eR738x",
        "outputId": "246bb422-2346-4df3-c93e-b44a098954c8"
      },
      "outputs": [
        {
          "output_type": "display_data",
          "data": {
            "text/html": [
              "<html>\n",
              "<head><meta charset=\"utf-8\" /></head>\n",
              "<body>\n",
              "    <div>            <script src=\"https://cdnjs.cloudflare.com/ajax/libs/mathjax/2.7.5/MathJax.js?config=TeX-AMS-MML_SVG\"></script><script type=\"text/javascript\">if (window.MathJax) {MathJax.Hub.Config({SVG: {font: \"STIX-Web\"}});}</script>                <script type=\"text/javascript\">window.PlotlyConfig = {MathJaxConfig: 'local'};</script>\n",
              "        <script src=\"https://cdn.plot.ly/plotly-2.8.3.min.js\"></script>                <div id=\"dc9edda8-824f-480c-9879-53df8b4585c4\" class=\"plotly-graph-div\" style=\"height:525px; width:100%;\"></div>            <script type=\"text/javascript\">                                    window.PLOTLYENV=window.PLOTLYENV || {};                                    if (document.getElementById(\"dc9edda8-824f-480c-9879-53df8b4585c4\")) {                    Plotly.newPlot(                        \"dc9edda8-824f-480c-9879-53df8b4585c4\",                        [{\"colorscale\":[[0.0,\"#0d0887\"],[0.1111111111111111,\"#46039f\"],[0.2222222222222222,\"#7201a8\"],[0.3333333333333333,\"#9c179e\"],[0.4444444444444444,\"#bd3786\"],[0.5555555555555556,\"#d8576b\"],[0.6666666666666666,\"#ed7953\"],[0.7777777777777778,\"#fb9f3a\"],[0.8888888888888888,\"#fdca26\"],[1.0,\"#f0f921\"]],\"reversescale\":false,\"showscale\":true,\"x\":[\"log_price\",\"accommodates\",\"bathrooms\",\"cleaning_fee\",\"latitude\",\"longitude\",\"number_of_reviews\",\"review_scores_rating\",\"bedrooms\",\"beds\"],\"y\":[\"log_price\",\"accommodates\",\"bathrooms\",\"cleaning_fee\",\"latitude\",\"longitude\",\"number_of_reviews\",\"review_scores_rating\",\"bedrooms\",\"beds\"],\"z\":[[1.0,0.5675742149828118,0.3554196617879725,0.11119051394830348,-0.002193363742557029,-0.047529122936763535,-0.03246997618008635,0.0912186391364838,0.4732124880004298,0.4421533346066642],[0.5675742149828118,1.0,0.5056324179602791,0.18230564775146849,-0.07830865872897583,-0.08515983369566085,0.04196379038853579,-0.01712757140061192,0.7092580388722244,0.8108007771672996],[0.3554196617879725,0.5056324179602791,1.0,0.053784374856171366,-0.1379593857392693,-0.1350255702813071,-0.04138146082433999,0.010537446046546512,0.5899351948201272,0.5255909807206923],[0.11119051394830348,0.18230564775146849,0.053784374856171366,1.0,-0.06091295682603932,-0.06850482022265242,0.11020449358146088,0.034878641600469676,0.10545375451006352,0.13163237906129005],[-0.002193363742557029,-0.07830865872897583,-0.1379593857392693,-0.06091295682603932,1.0,0.8960647534122725,-0.017642370122325297,-0.032857612182524615,-0.05916187190591321,-0.08029384204438737],[-0.047529122936763535,-0.08515983369566085,-0.1350255702813071,-0.06850482022265242,0.8960647534122725,1.0,-0.050009197255298725,-0.04880106877106369,-0.07611252247152148,-0.08214968619476117],[-0.03246997618008635,0.04196379038853579,-0.04138146082433999,0.11020449358146088,-0.017642370122325297,-0.050009197255298725,1.0,0.011708268305535147,-0.035148567006441214,0.03110899555045915],[0.0912186391364838,-0.01712757140061192,0.010537446046546512,0.034878641600469676,-0.032857612182524615,-0.04880106877106369,0.011708268305535147,1.0,0.011143059048836557,-0.02732998361139412],[0.4732124880004298,0.7092580388722244,0.5899351948201272,0.10545375451006352,-0.05916187190591321,-0.07611252247152148,-0.035148567006441214,0.011143059048836557,1.0,0.709415764586166],[0.4421533346066642,0.8108007771672996,0.5255909807206923,0.13163237906129005,-0.08029384204438737,-0.08214968619476117,0.03110899555045915,-0.02732998361139412,0.709415764586166,1.0]],\"type\":\"heatmap\"}],                        {\"annotations\":[{\"font\":{\"color\":\"#000000\"},\"showarrow\":false,\"text\":\"1.0\",\"x\":\"log_price\",\"xref\":\"x\",\"y\":\"log_price\",\"yref\":\"y\"},{\"font\":{\"color\":\"#000000\"},\"showarrow\":false,\"text\":\"0.57\",\"x\":\"accommodates\",\"xref\":\"x\",\"y\":\"log_price\",\"yref\":\"y\"},{\"font\":{\"color\":\"#FFFFFF\"},\"showarrow\":false,\"text\":\"0.36\",\"x\":\"bathrooms\",\"xref\":\"x\",\"y\":\"log_price\",\"yref\":\"y\"},{\"font\":{\"color\":\"#FFFFFF\"},\"showarrow\":false,\"text\":\"0.11\",\"x\":\"cleaning_fee\",\"xref\":\"x\",\"y\":\"log_price\",\"yref\":\"y\"},{\"font\":{\"color\":\"#FFFFFF\"},\"showarrow\":false,\"text\":\"-0.0\",\"x\":\"latitude\",\"xref\":\"x\",\"y\":\"log_price\",\"yref\":\"y\"},{\"font\":{\"color\":\"#FFFFFF\"},\"showarrow\":false,\"text\":\"-0.05\",\"x\":\"longitude\",\"xref\":\"x\",\"y\":\"log_price\",\"yref\":\"y\"},{\"font\":{\"color\":\"#FFFFFF\"},\"showarrow\":false,\"text\":\"-0.03\",\"x\":\"number_of_reviews\",\"xref\":\"x\",\"y\":\"log_price\",\"yref\":\"y\"},{\"font\":{\"color\":\"#FFFFFF\"},\"showarrow\":false,\"text\":\"0.09\",\"x\":\"review_scores_rating\",\"xref\":\"x\",\"y\":\"log_price\",\"yref\":\"y\"},{\"font\":{\"color\":\"#000000\"},\"showarrow\":false,\"text\":\"0.47\",\"x\":\"bedrooms\",\"xref\":\"x\",\"y\":\"log_price\",\"yref\":\"y\"},{\"font\":{\"color\":\"#000000\"},\"showarrow\":false,\"text\":\"0.44\",\"x\":\"beds\",\"xref\":\"x\",\"y\":\"log_price\",\"yref\":\"y\"},{\"font\":{\"color\":\"#000000\"},\"showarrow\":false,\"text\":\"0.57\",\"x\":\"log_price\",\"xref\":\"x\",\"y\":\"accommodates\",\"yref\":\"y\"},{\"font\":{\"color\":\"#000000\"},\"showarrow\":false,\"text\":\"1.0\",\"x\":\"accommodates\",\"xref\":\"x\",\"y\":\"accommodates\",\"yref\":\"y\"},{\"font\":{\"color\":\"#000000\"},\"showarrow\":false,\"text\":\"0.51\",\"x\":\"bathrooms\",\"xref\":\"x\",\"y\":\"accommodates\",\"yref\":\"y\"},{\"font\":{\"color\":\"#FFFFFF\"},\"showarrow\":false,\"text\":\"0.18\",\"x\":\"cleaning_fee\",\"xref\":\"x\",\"y\":\"accommodates\",\"yref\":\"y\"},{\"font\":{\"color\":\"#FFFFFF\"},\"showarrow\":false,\"text\":\"-0.08\",\"x\":\"latitude\",\"xref\":\"x\",\"y\":\"accommodates\",\"yref\":\"y\"},{\"font\":{\"color\":\"#FFFFFF\"},\"showarrow\":false,\"text\":\"-0.09\",\"x\":\"longitude\",\"xref\":\"x\",\"y\":\"accommodates\",\"yref\":\"y\"},{\"font\":{\"color\":\"#FFFFFF\"},\"showarrow\":false,\"text\":\"0.04\",\"x\":\"number_of_reviews\",\"xref\":\"x\",\"y\":\"accommodates\",\"yref\":\"y\"},{\"font\":{\"color\":\"#FFFFFF\"},\"showarrow\":false,\"text\":\"-0.02\",\"x\":\"review_scores_rating\",\"xref\":\"x\",\"y\":\"accommodates\",\"yref\":\"y\"},{\"font\":{\"color\":\"#000000\"},\"showarrow\":false,\"text\":\"0.71\",\"x\":\"bedrooms\",\"xref\":\"x\",\"y\":\"accommodates\",\"yref\":\"y\"},{\"font\":{\"color\":\"#000000\"},\"showarrow\":false,\"text\":\"0.81\",\"x\":\"beds\",\"xref\":\"x\",\"y\":\"accommodates\",\"yref\":\"y\"},{\"font\":{\"color\":\"#FFFFFF\"},\"showarrow\":false,\"text\":\"0.36\",\"x\":\"log_price\",\"xref\":\"x\",\"y\":\"bathrooms\",\"yref\":\"y\"},{\"font\":{\"color\":\"#000000\"},\"showarrow\":false,\"text\":\"0.51\",\"x\":\"accommodates\",\"xref\":\"x\",\"y\":\"bathrooms\",\"yref\":\"y\"},{\"font\":{\"color\":\"#000000\"},\"showarrow\":false,\"text\":\"1.0\",\"x\":\"bathrooms\",\"xref\":\"x\",\"y\":\"bathrooms\",\"yref\":\"y\"},{\"font\":{\"color\":\"#FFFFFF\"},\"showarrow\":false,\"text\":\"0.05\",\"x\":\"cleaning_fee\",\"xref\":\"x\",\"y\":\"bathrooms\",\"yref\":\"y\"},{\"font\":{\"color\":\"#FFFFFF\"},\"showarrow\":false,\"text\":\"-0.14\",\"x\":\"latitude\",\"xref\":\"x\",\"y\":\"bathrooms\",\"yref\":\"y\"},{\"font\":{\"color\":\"#FFFFFF\"},\"showarrow\":false,\"text\":\"-0.14\",\"x\":\"longitude\",\"xref\":\"x\",\"y\":\"bathrooms\",\"yref\":\"y\"},{\"font\":{\"color\":\"#FFFFFF\"},\"showarrow\":false,\"text\":\"-0.04\",\"x\":\"number_of_reviews\",\"xref\":\"x\",\"y\":\"bathrooms\",\"yref\":\"y\"},{\"font\":{\"color\":\"#FFFFFF\"},\"showarrow\":false,\"text\":\"0.01\",\"x\":\"review_scores_rating\",\"xref\":\"x\",\"y\":\"bathrooms\",\"yref\":\"y\"},{\"font\":{\"color\":\"#000000\"},\"showarrow\":false,\"text\":\"0.59\",\"x\":\"bedrooms\",\"xref\":\"x\",\"y\":\"bathrooms\",\"yref\":\"y\"},{\"font\":{\"color\":\"#000000\"},\"showarrow\":false,\"text\":\"0.53\",\"x\":\"beds\",\"xref\":\"x\",\"y\":\"bathrooms\",\"yref\":\"y\"},{\"font\":{\"color\":\"#FFFFFF\"},\"showarrow\":false,\"text\":\"0.11\",\"x\":\"log_price\",\"xref\":\"x\",\"y\":\"cleaning_fee\",\"yref\":\"y\"},{\"font\":{\"color\":\"#FFFFFF\"},\"showarrow\":false,\"text\":\"0.18\",\"x\":\"accommodates\",\"xref\":\"x\",\"y\":\"cleaning_fee\",\"yref\":\"y\"},{\"font\":{\"color\":\"#FFFFFF\"},\"showarrow\":false,\"text\":\"0.05\",\"x\":\"bathrooms\",\"xref\":\"x\",\"y\":\"cleaning_fee\",\"yref\":\"y\"},{\"font\":{\"color\":\"#000000\"},\"showarrow\":false,\"text\":\"1.0\",\"x\":\"cleaning_fee\",\"xref\":\"x\",\"y\":\"cleaning_fee\",\"yref\":\"y\"},{\"font\":{\"color\":\"#FFFFFF\"},\"showarrow\":false,\"text\":\"-0.06\",\"x\":\"latitude\",\"xref\":\"x\",\"y\":\"cleaning_fee\",\"yref\":\"y\"},{\"font\":{\"color\":\"#FFFFFF\"},\"showarrow\":false,\"text\":\"-0.07\",\"x\":\"longitude\",\"xref\":\"x\",\"y\":\"cleaning_fee\",\"yref\":\"y\"},{\"font\":{\"color\":\"#FFFFFF\"},\"showarrow\":false,\"text\":\"0.11\",\"x\":\"number_of_reviews\",\"xref\":\"x\",\"y\":\"cleaning_fee\",\"yref\":\"y\"},{\"font\":{\"color\":\"#FFFFFF\"},\"showarrow\":false,\"text\":\"0.03\",\"x\":\"review_scores_rating\",\"xref\":\"x\",\"y\":\"cleaning_fee\",\"yref\":\"y\"},{\"font\":{\"color\":\"#FFFFFF\"},\"showarrow\":false,\"text\":\"0.11\",\"x\":\"bedrooms\",\"xref\":\"x\",\"y\":\"cleaning_fee\",\"yref\":\"y\"},{\"font\":{\"color\":\"#FFFFFF\"},\"showarrow\":false,\"text\":\"0.13\",\"x\":\"beds\",\"xref\":\"x\",\"y\":\"cleaning_fee\",\"yref\":\"y\"},{\"font\":{\"color\":\"#FFFFFF\"},\"showarrow\":false,\"text\":\"-0.0\",\"x\":\"log_price\",\"xref\":\"x\",\"y\":\"latitude\",\"yref\":\"y\"},{\"font\":{\"color\":\"#FFFFFF\"},\"showarrow\":false,\"text\":\"-0.08\",\"x\":\"accommodates\",\"xref\":\"x\",\"y\":\"latitude\",\"yref\":\"y\"},{\"font\":{\"color\":\"#FFFFFF\"},\"showarrow\":false,\"text\":\"-0.14\",\"x\":\"bathrooms\",\"xref\":\"x\",\"y\":\"latitude\",\"yref\":\"y\"},{\"font\":{\"color\":\"#FFFFFF\"},\"showarrow\":false,\"text\":\"-0.06\",\"x\":\"cleaning_fee\",\"xref\":\"x\",\"y\":\"latitude\",\"yref\":\"y\"},{\"font\":{\"color\":\"#000000\"},\"showarrow\":false,\"text\":\"1.0\",\"x\":\"latitude\",\"xref\":\"x\",\"y\":\"latitude\",\"yref\":\"y\"},{\"font\":{\"color\":\"#000000\"},\"showarrow\":false,\"text\":\"0.9\",\"x\":\"longitude\",\"xref\":\"x\",\"y\":\"latitude\",\"yref\":\"y\"},{\"font\":{\"color\":\"#FFFFFF\"},\"showarrow\":false,\"text\":\"-0.02\",\"x\":\"number_of_reviews\",\"xref\":\"x\",\"y\":\"latitude\",\"yref\":\"y\"},{\"font\":{\"color\":\"#FFFFFF\"},\"showarrow\":false,\"text\":\"-0.03\",\"x\":\"review_scores_rating\",\"xref\":\"x\",\"y\":\"latitude\",\"yref\":\"y\"},{\"font\":{\"color\":\"#FFFFFF\"},\"showarrow\":false,\"text\":\"-0.06\",\"x\":\"bedrooms\",\"xref\":\"x\",\"y\":\"latitude\",\"yref\":\"y\"},{\"font\":{\"color\":\"#FFFFFF\"},\"showarrow\":false,\"text\":\"-0.08\",\"x\":\"beds\",\"xref\":\"x\",\"y\":\"latitude\",\"yref\":\"y\"},{\"font\":{\"color\":\"#FFFFFF\"},\"showarrow\":false,\"text\":\"-0.05\",\"x\":\"log_price\",\"xref\":\"x\",\"y\":\"longitude\",\"yref\":\"y\"},{\"font\":{\"color\":\"#FFFFFF\"},\"showarrow\":false,\"text\":\"-0.09\",\"x\":\"accommodates\",\"xref\":\"x\",\"y\":\"longitude\",\"yref\":\"y\"},{\"font\":{\"color\":\"#FFFFFF\"},\"showarrow\":false,\"text\":\"-0.14\",\"x\":\"bathrooms\",\"xref\":\"x\",\"y\":\"longitude\",\"yref\":\"y\"},{\"font\":{\"color\":\"#FFFFFF\"},\"showarrow\":false,\"text\":\"-0.07\",\"x\":\"cleaning_fee\",\"xref\":\"x\",\"y\":\"longitude\",\"yref\":\"y\"},{\"font\":{\"color\":\"#000000\"},\"showarrow\":false,\"text\":\"0.9\",\"x\":\"latitude\",\"xref\":\"x\",\"y\":\"longitude\",\"yref\":\"y\"},{\"font\":{\"color\":\"#000000\"},\"showarrow\":false,\"text\":\"1.0\",\"x\":\"longitude\",\"xref\":\"x\",\"y\":\"longitude\",\"yref\":\"y\"},{\"font\":{\"color\":\"#FFFFFF\"},\"showarrow\":false,\"text\":\"-0.05\",\"x\":\"number_of_reviews\",\"xref\":\"x\",\"y\":\"longitude\",\"yref\":\"y\"},{\"font\":{\"color\":\"#FFFFFF\"},\"showarrow\":false,\"text\":\"-0.05\",\"x\":\"review_scores_rating\",\"xref\":\"x\",\"y\":\"longitude\",\"yref\":\"y\"},{\"font\":{\"color\":\"#FFFFFF\"},\"showarrow\":false,\"text\":\"-0.08\",\"x\":\"bedrooms\",\"xref\":\"x\",\"y\":\"longitude\",\"yref\":\"y\"},{\"font\":{\"color\":\"#FFFFFF\"},\"showarrow\":false,\"text\":\"-0.08\",\"x\":\"beds\",\"xref\":\"x\",\"y\":\"longitude\",\"yref\":\"y\"},{\"font\":{\"color\":\"#FFFFFF\"},\"showarrow\":false,\"text\":\"-0.03\",\"x\":\"log_price\",\"xref\":\"x\",\"y\":\"number_of_reviews\",\"yref\":\"y\"},{\"font\":{\"color\":\"#FFFFFF\"},\"showarrow\":false,\"text\":\"0.04\",\"x\":\"accommodates\",\"xref\":\"x\",\"y\":\"number_of_reviews\",\"yref\":\"y\"},{\"font\":{\"color\":\"#FFFFFF\"},\"showarrow\":false,\"text\":\"-0.04\",\"x\":\"bathrooms\",\"xref\":\"x\",\"y\":\"number_of_reviews\",\"yref\":\"y\"},{\"font\":{\"color\":\"#FFFFFF\"},\"showarrow\":false,\"text\":\"0.11\",\"x\":\"cleaning_fee\",\"xref\":\"x\",\"y\":\"number_of_reviews\",\"yref\":\"y\"},{\"font\":{\"color\":\"#FFFFFF\"},\"showarrow\":false,\"text\":\"-0.02\",\"x\":\"latitude\",\"xref\":\"x\",\"y\":\"number_of_reviews\",\"yref\":\"y\"},{\"font\":{\"color\":\"#FFFFFF\"},\"showarrow\":false,\"text\":\"-0.05\",\"x\":\"longitude\",\"xref\":\"x\",\"y\":\"number_of_reviews\",\"yref\":\"y\"},{\"font\":{\"color\":\"#000000\"},\"showarrow\":false,\"text\":\"1.0\",\"x\":\"number_of_reviews\",\"xref\":\"x\",\"y\":\"number_of_reviews\",\"yref\":\"y\"},{\"font\":{\"color\":\"#FFFFFF\"},\"showarrow\":false,\"text\":\"0.01\",\"x\":\"review_scores_rating\",\"xref\":\"x\",\"y\":\"number_of_reviews\",\"yref\":\"y\"},{\"font\":{\"color\":\"#FFFFFF\"},\"showarrow\":false,\"text\":\"-0.04\",\"x\":\"bedrooms\",\"xref\":\"x\",\"y\":\"number_of_reviews\",\"yref\":\"y\"},{\"font\":{\"color\":\"#FFFFFF\"},\"showarrow\":false,\"text\":\"0.03\",\"x\":\"beds\",\"xref\":\"x\",\"y\":\"number_of_reviews\",\"yref\":\"y\"},{\"font\":{\"color\":\"#FFFFFF\"},\"showarrow\":false,\"text\":\"0.09\",\"x\":\"log_price\",\"xref\":\"x\",\"y\":\"review_scores_rating\",\"yref\":\"y\"},{\"font\":{\"color\":\"#FFFFFF\"},\"showarrow\":false,\"text\":\"-0.02\",\"x\":\"accommodates\",\"xref\":\"x\",\"y\":\"review_scores_rating\",\"yref\":\"y\"},{\"font\":{\"color\":\"#FFFFFF\"},\"showarrow\":false,\"text\":\"0.01\",\"x\":\"bathrooms\",\"xref\":\"x\",\"y\":\"review_scores_rating\",\"yref\":\"y\"},{\"font\":{\"color\":\"#FFFFFF\"},\"showarrow\":false,\"text\":\"0.03\",\"x\":\"cleaning_fee\",\"xref\":\"x\",\"y\":\"review_scores_rating\",\"yref\":\"y\"},{\"font\":{\"color\":\"#FFFFFF\"},\"showarrow\":false,\"text\":\"-0.03\",\"x\":\"latitude\",\"xref\":\"x\",\"y\":\"review_scores_rating\",\"yref\":\"y\"},{\"font\":{\"color\":\"#FFFFFF\"},\"showarrow\":false,\"text\":\"-0.05\",\"x\":\"longitude\",\"xref\":\"x\",\"y\":\"review_scores_rating\",\"yref\":\"y\"},{\"font\":{\"color\":\"#FFFFFF\"},\"showarrow\":false,\"text\":\"0.01\",\"x\":\"number_of_reviews\",\"xref\":\"x\",\"y\":\"review_scores_rating\",\"yref\":\"y\"},{\"font\":{\"color\":\"#000000\"},\"showarrow\":false,\"text\":\"1.0\",\"x\":\"review_scores_rating\",\"xref\":\"x\",\"y\":\"review_scores_rating\",\"yref\":\"y\"},{\"font\":{\"color\":\"#FFFFFF\"},\"showarrow\":false,\"text\":\"0.01\",\"x\":\"bedrooms\",\"xref\":\"x\",\"y\":\"review_scores_rating\",\"yref\":\"y\"},{\"font\":{\"color\":\"#FFFFFF\"},\"showarrow\":false,\"text\":\"-0.03\",\"x\":\"beds\",\"xref\":\"x\",\"y\":\"review_scores_rating\",\"yref\":\"y\"},{\"font\":{\"color\":\"#000000\"},\"showarrow\":false,\"text\":\"0.47\",\"x\":\"log_price\",\"xref\":\"x\",\"y\":\"bedrooms\",\"yref\":\"y\"},{\"font\":{\"color\":\"#000000\"},\"showarrow\":false,\"text\":\"0.71\",\"x\":\"accommodates\",\"xref\":\"x\",\"y\":\"bedrooms\",\"yref\":\"y\"},{\"font\":{\"color\":\"#000000\"},\"showarrow\":false,\"text\":\"0.59\",\"x\":\"bathrooms\",\"xref\":\"x\",\"y\":\"bedrooms\",\"yref\":\"y\"},{\"font\":{\"color\":\"#FFFFFF\"},\"showarrow\":false,\"text\":\"0.11\",\"x\":\"cleaning_fee\",\"xref\":\"x\",\"y\":\"bedrooms\",\"yref\":\"y\"},{\"font\":{\"color\":\"#FFFFFF\"},\"showarrow\":false,\"text\":\"-0.06\",\"x\":\"latitude\",\"xref\":\"x\",\"y\":\"bedrooms\",\"yref\":\"y\"},{\"font\":{\"color\":\"#FFFFFF\"},\"showarrow\":false,\"text\":\"-0.08\",\"x\":\"longitude\",\"xref\":\"x\",\"y\":\"bedrooms\",\"yref\":\"y\"},{\"font\":{\"color\":\"#FFFFFF\"},\"showarrow\":false,\"text\":\"-0.04\",\"x\":\"number_of_reviews\",\"xref\":\"x\",\"y\":\"bedrooms\",\"yref\":\"y\"},{\"font\":{\"color\":\"#FFFFFF\"},\"showarrow\":false,\"text\":\"0.01\",\"x\":\"review_scores_rating\",\"xref\":\"x\",\"y\":\"bedrooms\",\"yref\":\"y\"},{\"font\":{\"color\":\"#000000\"},\"showarrow\":false,\"text\":\"1.0\",\"x\":\"bedrooms\",\"xref\":\"x\",\"y\":\"bedrooms\",\"yref\":\"y\"},{\"font\":{\"color\":\"#000000\"},\"showarrow\":false,\"text\":\"0.71\",\"x\":\"beds\",\"xref\":\"x\",\"y\":\"bedrooms\",\"yref\":\"y\"},{\"font\":{\"color\":\"#000000\"},\"showarrow\":false,\"text\":\"0.44\",\"x\":\"log_price\",\"xref\":\"x\",\"y\":\"beds\",\"yref\":\"y\"},{\"font\":{\"color\":\"#000000\"},\"showarrow\":false,\"text\":\"0.81\",\"x\":\"accommodates\",\"xref\":\"x\",\"y\":\"beds\",\"yref\":\"y\"},{\"font\":{\"color\":\"#000000\"},\"showarrow\":false,\"text\":\"0.53\",\"x\":\"bathrooms\",\"xref\":\"x\",\"y\":\"beds\",\"yref\":\"y\"},{\"font\":{\"color\":\"#FFFFFF\"},\"showarrow\":false,\"text\":\"0.13\",\"x\":\"cleaning_fee\",\"xref\":\"x\",\"y\":\"beds\",\"yref\":\"y\"},{\"font\":{\"color\":\"#FFFFFF\"},\"showarrow\":false,\"text\":\"-0.08\",\"x\":\"latitude\",\"xref\":\"x\",\"y\":\"beds\",\"yref\":\"y\"},{\"font\":{\"color\":\"#FFFFFF\"},\"showarrow\":false,\"text\":\"-0.08\",\"x\":\"longitude\",\"xref\":\"x\",\"y\":\"beds\",\"yref\":\"y\"},{\"font\":{\"color\":\"#FFFFFF\"},\"showarrow\":false,\"text\":\"0.03\",\"x\":\"number_of_reviews\",\"xref\":\"x\",\"y\":\"beds\",\"yref\":\"y\"},{\"font\":{\"color\":\"#FFFFFF\"},\"showarrow\":false,\"text\":\"-0.03\",\"x\":\"review_scores_rating\",\"xref\":\"x\",\"y\":\"beds\",\"yref\":\"y\"},{\"font\":{\"color\":\"#000000\"},\"showarrow\":false,\"text\":\"0.71\",\"x\":\"bedrooms\",\"xref\":\"x\",\"y\":\"beds\",\"yref\":\"y\"},{\"font\":{\"color\":\"#000000\"},\"showarrow\":false,\"text\":\"1.0\",\"x\":\"beds\",\"xref\":\"x\",\"y\":\"beds\",\"yref\":\"y\"}],\"xaxis\":{\"dtick\":1,\"gridcolor\":\"rgb(0, 0, 0)\",\"side\":\"top\",\"ticks\":\"\"},\"yaxis\":{\"dtick\":1,\"ticks\":\"\",\"ticksuffix\":\"  \"},\"template\":{\"data\":{\"bar\":[{\"error_x\":{\"color\":\"#2a3f5f\"},\"error_y\":{\"color\":\"#2a3f5f\"},\"marker\":{\"line\":{\"color\":\"#E5ECF6\",\"width\":0.5},\"pattern\":{\"fillmode\":\"overlay\",\"size\":10,\"solidity\":0.2}},\"type\":\"bar\"}],\"barpolar\":[{\"marker\":{\"line\":{\"color\":\"#E5ECF6\",\"width\":0.5},\"pattern\":{\"fillmode\":\"overlay\",\"size\":10,\"solidity\":0.2}},\"type\":\"barpolar\"}],\"carpet\":[{\"aaxis\":{\"endlinecolor\":\"#2a3f5f\",\"gridcolor\":\"white\",\"linecolor\":\"white\",\"minorgridcolor\":\"white\",\"startlinecolor\":\"#2a3f5f\"},\"baxis\":{\"endlinecolor\":\"#2a3f5f\",\"gridcolor\":\"white\",\"linecolor\":\"white\",\"minorgridcolor\":\"white\",\"startlinecolor\":\"#2a3f5f\"},\"type\":\"carpet\"}],\"choropleth\":[{\"colorbar\":{\"outlinewidth\":0,\"ticks\":\"\"},\"type\":\"choropleth\"}],\"contour\":[{\"colorbar\":{\"outlinewidth\":0,\"ticks\":\"\"},\"colorscale\":[[0.0,\"#0d0887\"],[0.1111111111111111,\"#46039f\"],[0.2222222222222222,\"#7201a8\"],[0.3333333333333333,\"#9c179e\"],[0.4444444444444444,\"#bd3786\"],[0.5555555555555556,\"#d8576b\"],[0.6666666666666666,\"#ed7953\"],[0.7777777777777778,\"#fb9f3a\"],[0.8888888888888888,\"#fdca26\"],[1.0,\"#f0f921\"]],\"type\":\"contour\"}],\"contourcarpet\":[{\"colorbar\":{\"outlinewidth\":0,\"ticks\":\"\"},\"type\":\"contourcarpet\"}],\"heatmap\":[{\"colorbar\":{\"outlinewidth\":0,\"ticks\":\"\"},\"colorscale\":[[0.0,\"#0d0887\"],[0.1111111111111111,\"#46039f\"],[0.2222222222222222,\"#7201a8\"],[0.3333333333333333,\"#9c179e\"],[0.4444444444444444,\"#bd3786\"],[0.5555555555555556,\"#d8576b\"],[0.6666666666666666,\"#ed7953\"],[0.7777777777777778,\"#fb9f3a\"],[0.8888888888888888,\"#fdca26\"],[1.0,\"#f0f921\"]],\"type\":\"heatmap\"}],\"heatmapgl\":[{\"colorbar\":{\"outlinewidth\":0,\"ticks\":\"\"},\"colorscale\":[[0.0,\"#0d0887\"],[0.1111111111111111,\"#46039f\"],[0.2222222222222222,\"#7201a8\"],[0.3333333333333333,\"#9c179e\"],[0.4444444444444444,\"#bd3786\"],[0.5555555555555556,\"#d8576b\"],[0.6666666666666666,\"#ed7953\"],[0.7777777777777778,\"#fb9f3a\"],[0.8888888888888888,\"#fdca26\"],[1.0,\"#f0f921\"]],\"type\":\"heatmapgl\"}],\"histogram\":[{\"marker\":{\"pattern\":{\"fillmode\":\"overlay\",\"size\":10,\"solidity\":0.2}},\"type\":\"histogram\"}],\"histogram2d\":[{\"colorbar\":{\"outlinewidth\":0,\"ticks\":\"\"},\"colorscale\":[[0.0,\"#0d0887\"],[0.1111111111111111,\"#46039f\"],[0.2222222222222222,\"#7201a8\"],[0.3333333333333333,\"#9c179e\"],[0.4444444444444444,\"#bd3786\"],[0.5555555555555556,\"#d8576b\"],[0.6666666666666666,\"#ed7953\"],[0.7777777777777778,\"#fb9f3a\"],[0.8888888888888888,\"#fdca26\"],[1.0,\"#f0f921\"]],\"type\":\"histogram2d\"}],\"histogram2dcontour\":[{\"colorbar\":{\"outlinewidth\":0,\"ticks\":\"\"},\"colorscale\":[[0.0,\"#0d0887\"],[0.1111111111111111,\"#46039f\"],[0.2222222222222222,\"#7201a8\"],[0.3333333333333333,\"#9c179e\"],[0.4444444444444444,\"#bd3786\"],[0.5555555555555556,\"#d8576b\"],[0.6666666666666666,\"#ed7953\"],[0.7777777777777778,\"#fb9f3a\"],[0.8888888888888888,\"#fdca26\"],[1.0,\"#f0f921\"]],\"type\":\"histogram2dcontour\"}],\"mesh3d\":[{\"colorbar\":{\"outlinewidth\":0,\"ticks\":\"\"},\"type\":\"mesh3d\"}],\"parcoords\":[{\"line\":{\"colorbar\":{\"outlinewidth\":0,\"ticks\":\"\"}},\"type\":\"parcoords\"}],\"pie\":[{\"automargin\":true,\"type\":\"pie\"}],\"scatter\":[{\"marker\":{\"colorbar\":{\"outlinewidth\":0,\"ticks\":\"\"}},\"type\":\"scatter\"}],\"scatter3d\":[{\"line\":{\"colorbar\":{\"outlinewidth\":0,\"ticks\":\"\"}},\"marker\":{\"colorbar\":{\"outlinewidth\":0,\"ticks\":\"\"}},\"type\":\"scatter3d\"}],\"scattercarpet\":[{\"marker\":{\"colorbar\":{\"outlinewidth\":0,\"ticks\":\"\"}},\"type\":\"scattercarpet\"}],\"scattergeo\":[{\"marker\":{\"colorbar\":{\"outlinewidth\":0,\"ticks\":\"\"}},\"type\":\"scattergeo\"}],\"scattergl\":[{\"marker\":{\"colorbar\":{\"outlinewidth\":0,\"ticks\":\"\"}},\"type\":\"scattergl\"}],\"scattermapbox\":[{\"marker\":{\"colorbar\":{\"outlinewidth\":0,\"ticks\":\"\"}},\"type\":\"scattermapbox\"}],\"scatterpolar\":[{\"marker\":{\"colorbar\":{\"outlinewidth\":0,\"ticks\":\"\"}},\"type\":\"scatterpolar\"}],\"scatterpolargl\":[{\"marker\":{\"colorbar\":{\"outlinewidth\":0,\"ticks\":\"\"}},\"type\":\"scatterpolargl\"}],\"scatterternary\":[{\"marker\":{\"colorbar\":{\"outlinewidth\":0,\"ticks\":\"\"}},\"type\":\"scatterternary\"}],\"surface\":[{\"colorbar\":{\"outlinewidth\":0,\"ticks\":\"\"},\"colorscale\":[[0.0,\"#0d0887\"],[0.1111111111111111,\"#46039f\"],[0.2222222222222222,\"#7201a8\"],[0.3333333333333333,\"#9c179e\"],[0.4444444444444444,\"#bd3786\"],[0.5555555555555556,\"#d8576b\"],[0.6666666666666666,\"#ed7953\"],[0.7777777777777778,\"#fb9f3a\"],[0.8888888888888888,\"#fdca26\"],[1.0,\"#f0f921\"]],\"type\":\"surface\"}],\"table\":[{\"cells\":{\"fill\":{\"color\":\"#EBF0F8\"},\"line\":{\"color\":\"white\"}},\"header\":{\"fill\":{\"color\":\"#C8D4E3\"},\"line\":{\"color\":\"white\"}},\"type\":\"table\"}]},\"layout\":{\"annotationdefaults\":{\"arrowcolor\":\"#2a3f5f\",\"arrowhead\":0,\"arrowwidth\":1},\"autotypenumbers\":\"strict\",\"coloraxis\":{\"colorbar\":{\"outlinewidth\":0,\"ticks\":\"\"}},\"colorscale\":{\"diverging\":[[0,\"#8e0152\"],[0.1,\"#c51b7d\"],[0.2,\"#de77ae\"],[0.3,\"#f1b6da\"],[0.4,\"#fde0ef\"],[0.5,\"#f7f7f7\"],[0.6,\"#e6f5d0\"],[0.7,\"#b8e186\"],[0.8,\"#7fbc41\"],[0.9,\"#4d9221\"],[1,\"#276419\"]],\"sequential\":[[0.0,\"#0d0887\"],[0.1111111111111111,\"#46039f\"],[0.2222222222222222,\"#7201a8\"],[0.3333333333333333,\"#9c179e\"],[0.4444444444444444,\"#bd3786\"],[0.5555555555555556,\"#d8576b\"],[0.6666666666666666,\"#ed7953\"],[0.7777777777777778,\"#fb9f3a\"],[0.8888888888888888,\"#fdca26\"],[1.0,\"#f0f921\"]],\"sequentialminus\":[[0.0,\"#0d0887\"],[0.1111111111111111,\"#46039f\"],[0.2222222222222222,\"#7201a8\"],[0.3333333333333333,\"#9c179e\"],[0.4444444444444444,\"#bd3786\"],[0.5555555555555556,\"#d8576b\"],[0.6666666666666666,\"#ed7953\"],[0.7777777777777778,\"#fb9f3a\"],[0.8888888888888888,\"#fdca26\"],[1.0,\"#f0f921\"]]},\"colorway\":[\"#636efa\",\"#EF553B\",\"#00cc96\",\"#ab63fa\",\"#FFA15A\",\"#19d3f3\",\"#FF6692\",\"#B6E880\",\"#FF97FF\",\"#FECB52\"],\"font\":{\"color\":\"#2a3f5f\"},\"geo\":{\"bgcolor\":\"white\",\"lakecolor\":\"white\",\"landcolor\":\"#E5ECF6\",\"showlakes\":true,\"showland\":true,\"subunitcolor\":\"white\"},\"hoverlabel\":{\"align\":\"left\"},\"hovermode\":\"closest\",\"mapbox\":{\"style\":\"light\"},\"paper_bgcolor\":\"white\",\"plot_bgcolor\":\"#E5ECF6\",\"polar\":{\"angularaxis\":{\"gridcolor\":\"white\",\"linecolor\":\"white\",\"ticks\":\"\"},\"bgcolor\":\"#E5ECF6\",\"radialaxis\":{\"gridcolor\":\"white\",\"linecolor\":\"white\",\"ticks\":\"\"}},\"scene\":{\"xaxis\":{\"backgroundcolor\":\"#E5ECF6\",\"gridcolor\":\"white\",\"gridwidth\":2,\"linecolor\":\"white\",\"showbackground\":true,\"ticks\":\"\",\"zerolinecolor\":\"white\"},\"yaxis\":{\"backgroundcolor\":\"#E5ECF6\",\"gridcolor\":\"white\",\"gridwidth\":2,\"linecolor\":\"white\",\"showbackground\":true,\"ticks\":\"\",\"zerolinecolor\":\"white\"},\"zaxis\":{\"backgroundcolor\":\"#E5ECF6\",\"gridcolor\":\"white\",\"gridwidth\":2,\"linecolor\":\"white\",\"showbackground\":true,\"ticks\":\"\",\"zerolinecolor\":\"white\"}},\"shapedefaults\":{\"line\":{\"color\":\"#2a3f5f\"}},\"ternary\":{\"aaxis\":{\"gridcolor\":\"white\",\"linecolor\":\"white\",\"ticks\":\"\"},\"baxis\":{\"gridcolor\":\"white\",\"linecolor\":\"white\",\"ticks\":\"\"},\"bgcolor\":\"#E5ECF6\",\"caxis\":{\"gridcolor\":\"white\",\"linecolor\":\"white\",\"ticks\":\"\"}},\"title\":{\"x\":0.05},\"xaxis\":{\"automargin\":true,\"gridcolor\":\"white\",\"linecolor\":\"white\",\"ticks\":\"\",\"title\":{\"standoff\":15},\"zerolinecolor\":\"white\",\"zerolinewidth\":2},\"yaxis\":{\"automargin\":true,\"gridcolor\":\"white\",\"linecolor\":\"white\",\"ticks\":\"\",\"title\":{\"standoff\":15},\"zerolinecolor\":\"white\",\"zerolinewidth\":2}}}},                        {\"responsive\": true}                    ).then(function(){\n",
              "                            \n",
              "var gd = document.getElementById('dc9edda8-824f-480c-9879-53df8b4585c4');\n",
              "var x = new MutationObserver(function (mutations, observer) {{\n",
              "        var display = window.getComputedStyle(gd).display;\n",
              "        if (!display || display === 'none') {{\n",
              "            console.log([gd, 'removed!']);\n",
              "            Plotly.purge(gd);\n",
              "            observer.disconnect();\n",
              "        }}\n",
              "}});\n",
              "\n",
              "// Listen for the removal of the full notebook cells\n",
              "var notebookContainer = gd.closest('#notebook-container');\n",
              "if (notebookContainer) {{\n",
              "    x.observe(notebookContainer, {childList: true});\n",
              "}}\n",
              "\n",
              "// Listen for the clearing of the current output cell\n",
              "var outputEl = gd.closest('.output');\n",
              "if (outputEl) {{\n",
              "    x.observe(outputEl, {childList: true});\n",
              "}}\n",
              "\n",
              "                        })                };                            </script>        </div>\n",
              "</body>\n",
              "</html>"
            ]
          },
          "metadata": {}
        }
      ],
      "source": [
        "import plotly.figure_factory as ff\n",
        "figure = ff.create_annotated_heatmap(\n",
        "    z=data.corr().values,\n",
        "    x=list(data.corr().columns),\n",
        "    y=list(data.corr().index),\n",
        "    annotation_text=data.corr().round(2).values,\n",
        "    showscale=True)\n",
        "figure.show()"
      ]
    },
    {
      "cell_type": "markdown",
      "metadata": {
        "id": "9-zwQONx8LCp"
      },
      "source": [
        "Visualizing the relationship using pairplot with the most correlated values with *log_price*. We observe that there is no strong linear relationship of the targert variable with other numeric variables"
      ]
    },
    {
      "cell_type": "code",
      "execution_count": null,
      "metadata": {
        "colab": {
          "base_uri": "https://localhost:8080/",
          "height": 626
        },
        "id": "wazXSuhr8EXM",
        "outputId": "289bc51c-a4fa-48db-be1a-fcd5da5a7dd0"
      },
      "outputs": [
        {
          "output_type": "display_data",
          "data": {
            "text/plain": [
              "<Figure size 432x288 with 0 Axes>"
            ]
          },
          "metadata": {}
        },
        {
          "output_type": "display_data",
          "data": {
            "text/plain": [
              "<Figure size 864x720 with 25 Axes>"
            ],
            "image/png": "[encoded data removed]"
          },
          "metadata": {
            "needs_background": "light"
          }
        }
      ],
      "source": [
        "from pandas.plotting import scatter_matrix\n",
        "plt.clf()\n",
        "attributes=['log_price', 'accommodates','bedrooms', 'beds','bathrooms']\n",
        "scatter_matrix(data[attributes], figsize=(12, 10))\n",
        "plt.show()"
      ]
    },
    {
      "cell_type": "markdown",
      "metadata": {
        "id": "f9lnPoam8Zt9"
      },
      "source": [
        "As accomodates seems to have the highest correlation as compared to other variables, this graph shows how the log price is affected by the number of bedrooms that a property contains. As can be seen, the more bedrooms being offered, the higher the log price."
      ]
    },
    {
      "cell_type": "code",
      "execution_count": null,
      "metadata": {
        "colab": {
          "base_uri": "https://localhost:8080/",
          "height": 385
        },
        "id": "M20enf5P8ZXU",
        "outputId": "2d62bd69-1415-44cc-c78a-39deed928c53"
      },
      "outputs": [
        {
          "output_type": "display_data",
          "data": {
            "text/plain": [
              "<Figure size 360x360 with 1 Axes>"
            ],
            "image/png": "[encoded data removed]"
          },
          "metadata": {
            "needs_background": "light"
          }
        }
      ],
      "source": [
        "sns.catplot(x='accommodates', y= 'log_price', data=data, kind='bar', ci= None).set(title='Relation between No. of people accommodated and log_price')\n",
        "plt.show()"
      ]
    },
    {
      "cell_type": "markdown",
      "metadata": {
        "id": "A9k-8RKhJEA4"
      },
      "source": [
        "# Data cleaning\n",
        "\n",
        "*   Converted datatype:\n",
        "      - Change 3 string type columns to Date type\n",
        "      - Change 1 string type column to numeric by removing the % sign\n",
        "\n",
        "*   Created two new columns :\n",
        "    - gap_between_Hostsince_Firstreview\n",
        "    - gap_between_Hostsince_Lastreview\n",
        "*   Droped certain columns\n",
        "*   Checked count of missing values"
      ]
    },
    {
      "cell_type": "code",
      "execution_count": null,
      "metadata": {
        "colab": {
          "base_uri": "https://localhost:8080/"
        },
        "id": "TudJgKT-JMoI",
        "outputId": "991bc467-1910-4381-875a-634145c21db5"
      },
      "outputs": [
        {
          "output_type": "execute_result",
          "data": {
            "text/plain": [
              "0     NaN\n",
              "1    100%\n",
              "2    100%\n",
              "3     NaN\n",
              "4    100%\n",
              "Name: host_response_rate, dtype: object"
            ]
          },
          "metadata": {},
          "execution_count": 180
        }
      ],
      "source": [
        "data['host_response_rate'].head()"
      ]
    },
    {
      "cell_type": "markdown",
      "metadata": {
        "id": "LVD-n0sCJGM6"
      },
      "source": [
        "We need to remove the % sign from host_response_rate and make it a numeric data"
      ]
    },
    {
      "cell_type": "code",
      "execution_count": null,
      "metadata": {
        "id": "YwBidGDz6Bqb"
      },
      "outputs": [],
      "source": [
        "data['host_response_rate'] = data['host_response_rate'].str.rstrip('%').astype('float') / 100.0"
      ]
    },
    {
      "cell_type": "markdown",
      "metadata": {
        "id": "18KaBn8NJWyQ"
      },
      "source": [
        "We need to convert the columns host_since, first_review, last_review to date type.  \n",
        "Also we added two more columns which were gap_between_Hostsince_Firstreview and gap_between_Hostsince_Lastreview that do the difference between the three columns.\n",
        "- gap_between_Hostsince_Firstreview = first_review - host_since  \n",
        "It is made trying to see how long it takes for an airbnb host to get their first review, which could be a rough reference of how long it took for them to get the first customer.\n",
        "- gap_between_Hostsince_Lastreview = last_review - host_since  \n",
        "It is made trying to see the difference between the host date and the recent date to get a customer review, which could be a rough reference of how long the airbnb owner has been hosting"
      ]
    },
    {
      "cell_type": "code",
      "execution_count": null,
      "metadata": {
        "id": "ewXnKY5I-EZN"
      },
      "outputs": [],
      "source": [
        "data['host_since'] = pd.to_datetime(data['host_since'])\n",
        "data['first_review'] = pd.to_datetime(data['first_review'])\n",
        "data['last_review'] = pd.to_datetime(data['last_review'])\n",
        "\n",
        "data['gap_between_Hostsince_Firstreview'] = (data['first_review'] - data['host_since']).dt.days\n",
        "data['gap_between_Hostsince_Lastreview'] = (data['last_review'] - data['host_since']).dt.days"
      ]
    },
    {
      "cell_type": "markdown",
      "metadata": {
        "id": "GrQDoLLtKz3a"
      },
      "source": [
        "We decided to drop the host_since, first_review, last_review columns, otherwise they will be treated as categorical data in pipeline."
      ]
    },
    {
      "cell_type": "code",
      "execution_count": null,
      "metadata": {
        "id": "SaLRQ-WFCJyR"
      },
      "outputs": [],
      "source": [
        "data = data.drop(['first_review','host_since','last_review'],axis=1)"
      ]
    },
    {
      "cell_type": "markdown",
      "metadata": {
        "id": "lwItFqgtLS4C"
      },
      "source": [
        "Finally we get 21 columns and 9 of them have missing value that are ready to go into the pipeline."
      ]
    },
    {
      "cell_type": "code",
      "execution_count": null,
      "metadata": {
        "colab": {
          "base_uri": "https://localhost:8080/"
        },
        "id": "XeSz8lcvCXAl",
        "outputId": "7a25a9d9-985f-4fe7-cb95-b50d9c204657"
      },
      "outputs": [
        {
          "output_type": "stream",
          "name": "stdout",
          "text": [
            "<class 'pandas.core.frame.DataFrame'>\n",
            "RangeIndex: 74111 entries, 0 to 74110\n",
            "Data columns (total 21 columns):\n",
            " #   Column                             Non-Null Count  Dtype  \n",
            "---  ------                             --------------  -----  \n",
            " 0   log_price                          74111 non-null  float64\n",
            " 1   property_type                      74111 non-null  object \n",
            " 2   room_type                          74111 non-null  object \n",
            " 3   accommodates                       74111 non-null  int64  \n",
            " 4   bathrooms                          73911 non-null  float64\n",
            " 5   bed_type                           74111 non-null  object \n",
            " 6   cancellation_policy                74111 non-null  object \n",
            " 7   cleaning_fee                       74111 non-null  bool   \n",
            " 8   city                               74111 non-null  object \n",
            " 9   host_has_profile_pic               73923 non-null  object \n",
            " 10  host_identity_verified             73923 non-null  object \n",
            " 11  host_response_rate                 55812 non-null  float64\n",
            " 12  instant_bookable                   74111 non-null  object \n",
            " 13  latitude                           74111 non-null  float64\n",
            " 14  longitude                          74111 non-null  float64\n",
            " 15  number_of_reviews                  74111 non-null  int64  \n",
            " 16  review_scores_rating               57389 non-null  float64\n",
            " 17  bedrooms                           74020 non-null  float64\n",
            " 18  beds                               73980 non-null  float64\n",
            " 19  gap_between_Hostsince_Firstreview  58101 non-null  float64\n",
            " 20  gap_between_Hostsince_Lastreview   58132 non-null  float64\n",
            "dtypes: bool(1), float64(10), int64(2), object(8)\n",
            "memory usage: 11.4+ MB\n"
          ]
        }
      ],
      "source": [
        "data.info()"
      ]
    },
    {
      "cell_type": "code",
      "execution_count": null,
      "metadata": {
        "colab": {
          "base_uri": "https://localhost:8080/"
        },
        "id": "CWlLA7q1-L1o",
        "outputId": "c39aacc5-227b-4629-f5e8-df95cfe4bf08"
      },
      "outputs": [
        {
          "output_type": "execute_result",
          "data": {
            "text/plain": [
              "log_price                                0\n",
              "property_type                            0\n",
              "room_type                                0\n",
              "accommodates                             0\n",
              "bathrooms                              200\n",
              "bed_type                                 0\n",
              "cancellation_policy                      0\n",
              "cleaning_fee                             0\n",
              "city                                     0\n",
              "host_has_profile_pic                   188\n",
              "host_identity_verified                 188\n",
              "host_response_rate                   18299\n",
              "instant_bookable                         0\n",
              "latitude                                 0\n",
              "longitude                                0\n",
              "number_of_reviews                        0\n",
              "review_scores_rating                 16722\n",
              "bedrooms                                91\n",
              "beds                                   131\n",
              "gap_between_Hostsince_Firstreview    16010\n",
              "gap_between_Hostsince_Lastreview     15979\n",
              "dtype: int64"
            ]
          },
          "metadata": {},
          "execution_count": 185
        }
      ],
      "source": [
        "data.isna().sum()"
      ]
    },
    {
      "cell_type": "markdown",
      "metadata": {
        "id": "aNTb4HyimxQl"
      },
      "source": [
        "#Train Test Split\n",
        "Split 20% of data as training set and 80% of data as testing set"
      ]
    },
    {
      "cell_type": "code",
      "execution_count": null,
      "metadata": {
        "colab": {
          "base_uri": "https://localhost:8080/"
        },
        "id": "A0aIPH78-ObN",
        "outputId": "d181b5c3-ffca-4f4b-e935-fd552a985ace"
      },
      "outputs": [
        {
          "output_type": "execute_result",
          "data": {
            "text/plain": [
              "(59288, 14823)"
            ]
          },
          "metadata": {},
          "execution_count": 186
        }
      ],
      "source": [
        "from sklearn.model_selection import train_test_split\n",
        "\n",
        "train_set, test_set = train_test_split(data, test_size=0.2, random_state=42)\n",
        "len(train_set), len(test_set)"
      ]
    },
    {
      "cell_type": "code",
      "execution_count": null,
      "metadata": {
        "id": "ZInJ0XQA-OoV"
      },
      "outputs": [],
      "source": [
        "X_train = train_set.drop(\"log_price\", axis=1)\n",
        "y_train = train_set[\"log_price\"].copy()\n",
        "\n",
        "X_test = test_set.drop(\"log_price\", axis=1)\n",
        "y_test = test_set[\"log_price\"].copy()"
      ]
    },
    {
      "cell_type": "markdown",
      "metadata": {
        "id": "E_WJ8mmd-9G2"
      },
      "source": [
        "# Building Pipeline\n",
        "We will build a preprocessing pipeline that contains three pipelines which can deal with numeric data, categorical, and centers clustering by using longitude and latitude columns separately."
      ]
    },
    {
      "cell_type": "code",
      "execution_count": null,
      "metadata": {
        "id": "xMiTuDw3BWt5"
      },
      "outputs": [],
      "source": [
        "# import library\n",
        "from sklearn.compose import ColumnTransformer\n",
        "from sklearn.pipeline import make_pipeline\n",
        "from sklearn.experimental import enable_iterative_imputer\n",
        "from sklearn.impute import IterativeImputer\n",
        "from sklearn.preprocessing import FunctionTransformer\n",
        "from sklearn.preprocessing import StandardScaler"
      ]
    },
    {
      "cell_type": "code",
      "execution_count": null,
      "metadata": {
        "id": "KXEL4ek1BTbr"
      },
      "outputs": [],
      "source": [
        "def monkey_patch_get_signature_names_out():\n",
        "    \"\"\"Monkey patch some classes which did not handle get_feature_names_out()\n",
        "       correctly in Scikit-Learn 1.0.*.\"\"\"\n",
        "    from inspect import Signature, signature, Parameter\n",
        "    import pandas as pd\n",
        "    from sklearn.impute import SimpleImputer\n",
        "    from sklearn.pipeline import make_pipeline, Pipeline\n",
        "    from sklearn.preprocessing import FunctionTransformer, StandardScaler\n",
        "\n",
        "    default_get_feature_names_out = StandardScaler.get_feature_names_out\n",
        "\n",
        "    if not hasattr(SimpleImputer, \"get_feature_names_out\"):\n",
        "      print(\"Monkey-patching SimpleImputer.get_feature_names_out()\")\n",
        "      SimpleImputer.get_feature_names_out = default_get_feature_names_out\n",
        "\n",
        "    if not hasattr(FunctionTransformer, \"get_feature_names_out\"):\n",
        "        print(\"Monkey-patching FunctionTransformer.get_feature_names_out()\")\n",
        "        orig_init = FunctionTransformer.__init__\n",
        "        orig_sig = signature(orig_init)\n",
        "\n",
        "        def __init__(*args, feature_names_out=None, **kwargs):\n",
        "            orig_sig.bind(*args, **kwargs)\n",
        "            orig_init(*args, **kwargs)\n",
        "            args[0].feature_names_out = feature_names_out\n",
        "\n",
        "        __init__.__signature__ = Signature(\n",
        "            list(signature(orig_init).parameters.values()) + [\n",
        "                Parameter(\"feature_names_out\", Parameter.KEYWORD_ONLY)])\n",
        "\n",
        "        def get_feature_names_out(self, names=None):\n",
        "            if callable(self.feature_names_out):\n",
        "                return self.feature_names_out(self, names)\n",
        "            assert self.feature_names_out == \"one-to-one\"\n",
        "            return default_get_feature_names_out(self, names)\n",
        "\n",
        "        FunctionTransformer.__init__ = __init__\n",
        "        FunctionTransformer.get_feature_names_out = get_feature_names_out\n",
        "\n",
        "    if not hasattr(IterativeImputer, \"get_feature_names_out\"):\n",
        "      print(\"Monkey-patching IterativeImputer.get_feature_names_out()\")\n",
        "      IterativeImputer.get_feature_names_out = default_get_feature_names_out\n",
        "\n",
        "monkey_patch_get_signature_names_out()"
      ]
    },
    {
      "cell_type": "code",
      "execution_count": null,
      "metadata": {
        "id": "9ni_7UTfFfOQ"
      },
      "outputs": [],
      "source": [
        "from sklearn import set_config\n",
        "set_config(display='diagram')"
      ]
    },
    {
      "cell_type": "markdown",
      "metadata": {
        "id": "TJZVD7KMMG4e"
      },
      "source": [
        "## General numeric and categorical pipeline"
      ]
    },
    {
      "cell_type": "code",
      "execution_count": null,
      "metadata": {
        "id": "5WaVVdli-7kn"
      },
      "outputs": [],
      "source": [
        "from sklearn.pipeline import Pipeline\n",
        "from sklearn.impute import SimpleImputer\n",
        "from sklearn.preprocessing import StandardScaler\n",
        "from sklearn.pipeline import make_pipeline\n",
        "from sklearn.preprocessing import OneHotEncoder\n",
        "\n",
        "\n",
        "num_attribs = ['accommodates','bathrooms','number_of_reviews','review_scores_rating','bedrooms','beds','bathrooms','host_response_rate','gap_between_Hostsince_Firstreview','gap_between_Hostsince_Lastreview']\n",
        "cat_attribs = ['property_type','room_type','bed_type','cancellation_policy','cleaning_fee','city','host_has_profile_pic','host_identity_verified','instant_bookable']\n",
        "\n",
        "\n",
        "\n",
        "num_pipeline = make_pipeline(\n",
        "    SimpleImputer(strategy=\"median\"), StandardScaler())\n",
        "\n",
        "cat_pipeline = make_pipeline(\n",
        "    SimpleImputer(strategy=\"most_frequent\"),\n",
        "    OneHotEncoder(handle_unknown=\"ignore\"))\n",
        "\n"
      ]
    },
    {
      "cell_type": "markdown",
      "metadata": {
        "id": "poP7t2x3MMJV"
      },
      "source": [
        "## Pipeline that cluster longtitude and latitude to several centers"
      ]
    },
    {
      "cell_type": "markdown",
      "metadata": {
        "id": "7L57-F2INEAR"
      },
      "source": [
        "Then build a geographic pipeline with centers clustering , and we made the number of clustering to 6 as there are 6 major cities in dataset."
      ]
    },
    {
      "cell_type": "code",
      "execution_count": null,
      "metadata": {
        "id": "aWIc9O-DAgER"
      },
      "outputs": [],
      "source": [
        "from sklearn.base import BaseEstimator, TransformerMixin\n",
        "from sklearn.cluster import KMeans\n",
        "from sklearn.metrics.pairwise import rbf_kernel\n",
        "\n",
        "class ClusterSimilarity(BaseEstimator, TransformerMixin):\n",
        "  # These two super classes provide get/set methods and fit_transform\n",
        "    def __init__(self, n_clusters=10, gamma=1.0, random_state=None):\n",
        "        self.n_clusters = n_clusters\n",
        "        self.gamma = gamma\n",
        "        self.random_state = random_state\n",
        "\n",
        "    def fit(self, X, y=None, sample_weight=None):\n",
        "        self.kmeans_ = KMeans(self.n_clusters, random_state=self.random_state)\n",
        "        self.kmeans_.fit(X, sample_weight=sample_weight)\n",
        "        return self  # always return self!\n",
        "\n",
        "    def transform(self, X):\n",
        "        return rbf_kernel(X, self.kmeans_.cluster_centers_, gamma=self.gamma)\n",
        "\n",
        "    def get_feature_names_out(self, names=None):\n",
        "        return [f\"Cluster {i} similarity\" for i in range(self.n_clusters)]"
      ]
    },
    {
      "cell_type": "code",
      "execution_count": null,
      "metadata": {
        "id": "rmedQEzIFyL_"
      },
      "outputs": [],
      "source": [
        "cluster_simil = ClusterSimilarity(n_clusters=6, gamma=1., random_state=42)\n",
        "similarities = cluster_simil.fit_transform(X_train[[\"latitude\", \"longitude\"]],\n",
        "                                           sample_weight=y_train)"
      ]
    },
    {
      "cell_type": "markdown",
      "metadata": {
        "id": "oiHOAs8UMZlp"
      },
      "source": [
        "## Combine the three main sub pipelines to one"
      ]
    },
    {
      "cell_type": "code",
      "execution_count": null,
      "metadata": {
        "colab": {
          "base_uri": "https://localhost:8080/",
          "height": 152
        },
        "id": "ZUiYUQ0dAgIk",
        "outputId": "7581acc1-4fb1-499f-f349-b4cdbc25d432"
      },
      "outputs": [
        {
          "output_type": "execute_result",
          "data": {
            "text/plain": [
              "ColumnTransformer(transformers=[('num',\n",
              "                                 Pipeline(steps=[('simpleimputer',\n",
              "                                                  SimpleImputer(strategy='median')),\n",
              "                                                 ('standardscaler',\n",
              "                                                  StandardScaler())]),\n",
              "                                 ['accommodates', 'bathrooms',\n",
              "                                  'number_of_reviews', 'review_scores_rating',\n",
              "                                  'bedrooms', 'beds', 'bathrooms',\n",
              "                                  'host_response_rate',\n",
              "                                  'gap_between_Hostsince_Firstreview',\n",
              "                                  'gap_between_Hostsince_Lastreview']),\n",
              "                                ('cat',\n",
              "                                 Pipe...simpleimputer',\n",
              "                                                  SimpleImputer(strategy='most_frequent')),\n",
              "                                                 ('onehotencoder',\n",
              "                                                  OneHotEncoder(handle_unknown='ignore'))]),\n",
              "                                 ['property_type', 'room_type', 'bed_type',\n",
              "                                  'cancellation_policy', 'cleaning_fee', 'city',\n",
              "                                  'host_has_profile_pic',\n",
              "                                  'host_identity_verified',\n",
              "                                  'instant_bookable']),\n",
              "                                ('geo',\n",
              "                                 ClusterSimilarity(n_clusters=6,\n",
              "                                                   random_state=42),\n",
              "                                 ['latitude', 'longitude'])])"
            ],
            "text/html": [
              "<style>#sk-638147b1-7191-4a1e-b5d6-6e70d5daa3e1 {color: black;background-color: white;}#sk-638147b1-7191-4a1e-b5d6-6e70d5daa3e1 pre{padding: 0;}#sk-638147b1-7191-4a1e-b5d6-6e70d5daa3e1 div.sk-toggleable {background-color: white;}#sk-638147b1-7191-4a1e-b5d6-6e70d5daa3e1 label.sk-toggleable__label {cursor: pointer;display: block;width: 100%;margin-bottom: 0;padding: 0.3em;box-sizing: border-box;text-align: center;}#sk-638147b1-7191-4a1e-b5d6-6e70d5daa3e1 label.sk-toggleable__label-arrow:before {content: \"▸\";float: left;margin-right: 0.25em;color: #696969;}#sk-638147b1-7191-4a1e-b5d6-6e70d5daa3e1 label.sk-toggleable__label-arrow:hover:before {color: black;}#sk-638147b1-7191-4a1e-b5d6-6e70d5daa3e1 div.sk-estimator:hover label.sk-toggleable__label-arrow:before {color: black;}#sk-638147b1-7191-4a1e-b5d6-6e70d5daa3e1 div.sk-toggleable__content {max-height: 0;max-width: 0;overflow: hidden;text-align: left;background-color: #f0f8ff;}#sk-638147b1-7191-4a1e-b5d6-6e70d5daa3e1 div.sk-toggleable__content pre {margin: 0.2em;color: black;border-radius: 0.25em;background-color: #f0f8ff;}#sk-638147b1-7191-4a1e-b5d6-6e70d5daa3e1 input.sk-toggleable__control:checked~div.sk-toggleable__content {max-height: 200px;max-width: 100%;overflow: auto;}#sk-638147b1-7191-4a1e-b5d6-6e70d5daa3e1 input.sk-toggleable__control:checked~label.sk-toggleable__label-arrow:before {content: \"▾\";}#sk-638147b1-7191-4a1e-b5d6-6e70d5daa3e1 div.sk-estimator input.sk-toggleable__control:checked~label.sk-toggleable__label {background-color: #d4ebff;}#sk-638147b1-7191-4a1e-b5d6-6e70d5daa3e1 div.sk-label input.sk-toggleable__control:checked~label.sk-toggleable__label {background-color: #d4ebff;}#sk-638147b1-7191-4a1e-b5d6-6e70d5daa3e1 input.sk-hidden--visually {border: 0;clip: rect(1px 1px 1px 1px);clip: rect(1px, 1px, 1px, 1px);height: 1px;margin: -1px;overflow: hidden;padding: 0;position: absolute;width: 1px;}#sk-638147b1-7191-4a1e-b5d6-6e70d5daa3e1 div.sk-estimator {font-family: monospace;background-color: #f0f8ff;border: 1px dotted black;border-radius: 0.25em;box-sizing: border-box;margin-bottom: 0.5em;}#sk-638147b1-7191-4a1e-b5d6-6e70d5daa3e1 div.sk-estimator:hover {background-color: #d4ebff;}#sk-638147b1-7191-4a1e-b5d6-6e70d5daa3e1 div.sk-parallel-item::after {content: \"\";width: 100%;border-bottom: 1px solid gray;flex-grow: 1;}#sk-638147b1-7191-4a1e-b5d6-6e70d5daa3e1 div.sk-label:hover label.sk-toggleable__label {background-color: #d4ebff;}#sk-638147b1-7191-4a1e-b5d6-6e70d5daa3e1 div.sk-serial::before {content: \"\";position: absolute;border-left: 1px solid gray;box-sizing: border-box;top: 2em;bottom: 0;left: 50%;}#sk-638147b1-7191-4a1e-b5d6-6e70d5daa3e1 div.sk-serial {display: flex;flex-direction: column;align-items: center;background-color: white;padding-right: 0.2em;padding-left: 0.2em;}#sk-638147b1-7191-4a1e-b5d6-6e70d5daa3e1 div.sk-item {z-index: 1;}#sk-638147b1-7191-4a1e-b5d6-6e70d5daa3e1 div.sk-parallel {display: flex;align-items: stretch;justify-content: center;background-color: white;}#sk-638147b1-7191-4a1e-b5d6-6e70d5daa3e1 div.sk-parallel::before {content: \"\";position: absolute;border-left: 1px solid gray;box-sizing: border-box;top: 2em;bottom: 0;left: 50%;}#sk-638147b1-7191-4a1e-b5d6-6e70d5daa3e1 div.sk-parallel-item {display: flex;flex-direction: column;position: relative;background-color: white;}#sk-638147b1-7191-4a1e-b5d6-6e70d5daa3e1 div.sk-parallel-item:first-child::after {align-self: flex-end;width: 50%;}#sk-638147b1-7191-4a1e-b5d6-6e70d5daa3e1 div.sk-parallel-item:last-child::after {align-self: flex-start;width: 50%;}#sk-638147b1-7191-4a1e-b5d6-6e70d5daa3e1 div.sk-parallel-item:only-child::after {width: 0;}#sk-638147b1-7191-4a1e-b5d6-6e70d5daa3e1 div.sk-dashed-wrapped {border: 1px dashed gray;margin: 0 0.4em 0.5em 0.4em;box-sizing: border-box;padding-bottom: 0.4em;background-color: white;position: relative;}#sk-638147b1-7191-4a1e-b5d6-6e70d5daa3e1 div.sk-label label {font-family: monospace;font-weight: bold;background-color: white;display: inline-block;line-height: 1.2em;}#sk-638147b1-7191-4a1e-b5d6-6e70d5daa3e1 div.sk-label-container {position: relative;z-index: 2;text-align: center;}#sk-638147b1-7191-4a1e-b5d6-6e70d5daa3e1 div.sk-container {/* jupyter's `normalize.less` sets `[hidden] { display: none; }` but bootstrap.min.css set `[hidden] { display: none !important; }` so we also need the `!important` here to be able to override the default hidden behavior on the sphinx rendered scikit-learn.org. See: https://github.com/scikit-learn/scikit-learn/issues/21755 */display: inline-block !important;position: relative;}#sk-638147b1-7191-4a1e-b5d6-6e70d5daa3e1 div.sk-text-repr-fallback {display: none;}</style><div id=\"sk-638147b1-7191-4a1e-b5d6-6e70d5daa3e1\" class=\"sk-top-container\"><div class=\"sk-text-repr-fallback\"><pre>ColumnTransformer(transformers=[(&#x27;num&#x27;,\n",
              "                                 Pipeline(steps=[(&#x27;simpleimputer&#x27;,\n",
              "                                                  SimpleImputer(strategy=&#x27;median&#x27;)),\n",
              "                                                 (&#x27;standardscaler&#x27;,\n",
              "                                                  StandardScaler())]),\n",
              "                                 [&#x27;accommodates&#x27;, &#x27;bathrooms&#x27;,\n",
              "                                  &#x27;number_of_reviews&#x27;, &#x27;review_scores_rating&#x27;,\n",
              "                                  &#x27;bedrooms&#x27;, &#x27;beds&#x27;, &#x27;bathrooms&#x27;,\n",
              "                                  &#x27;host_response_rate&#x27;,\n",
              "                                  &#x27;gap_between_Hostsince_Firstreview&#x27;,\n",
              "                                  &#x27;gap_between_Hostsince_Lastreview&#x27;]),\n",
              "                                (&#x27;cat&#x27;,\n",
              "                                 Pipe...simpleimputer&#x27;,\n",
              "                                                  SimpleImputer(strategy=&#x27;most_frequent&#x27;)),\n",
              "                                                 (&#x27;onehotencoder&#x27;,\n",
              "                                                  OneHotEncoder(handle_unknown=&#x27;ignore&#x27;))]),\n",
              "                                 [&#x27;property_type&#x27;, &#x27;room_type&#x27;, &#x27;bed_type&#x27;,\n",
              "                                  &#x27;cancellation_policy&#x27;, &#x27;cleaning_fee&#x27;, &#x27;city&#x27;,\n",
              "                                  &#x27;host_has_profile_pic&#x27;,\n",
              "                                  &#x27;host_identity_verified&#x27;,\n",
              "                                  &#x27;instant_bookable&#x27;]),\n",
              "                                (&#x27;geo&#x27;,\n",
              "                                 ClusterSimilarity(n_clusters=6,\n",
              "                                                   random_state=42),\n",
              "                                 [&#x27;latitude&#x27;, &#x27;longitude&#x27;])])</pre><b>Please rerun this cell to show the HTML repr or trust the notebook.</b></div><div class=\"sk-container\" hidden><div class=\"sk-item sk-dashed-wrapped\"><div class=\"sk-label-container\"><div class=\"sk-label sk-toggleable\"><input class=\"sk-toggleable__control sk-hidden--visually\" id=\"211c03e6-3713-4674-8908-3768140ca75c\" type=\"checkbox\" ><label for=\"211c03e6-3713-4674-8908-3768140ca75c\" class=\"sk-toggleable__label sk-toggleable__label-arrow\">ColumnTransformer</label><div class=\"sk-toggleable__content\"><pre>ColumnTransformer(transformers=[(&#x27;num&#x27;,\n",
              "                                 Pipeline(steps=[(&#x27;simpleimputer&#x27;,\n",
              "                                                  SimpleImputer(strategy=&#x27;median&#x27;)),\n",
              "                                                 (&#x27;standardscaler&#x27;,\n",
              "                                                  StandardScaler())]),\n",
              "                                 [&#x27;accommodates&#x27;, &#x27;bathrooms&#x27;,\n",
              "                                  &#x27;number_of_reviews&#x27;, &#x27;review_scores_rating&#x27;,\n",
              "                                  &#x27;bedrooms&#x27;, &#x27;beds&#x27;, &#x27;bathrooms&#x27;,\n",
              "                                  &#x27;host_response_rate&#x27;,\n",
              "                                  &#x27;gap_between_Hostsince_Firstreview&#x27;,\n",
              "                                  &#x27;gap_between_Hostsince_Lastreview&#x27;]),\n",
              "                                (&#x27;cat&#x27;,\n",
              "                                 Pipe...simpleimputer&#x27;,\n",
              "                                                  SimpleImputer(strategy=&#x27;most_frequent&#x27;)),\n",
              "                                                 (&#x27;onehotencoder&#x27;,\n",
              "                                                  OneHotEncoder(handle_unknown=&#x27;ignore&#x27;))]),\n",
              "                                 [&#x27;property_type&#x27;, &#x27;room_type&#x27;, &#x27;bed_type&#x27;,\n",
              "                                  &#x27;cancellation_policy&#x27;, &#x27;cleaning_fee&#x27;, &#x27;city&#x27;,\n",
              "                                  &#x27;host_has_profile_pic&#x27;,\n",
              "                                  &#x27;host_identity_verified&#x27;,\n",
              "                                  &#x27;instant_bookable&#x27;]),\n",
              "                                (&#x27;geo&#x27;,\n",
              "                                 ClusterSimilarity(n_clusters=6,\n",
              "                                                   random_state=42),\n",
              "                                 [&#x27;latitude&#x27;, &#x27;longitude&#x27;])])</pre></div></div></div><div class=\"sk-parallel\"><div class=\"sk-parallel-item\"><div class=\"sk-item\"><div class=\"sk-label-container\"><div class=\"sk-label sk-toggleable\"><input class=\"sk-toggleable__control sk-hidden--visually\" id=\"2f8ccc6c-142c-4e6d-99ac-50ad882a5f47\" type=\"checkbox\" ><label for=\"2f8ccc6c-142c-4e6d-99ac-50ad882a5f47\" class=\"sk-toggleable__label sk-toggleable__label-arrow\">num</label><div class=\"sk-toggleable__content\"><pre>[&#x27;accommodates&#x27;, &#x27;bathrooms&#x27;, &#x27;number_of_reviews&#x27;, &#x27;review_scores_rating&#x27;, &#x27;bedrooms&#x27;, &#x27;beds&#x27;, &#x27;bathrooms&#x27;, &#x27;host_response_rate&#x27;, &#x27;gap_between_Hostsince_Firstreview&#x27;, &#x27;gap_between_Hostsince_Lastreview&#x27;]</pre></div></div></div><div class=\"sk-serial\"><div class=\"sk-item\"><div class=\"sk-serial\"><div class=\"sk-item\"><div class=\"sk-estimator sk-toggleable\"><input class=\"sk-toggleable__control sk-hidden--visually\" id=\"44b7bd6a-90a8-4dd6-929f-0ba223bfe465\" type=\"checkbox\" ><label for=\"44b7bd6a-90a8-4dd6-929f-0ba223bfe465\" class=\"sk-toggleable__label sk-toggleable__label-arrow\">SimpleImputer</label><div class=\"sk-toggleable__content\"><pre>SimpleImputer(strategy=&#x27;median&#x27;)</pre></div></div></div><div class=\"sk-item\"><div class=\"sk-estimator sk-toggleable\"><input class=\"sk-toggleable__control sk-hidden--visually\" id=\"c118cba7-11b4-4b1b-a343-96c882d1c131\" type=\"checkbox\" ><label for=\"c118cba7-11b4-4b1b-a343-96c882d1c131\" class=\"sk-toggleable__label sk-toggleable__label-arrow\">StandardScaler</label><div class=\"sk-toggleable__content\"><pre>StandardScaler()</pre></div></div></div></div></div></div></div></div><div class=\"sk-parallel-item\"><div class=\"sk-item\"><div class=\"sk-label-container\"><div class=\"sk-label sk-toggleable\"><input class=\"sk-toggleable__control sk-hidden--visually\" id=\"99e3de80-2e10-4f0e-b546-3214eccbe9d9\" type=\"checkbox\" ><label for=\"99e3de80-2e10-4f0e-b546-3214eccbe9d9\" class=\"sk-toggleable__label sk-toggleable__label-arrow\">cat</label><div class=\"sk-toggleable__content\"><pre>[&#x27;property_type&#x27;, &#x27;room_type&#x27;, &#x27;bed_type&#x27;, &#x27;cancellation_policy&#x27;, &#x27;cleaning_fee&#x27;, &#x27;city&#x27;, &#x27;host_has_profile_pic&#x27;, &#x27;host_identity_verified&#x27;, &#x27;instant_bookable&#x27;]</pre></div></div></div><div class=\"sk-serial\"><div class=\"sk-item\"><div class=\"sk-serial\"><div class=\"sk-item\"><div class=\"sk-estimator sk-toggleable\"><input class=\"sk-toggleable__control sk-hidden--visually\" id=\"bb7ce6b9-d4b7-4241-bf91-1dad7310b3f4\" type=\"checkbox\" ><label for=\"bb7ce6b9-d4b7-4241-bf91-1dad7310b3f4\" class=\"sk-toggleable__label sk-toggleable__label-arrow\">SimpleImputer</label><div class=\"sk-toggleable__content\"><pre>SimpleImputer(strategy=&#x27;most_frequent&#x27;)</pre></div></div></div><div class=\"sk-item\"><div class=\"sk-estimator sk-toggleable\"><input class=\"sk-toggleable__control sk-hidden--visually\" id=\"71022514-3e5f-406a-b788-cb9d4097363b\" type=\"checkbox\" ><label for=\"71022514-3e5f-406a-b788-cb9d4097363b\" class=\"sk-toggleable__label sk-toggleable__label-arrow\">OneHotEncoder</label><div class=\"sk-toggleable__content\"><pre>OneHotEncoder(handle_unknown=&#x27;ignore&#x27;)</pre></div></div></div></div></div></div></div></div><div class=\"sk-parallel-item\"><div class=\"sk-item\"><div class=\"sk-label-container\"><div class=\"sk-label sk-toggleable\"><input class=\"sk-toggleable__control sk-hidden--visually\" id=\"54f26b18-5d32-4ae6-acda-5e1c8243e743\" type=\"checkbox\" ><label for=\"54f26b18-5d32-4ae6-acda-5e1c8243e743\" class=\"sk-toggleable__label sk-toggleable__label-arrow\">geo</label><div class=\"sk-toggleable__content\"><pre>[&#x27;latitude&#x27;, &#x27;longitude&#x27;]</pre></div></div></div><div class=\"sk-serial\"><div class=\"sk-item\"><div class=\"sk-estimator sk-toggleable\"><input class=\"sk-toggleable__control sk-hidden--visually\" id=\"4c2a4525-3acf-48e0-9e42-4e289b2e9b3e\" type=\"checkbox\" ><label for=\"4c2a4525-3acf-48e0-9e42-4e289b2e9b3e\" class=\"sk-toggleable__label sk-toggleable__label-arrow\">ClusterSimilarity</label><div class=\"sk-toggleable__content\"><pre>ClusterSimilarity(n_clusters=6, random_state=42)</pre></div></div></div></div></div></div></div></div></div></div>"
            ]
          },
          "metadata": {},
          "execution_count": 194
        }
      ],
      "source": [
        "from sklearn.compose import ColumnTransformer\n",
        "\n",
        "preprocessing = ColumnTransformer([\n",
        "        (\"num\", num_pipeline, num_attribs),\n",
        "        (\"cat\", cat_pipeline, cat_attribs),\n",
        "        (\"geo\", cluster_simil, [\"latitude\", \"longitude\"]),\n",
        "    ],\n",
        "    )\n",
        "\n",
        "preprocessing"
      ]
    },
    {
      "cell_type": "markdown",
      "metadata": {
        "id": "5guWJ_kQMi7j"
      },
      "source": [
        "Test if the pipeline is working well.\n",
        "\n"
      ]
    },
    {
      "cell_type": "code",
      "execution_count": null,
      "metadata": {
        "colab": {
          "base_uri": "https://localhost:8080/"
        },
        "id": "aFfKTqzSBHqm",
        "outputId": "1a3e5d82-e8dc-4ef0-aefc-1a21d9df75a9"
      },
      "outputs": [
        {
          "output_type": "execute_result",
          "data": {
            "text/plain": [
              "array([[ 3.93753438e-01,  4.54601011e-01, -2.35462031e-01, ...,\n",
              "         0.00000000e+00,  4.79662981e-14,  0.00000000e+00],\n",
              "       [-5.34969886e-01, -4.04904849e-01, -3.93564429e-01, ...,\n",
              "         2.65678918e-83,  0.00000000e+00,  3.14235863e-05],\n",
              "       [ 3.93753438e-01, -4.04904849e-01, -4.46265229e-01, ...,\n",
              "         5.72077228e-83,  0.00000000e+00,  2.04367512e-05],\n",
              "       ...,\n",
              "       [ 8.58115100e-01,  1.31410687e+00, -2.46588328e-02, ...,\n",
              "         0.00000000e+00,  6.89612007e-14,  0.00000000e+00],\n",
              "       [-5.34969886e-01, -4.04904849e-01, -5.51666828e-01, ...,\n",
              "         7.00828394e-83,  0.00000000e+00,  2.21713511e-05],\n",
              "       [-5.34969886e-01, -4.04904849e-01, -4.72615628e-01, ...,\n",
              "         0.00000000e+00,  2.92679304e-14,  0.00000000e+00]])"
            ]
          },
          "metadata": {},
          "execution_count": 195
        }
      ],
      "source": [
        "preprocessing.fit_transform(X_train)"
      ]
    },
    {
      "cell_type": "code",
      "execution_count": null,
      "metadata": {
        "colab": {
          "base_uri": "https://localhost:8080/"
        },
        "id": "Y60b3yNpCtc_",
        "outputId": "2edf7213-e0e9-47e1-c7ea-53c3c23aba56"
      },
      "outputs": [
        {
          "output_type": "execute_result",
          "data": {
            "text/plain": [
              "array(['num__accommodates', 'num__bathrooms', 'num__number_of_reviews',\n",
              "       'num__review_scores_rating', 'num__bedrooms', 'num__beds',\n",
              "       'num__bathrooms', 'num__host_response_rate',\n",
              "       'num__gap_between_Hostsince_Firstreview',\n",
              "       'num__gap_between_Hostsince_Lastreview',\n",
              "       'cat__property_type_Apartment',\n",
              "       'cat__property_type_Bed & Breakfast', 'cat__property_type_Boat',\n",
              "       'cat__property_type_Boutique hotel', 'cat__property_type_Bungalow',\n",
              "       'cat__property_type_Cabin', 'cat__property_type_Camper/RV',\n",
              "       'cat__property_type_Casa particular', 'cat__property_type_Castle',\n",
              "       'cat__property_type_Cave', 'cat__property_type_Chalet',\n",
              "       'cat__property_type_Condominium', 'cat__property_type_Dorm',\n",
              "       'cat__property_type_Earth House', 'cat__property_type_Guest suite',\n",
              "       'cat__property_type_Guesthouse', 'cat__property_type_Hostel',\n",
              "       'cat__property_type_House', 'cat__property_type_Hut',\n",
              "       'cat__property_type_In-law', 'cat__property_type_Island',\n",
              "       'cat__property_type_Loft', 'cat__property_type_Other',\n",
              "       'cat__property_type_Parking Space',\n",
              "       'cat__property_type_Serviced apartment', 'cat__property_type_Tent',\n",
              "       'cat__property_type_Timeshare', 'cat__property_type_Tipi',\n",
              "       'cat__property_type_Townhouse', 'cat__property_type_Train',\n",
              "       'cat__property_type_Treehouse', 'cat__property_type_Vacation home',\n",
              "       'cat__property_type_Villa', 'cat__property_type_Yurt',\n",
              "       'cat__room_type_Entire home/apt', 'cat__room_type_Private room',\n",
              "       'cat__room_type_Shared room', 'cat__bed_type_Airbed',\n",
              "       'cat__bed_type_Couch', 'cat__bed_type_Futon',\n",
              "       'cat__bed_type_Pull-out Sofa', 'cat__bed_type_Real Bed',\n",
              "       'cat__cancellation_policy_flexible',\n",
              "       'cat__cancellation_policy_moderate',\n",
              "       'cat__cancellation_policy_strict',\n",
              "       'cat__cancellation_policy_super_strict_30',\n",
              "       'cat__cancellation_policy_super_strict_60',\n",
              "       'cat__cleaning_fee_False', 'cat__cleaning_fee_True',\n",
              "       'cat__city_Boston', 'cat__city_Chicago', 'cat__city_DC',\n",
              "       'cat__city_LA', 'cat__city_NYC', 'cat__city_SF',\n",
              "       'cat__host_has_profile_pic_f', 'cat__host_has_profile_pic_t',\n",
              "       'cat__host_identity_verified_f', 'cat__host_identity_verified_t',\n",
              "       'cat__instant_bookable_f', 'cat__instant_bookable_t',\n",
              "       'geo__Cluster 0 similarity', 'geo__Cluster 1 similarity',\n",
              "       'geo__Cluster 2 similarity', 'geo__Cluster 3 similarity',\n",
              "       'geo__Cluster 4 similarity', 'geo__Cluster 5 similarity'],\n",
              "      dtype=object)"
            ]
          },
          "metadata": {},
          "execution_count": 196
        }
      ],
      "source": [
        "preprocessing.get_feature_names_out()"
      ]
    },
    {
      "cell_type": "markdown",
      "metadata": {
        "id": "rwL0wQbzOBRT"
      },
      "source": [
        "# Modeling Techniques\n",
        "\n",
        "*   After being done with the pipeline, we are now ready to build up the regression model. Our group build up 8 models and compared their performance by comparing them with root mean square error\n",
        "\n",
        "*   For each model, our group run the error from both the training dataset and the test set of cross-validation on the training set. But we only evaluate the test error to select the best model"
      ]
    },
    {
      "cell_type": "markdown",
      "metadata": {
        "id": "ohjqlzUD_AU4"
      },
      "source": [
        "### Linear Regression"
      ]
    },
    {
      "cell_type": "markdown",
      "metadata": {
        "id": "mbbphoPqEaCW"
      },
      "source": [
        "We first try the linear Regression model as it is one of the most basic regression models, and got the training error is 0.46588, but the testing error is 25918537.99104. This is quite unusual as the test data error is much higher as compared to train data error. We speculate this may happen due to linear regression without regularization, which may cause instability especially when columns are very correlated with each other, or near duplicates.\n",
        "\n",
        "We will later try Lasso and Ridge Regressor to see if the model performance will improve with the regulation involved.\n"
      ]
    },
    {
      "cell_type": "code",
      "execution_count": null,
      "metadata": {
        "colab": {
          "base_uri": "https://localhost:8080/"
        },
        "id": "5bDPSvhB-_va",
        "outputId": "1e1c3977-704c-4e01-8763-d8e79bf94474"
      },
      "outputs": [
        {
          "output_type": "stream",
          "name": "stdout",
          "text": [
            "Training data error 0.46588\n",
            "Test data error for linear regression 25918537.99104\n",
            "R^2 for linear regression 0.57845\n"
          ]
        }
      ],
      "source": [
        "from sklearn.linear_model import LinearRegression\n",
        "from sklearn.model_selection import cross_val_score\n",
        "from sklearn.metrics import r2_score\n",
        "from sklearn.metrics import mean_squared_error, mean_absolute_error, r2_score\n",
        "\n",
        "lin_reg = make_pipeline(preprocessing, LinearRegression())\n",
        "lin_reg.fit(X_train, y_train)\n",
        "price_predictions_linear = lin_reg.predict(X_train)\n",
        "lin_rmse = mean_squared_error(y_train, price_predictions_linear, squared=False)\n",
        "print('Training data error {:.5f}'.format(lin_rmse))\n",
        "\n",
        "lin_test_rmses = -cross_val_score(lin_reg, X_train, y_train,\n",
        "                              scoring=\"neg_root_mean_squared_error\", cv=3)\n",
        "\n",
        "print('Test data error for linear regression {:.5f}'.format(lin_test_rmses.mean()))\n",
        "\n",
        "print('R^2 for linear regression {:.5f}'.format( r2_score(y_train, price_predictions_linear)))\n"
      ]
    },
    {
      "cell_type": "markdown",
      "metadata": {
        "id": "B_3Y13-_9J6f"
      },
      "source": [
        "### Linear Lasso Regression"
      ]
    },
    {
      "cell_type": "markdown",
      "metadata": {
        "id": "MLhQG4tj9GOn"
      },
      "source": [
        "Let's try how Linear Lasso Regression with cross-validation, as Lasso is a modification of linear regression, where the model is penalized for the sum of absolute values of the weights. The absolute values of weight will be reduced, and many will tend to be zeros.\n",
        "\n",
        "We can see that the mse in the training set is  0.55549, and the mse in the testset using cross-validation method is 0.55557. The unexpectedly high rmse value in Linear Regression Model is resolved using the Linear Lasso Regression."
      ]
    },
    {
      "cell_type": "code",
      "execution_count": null,
      "metadata": {
        "colab": {
          "base_uri": "https://localhost:8080/"
        },
        "id": "7l2orpjZ9H-k",
        "outputId": "8daef0f4-953c-4c8f-82e7-6eb1e685c453"
      },
      "outputs": [
        {
          "output_type": "stream",
          "name": "stdout",
          "text": [
            "Training data error 0.55549\n",
            "Test data error 0.55557\n"
          ]
        }
      ],
      "source": [
        "from sklearn.linear_model import LassoCV\n",
        "from sklearn.model_selection import cross_val_score\n",
        "\n",
        "lasso_reg = make_pipeline(preprocessing, LassoCV(alphas=(.1, 1, 10)))\n",
        "lasso_reg.fit(X_train, y_train)\n",
        "lasso_predictions = lasso_reg.predict(X_train)\n",
        "lasso_rmse = mean_squared_error(y_train, lasso_predictions, squared=False)\n",
        "print('Training data error {:.5f}'.format(lasso_rmse))\n",
        "lasso_test_rmses = -cross_val_score(lasso_reg, X_train, y_train,\n",
        "                              scoring=\"neg_root_mean_squared_error\", cv=3)\n",
        "print('Test data error {:.5f}'.format(lasso_test_rmses.mean()))\n"
      ]
    },
    {
      "cell_type": "markdown",
      "metadata": {
        "id": "-Lvvc3Ys8TJg"
      },
      "source": [
        "### Linear Ridge regression\n",
        "\n"
      ]
    },
    {
      "cell_type": "markdown",
      "metadata": {
        "id": "4Pd_LyZE82RF"
      },
      "source": [
        "The difference between Lasso and Ridge regression is that Ridge regression decreases the complexity of a model but does not reduce the number of variables since it never leads to a coefficient been zero but rather only minimizes it.\n",
        "\n",
        "Let's try using Linear Tree Lasso Regression to perform.\n",
        "We can see that the MSE in training set is  0.46746, and the MSE in test set using cross validation method is 0.46851. The two errors are quite similar but the performance is better than linear regression.\n",
        "\n",
        "Ridge Regression has better performance than Lasso Regression, as it has a lower RMSE score. The reason may because there are many large parameters of about the same value, when most predictors impact the response. So we speculate that there may be many features they all have significant impact to the housing prediction.\n",
        "\n",
        "\n"
      ]
    },
    {
      "cell_type": "code",
      "execution_count": null,
      "metadata": {
        "colab": {
          "base_uri": "https://localhost:8080/"
        },
        "id": "zupMqA7d8RIu",
        "outputId": "0458b0be-af68-455e-b2e8-eb7699286a94"
      },
      "outputs": [
        {
          "output_type": "stream",
          "name": "stdout",
          "text": [
            "Training data error 0.46746\n",
            "Test data error 0.46851\n"
          ]
        }
      ],
      "source": [
        "from sklearn.linear_model import RidgeCV\n",
        "from sklearn.model_selection import cross_val_score\n",
        "\n",
        "ridge_reg = make_pipeline(preprocessing, RidgeCV(alphas=(.1, 1, 10)))\n",
        "ridge_reg.fit(X_train, y_train)\n",
        "ridge_predictions = ridge_reg.predict(X_train)\n",
        "ridge_rmse = mean_squared_error(y_train, ridge_predictions, squared=False)\n",
        "print('Training data error {:.5f}'.format(ridge_rmse))\n",
        "ridge_test_rmses = -cross_val_score(ridge_reg, X_train, y_train,\n",
        "                              scoring=\"neg_root_mean_squared_error\", cv=3)\n",
        "print('Test data error {:.5f}'.format(ridge_test_rmses.mean()))\n"
      ]
    },
    {
      "cell_type": "markdown",
      "metadata": {
        "id": "CIZIKan16WRL"
      },
      "source": [
        "### Decision Tree Regressor"
      ]
    },
    {
      "cell_type": "markdown",
      "metadata": {
        "id": "6wJpRVx77B8K"
      },
      "source": [
        "Looking at the inconsistency in the results from the Linear Regression model, we also considered the tree based models in our analysis as these models are more efficient in predicting the dataset that has more noise and is expected to give higher accuracy with datasets that are not too large.\n",
        "\n",
        "We preprocessed the data by passing through the pipeline and ran a Decision Tree based model without limiting the max_depth and found that the training data error is close to 0.0 which is not good and clearly shows that the model is overfitting. We then used the cross validation score which is a better evaluation technique by using a part of the training set and testing our predictions and calling it test set error which came up to be 0.60. Hence, the decision tree model is not highly reliable as one to use in our dataset.\n"
      ]
    },
    {
      "cell_type": "code",
      "execution_count": null,
      "metadata": {
        "colab": {
          "base_uri": "https://localhost:8080/"
        },
        "id": "rUG_C7fp7EAP",
        "outputId": "1a61c65b-1fb5-41cd-fe53-9beaa98caa76"
      },
      "outputs": [
        {
          "output_type": "stream",
          "name": "stdout",
          "text": [
            "Training data error 0.00070\n",
            "Test data error 0.60239\n"
          ]
        }
      ],
      "source": [
        "from sklearn.tree import DecisionTreeRegressor\n",
        "from sklearn.metrics import mean_squared_error\n",
        "from sklearn.model_selection import cross_val_score\n",
        "\n",
        "decision_tree_reg = make_pipeline(preprocessing, DecisionTreeRegressor(random_state=42))\n",
        "decision_tree_reg.fit(X_train, y_train)\n",
        "decision_tree_reg_predictions = decision_tree_reg.predict(X_train)\n",
        "\n",
        "dec_rmse = mean_squared_error(y_train, decision_tree_reg_predictions, squared=False)\n",
        "\n",
        "print('Training data error {:.5f}'.format(dec_rmse))\n",
        "dec_test_rmses = -cross_val_score(decision_tree_reg,X_train, y_train,\n",
        "                              scoring=\"neg_root_mean_squared_error\", cv=3)\n",
        "print('Test data error {:.5f}'.format(dec_test_rmses.mean()))\n"
      ]
    },
    {
      "cell_type": "markdown",
      "metadata": {
        "id": "Uzeh6UMf9jgQ"
      },
      "source": [
        "### Random Forest Regression"
      ]
    },
    {
      "cell_type": "markdown",
      "metadata": {
        "id": "_VzD1MT29q56"
      },
      "source": [
        "After comprehending the results of the decision tree, we used a more advanced, ensemble based, tool called Random Forest Regressor which is a collection of multiple decision trees and selects the average vote of the forest to predict the output. Another advantage of Random forest is that it is less prone to overfitting than the decision tree model and gives a more generalized solution.\n",
        "\n",
        "We can see that the RMSE in training set is 0.16, and the RMSE in test set using cross validation method is 0.435, which has improved results from the decision tree model.\n"
      ]
    },
    {
      "cell_type": "code",
      "execution_count": null,
      "metadata": {
        "colab": {
          "base_uri": "https://localhost:8080/"
        },
        "id": "f9Fv7drF9hUM",
        "outputId": "34354d3e-77ea-4d4a-8f6b-70cf4a2694df"
      },
      "outputs": [
        {
          "output_type": "stream",
          "name": "stdout",
          "text": [
            "Training data error 0.16143\n",
            "Test data error 0.43514\n"
          ]
        }
      ],
      "source": [
        "from sklearn.ensemble import RandomForestRegressor\n",
        "\n",
        "forest_reg = make_pipeline(preprocessing,\n",
        "                           RandomForestRegressor(random_state=42))\n",
        "forest_reg.fit(X_train, y_train)\n",
        "forest_predict = forest_reg.predict(X_train)\n",
        "forest_rmse = mean_squared_error(y_train, forest_predict, squared=False)\n",
        "print('Training data error {:.5f}'.format(forest_rmse))\n",
        "forest_rmses = -cross_val_score(forest_reg, X_train, y_train,\n",
        "                                scoring=\"neg_root_mean_squared_error\", cv=3)\n",
        "print('Test data error {:.5f}'.format(forest_rmses.mean()))\n"
      ]
    },
    {
      "cell_type": "markdown",
      "metadata": {
        "id": "RCK-Ww2Gniyr"
      },
      "source": [
        "### Bayesian Linear Regression"
      ]
    },
    {
      "cell_type": "markdown",
      "metadata": {
        "id": "mVQFKzqJsk4n"
      },
      "source": [
        "The difference between normal linear regression and Bayesian Linear Regression is Bayesian Linear Regression will more than likely result in posterior density estimation, meanwhile linear regression will result in classical confidence intervals and hypothesis tests.\n",
        "\n",
        "We chose to use Bayesian Linear Regression because we wanted to see the how this model could yield in better results & greater performance. The results for this model were Training data error = 0.46593 & Test data error = 0.46684, which were fairly close.  \n"
      ]
    },
    {
      "cell_type": "code",
      "execution_count": null,
      "metadata": {
        "colab": {
          "base_uri": "https://localhost:8080/"
        },
        "id": "NThO44d1rgZp",
        "outputId": "b3b02c9d-1478-423b-a42f-b2c17a0564ad"
      },
      "outputs": [
        {
          "output_type": "stream",
          "name": "stdout",
          "text": [
            "Training data error 0.46593\n",
            "Test data error 0.46684\n"
          ]
        }
      ],
      "source": [
        "from sklearn import linear_model\n",
        "from sklearn.metrics import mean_squared_error\n",
        "from sklearn.model_selection import cross_val_score\n",
        "\n",
        "bayesian_lin_reg = make_pipeline(preprocessing, linear_model.ARDRegression())\n",
        "bayesian_lin_reg.fit(X_train, y_train)\n",
        "price_predictions_blr = bayesian_lin_reg.predict(X_train)\n",
        "\n",
        "bayesian_lin_rmse = mean_squared_error(y_train, price_predictions_blr, squared=False)\n",
        "\n",
        "print('Training data error {:.5f}'.format(bayesian_lin_rmse))\n",
        "bayesian_lin_test_rmses = -cross_val_score(bayesian_lin_reg,X_train, y_train,\n",
        "                              scoring=\"neg_root_mean_squared_error\", cv=3)\n",
        "print('Test data error {:.5f}'.format(bayesian_lin_test_rmses.mean()))\n"
      ]
    },
    {
      "cell_type": "markdown",
      "metadata": {
        "id": "7wqMwPiBtplP"
      },
      "source": [
        "### Bayesian Ridge Regression"
      ]
    },
    {
      "cell_type": "markdown",
      "metadata": {
        "id": "XuzBhm0Jt1tM"
      },
      "source": [
        "We chose to use Bayesian Ridge Regression because we wanted to incorporate cross-validation in order to see how the performance of the model could be improved. The results for this model were Training data error = 0.46594 & Test data error = 0.46699, which led us to the conclusion that both the Bayesian Linear Regression and Bayesian Ridge Regression results were quite similar.\n",
        "\n",
        "Even though Bayesian Linear Regression and Bayesian Ridge Regression yielded similar results, there is a difference between them. Bayesian Ridge Regression is drawn from a probability distribution, whereas Bayesian Linear Regression is the mean of one variable being calculated by the sum of the other variables.\n"
      ]
    },
    {
      "cell_type": "code",
      "execution_count": null,
      "metadata": {
        "colab": {
          "base_uri": "https://localhost:8080/"
        },
        "id": "50xaXRB1t8Pd",
        "outputId": "fcdf730c-2f5f-4733-a3cd-723badbd4069"
      },
      "outputs": [
        {
          "output_type": "stream",
          "name": "stdout",
          "text": [
            "Training data error 0.46594\n",
            "Test data error 0.46699\n"
          ]
        }
      ],
      "source": [
        "bay_ridge_reg = make_pipeline(preprocessing, linear_model.BayesianRidge())\n",
        "bay_ridge_reg.fit(X_train, y_train)\n",
        "price_predictions = bay_ridge_reg.predict(X_train)\n",
        "bay_ridge_rmse = mean_squared_error(y_train, price_predictions, squared=False)\n",
        "print('Training data error {:.5f}'.format(bay_ridge_rmse))\n",
        "bay_ridge_test_rmses = -cross_val_score(bay_ridge_reg, X_train, y_train,\n",
        "                              scoring=\"neg_root_mean_squared_error\", cv=3)\n",
        "print('Test data error {:.5f}'.format(bay_ridge_test_rmses.mean()))\n"
      ]
    },
    {
      "cell_type": "markdown",
      "metadata": {
        "id": "WDzd7oxJ1JkF"
      },
      "source": [
        "### XGboost regression"
      ]
    },
    {
      "cell_type": "markdown",
      "metadata": {
        "id": "BZ2Sxo3W2w-V"
      },
      "source": [
        "XGboost Regression is considered one of the most efficent model in terms of performance for structured or tabular datasets. This model generally fits better on the training data and hence, gives better results than linear regression, but that can also lead to overfitting so to check the results, we fitted this model on our preprocessed data."
      ]
    },
    {
      "cell_type": "markdown",
      "metadata": {
        "id": "WGxR9rAK3Nnu"
      },
      "source": [
        "We can see that the MSE in training set is 0.42587, and the MSE in test set using cross validation method is 0.43247 and hence we do not see overfitting in the train data set and the model is giving comparatively better results."
      ]
    },
    {
      "cell_type": "code",
      "execution_count": null,
      "metadata": {
        "colab": {
          "base_uri": "https://localhost:8080/"
        },
        "id": "0dVR4NeX1t1-",
        "outputId": "f78551e1-5b08-40e3-95ea-a9c1daa85153"
      },
      "outputs": [
        {
          "output_type": "stream",
          "name": "stdout",
          "text": [
            "Training data error 0.42857\n",
            "Test data error 0.43247\n"
          ]
        }
      ],
      "source": [
        "import xgboost as xg\n",
        "from sklearn.metrics import mean_squared_error\n",
        "from sklearn.model_selection import cross_val_score\n",
        "xgboost_reg = make_pipeline(preprocessing, xg.XGBRegressor(objective ='reg:squarederror'))\n",
        "xgboost_reg.fit(X_train, y_train)\n",
        "price_predictions = xgboost_reg.predict(X_train)\n",
        "xg_rmse = mean_squared_error(y_train, price_predictions, squared=False)\n",
        "print('Training data error {:.5f}'.format(xg_rmse))\n",
        "xg_test_rmses = -cross_val_score(xgboost_reg, X_train, y_train,\n",
        "                              scoring=\"neg_root_mean_squared_error\", cv=3)\n",
        "print('Test data error {:.5f}'.format(xg_test_rmses.mean()))\n"
      ]
    },
    {
      "cell_type": "markdown",
      "metadata": {
        "id": "Xjd3_7yfii8H"
      },
      "source": [
        "Result Comparison"
      ]
    },
    {
      "cell_type": "code",
      "execution_count": null,
      "metadata": {
        "colab": {
          "base_uri": "https://localhost:8080/",
          "height": 300
        },
        "id": "c0jWiPORihzD",
        "outputId": "aad2627a-0158-41bb-b8ac-272397a0a592"
      },
      "outputs": [
        {
          "output_type": "execute_result",
          "data": {
            "text/plain": [
              "                    ML Models     RMSE score\n",
              "0           Linear Regression 25918537.99104\n",
              "1     Linear Lasso Regression        0.55557\n",
              "2     Linear Ridge regression        0.46851\n",
              "3     Decision Tree Regressor        0.60239\n",
              "4    Random Forest Regression        0.43514\n",
              "5  Bayesian Linear Regression        0.46684\n",
              "6   Bayesian Ridge Regression        0.46699\n",
              "7          XGboost regression        0.43247"
            ],
            "text/html": [
              "\n",
              "  <div id=\"df-96175166-2f59-4c84-b264-4c10bf4f189f\">\n",
              "    <div class=\"colab-df-container\">\n",
              "      <div>\n",
              "<style scoped>\n",
              "    .dataframe tbody tr th:only-of-type {\n",
              "        vertical-align: middle;\n",
              "    }\n",
              "\n",
              "    .dataframe tbody tr th {\n",
              "        vertical-align: top;\n",
              "    }\n",
              "\n",
              "    .dataframe thead th {\n",
              "        text-align: right;\n",
              "    }\n",
              "</style>\n",
              "<table border=\"1\" class=\"dataframe\">\n",
              "  <thead>\n",
              "    <tr style=\"text-align: right;\">\n",
              "      <th></th>\n",
              "      <th>ML Models</th>\n",
              "      <th>RMSE score</th>\n",
              "    </tr>\n",
              "  </thead>\n",
              "  <tbody>\n",
              "    <tr>\n",
              "      <th>0</th>\n",
              "      <td>Linear Regression</td>\n",
              "      <td>25918537.99104</td>\n",
              "    </tr>\n",
              "    <tr>\n",
              "      <th>1</th>\n",
              "      <td>Linear Lasso Regression</td>\n",
              "      <td>0.55557</td>\n",
              "    </tr>\n",
              "    <tr>\n",
              "      <th>2</th>\n",
              "      <td>Linear Ridge regression</td>\n",
              "      <td>0.46851</td>\n",
              "    </tr>\n",
              "    <tr>\n",
              "      <th>3</th>\n",
              "      <td>Decision Tree Regressor</td>\n",
              "      <td>0.60239</td>\n",
              "    </tr>\n",
              "    <tr>\n",
              "      <th>4</th>\n",
              "      <td>Random Forest Regression</td>\n",
              "      <td>0.43514</td>\n",
              "    </tr>\n",
              "    <tr>\n",
              "      <th>5</th>\n",
              "      <td>Bayesian Linear Regression</td>\n",
              "      <td>0.46684</td>\n",
              "    </tr>\n",
              "    <tr>\n",
              "      <th>6</th>\n",
              "      <td>Bayesian Ridge Regression</td>\n",
              "      <td>0.46699</td>\n",
              "    </tr>\n",
              "    <tr>\n",
              "      <th>7</th>\n",
              "      <td>XGboost regression</td>\n",
              "      <td>0.43247</td>\n",
              "    </tr>\n",
              "  </tbody>\n",
              "</table>\n",
              "</div>\n",
              "      <button class=\"colab-df-convert\" onclick=\"convertToInteractive('df-96175166-2f59-4c84-b264-4c10bf4f189f')\"\n",
              "              title=\"Convert this dataframe to an interactive table.\"\n",
              "              style=\"display:none;\">\n",
              "        \n",
              "  <svg xmlns=\"http://www.w3.org/2000/svg\" height=\"24px\"viewBox=\"0 0 24 24\"\n",
              "       width=\"24px\">\n",
              "    <path d=\"M0 0h24v24H0V0z\" fill=\"none\"/>\n",
              "    <path d=\"M18.56 5.44l.94 2.06.94-2.06 2.06-.94-2.06-.94-.94-2.06-.94 2.06-2.06.94zm-11 1L8.5 8.5l.94-2.06 2.06-.94-2.06-.94L8.5 2.5l-.94 2.06-2.06.94zm10 10l.94 2.06.94-2.06 2.06-.94-2.06-.94-.94-2.06-.94 2.06-2.06.94z\"/><path d=\"M17.41 7.96l-1.37-1.37c-.4-.4-.92-.59-1.43-.59-.52 0-1.04.2-1.43.59L10.3 9.45l-7.72 7.72c-.78.78-.78 2.05 0 2.83L4 21.41c.39.39.9.59 1.41.59.51 0 1.02-.2 1.41-.59l7.78-7.78 2.81-2.81c.8-.78.8-2.07 0-2.86zM5.41 20L4 18.59l7.72-7.72 1.47 1.35L5.41 20z\"/>\n",
              "  </svg>\n",
              "      </button>\n",
              "      \n",
              "  <style>\n",
              "    .colab-df-container {\n",
              "      display:flex;\n",
              "      flex-wrap:wrap;\n",
              "      gap: 12px;\n",
              "    }\n",
              "\n",
              "    .colab-df-convert {\n",
              "      background-color: #E8F0FE;\n",
              "      border: none;\n",
              "      border-radius: 50%;\n",
              "      cursor: pointer;\n",
              "      display: none;\n",
              "      fill: #1967D2;\n",
              "      height: 32px;\n",
              "      padding: 0 0 0 0;\n",
              "      width: 32px;\n",
              "    }\n",
              "\n",
              "    .colab-df-convert:hover {\n",
              "      background-color: #E2EBFA;\n",
              "      box-shadow: 0px 1px 2px rgba(60, 64, 67, 0.3), 0px 1px 3px 1px rgba(60, 64, 67, 0.15);\n",
              "      fill: #174EA6;\n",
              "    }\n",
              "\n",
              "    [theme=dark] .colab-df-convert {\n",
              "      background-color: #3B4455;\n",
              "      fill: #D2E3FC;\n",
              "    }\n",
              "\n",
              "    [theme=dark] .colab-df-convert:hover {\n",
              "      background-color: #434B5C;\n",
              "      box-shadow: 0px 1px 3px 1px rgba(0, 0, 0, 0.15);\n",
              "      filter: drop-shadow(0px 1px 2px rgba(0, 0, 0, 0.3));\n",
              "      fill: #FFFFFF;\n",
              "    }\n",
              "  </style>\n",
              "\n",
              "      <script>\n",
              "        const buttonEl =\n",
              "          document.querySelector('#df-96175166-2f59-4c84-b264-4c10bf4f189f button.colab-df-convert');\n",
              "        buttonEl.style.display =\n",
              "          google.colab.kernel.accessAllowed ? 'block' : 'none';\n",
              "\n",
              "        async function convertToInteractive(key) {\n",
              "          const element = document.querySelector('#df-96175166-2f59-4c84-b264-4c10bf4f189f');\n",
              "          const dataTable =\n",
              "            await google.colab.kernel.invokeFunction('convertToInteractive',\n",
              "                                                     [key], {});\n",
              "          if (!dataTable) return;\n",
              "\n",
              "          const docLinkHtml = 'Like what you see? Visit the ' +\n",
              "            '<a target=\"_blank\" href=https://colab.research.google.com/notebooks/data_table.ipynb>data table notebook</a>'\n",
              "            + ' to learn more about interactive tables.';\n",
              "          element.innerHTML = '';\n",
              "          dataTable['output_type'] = 'display_data';\n",
              "          await google.colab.output.renderOutput(dataTable, element);\n",
              "          const docLink = document.createElement('div');\n",
              "          docLink.innerHTML = docLinkHtml;\n",
              "          element.appendChild(docLink);\n",
              "        }\n",
              "      </script>\n",
              "    </div>\n",
              "  </div>\n",
              "  "
            ]
          },
          "metadata": {},
          "execution_count": 146
        }
      ],
      "source": [
        "comparison = {'ML Models': [ \"Linear Regression\",'Linear Lasso Regression',\n",
        "                            'Linear Ridge regression','Decision Tree Regressor',\n",
        "                            'Random Forest Regression','Bayesian Linear Regression',\n",
        "                            'Bayesian Ridge Regression','XGboost regression'],\n",
        "              'RMSE score': [ 25918537.99104,lasso_test_rmses.mean(),ridge_test_rmses.mean(),\n",
        "                             dec_test_rmses.mean(),forest_rmses.mean(),bayesian_lin_test_rmses.mean(),\n",
        "                             bay_ridge_test_rmses.mean(),xg_test_rmses.mean()],\n",
        "              }\n",
        "comparison = pd.DataFrame(data=comparison)\n",
        "# comparison.apply(lambda x: '%.5f' % x, axis=1)\n",
        "pd.options.display.float_format = '{:.5f}'.format\n",
        "comparison\n"
      ]
    },
    {
      "cell_type": "markdown",
      "metadata": {
        "id": "UI8vgJOC3-9C"
      },
      "source": [
        "# Tuning the Models\n",
        "\n",
        "Tuning is the process of increasing the efficiency of a model by maximizing a model’s performance without overfitting or creating too high variance. This is implemented by choosing appropriate “hyperparameters”. The difference in the model parameters and hyperparameters is that hyperparameters are not learned by the model automatically through training methods and are instead set manually.\n",
        "The three tuning methods used are:\n",
        "\n",
        "1. Grid Search: It is an exhaustive search over the predefined parameter values for an estimator. GridSearchCV tries all the combinations of the values of hyperparameters and evaluates the model for each combination using the cross-validation method. Hence after using this function we get accuracy/loss for every combination of hyperparameters and we can choose the one with the best performance.\n",
        "\n",
        "2. Random Search: In this method we define a search space as a bounded range of hyperparameter values and randomly sample points in that range. As opposed to GridSearchCV, in random search not all parameter values are tried out, but rather a fixed number of parameter settings is sampled from the specified distributions.\n",
        "3. Halving Grid Search: Halving grid search is the next best alternative to grid search and random search. Halving Grid Search, a new class of successive Halving, where training is performed on the subsets of data, rather than on all the data. The worst performing data are filtered out by training them on a small subset of data. After N number iterations select the best data/candidates leading to a faster evaluation time.\n",
        "\n",
        "\n"
      ]
    },
    {
      "cell_type": "markdown",
      "metadata": {
        "id": "5QlJjnkL4aig"
      },
      "source": [
        "###  Tuning Parameters based on Xgboost and RandomForest\n",
        "Based on the previous modeling, we found both Xgboost and RandomForest Regressor have good performance, so we are going to see if it will lower error by pruning parameters."
      ]
    },
    {
      "cell_type": "markdown",
      "metadata": {
        "id": "dIhfuWg96BOs"
      },
      "source": [
        "#### Tuning XGBoost Model"
      ]
    },
    {
      "cell_type": "markdown",
      "metadata": {
        "id": "An7CBcAF4i-g"
      },
      "source": [
        "##### Grid  search"
      ]
    },
    {
      "cell_type": "code",
      "execution_count": null,
      "metadata": {
        "colab": {
          "base_uri": "https://localhost:8080/",
          "height": 228
        },
        "id": "h2wzkFWo4mDn",
        "outputId": "14b309ea-f94f-424d-95a8-1f645490c15d"
      },
      "outputs": [
        {
          "output_type": "execute_result",
          "data": {
            "text/plain": [
              "GridSearchCV(cv=3,\n",
              "             estimator=Pipeline(steps=[('columntransformer',\n",
              "                                        ColumnTransformer(transformers=[('num',\n",
              "                                                                         Pipeline(steps=[('simpleimputer',\n",
              "                                                                                          SimpleImputer(strategy='median')),\n",
              "                                                                                         ('standardscaler',\n",
              "                                                                                          StandardScaler())]),\n",
              "                                                                         ['accommodates',\n",
              "                                                                          'bathrooms',\n",
              "                                                                          'number_of_reviews',\n",
              "                                                                          'review_scores_rating',\n",
              "                                                                          'bedrooms',\n",
              "                                                                          'beds',\n",
              "                                                                          'bathrooms',\n",
              "                                                                          'host_response_rate',\n",
              "                                                                          'gap_between_Hostsi...\n",
              "                                                                          'host_identity_verified',\n",
              "                                                                          'instant_bookable']),\n",
              "                                                                        ('geo',\n",
              "                                                                         ClusterSimilarity(n_clusters=6,\n",
              "                                                                                           random_state=42),\n",
              "                                                                         ['latitude',\n",
              "                                                                          'longitude'])])),\n",
              "                                       ('xgbregressor',\n",
              "                                        XGBRegressor(objective='reg:squarederror'))]),\n",
              "             param_grid=[{'columntransformer__geo__n_clusters': [10, 15],\n",
              "                          'xgbregressor__learning_rate': [0.1, 1],\n",
              "                          'xgbregressor__max_depth': [6, 8, 10]}],\n",
              "             scoring='neg_root_mean_squared_error')"
            ],
            "text/html": [
              "<style>#sk-605edb0c-4592-4ab7-a817-edde63217bd6 {color: black;background-color: white;}#sk-605edb0c-4592-4ab7-a817-edde63217bd6 pre{padding: 0;}#sk-605edb0c-4592-4ab7-a817-edde63217bd6 div.sk-toggleable {background-color: white;}#sk-605edb0c-4592-4ab7-a817-edde63217bd6 label.sk-toggleable__label {cursor: pointer;display: block;width: 100%;margin-bottom: 0;padding: 0.3em;box-sizing: border-box;text-align: center;}#sk-605edb0c-4592-4ab7-a817-edde63217bd6 label.sk-toggleable__label-arrow:before {content: \"▸\";float: left;margin-right: 0.25em;color: #696969;}#sk-605edb0c-4592-4ab7-a817-edde63217bd6 label.sk-toggleable__label-arrow:hover:before {color: black;}#sk-605edb0c-4592-4ab7-a817-edde63217bd6 div.sk-estimator:hover label.sk-toggleable__label-arrow:before {color: black;}#sk-605edb0c-4592-4ab7-a817-edde63217bd6 div.sk-toggleable__content {max-height: 0;max-width: 0;overflow: hidden;text-align: left;background-color: #f0f8ff;}#sk-605edb0c-4592-4ab7-a817-edde63217bd6 div.sk-toggleable__content pre {margin: 0.2em;color: black;border-radius: 0.25em;background-color: #f0f8ff;}#sk-605edb0c-4592-4ab7-a817-edde63217bd6 input.sk-toggleable__control:checked~div.sk-toggleable__content {max-height: 200px;max-width: 100%;overflow: auto;}#sk-605edb0c-4592-4ab7-a817-edde63217bd6 input.sk-toggleable__control:checked~label.sk-toggleable__label-arrow:before {content: \"▾\";}#sk-605edb0c-4592-4ab7-a817-edde63217bd6 div.sk-estimator input.sk-toggleable__control:checked~label.sk-toggleable__label {background-color: #d4ebff;}#sk-605edb0c-4592-4ab7-a817-edde63217bd6 div.sk-label input.sk-toggleable__control:checked~label.sk-toggleable__label {background-color: #d4ebff;}#sk-605edb0c-4592-4ab7-a817-edde63217bd6 input.sk-hidden--visually {border: 0;clip: rect(1px 1px 1px 1px);clip: rect(1px, 1px, 1px, 1px);height: 1px;margin: -1px;overflow: hidden;padding: 0;position: absolute;width: 1px;}#sk-605edb0c-4592-4ab7-a817-edde63217bd6 div.sk-estimator {font-family: monospace;background-color: #f0f8ff;border: 1px dotted black;border-radius: 0.25em;box-sizing: border-box;margin-bottom: 0.5em;}#sk-605edb0c-4592-4ab7-a817-edde63217bd6 div.sk-estimator:hover {background-color: #d4ebff;}#sk-605edb0c-4592-4ab7-a817-edde63217bd6 div.sk-parallel-item::after {content: \"\";width: 100%;border-bottom: 1px solid gray;flex-grow: 1;}#sk-605edb0c-4592-4ab7-a817-edde63217bd6 div.sk-label:hover label.sk-toggleable__label {background-color: #d4ebff;}#sk-605edb0c-4592-4ab7-a817-edde63217bd6 div.sk-serial::before {content: \"\";position: absolute;border-left: 1px solid gray;box-sizing: border-box;top: 2em;bottom: 0;left: 50%;}#sk-605edb0c-4592-4ab7-a817-edde63217bd6 div.sk-serial {display: flex;flex-direction: column;align-items: center;background-color: white;padding-right: 0.2em;padding-left: 0.2em;}#sk-605edb0c-4592-4ab7-a817-edde63217bd6 div.sk-item {z-index: 1;}#sk-605edb0c-4592-4ab7-a817-edde63217bd6 div.sk-parallel {display: flex;align-items: stretch;justify-content: center;background-color: white;}#sk-605edb0c-4592-4ab7-a817-edde63217bd6 div.sk-parallel::before {content: \"\";position: absolute;border-left: 1px solid gray;box-sizing: border-box;top: 2em;bottom: 0;left: 50%;}#sk-605edb0c-4592-4ab7-a817-edde63217bd6 div.sk-parallel-item {display: flex;flex-direction: column;position: relative;background-color: white;}#sk-605edb0c-4592-4ab7-a817-edde63217bd6 div.sk-parallel-item:first-child::after {align-self: flex-end;width: 50%;}#sk-605edb0c-4592-4ab7-a817-edde63217bd6 div.sk-parallel-item:last-child::after {align-self: flex-start;width: 50%;}#sk-605edb0c-4592-4ab7-a817-edde63217bd6 div.sk-parallel-item:only-child::after {width: 0;}#sk-605edb0c-4592-4ab7-a817-edde63217bd6 div.sk-dashed-wrapped {border: 1px dashed gray;margin: 0 0.4em 0.5em 0.4em;box-sizing: border-box;padding-bottom: 0.4em;background-color: white;position: relative;}#sk-605edb0c-4592-4ab7-a817-edde63217bd6 div.sk-label label {font-family: monospace;font-weight: bold;background-color: white;display: inline-block;line-height: 1.2em;}#sk-605edb0c-4592-4ab7-a817-edde63217bd6 div.sk-label-container {position: relative;z-index: 2;text-align: center;}#sk-605edb0c-4592-4ab7-a817-edde63217bd6 div.sk-container {/* jupyter's `normalize.less` sets `[hidden] { display: none; }` but bootstrap.min.css set `[hidden] { display: none !important; }` so we also need the `!important` here to be able to override the default hidden behavior on the sphinx rendered scikit-learn.org. See: https://github.com/scikit-learn/scikit-learn/issues/21755 */display: inline-block !important;position: relative;}#sk-605edb0c-4592-4ab7-a817-edde63217bd6 div.sk-text-repr-fallback {display: none;}</style><div id=\"sk-605edb0c-4592-4ab7-a817-edde63217bd6\" class=\"sk-top-container\"><div class=\"sk-text-repr-fallback\"><pre>GridSearchCV(cv=3,\n",
              "             estimator=Pipeline(steps=[(&#x27;columntransformer&#x27;,\n",
              "                                        ColumnTransformer(transformers=[(&#x27;num&#x27;,\n",
              "                                                                         Pipeline(steps=[(&#x27;simpleimputer&#x27;,\n",
              "                                                                                          SimpleImputer(strategy=&#x27;median&#x27;)),\n",
              "                                                                                         (&#x27;standardscaler&#x27;,\n",
              "                                                                                          StandardScaler())]),\n",
              "                                                                         [&#x27;accommodates&#x27;,\n",
              "                                                                          &#x27;bathrooms&#x27;,\n",
              "                                                                          &#x27;number_of_reviews&#x27;,\n",
              "                                                                          &#x27;review_scores_rating&#x27;,\n",
              "                                                                          &#x27;bedrooms&#x27;,\n",
              "                                                                          &#x27;beds&#x27;,\n",
              "                                                                          &#x27;bathrooms&#x27;,\n",
              "                                                                          &#x27;host_response_rate&#x27;,\n",
              "                                                                          &#x27;gap_between_Hostsi...\n",
              "                                                                          &#x27;host_identity_verified&#x27;,\n",
              "                                                                          &#x27;instant_bookable&#x27;]),\n",
              "                                                                        (&#x27;geo&#x27;,\n",
              "                                                                         ClusterSimilarity(n_clusters=6,\n",
              "                                                                                           random_state=42),\n",
              "                                                                         [&#x27;latitude&#x27;,\n",
              "                                                                          &#x27;longitude&#x27;])])),\n",
              "                                       (&#x27;xgbregressor&#x27;,\n",
              "                                        XGBRegressor(objective=&#x27;reg:squarederror&#x27;))]),\n",
              "             param_grid=[{&#x27;columntransformer__geo__n_clusters&#x27;: [10, 15],\n",
              "                          &#x27;xgbregressor__learning_rate&#x27;: [0.1, 1],\n",
              "                          &#x27;xgbregressor__max_depth&#x27;: [6, 8, 10]}],\n",
              "             scoring=&#x27;neg_root_mean_squared_error&#x27;)</pre><b>Please rerun this cell to show the HTML repr or trust the notebook.</b></div><div class=\"sk-container\" hidden><div class=\"sk-item sk-dashed-wrapped\"><div class=\"sk-label-container\"><div class=\"sk-label sk-toggleable\"><input class=\"sk-toggleable__control sk-hidden--visually\" id=\"c660a6ab-e39b-4e81-abda-080a734bb601\" type=\"checkbox\" ><label for=\"c660a6ab-e39b-4e81-abda-080a734bb601\" class=\"sk-toggleable__label sk-toggleable__label-arrow\">GridSearchCV</label><div class=\"sk-toggleable__content\"><pre>GridSearchCV(cv=3,\n",
              "             estimator=Pipeline(steps=[(&#x27;columntransformer&#x27;,\n",
              "                                        ColumnTransformer(transformers=[(&#x27;num&#x27;,\n",
              "                                                                         Pipeline(steps=[(&#x27;simpleimputer&#x27;,\n",
              "                                                                                          SimpleImputer(strategy=&#x27;median&#x27;)),\n",
              "                                                                                         (&#x27;standardscaler&#x27;,\n",
              "                                                                                          StandardScaler())]),\n",
              "                                                                         [&#x27;accommodates&#x27;,\n",
              "                                                                          &#x27;bathrooms&#x27;,\n",
              "                                                                          &#x27;number_of_reviews&#x27;,\n",
              "                                                                          &#x27;review_scores_rating&#x27;,\n",
              "                                                                          &#x27;bedrooms&#x27;,\n",
              "                                                                          &#x27;beds&#x27;,\n",
              "                                                                          &#x27;bathrooms&#x27;,\n",
              "                                                                          &#x27;host_response_rate&#x27;,\n",
              "                                                                          &#x27;gap_between_Hostsi...\n",
              "                                                                          &#x27;host_identity_verified&#x27;,\n",
              "                                                                          &#x27;instant_bookable&#x27;]),\n",
              "                                                                        (&#x27;geo&#x27;,\n",
              "                                                                         ClusterSimilarity(n_clusters=6,\n",
              "                                                                                           random_state=42),\n",
              "                                                                         [&#x27;latitude&#x27;,\n",
              "                                                                          &#x27;longitude&#x27;])])),\n",
              "                                       (&#x27;xgbregressor&#x27;,\n",
              "                                        XGBRegressor(objective=&#x27;reg:squarederror&#x27;))]),\n",
              "             param_grid=[{&#x27;columntransformer__geo__n_clusters&#x27;: [10, 15],\n",
              "                          &#x27;xgbregressor__learning_rate&#x27;: [0.1, 1],\n",
              "                          &#x27;xgbregressor__max_depth&#x27;: [6, 8, 10]}],\n",
              "             scoring=&#x27;neg_root_mean_squared_error&#x27;)</pre></div></div></div><div class=\"sk-parallel\"><div class=\"sk-parallel-item\"><div class=\"sk-item\"><div class=\"sk-serial\"><div class=\"sk-item\"><div class=\"sk-serial\"><div class=\"sk-item sk-dashed-wrapped\"><div class=\"sk-label-container\"><div class=\"sk-label sk-toggleable\"><input class=\"sk-toggleable__control sk-hidden--visually\" id=\"bae340e6-cc7f-4055-bb0a-8d2c0fd9da2f\" type=\"checkbox\" ><label for=\"bae340e6-cc7f-4055-bb0a-8d2c0fd9da2f\" class=\"sk-toggleable__label sk-toggleable__label-arrow\">columntransformer: ColumnTransformer</label><div class=\"sk-toggleable__content\"><pre>ColumnTransformer(transformers=[(&#x27;num&#x27;,\n",
              "                                 Pipeline(steps=[(&#x27;simpleimputer&#x27;,\n",
              "                                                  SimpleImputer(strategy=&#x27;median&#x27;)),\n",
              "                                                 (&#x27;standardscaler&#x27;,\n",
              "                                                  StandardScaler())]),\n",
              "                                 [&#x27;accommodates&#x27;, &#x27;bathrooms&#x27;,\n",
              "                                  &#x27;number_of_reviews&#x27;, &#x27;review_scores_rating&#x27;,\n",
              "                                  &#x27;bedrooms&#x27;, &#x27;beds&#x27;, &#x27;bathrooms&#x27;,\n",
              "                                  &#x27;host_response_rate&#x27;,\n",
              "                                  &#x27;gap_between_Hostsince_Firstreview&#x27;,\n",
              "                                  &#x27;gap_between_Hostsince_Lastreview&#x27;]),\n",
              "                                (&#x27;cat&#x27;,\n",
              "                                 Pipe...simpleimputer&#x27;,\n",
              "                                                  SimpleImputer(strategy=&#x27;most_frequent&#x27;)),\n",
              "                                                 (&#x27;onehotencoder&#x27;,\n",
              "                                                  OneHotEncoder(handle_unknown=&#x27;ignore&#x27;))]),\n",
              "                                 [&#x27;property_type&#x27;, &#x27;room_type&#x27;, &#x27;bed_type&#x27;,\n",
              "                                  &#x27;cancellation_policy&#x27;, &#x27;cleaning_fee&#x27;, &#x27;city&#x27;,\n",
              "                                  &#x27;host_has_profile_pic&#x27;,\n",
              "                                  &#x27;host_identity_verified&#x27;,\n",
              "                                  &#x27;instant_bookable&#x27;]),\n",
              "                                (&#x27;geo&#x27;,\n",
              "                                 ClusterSimilarity(n_clusters=6,\n",
              "                                                   random_state=42),\n",
              "                                 [&#x27;latitude&#x27;, &#x27;longitude&#x27;])])</pre></div></div></div><div class=\"sk-parallel\"><div class=\"sk-parallel-item\"><div class=\"sk-item\"><div class=\"sk-label-container\"><div class=\"sk-label sk-toggleable\"><input class=\"sk-toggleable__control sk-hidden--visually\" id=\"fbf28722-6341-48d0-944f-4a03a81a1bb1\" type=\"checkbox\" ><label for=\"fbf28722-6341-48d0-944f-4a03a81a1bb1\" class=\"sk-toggleable__label sk-toggleable__label-arrow\">num</label><div class=\"sk-toggleable__content\"><pre>[&#x27;accommodates&#x27;, &#x27;bathrooms&#x27;, &#x27;number_of_reviews&#x27;, &#x27;review_scores_rating&#x27;, &#x27;bedrooms&#x27;, &#x27;beds&#x27;, &#x27;bathrooms&#x27;, &#x27;host_response_rate&#x27;, &#x27;gap_between_Hostsince_Firstreview&#x27;, &#x27;gap_between_Hostsince_Lastreview&#x27;]</pre></div></div></div><div class=\"sk-serial\"><div class=\"sk-item\"><div class=\"sk-serial\"><div class=\"sk-item\"><div class=\"sk-estimator sk-toggleable\"><input class=\"sk-toggleable__control sk-hidden--visually\" id=\"ba8a84a1-e1ba-42ec-a720-d4ba843f6344\" type=\"checkbox\" ><label for=\"ba8a84a1-e1ba-42ec-a720-d4ba843f6344\" class=\"sk-toggleable__label sk-toggleable__label-arrow\">SimpleImputer</label><div class=\"sk-toggleable__content\"><pre>SimpleImputer(strategy=&#x27;median&#x27;)</pre></div></div></div><div class=\"sk-item\"><div class=\"sk-estimator sk-toggleable\"><input class=\"sk-toggleable__control sk-hidden--visually\" id=\"805ddc12-f25e-41a7-b7ce-6c4769208883\" type=\"checkbox\" ><label for=\"805ddc12-f25e-41a7-b7ce-6c4769208883\" class=\"sk-toggleable__label sk-toggleable__label-arrow\">StandardScaler</label><div class=\"sk-toggleable__content\"><pre>StandardScaler()</pre></div></div></div></div></div></div></div></div><div class=\"sk-parallel-item\"><div class=\"sk-item\"><div class=\"sk-label-container\"><div class=\"sk-label sk-toggleable\"><input class=\"sk-toggleable__control sk-hidden--visually\" id=\"f45a0bb2-48f1-44b7-a63f-de8e6e9ffac7\" type=\"checkbox\" ><label for=\"f45a0bb2-48f1-44b7-a63f-de8e6e9ffac7\" class=\"sk-toggleable__label sk-toggleable__label-arrow\">cat</label><div class=\"sk-toggleable__content\"><pre>[&#x27;property_type&#x27;, &#x27;room_type&#x27;, &#x27;bed_type&#x27;, &#x27;cancellation_policy&#x27;, &#x27;cleaning_fee&#x27;, &#x27;city&#x27;, &#x27;host_has_profile_pic&#x27;, &#x27;host_identity_verified&#x27;, &#x27;instant_bookable&#x27;]</pre></div></div></div><div class=\"sk-serial\"><div class=\"sk-item\"><div class=\"sk-serial\"><div class=\"sk-item\"><div class=\"sk-estimator sk-toggleable\"><input class=\"sk-toggleable__control sk-hidden--visually\" id=\"27992c8e-db7e-4664-9c05-c1d5684e86ad\" type=\"checkbox\" ><label for=\"27992c8e-db7e-4664-9c05-c1d5684e86ad\" class=\"sk-toggleable__label sk-toggleable__label-arrow\">SimpleImputer</label><div class=\"sk-toggleable__content\"><pre>SimpleImputer(strategy=&#x27;most_frequent&#x27;)</pre></div></div></div><div class=\"sk-item\"><div class=\"sk-estimator sk-toggleable\"><input class=\"sk-toggleable__control sk-hidden--visually\" id=\"a242d647-7527-4c14-a52c-4bdba08d44ea\" type=\"checkbox\" ><label for=\"a242d647-7527-4c14-a52c-4bdba08d44ea\" class=\"sk-toggleable__label sk-toggleable__label-arrow\">OneHotEncoder</label><div class=\"sk-toggleable__content\"><pre>OneHotEncoder(handle_unknown=&#x27;ignore&#x27;)</pre></div></div></div></div></div></div></div></div><div class=\"sk-parallel-item\"><div class=\"sk-item\"><div class=\"sk-label-container\"><div class=\"sk-label sk-toggleable\"><input class=\"sk-toggleable__control sk-hidden--visually\" id=\"d4d840c4-6b43-4a5c-b0d1-0352a3ee04ef\" type=\"checkbox\" ><label for=\"d4d840c4-6b43-4a5c-b0d1-0352a3ee04ef\" class=\"sk-toggleable__label sk-toggleable__label-arrow\">geo</label><div class=\"sk-toggleable__content\"><pre>[&#x27;latitude&#x27;, &#x27;longitude&#x27;]</pre></div></div></div><div class=\"sk-serial\"><div class=\"sk-item\"><div class=\"sk-estimator sk-toggleable\"><input class=\"sk-toggleable__control sk-hidden--visually\" id=\"19712155-f871-459b-9751-5f197bb2f479\" type=\"checkbox\" ><label for=\"19712155-f871-459b-9751-5f197bb2f479\" class=\"sk-toggleable__label sk-toggleable__label-arrow\">ClusterSimilarity</label><div class=\"sk-toggleable__content\"><pre>ClusterSimilarity(n_clusters=6, random_state=42)</pre></div></div></div></div></div></div></div></div><div class=\"sk-item\"><div class=\"sk-estimator sk-toggleable\"><input class=\"sk-toggleable__control sk-hidden--visually\" id=\"0b6c60aa-d579-4894-82f2-7029d04c0435\" type=\"checkbox\" ><label for=\"0b6c60aa-d579-4894-82f2-7029d04c0435\" class=\"sk-toggleable__label sk-toggleable__label-arrow\">XGBRegressor</label><div class=\"sk-toggleable__content\"><pre>XGBRegressor(objective=&#x27;reg:squarederror&#x27;)</pre></div></div></div></div></div></div></div></div></div></div></div></div>"
            ]
          },
          "metadata": {},
          "execution_count": 147
        }
      ],
      "source": [
        "# grid search\n",
        "from sklearn.model_selection import GridSearchCV\n",
        "\n",
        "\n",
        "param_grid = [\n",
        "    {'columntransformer__geo__n_clusters': [10, 15],\n",
        "     'xgbregressor__max_depth': [6, 8, 10],\n",
        "     'xgbregressor__learning_rate' : [0.1,1]},\n",
        "]\n",
        "xg_grid_search = GridSearchCV(xgboost_reg, param_grid, cv=3,\n",
        "                           scoring='neg_root_mean_squared_error')\n",
        "xg_grid_search.fit(X_train, y_train)"
      ]
    },
    {
      "cell_type": "code",
      "execution_count": null,
      "metadata": {
        "colab": {
          "base_uri": "https://localhost:8080/"
        },
        "id": "9K93yei94tKx",
        "outputId": "c156640c-31fa-48c4-efb1-7e1011888220"
      },
      "outputs": [
        {
          "output_type": "execute_result",
          "data": {
            "text/plain": [
              "{'columntransformer__geo__n_clusters': 15,\n",
              " 'xgbregressor__learning_rate': 0.1,\n",
              " 'xgbregressor__max_depth': 8}"
            ]
          },
          "metadata": {},
          "execution_count": 150
        }
      ],
      "source": [
        "# find the best parameter\n",
        "xg_grid_search.best_params_"
      ]
    },
    {
      "cell_type": "code",
      "execution_count": null,
      "metadata": {
        "colab": {
          "base_uri": "https://localhost:8080/",
          "height": 357
        },
        "id": "atGoF93V4vVM",
        "outputId": "8bfa8815-ba3d-4669-b438-c7a52eff957b"
      },
      "outputs": [
        {
          "output_type": "execute_result",
          "data": {
            "text/plain": [
              "   mean_fit_time  std_fit_time  mean_score_time  std_score_time  \\\n",
              "7       17.61263       0.21352          0.21365         0.01005   \n",
              "8       22.89816       0.33645          0.26914         0.01178   \n",
              "1       16.48580       0.40449          0.22580         0.00831   \n",
              "2       21.12391       0.48532          0.26296         0.00755   \n",
              "6       13.41227       0.59055          0.19066         0.01130   \n",
              "\n",
              "  param_columntransformer__geo__n_clusters param_xgbregressor__learning_rate  \\\n",
              "7                                       15                           0.10000   \n",
              "8                                       15                           0.10000   \n",
              "1                                       10                           0.10000   \n",
              "2                                       10                           0.10000   \n",
              "6                                       15                           0.10000   \n",
              "\n",
              "  param_xgbregressor__max_depth  \\\n",
              "7                             8   \n",
              "8                            10   \n",
              "1                             8   \n",
              "2                            10   \n",
              "6                             6   \n",
              "\n",
              "                                              params  split0_test_score  \\\n",
              "7  {'columntransformer__geo__n_clusters': 15, 'xg...           -0.39751   \n",
              "8  {'columntransformer__geo__n_clusters': 15, 'xg...           -0.39855   \n",
              "1  {'columntransformer__geo__n_clusters': 10, 'xg...           -0.39753   \n",
              "2  {'columntransformer__geo__n_clusters': 10, 'xg...           -0.39830   \n",
              "6  {'columntransformer__geo__n_clusters': 15, 'xg...           -0.39919   \n",
              "\n",
              "   split1_test_score  split2_test_score  mean_test_score  std_test_score  \\\n",
              "7           -0.38897           -0.39612         -0.39420         0.00374   \n",
              "8           -0.38814           -0.39694         -0.39454         0.00457   \n",
              "1           -0.38912           -0.39774         -0.39479         0.00401   \n",
              "2           -0.38952           -0.39889         -0.39557         0.00428   \n",
              "6           -0.39062           -0.39730         -0.39570         0.00368   \n",
              "\n",
              "   rank_test_score  \n",
              "7                1  \n",
              "8                2  \n",
              "1                3  \n",
              "2                4  \n",
              "6                5  "
            ],
            "text/html": [
              "\n",
              "  <div id=\"df-5c25fa7b-9882-482b-b972-03bc1e513c6a\">\n",
              "    <div class=\"colab-df-container\">\n",
              "      <div>\n",
              "<style scoped>\n",
              "    .dataframe tbody tr th:only-of-type {\n",
              "        vertical-align: middle;\n",
              "    }\n",
              "\n",
              "    .dataframe tbody tr th {\n",
              "        vertical-align: top;\n",
              "    }\n",
              "\n",
              "    .dataframe thead th {\n",
              "        text-align: right;\n",
              "    }\n",
              "</style>\n",
              "<table border=\"1\" class=\"dataframe\">\n",
              "  <thead>\n",
              "    <tr style=\"text-align: right;\">\n",
              "      <th></th>\n",
              "      <th>mean_fit_time</th>\n",
              "      <th>std_fit_time</th>\n",
              "      <th>mean_score_time</th>\n",
              "      <th>std_score_time</th>\n",
              "      <th>param_columntransformer__geo__n_clusters</th>\n",
              "      <th>param_xgbregressor__learning_rate</th>\n",
              "      <th>param_xgbregressor__max_depth</th>\n",
              "      <th>params</th>\n",
              "      <th>split0_test_score</th>\n",
              "      <th>split1_test_score</th>\n",
              "      <th>split2_test_score</th>\n",
              "      <th>mean_test_score</th>\n",
              "      <th>std_test_score</th>\n",
              "      <th>rank_test_score</th>\n",
              "    </tr>\n",
              "  </thead>\n",
              "  <tbody>\n",
              "    <tr>\n",
              "      <th>7</th>\n",
              "      <td>17.61263</td>\n",
              "      <td>0.21352</td>\n",
              "      <td>0.21365</td>\n",
              "      <td>0.01005</td>\n",
              "      <td>15</td>\n",
              "      <td>0.10000</td>\n",
              "      <td>8</td>\n",
              "      <td>{'columntransformer__geo__n_clusters': 15, 'xg...</td>\n",
              "      <td>-0.39751</td>\n",
              "      <td>-0.38897</td>\n",
              "      <td>-0.39612</td>\n",
              "      <td>-0.39420</td>\n",
              "      <td>0.00374</td>\n",
              "      <td>1</td>\n",
              "    </tr>\n",
              "    <tr>\n",
              "      <th>8</th>\n",
              "      <td>22.89816</td>\n",
              "      <td>0.33645</td>\n",
              "      <td>0.26914</td>\n",
              "      <td>0.01178</td>\n",
              "      <td>15</td>\n",
              "      <td>0.10000</td>\n",
              "      <td>10</td>\n",
              "      <td>{'columntransformer__geo__n_clusters': 15, 'xg...</td>\n",
              "      <td>-0.39855</td>\n",
              "      <td>-0.38814</td>\n",
              "      <td>-0.39694</td>\n",
              "      <td>-0.39454</td>\n",
              "      <td>0.00457</td>\n",
              "      <td>2</td>\n",
              "    </tr>\n",
              "    <tr>\n",
              "      <th>1</th>\n",
              "      <td>16.48580</td>\n",
              "      <td>0.40449</td>\n",
              "      <td>0.22580</td>\n",
              "      <td>0.00831</td>\n",
              "      <td>10</td>\n",
              "      <td>0.10000</td>\n",
              "      <td>8</td>\n",
              "      <td>{'columntransformer__geo__n_clusters': 10, 'xg...</td>\n",
              "      <td>-0.39753</td>\n",
              "      <td>-0.38912</td>\n",
              "      <td>-0.39774</td>\n",
              "      <td>-0.39479</td>\n",
              "      <td>0.00401</td>\n",
              "      <td>3</td>\n",
              "    </tr>\n",
              "    <tr>\n",
              "      <th>2</th>\n",
              "      <td>21.12391</td>\n",
              "      <td>0.48532</td>\n",
              "      <td>0.26296</td>\n",
              "      <td>0.00755</td>\n",
              "      <td>10</td>\n",
              "      <td>0.10000</td>\n",
              "      <td>10</td>\n",
              "      <td>{'columntransformer__geo__n_clusters': 10, 'xg...</td>\n",
              "      <td>-0.39830</td>\n",
              "      <td>-0.38952</td>\n",
              "      <td>-0.39889</td>\n",
              "      <td>-0.39557</td>\n",
              "      <td>0.00428</td>\n",
              "      <td>4</td>\n",
              "    </tr>\n",
              "    <tr>\n",
              "      <th>6</th>\n",
              "      <td>13.41227</td>\n",
              "      <td>0.59055</td>\n",
              "      <td>0.19066</td>\n",
              "      <td>0.01130</td>\n",
              "      <td>15</td>\n",
              "      <td>0.10000</td>\n",
              "      <td>6</td>\n",
              "      <td>{'columntransformer__geo__n_clusters': 15, 'xg...</td>\n",
              "      <td>-0.39919</td>\n",
              "      <td>-0.39062</td>\n",
              "      <td>-0.39730</td>\n",
              "      <td>-0.39570</td>\n",
              "      <td>0.00368</td>\n",
              "      <td>5</td>\n",
              "    </tr>\n",
              "  </tbody>\n",
              "</table>\n",
              "</div>\n",
              "      <button class=\"colab-df-convert\" onclick=\"convertToInteractive('df-5c25fa7b-9882-482b-b972-03bc1e513c6a')\"\n",
              "              title=\"Convert this dataframe to an interactive table.\"\n",
              "              style=\"display:none;\">\n",
              "        \n",
              "  <svg xmlns=\"http://www.w3.org/2000/svg\" height=\"24px\"viewBox=\"0 0 24 24\"\n",
              "       width=\"24px\">\n",
              "    <path d=\"M0 0h24v24H0V0z\" fill=\"none\"/>\n",
              "    <path d=\"M18.56 5.44l.94 2.06.94-2.06 2.06-.94-2.06-.94-.94-2.06-.94 2.06-2.06.94zm-11 1L8.5 8.5l.94-2.06 2.06-.94-2.06-.94L8.5 2.5l-.94 2.06-2.06.94zm10 10l.94 2.06.94-2.06 2.06-.94-2.06-.94-.94-2.06-.94 2.06-2.06.94z\"/><path d=\"M17.41 7.96l-1.37-1.37c-.4-.4-.92-.59-1.43-.59-.52 0-1.04.2-1.43.59L10.3 9.45l-7.72 7.72c-.78.78-.78 2.05 0 2.83L4 21.41c.39.39.9.59 1.41.59.51 0 1.02-.2 1.41-.59l7.78-7.78 2.81-2.81c.8-.78.8-2.07 0-2.86zM5.41 20L4 18.59l7.72-7.72 1.47 1.35L5.41 20z\"/>\n",
              "  </svg>\n",
              "      </button>\n",
              "      \n",
              "  <style>\n",
              "    .colab-df-container {\n",
              "      display:flex;\n",
              "      flex-wrap:wrap;\n",
              "      gap: 12px;\n",
              "    }\n",
              "\n",
              "    .colab-df-convert {\n",
              "      background-color: #E8F0FE;\n",
              "      border: none;\n",
              "      border-radius: 50%;\n",
              "      cursor: pointer;\n",
              "      display: none;\n",
              "      fill: #1967D2;\n",
              "      height: 32px;\n",
              "      padding: 0 0 0 0;\n",
              "      width: 32px;\n",
              "    }\n",
              "\n",
              "    .colab-df-convert:hover {\n",
              "      background-color: #E2EBFA;\n",
              "      box-shadow: 0px 1px 2px rgba(60, 64, 67, 0.3), 0px 1px 3px 1px rgba(60, 64, 67, 0.15);\n",
              "      fill: #174EA6;\n",
              "    }\n",
              "\n",
              "    [theme=dark] .colab-df-convert {\n",
              "      background-color: #3B4455;\n",
              "      fill: #D2E3FC;\n",
              "    }\n",
              "\n",
              "    [theme=dark] .colab-df-convert:hover {\n",
              "      background-color: #434B5C;\n",
              "      box-shadow: 0px 1px 3px 1px rgba(0, 0, 0, 0.15);\n",
              "      filter: drop-shadow(0px 1px 2px rgba(0, 0, 0, 0.3));\n",
              "      fill: #FFFFFF;\n",
              "    }\n",
              "  </style>\n",
              "\n",
              "      <script>\n",
              "        const buttonEl =\n",
              "          document.querySelector('#df-5c25fa7b-9882-482b-b972-03bc1e513c6a button.colab-df-convert');\n",
              "        buttonEl.style.display =\n",
              "          google.colab.kernel.accessAllowed ? 'block' : 'none';\n",
              "\n",
              "        async function convertToInteractive(key) {\n",
              "          const element = document.querySelector('#df-5c25fa7b-9882-482b-b972-03bc1e513c6a');\n",
              "          const dataTable =\n",
              "            await google.colab.kernel.invokeFunction('convertToInteractive',\n",
              "                                                     [key], {});\n",
              "          if (!dataTable) return;\n",
              "\n",
              "          const docLinkHtml = 'Like what you see? Visit the ' +\n",
              "            '<a target=\"_blank\" href=https://colab.research.google.com/notebooks/data_table.ipynb>data table notebook</a>'\n",
              "            + ' to learn more about interactive tables.';\n",
              "          element.innerHTML = '';\n",
              "          dataTable['output_type'] = 'display_data';\n",
              "          await google.colab.output.renderOutput(dataTable, element);\n",
              "          const docLink = document.createElement('div');\n",
              "          docLink.innerHTML = docLinkHtml;\n",
              "          element.appendChild(docLink);\n",
              "        }\n",
              "      </script>\n",
              "    </div>\n",
              "  </div>\n",
              "  "
            ]
          },
          "metadata": {},
          "execution_count": 151
        }
      ],
      "source": [
        "cv_res = pd.DataFrame(xg_grid_search.cv_results_)\n",
        "cv_res.sort_values(by=\"mean_test_score\", ascending=False, inplace=True)\n",
        "cv_res.head()\n"
      ]
    },
    {
      "cell_type": "markdown",
      "metadata": {
        "id": "XNkC99nOOzjR"
      },
      "source": [
        "##### Randomized  search"
      ]
    },
    {
      "cell_type": "code",
      "execution_count": null,
      "metadata": {
        "colab": {
          "base_uri": "https://localhost:8080/",
          "height": 228
        },
        "id": "6V-58W5kOvYL",
        "outputId": "9362eb69-2b84-4e8a-c7a6-eff8e0333c96"
      },
      "outputs": [
        {
          "output_type": "execute_result",
          "data": {
            "text/plain": [
              "RandomizedSearchCV(cv=3,\n",
              "                   estimator=Pipeline(steps=[('columntransformer',\n",
              "                                              ColumnTransformer(transformers=[('num',\n",
              "                                                                               Pipeline(steps=[('simpleimputer',\n",
              "                                                                                                SimpleImputer(strategy='median')),\n",
              "                                                                                               ('standardscaler',\n",
              "                                                                                                StandardScaler())]),\n",
              "                                                                               ['accommodates',\n",
              "                                                                                'bathrooms',\n",
              "                                                                                'number_of_reviews',\n",
              "                                                                                'review_scores_rating',\n",
              "                                                                                'bedrooms',\n",
              "                                                                                'beds',\n",
              "                                                                                'bathrooms',\n",
              "                                                                                'host_response_rate',\n",
              "                                                                                'gap_between_...\n",
              "                   param_distributions={'columntransformer__geo__n_clusters': <scipy.stats._distn_infrastructure.rv_frozen object at 0x7f8e3818f040>,\n",
              "                                        'xgbregressor__learning_rate': <scipy.stats._distn_infrastructure.rv_frozen object at 0x7f8e3802b1c0>,\n",
              "                                        'xgbregressor__max_depth': <scipy.stats._distn_infrastructure.rv_frozen object at 0x7f8e2a7e3160>},\n",
              "                   random_state=42, scoring='neg_root_mean_squared_error')"
            ],
            "text/html": [
              "<style>#sk-83cfe9db-8696-4652-b962-9b68c92a33d3 {color: black;background-color: white;}#sk-83cfe9db-8696-4652-b962-9b68c92a33d3 pre{padding: 0;}#sk-83cfe9db-8696-4652-b962-9b68c92a33d3 div.sk-toggleable {background-color: white;}#sk-83cfe9db-8696-4652-b962-9b68c92a33d3 label.sk-toggleable__label {cursor: pointer;display: block;width: 100%;margin-bottom: 0;padding: 0.3em;box-sizing: border-box;text-align: center;}#sk-83cfe9db-8696-4652-b962-9b68c92a33d3 label.sk-toggleable__label-arrow:before {content: \"▸\";float: left;margin-right: 0.25em;color: #696969;}#sk-83cfe9db-8696-4652-b962-9b68c92a33d3 label.sk-toggleable__label-arrow:hover:before {color: black;}#sk-83cfe9db-8696-4652-b962-9b68c92a33d3 div.sk-estimator:hover label.sk-toggleable__label-arrow:before {color: black;}#sk-83cfe9db-8696-4652-b962-9b68c92a33d3 div.sk-toggleable__content {max-height: 0;max-width: 0;overflow: hidden;text-align: left;background-color: #f0f8ff;}#sk-83cfe9db-8696-4652-b962-9b68c92a33d3 div.sk-toggleable__content pre {margin: 0.2em;color: black;border-radius: 0.25em;background-color: #f0f8ff;}#sk-83cfe9db-8696-4652-b962-9b68c92a33d3 input.sk-toggleable__control:checked~div.sk-toggleable__content {max-height: 200px;max-width: 100%;overflow: auto;}#sk-83cfe9db-8696-4652-b962-9b68c92a33d3 input.sk-toggleable__control:checked~label.sk-toggleable__label-arrow:before {content: \"▾\";}#sk-83cfe9db-8696-4652-b962-9b68c92a33d3 div.sk-estimator input.sk-toggleable__control:checked~label.sk-toggleable__label {background-color: #d4ebff;}#sk-83cfe9db-8696-4652-b962-9b68c92a33d3 div.sk-label input.sk-toggleable__control:checked~label.sk-toggleable__label {background-color: #d4ebff;}#sk-83cfe9db-8696-4652-b962-9b68c92a33d3 input.sk-hidden--visually {border: 0;clip: rect(1px 1px 1px 1px);clip: rect(1px, 1px, 1px, 1px);height: 1px;margin: -1px;overflow: hidden;padding: 0;position: absolute;width: 1px;}#sk-83cfe9db-8696-4652-b962-9b68c92a33d3 div.sk-estimator {font-family: monospace;background-color: #f0f8ff;border: 1px dotted black;border-radius: 0.25em;box-sizing: border-box;margin-bottom: 0.5em;}#sk-83cfe9db-8696-4652-b962-9b68c92a33d3 div.sk-estimator:hover {background-color: #d4ebff;}#sk-83cfe9db-8696-4652-b962-9b68c92a33d3 div.sk-parallel-item::after {content: \"\";width: 100%;border-bottom: 1px solid gray;flex-grow: 1;}#sk-83cfe9db-8696-4652-b962-9b68c92a33d3 div.sk-label:hover label.sk-toggleable__label {background-color: #d4ebff;}#sk-83cfe9db-8696-4652-b962-9b68c92a33d3 div.sk-serial::before {content: \"\";position: absolute;border-left: 1px solid gray;box-sizing: border-box;top: 2em;bottom: 0;left: 50%;}#sk-83cfe9db-8696-4652-b962-9b68c92a33d3 div.sk-serial {display: flex;flex-direction: column;align-items: center;background-color: white;padding-right: 0.2em;padding-left: 0.2em;}#sk-83cfe9db-8696-4652-b962-9b68c92a33d3 div.sk-item {z-index: 1;}#sk-83cfe9db-8696-4652-b962-9b68c92a33d3 div.sk-parallel {display: flex;align-items: stretch;justify-content: center;background-color: white;}#sk-83cfe9db-8696-4652-b962-9b68c92a33d3 div.sk-parallel::before {content: \"\";position: absolute;border-left: 1px solid gray;box-sizing: border-box;top: 2em;bottom: 0;left: 50%;}#sk-83cfe9db-8696-4652-b962-9b68c92a33d3 div.sk-parallel-item {display: flex;flex-direction: column;position: relative;background-color: white;}#sk-83cfe9db-8696-4652-b962-9b68c92a33d3 div.sk-parallel-item:first-child::after {align-self: flex-end;width: 50%;}#sk-83cfe9db-8696-4652-b962-9b68c92a33d3 div.sk-parallel-item:last-child::after {align-self: flex-start;width: 50%;}#sk-83cfe9db-8696-4652-b962-9b68c92a33d3 div.sk-parallel-item:only-child::after {width: 0;}#sk-83cfe9db-8696-4652-b962-9b68c92a33d3 div.sk-dashed-wrapped {border: 1px dashed gray;margin: 0 0.4em 0.5em 0.4em;box-sizing: border-box;padding-bottom: 0.4em;background-color: white;position: relative;}#sk-83cfe9db-8696-4652-b962-9b68c92a33d3 div.sk-label label {font-family: monospace;font-weight: bold;background-color: white;display: inline-block;line-height: 1.2em;}#sk-83cfe9db-8696-4652-b962-9b68c92a33d3 div.sk-label-container {position: relative;z-index: 2;text-align: center;}#sk-83cfe9db-8696-4652-b962-9b68c92a33d3 div.sk-container {/* jupyter's `normalize.less` sets `[hidden] { display: none; }` but bootstrap.min.css set `[hidden] { display: none !important; }` so we also need the `!important` here to be able to override the default hidden behavior on the sphinx rendered scikit-learn.org. See: https://github.com/scikit-learn/scikit-learn/issues/21755 */display: inline-block !important;position: relative;}#sk-83cfe9db-8696-4652-b962-9b68c92a33d3 div.sk-text-repr-fallback {display: none;}</style><div id=\"sk-83cfe9db-8696-4652-b962-9b68c92a33d3\" class=\"sk-top-container\"><div class=\"sk-text-repr-fallback\"><pre>RandomizedSearchCV(cv=3,\n",
              "                   estimator=Pipeline(steps=[(&#x27;columntransformer&#x27;,\n",
              "                                              ColumnTransformer(transformers=[(&#x27;num&#x27;,\n",
              "                                                                               Pipeline(steps=[(&#x27;simpleimputer&#x27;,\n",
              "                                                                                                SimpleImputer(strategy=&#x27;median&#x27;)),\n",
              "                                                                                               (&#x27;standardscaler&#x27;,\n",
              "                                                                                                StandardScaler())]),\n",
              "                                                                               [&#x27;accommodates&#x27;,\n",
              "                                                                                &#x27;bathrooms&#x27;,\n",
              "                                                                                &#x27;number_of_reviews&#x27;,\n",
              "                                                                                &#x27;review_scores_rating&#x27;,\n",
              "                                                                                &#x27;bedrooms&#x27;,\n",
              "                                                                                &#x27;beds&#x27;,\n",
              "                                                                                &#x27;bathrooms&#x27;,\n",
              "                                                                                &#x27;host_response_rate&#x27;,\n",
              "                                                                                &#x27;gap_between_...\n",
              "                   param_distributions={&#x27;columntransformer__geo__n_clusters&#x27;: &lt;scipy.stats._distn_infrastructure.rv_frozen object at 0x7f8e3818f040&gt;,\n",
              "                                        &#x27;xgbregressor__learning_rate&#x27;: &lt;scipy.stats._distn_infrastructure.rv_frozen object at 0x7f8e3802b1c0&gt;,\n",
              "                                        &#x27;xgbregressor__max_depth&#x27;: &lt;scipy.stats._distn_infrastructure.rv_frozen object at 0x7f8e2a7e3160&gt;},\n",
              "                   random_state=42, scoring=&#x27;neg_root_mean_squared_error&#x27;)</pre><b>Please rerun this cell to show the HTML repr or trust the notebook.</b></div><div class=\"sk-container\" hidden><div class=\"sk-item sk-dashed-wrapped\"><div class=\"sk-label-container\"><div class=\"sk-label sk-toggleable\"><input class=\"sk-toggleable__control sk-hidden--visually\" id=\"4d06cf24-143c-4b7a-9f5f-5cac9eb6b2f6\" type=\"checkbox\" ><label for=\"4d06cf24-143c-4b7a-9f5f-5cac9eb6b2f6\" class=\"sk-toggleable__label sk-toggleable__label-arrow\">RandomizedSearchCV</label><div class=\"sk-toggleable__content\"><pre>RandomizedSearchCV(cv=3,\n",
              "                   estimator=Pipeline(steps=[(&#x27;columntransformer&#x27;,\n",
              "                                              ColumnTransformer(transformers=[(&#x27;num&#x27;,\n",
              "                                                                               Pipeline(steps=[(&#x27;simpleimputer&#x27;,\n",
              "                                                                                                SimpleImputer(strategy=&#x27;median&#x27;)),\n",
              "                                                                                               (&#x27;standardscaler&#x27;,\n",
              "                                                                                                StandardScaler())]),\n",
              "                                                                               [&#x27;accommodates&#x27;,\n",
              "                                                                                &#x27;bathrooms&#x27;,\n",
              "                                                                                &#x27;number_of_reviews&#x27;,\n",
              "                                                                                &#x27;review_scores_rating&#x27;,\n",
              "                                                                                &#x27;bedrooms&#x27;,\n",
              "                                                                                &#x27;beds&#x27;,\n",
              "                                                                                &#x27;bathrooms&#x27;,\n",
              "                                                                                &#x27;host_response_rate&#x27;,\n",
              "                                                                                &#x27;gap_between_...\n",
              "                   param_distributions={&#x27;columntransformer__geo__n_clusters&#x27;: &lt;scipy.stats._distn_infrastructure.rv_frozen object at 0x7f8e3818f040&gt;,\n",
              "                                        &#x27;xgbregressor__learning_rate&#x27;: &lt;scipy.stats._distn_infrastructure.rv_frozen object at 0x7f8e3802b1c0&gt;,\n",
              "                                        &#x27;xgbregressor__max_depth&#x27;: &lt;scipy.stats._distn_infrastructure.rv_frozen object at 0x7f8e2a7e3160&gt;},\n",
              "                   random_state=42, scoring=&#x27;neg_root_mean_squared_error&#x27;)</pre></div></div></div><div class=\"sk-parallel\"><div class=\"sk-parallel-item\"><div class=\"sk-item\"><div class=\"sk-serial\"><div class=\"sk-item\"><div class=\"sk-serial\"><div class=\"sk-item sk-dashed-wrapped\"><div class=\"sk-label-container\"><div class=\"sk-label sk-toggleable\"><input class=\"sk-toggleable__control sk-hidden--visually\" id=\"41d17136-178e-4a36-a784-4cdb2414b2d7\" type=\"checkbox\" ><label for=\"41d17136-178e-4a36-a784-4cdb2414b2d7\" class=\"sk-toggleable__label sk-toggleable__label-arrow\">columntransformer: ColumnTransformer</label><div class=\"sk-toggleable__content\"><pre>ColumnTransformer(transformers=[(&#x27;num&#x27;,\n",
              "                                 Pipeline(steps=[(&#x27;simpleimputer&#x27;,\n",
              "                                                  SimpleImputer(strategy=&#x27;median&#x27;)),\n",
              "                                                 (&#x27;standardscaler&#x27;,\n",
              "                                                  StandardScaler())]),\n",
              "                                 [&#x27;accommodates&#x27;, &#x27;bathrooms&#x27;,\n",
              "                                  &#x27;number_of_reviews&#x27;, &#x27;review_scores_rating&#x27;,\n",
              "                                  &#x27;bedrooms&#x27;, &#x27;beds&#x27;, &#x27;bathrooms&#x27;,\n",
              "                                  &#x27;host_response_rate&#x27;,\n",
              "                                  &#x27;gap_between_Hostsince_Firstreview&#x27;,\n",
              "                                  &#x27;gap_between_Hostsince_Lastreview&#x27;]),\n",
              "                                (&#x27;cat&#x27;,\n",
              "                                 Pipe...simpleimputer&#x27;,\n",
              "                                                  SimpleImputer(strategy=&#x27;most_frequent&#x27;)),\n",
              "                                                 (&#x27;onehotencoder&#x27;,\n",
              "                                                  OneHotEncoder(handle_unknown=&#x27;ignore&#x27;))]),\n",
              "                                 [&#x27;property_type&#x27;, &#x27;room_type&#x27;, &#x27;bed_type&#x27;,\n",
              "                                  &#x27;cancellation_policy&#x27;, &#x27;cleaning_fee&#x27;, &#x27;city&#x27;,\n",
              "                                  &#x27;host_has_profile_pic&#x27;,\n",
              "                                  &#x27;host_identity_verified&#x27;,\n",
              "                                  &#x27;instant_bookable&#x27;]),\n",
              "                                (&#x27;geo&#x27;,\n",
              "                                 ClusterSimilarity(n_clusters=6,\n",
              "                                                   random_state=42),\n",
              "                                 [&#x27;latitude&#x27;, &#x27;longitude&#x27;])])</pre></div></div></div><div class=\"sk-parallel\"><div class=\"sk-parallel-item\"><div class=\"sk-item\"><div class=\"sk-label-container\"><div class=\"sk-label sk-toggleable\"><input class=\"sk-toggleable__control sk-hidden--visually\" id=\"acfd7447-7af4-4eba-9bfe-57a2ce21c8b5\" type=\"checkbox\" ><label for=\"acfd7447-7af4-4eba-9bfe-57a2ce21c8b5\" class=\"sk-toggleable__label sk-toggleable__label-arrow\">num</label><div class=\"sk-toggleable__content\"><pre>[&#x27;accommodates&#x27;, &#x27;bathrooms&#x27;, &#x27;number_of_reviews&#x27;, &#x27;review_scores_rating&#x27;, &#x27;bedrooms&#x27;, &#x27;beds&#x27;, &#x27;bathrooms&#x27;, &#x27;host_response_rate&#x27;, &#x27;gap_between_Hostsince_Firstreview&#x27;, &#x27;gap_between_Hostsince_Lastreview&#x27;]</pre></div></div></div><div class=\"sk-serial\"><div class=\"sk-item\"><div class=\"sk-serial\"><div class=\"sk-item\"><div class=\"sk-estimator sk-toggleable\"><input class=\"sk-toggleable__control sk-hidden--visually\" id=\"95dc250a-a79c-49ee-b34e-de4ea55de54f\" type=\"checkbox\" ><label for=\"95dc250a-a79c-49ee-b34e-de4ea55de54f\" class=\"sk-toggleable__label sk-toggleable__label-arrow\">SimpleImputer</label><div class=\"sk-toggleable__content\"><pre>SimpleImputer(strategy=&#x27;median&#x27;)</pre></div></div></div><div class=\"sk-item\"><div class=\"sk-estimator sk-toggleable\"><input class=\"sk-toggleable__control sk-hidden--visually\" id=\"e05fc62e-8520-483b-bed2-a4276ca5d0f4\" type=\"checkbox\" ><label for=\"e05fc62e-8520-483b-bed2-a4276ca5d0f4\" class=\"sk-toggleable__label sk-toggleable__label-arrow\">StandardScaler</label><div class=\"sk-toggleable__content\"><pre>StandardScaler()</pre></div></div></div></div></div></div></div></div><div class=\"sk-parallel-item\"><div class=\"sk-item\"><div class=\"sk-label-container\"><div class=\"sk-label sk-toggleable\"><input class=\"sk-toggleable__control sk-hidden--visually\" id=\"764bc8aa-a516-428e-9d92-3241a4181c9b\" type=\"checkbox\" ><label for=\"764bc8aa-a516-428e-9d92-3241a4181c9b\" class=\"sk-toggleable__label sk-toggleable__label-arrow\">cat</label><div class=\"sk-toggleable__content\"><pre>[&#x27;property_type&#x27;, &#x27;room_type&#x27;, &#x27;bed_type&#x27;, &#x27;cancellation_policy&#x27;, &#x27;cleaning_fee&#x27;, &#x27;city&#x27;, &#x27;host_has_profile_pic&#x27;, &#x27;host_identity_verified&#x27;, &#x27;instant_bookable&#x27;]</pre></div></div></div><div class=\"sk-serial\"><div class=\"sk-item\"><div class=\"sk-serial\"><div class=\"sk-item\"><div class=\"sk-estimator sk-toggleable\"><input class=\"sk-toggleable__control sk-hidden--visually\" id=\"52fc74a6-5537-470f-9ab9-79d61512561c\" type=\"checkbox\" ><label for=\"52fc74a6-5537-470f-9ab9-79d61512561c\" class=\"sk-toggleable__label sk-toggleable__label-arrow\">SimpleImputer</label><div class=\"sk-toggleable__content\"><pre>SimpleImputer(strategy=&#x27;most_frequent&#x27;)</pre></div></div></div><div class=\"sk-item\"><div class=\"sk-estimator sk-toggleable\"><input class=\"sk-toggleable__control sk-hidden--visually\" id=\"aadf75d1-29ef-4744-b0c0-de431cc9db4e\" type=\"checkbox\" ><label for=\"aadf75d1-29ef-4744-b0c0-de431cc9db4e\" class=\"sk-toggleable__label sk-toggleable__label-arrow\">OneHotEncoder</label><div class=\"sk-toggleable__content\"><pre>OneHotEncoder(handle_unknown=&#x27;ignore&#x27;)</pre></div></div></div></div></div></div></div></div><div class=\"sk-parallel-item\"><div class=\"sk-item\"><div class=\"sk-label-container\"><div class=\"sk-label sk-toggleable\"><input class=\"sk-toggleable__control sk-hidden--visually\" id=\"f014ddb8-3cd6-45e3-a033-d64e49494a42\" type=\"checkbox\" ><label for=\"f014ddb8-3cd6-45e3-a033-d64e49494a42\" class=\"sk-toggleable__label sk-toggleable__label-arrow\">geo</label><div class=\"sk-toggleable__content\"><pre>[&#x27;latitude&#x27;, &#x27;longitude&#x27;]</pre></div></div></div><div class=\"sk-serial\"><div class=\"sk-item\"><div class=\"sk-estimator sk-toggleable\"><input class=\"sk-toggleable__control sk-hidden--visually\" id=\"4f9ed7ad-8c98-4a30-bb54-c7367fefb796\" type=\"checkbox\" ><label for=\"4f9ed7ad-8c98-4a30-bb54-c7367fefb796\" class=\"sk-toggleable__label sk-toggleable__label-arrow\">ClusterSimilarity</label><div class=\"sk-toggleable__content\"><pre>ClusterSimilarity(n_clusters=6, random_state=42)</pre></div></div></div></div></div></div></div></div><div class=\"sk-item\"><div class=\"sk-estimator sk-toggleable\"><input class=\"sk-toggleable__control sk-hidden--visually\" id=\"d2fc1a29-7119-4509-9a33-c1b1fd979941\" type=\"checkbox\" ><label for=\"d2fc1a29-7119-4509-9a33-c1b1fd979941\" class=\"sk-toggleable__label sk-toggleable__label-arrow\">XGBRegressor</label><div class=\"sk-toggleable__content\"><pre>XGBRegressor(objective=&#x27;reg:squarederror&#x27;)</pre></div></div></div></div></div></div></div></div></div></div></div></div>"
            ]
          },
          "metadata": {},
          "execution_count": 152
        }
      ],
      "source": [
        "from sklearn.model_selection import RandomizedSearchCV\n",
        "from scipy.stats import randint\n",
        "from scipy.stats import loguniform\n",
        "\n",
        "param_distribs = {'columntransformer__geo__n_clusters': randint(low=3, high=30),\n",
        "                  'xgbregressor__max_depth': randint(low=2, high=20),\n",
        "                  'xgbregressor__learning_rate': loguniform(1e-2, 0.2) }\n",
        "\n",
        "xg_rnd_search = RandomizedSearchCV(\n",
        "    xgboost_reg, param_distributions=param_distribs, n_iter=10, cv=3,\n",
        "    scoring='neg_root_mean_squared_error', random_state=42)\n",
        "\n",
        "xg_rnd_search.fit(X_train, y_train)"
      ]
    },
    {
      "cell_type": "code",
      "execution_count": null,
      "metadata": {
        "colab": {
          "base_uri": "https://localhost:8080/"
        },
        "id": "jpP2UL6T2J22",
        "outputId": "60c49ffb-b768-4c9c-bf35-329c60ce515a"
      },
      "outputs": [
        {
          "output_type": "execute_result",
          "data": {
            "text/plain": [
              "{'columntransformer__geo__n_clusters': 26,\n",
              " 'xgbregressor__learning_rate': 0.12106896936002164,\n",
              " 'xgbregressor__max_depth': 7}"
            ]
          },
          "metadata": {},
          "execution_count": 153
        }
      ],
      "source": [
        "xg_rnd_search.best_params_"
      ]
    },
    {
      "cell_type": "code",
      "execution_count": null,
      "metadata": {
        "colab": {
          "base_uri": "https://localhost:8080/",
          "height": 357
        },
        "id": "59Kz21Dw2hiD",
        "outputId": "85130a8b-9e71-4d04-fa43-4ef959260e1f"
      },
      "outputs": [
        {
          "output_type": "execute_result",
          "data": {
            "text/plain": [
              "   mean_fit_time  std_fit_time  mean_score_time  std_score_time  \\\n",
              "5       18.28926       0.46472          0.20755         0.00587   \n",
              "1       17.21525       0.41721          0.22139         0.00232   \n",
              "7       31.05476       0.65093          0.47646         0.01933   \n",
              "3       10.56182       0.07497          0.17216         0.00726   \n",
              "0       35.21599       0.54302          0.65239         0.03873   \n",
              "\n",
              "  param_columntransformer__geo__n_clusters param_xgbregressor__learning_rate  \\\n",
              "5                                       26                           0.12107   \n",
              "1                                       13                           0.10337   \n",
              "7                                       14                           0.06249   \n",
              "3                                       13                           0.13394   \n",
              "0                                        9                           0.10872   \n",
              "\n",
              "  param_xgbregressor__max_depth  \\\n",
              "5                             7   \n",
              "1                             8   \n",
              "7                            13   \n",
              "3                             5   \n",
              "0                            16   \n",
              "\n",
              "                                              params  split0_test_score  \\\n",
              "5  {'columntransformer__geo__n_clusters': 26, 'xg...           -0.39644   \n",
              "1  {'columntransformer__geo__n_clusters': 13, 'xg...           -0.39736   \n",
              "7  {'columntransformer__geo__n_clusters': 14, 'xg...           -0.40017   \n",
              "3  {'columntransformer__geo__n_clusters': 13, 'xg...           -0.40163   \n",
              "0  {'columntransformer__geo__n_clusters': 9, 'xgb...           -0.41476   \n",
              "\n",
              "   split1_test_score  split2_test_score  mean_test_score  std_test_score  \\\n",
              "5           -0.38796           -0.39445         -0.39295         0.00362   \n",
              "1           -0.38855           -0.39610         -0.39400         0.00389   \n",
              "7           -0.39055           -0.39790         -0.39621         0.00411   \n",
              "3           -0.39385           -0.39982         -0.39843         0.00333   \n",
              "0           -0.41129           -0.41592         -0.41399         0.00197   \n",
              "\n",
              "   rank_test_score  \n",
              "5                1  \n",
              "1                2  \n",
              "7                3  \n",
              "3                4  \n",
              "0                5  "
            ],
            "text/html": [
              "\n",
              "  <div id=\"df-4e1a8836-588c-4ceb-88c7-d6cd59ab5772\">\n",
              "    <div class=\"colab-df-container\">\n",
              "      <div>\n",
              "<style scoped>\n",
              "    .dataframe tbody tr th:only-of-type {\n",
              "        vertical-align: middle;\n",
              "    }\n",
              "\n",
              "    .dataframe tbody tr th {\n",
              "        vertical-align: top;\n",
              "    }\n",
              "\n",
              "    .dataframe thead th {\n",
              "        text-align: right;\n",
              "    }\n",
              "</style>\n",
              "<table border=\"1\" class=\"dataframe\">\n",
              "  <thead>\n",
              "    <tr style=\"text-align: right;\">\n",
              "      <th></th>\n",
              "      <th>mean_fit_time</th>\n",
              "      <th>std_fit_time</th>\n",
              "      <th>mean_score_time</th>\n",
              "      <th>std_score_time</th>\n",
              "      <th>param_columntransformer__geo__n_clusters</th>\n",
              "      <th>param_xgbregressor__learning_rate</th>\n",
              "      <th>param_xgbregressor__max_depth</th>\n",
              "      <th>params</th>\n",
              "      <th>split0_test_score</th>\n",
              "      <th>split1_test_score</th>\n",
              "      <th>split2_test_score</th>\n",
              "      <th>mean_test_score</th>\n",
              "      <th>std_test_score</th>\n",
              "      <th>rank_test_score</th>\n",
              "    </tr>\n",
              "  </thead>\n",
              "  <tbody>\n",
              "    <tr>\n",
              "      <th>5</th>\n",
              "      <td>18.28926</td>\n",
              "      <td>0.46472</td>\n",
              "      <td>0.20755</td>\n",
              "      <td>0.00587</td>\n",
              "      <td>26</td>\n",
              "      <td>0.12107</td>\n",
              "      <td>7</td>\n",
              "      <td>{'columntransformer__geo__n_clusters': 26, 'xg...</td>\n",
              "      <td>-0.39644</td>\n",
              "      <td>-0.38796</td>\n",
              "      <td>-0.39445</td>\n",
              "      <td>-0.39295</td>\n",
              "      <td>0.00362</td>\n",
              "      <td>1</td>\n",
              "    </tr>\n",
              "    <tr>\n",
              "      <th>1</th>\n",
              "      <td>17.21525</td>\n",
              "      <td>0.41721</td>\n",
              "      <td>0.22139</td>\n",
              "      <td>0.00232</td>\n",
              "      <td>13</td>\n",
              "      <td>0.10337</td>\n",
              "      <td>8</td>\n",
              "      <td>{'columntransformer__geo__n_clusters': 13, 'xg...</td>\n",
              "      <td>-0.39736</td>\n",
              "      <td>-0.38855</td>\n",
              "      <td>-0.39610</td>\n",
              "      <td>-0.39400</td>\n",
              "      <td>0.00389</td>\n",
              "      <td>2</td>\n",
              "    </tr>\n",
              "    <tr>\n",
              "      <th>7</th>\n",
              "      <td>31.05476</td>\n",
              "      <td>0.65093</td>\n",
              "      <td>0.47646</td>\n",
              "      <td>0.01933</td>\n",
              "      <td>14</td>\n",
              "      <td>0.06249</td>\n",
              "      <td>13</td>\n",
              "      <td>{'columntransformer__geo__n_clusters': 14, 'xg...</td>\n",
              "      <td>-0.40017</td>\n",
              "      <td>-0.39055</td>\n",
              "      <td>-0.39790</td>\n",
              "      <td>-0.39621</td>\n",
              "      <td>0.00411</td>\n",
              "      <td>3</td>\n",
              "    </tr>\n",
              "    <tr>\n",
              "      <th>3</th>\n",
              "      <td>10.56182</td>\n",
              "      <td>0.07497</td>\n",
              "      <td>0.17216</td>\n",
              "      <td>0.00726</td>\n",
              "      <td>13</td>\n",
              "      <td>0.13394</td>\n",
              "      <td>5</td>\n",
              "      <td>{'columntransformer__geo__n_clusters': 13, 'xg...</td>\n",
              "      <td>-0.40163</td>\n",
              "      <td>-0.39385</td>\n",
              "      <td>-0.39982</td>\n",
              "      <td>-0.39843</td>\n",
              "      <td>0.00333</td>\n",
              "      <td>4</td>\n",
              "    </tr>\n",
              "    <tr>\n",
              "      <th>0</th>\n",
              "      <td>35.21599</td>\n",
              "      <td>0.54302</td>\n",
              "      <td>0.65239</td>\n",
              "      <td>0.03873</td>\n",
              "      <td>9</td>\n",
              "      <td>0.10872</td>\n",
              "      <td>16</td>\n",
              "      <td>{'columntransformer__geo__n_clusters': 9, 'xgb...</td>\n",
              "      <td>-0.41476</td>\n",
              "      <td>-0.41129</td>\n",
              "      <td>-0.41592</td>\n",
              "      <td>-0.41399</td>\n",
              "      <td>0.00197</td>\n",
              "      <td>5</td>\n",
              "    </tr>\n",
              "  </tbody>\n",
              "</table>\n",
              "</div>\n",
              "      <button class=\"colab-df-convert\" onclick=\"convertToInteractive('df-4e1a8836-588c-4ceb-88c7-d6cd59ab5772')\"\n",
              "              title=\"Convert this dataframe to an interactive table.\"\n",
              "              style=\"display:none;\">\n",
              "        \n",
              "  <svg xmlns=\"http://www.w3.org/2000/svg\" height=\"24px\"viewBox=\"0 0 24 24\"\n",
              "       width=\"24px\">\n",
              "    <path d=\"M0 0h24v24H0V0z\" fill=\"none\"/>\n",
              "    <path d=\"M18.56 5.44l.94 2.06.94-2.06 2.06-.94-2.06-.94-.94-2.06-.94 2.06-2.06.94zm-11 1L8.5 8.5l.94-2.06 2.06-.94-2.06-.94L8.5 2.5l-.94 2.06-2.06.94zm10 10l.94 2.06.94-2.06 2.06-.94-2.06-.94-.94-2.06-.94 2.06-2.06.94z\"/><path d=\"M17.41 7.96l-1.37-1.37c-.4-.4-.92-.59-1.43-.59-.52 0-1.04.2-1.43.59L10.3 9.45l-7.72 7.72c-.78.78-.78 2.05 0 2.83L4 21.41c.39.39.9.59 1.41.59.51 0 1.02-.2 1.41-.59l7.78-7.78 2.81-2.81c.8-.78.8-2.07 0-2.86zM5.41 20L4 18.59l7.72-7.72 1.47 1.35L5.41 20z\"/>\n",
              "  </svg>\n",
              "      </button>\n",
              "      \n",
              "  <style>\n",
              "    .colab-df-container {\n",
              "      display:flex;\n",
              "      flex-wrap:wrap;\n",
              "      gap: 12px;\n",
              "    }\n",
              "\n",
              "    .colab-df-convert {\n",
              "      background-color: #E8F0FE;\n",
              "      border: none;\n",
              "      border-radius: 50%;\n",
              "      cursor: pointer;\n",
              "      display: none;\n",
              "      fill: #1967D2;\n",
              "      height: 32px;\n",
              "      padding: 0 0 0 0;\n",
              "      width: 32px;\n",
              "    }\n",
              "\n",
              "    .colab-df-convert:hover {\n",
              "      background-color: #E2EBFA;\n",
              "      box-shadow: 0px 1px 2px rgba(60, 64, 67, 0.3), 0px 1px 3px 1px rgba(60, 64, 67, 0.15);\n",
              "      fill: #174EA6;\n",
              "    }\n",
              "\n",
              "    [theme=dark] .colab-df-convert {\n",
              "      background-color: #3B4455;\n",
              "      fill: #D2E3FC;\n",
              "    }\n",
              "\n",
              "    [theme=dark] .colab-df-convert:hover {\n",
              "      background-color: #434B5C;\n",
              "      box-shadow: 0px 1px 3px 1px rgba(0, 0, 0, 0.15);\n",
              "      filter: drop-shadow(0px 1px 2px rgba(0, 0, 0, 0.3));\n",
              "      fill: #FFFFFF;\n",
              "    }\n",
              "  </style>\n",
              "\n",
              "      <script>\n",
              "        const buttonEl =\n",
              "          document.querySelector('#df-4e1a8836-588c-4ceb-88c7-d6cd59ab5772 button.colab-df-convert');\n",
              "        buttonEl.style.display =\n",
              "          google.colab.kernel.accessAllowed ? 'block' : 'none';\n",
              "\n",
              "        async function convertToInteractive(key) {\n",
              "          const element = document.querySelector('#df-4e1a8836-588c-4ceb-88c7-d6cd59ab5772');\n",
              "          const dataTable =\n",
              "            await google.colab.kernel.invokeFunction('convertToInteractive',\n",
              "                                                     [key], {});\n",
              "          if (!dataTable) return;\n",
              "\n",
              "          const docLinkHtml = 'Like what you see? Visit the ' +\n",
              "            '<a target=\"_blank\" href=https://colab.research.google.com/notebooks/data_table.ipynb>data table notebook</a>'\n",
              "            + ' to learn more about interactive tables.';\n",
              "          element.innerHTML = '';\n",
              "          dataTable['output_type'] = 'display_data';\n",
              "          await google.colab.output.renderOutput(dataTable, element);\n",
              "          const docLink = document.createElement('div');\n",
              "          docLink.innerHTML = docLinkHtml;\n",
              "          element.appendChild(docLink);\n",
              "        }\n",
              "      </script>\n",
              "    </div>\n",
              "  </div>\n",
              "  "
            ]
          },
          "metadata": {},
          "execution_count": 154
        }
      ],
      "source": [
        "cv_res = pd.DataFrame(xg_rnd_search.cv_results_)\n",
        "cv_res.sort_values(by=\"mean_test_score\", ascending=False, inplace=True)\n",
        "cv_res.head()"
      ]
    },
    {
      "cell_type": "code",
      "execution_count": null,
      "metadata": {
        "id": "KF-WjTpKTJaF"
      },
      "outputs": [],
      "source": []
    },
    {
      "cell_type": "markdown",
      "metadata": {
        "id": "rOJfRf7740_7"
      },
      "source": [
        "##### Halving Grid Search\n"
      ]
    },
    {
      "cell_type": "code",
      "execution_count": null,
      "metadata": {
        "colab": {
          "base_uri": "https://localhost:8080/",
          "height": 288
        },
        "id": "3JvGgqZxiv6L",
        "outputId": "113ebd2c-5206-4c03-95f9-644ea349263a"
      },
      "outputs": [
        {
          "output_type": "stream",
          "name": "stdout",
          "text": [
            "The best parameters are  {'columntransformer__geo__n_clusters': 14, 'xgbregressor__learning_rate': 0.1, 'xgbregressor__max_depth': 6}\n"
          ]
        },
        {
          "output_type": "execute_result",
          "data": {
            "text/plain": [
              "     iter  n_resources param_columntransformer__geo__n_clusters  \\\n",
              "368     4        19683                                       14   \n",
              "365     4        19683                                       12   \n",
              "367     4        19683                                       14   \n",
              "366     4        19683                                       12   \n",
              "359     3         6561                                       14   \n",
              "\n",
              "    param_xgbregressor__learning_rate param_xgbregressor__max_depth  \\\n",
              "368                           0.10000                             6   \n",
              "365                           0.10000                             6   \n",
              "367                           0.10000                             4   \n",
              "366                           0.10000                             4   \n",
              "359                           0.10000                             6   \n",
              "\n",
              "     mean_test_score  \n",
              "368         -0.40417  \n",
              "365         -0.40529  \n",
              "367         -0.40962  \n",
              "366         -0.40963  \n",
              "359         -0.42714  "
            ],
            "text/html": [
              "\n",
              "  <div id=\"df-5cfa54f7-2b1c-44c7-9b91-3d64753a617c\">\n",
              "    <div class=\"colab-df-container\">\n",
              "      <div>\n",
              "<style scoped>\n",
              "    .dataframe tbody tr th:only-of-type {\n",
              "        vertical-align: middle;\n",
              "    }\n",
              "\n",
              "    .dataframe tbody tr th {\n",
              "        vertical-align: top;\n",
              "    }\n",
              "\n",
              "    .dataframe thead th {\n",
              "        text-align: right;\n",
              "    }\n",
              "</style>\n",
              "<table border=\"1\" class=\"dataframe\">\n",
              "  <thead>\n",
              "    <tr style=\"text-align: right;\">\n",
              "      <th></th>\n",
              "      <th>iter</th>\n",
              "      <th>n_resources</th>\n",
              "      <th>param_columntransformer__geo__n_clusters</th>\n",
              "      <th>param_xgbregressor__learning_rate</th>\n",
              "      <th>param_xgbregressor__max_depth</th>\n",
              "      <th>mean_test_score</th>\n",
              "    </tr>\n",
              "  </thead>\n",
              "  <tbody>\n",
              "    <tr>\n",
              "      <th>368</th>\n",
              "      <td>4</td>\n",
              "      <td>19683</td>\n",
              "      <td>14</td>\n",
              "      <td>0.10000</td>\n",
              "      <td>6</td>\n",
              "      <td>-0.40417</td>\n",
              "    </tr>\n",
              "    <tr>\n",
              "      <th>365</th>\n",
              "      <td>4</td>\n",
              "      <td>19683</td>\n",
              "      <td>12</td>\n",
              "      <td>0.10000</td>\n",
              "      <td>6</td>\n",
              "      <td>-0.40529</td>\n",
              "    </tr>\n",
              "    <tr>\n",
              "      <th>367</th>\n",
              "      <td>4</td>\n",
              "      <td>19683</td>\n",
              "      <td>14</td>\n",
              "      <td>0.10000</td>\n",
              "      <td>4</td>\n",
              "      <td>-0.40962</td>\n",
              "    </tr>\n",
              "    <tr>\n",
              "      <th>366</th>\n",
              "      <td>4</td>\n",
              "      <td>19683</td>\n",
              "      <td>12</td>\n",
              "      <td>0.10000</td>\n",
              "      <td>4</td>\n",
              "      <td>-0.40963</td>\n",
              "    </tr>\n",
              "    <tr>\n",
              "      <th>359</th>\n",
              "      <td>3</td>\n",
              "      <td>6561</td>\n",
              "      <td>14</td>\n",
              "      <td>0.10000</td>\n",
              "      <td>6</td>\n",
              "      <td>-0.42714</td>\n",
              "    </tr>\n",
              "  </tbody>\n",
              "</table>\n",
              "</div>\n",
              "      <button class=\"colab-df-convert\" onclick=\"convertToInteractive('df-5cfa54f7-2b1c-44c7-9b91-3d64753a617c')\"\n",
              "              title=\"Convert this dataframe to an interactive table.\"\n",
              "              style=\"display:none;\">\n",
              "        \n",
              "  <svg xmlns=\"http://www.w3.org/2000/svg\" height=\"24px\"viewBox=\"0 0 24 24\"\n",
              "       width=\"24px\">\n",
              "    <path d=\"M0 0h24v24H0V0z\" fill=\"none\"/>\n",
              "    <path d=\"M18.56 5.44l.94 2.06.94-2.06 2.06-.94-2.06-.94-.94-2.06-.94 2.06-2.06.94zm-11 1L8.5 8.5l.94-2.06 2.06-.94-2.06-.94L8.5 2.5l-.94 2.06-2.06.94zm10 10l.94 2.06.94-2.06 2.06-.94-2.06-.94-.94-2.06-.94 2.06-2.06.94z\"/><path d=\"M17.41 7.96l-1.37-1.37c-.4-.4-.92-.59-1.43-.59-.52 0-1.04.2-1.43.59L10.3 9.45l-7.72 7.72c-.78.78-.78 2.05 0 2.83L4 21.41c.39.39.9.59 1.41.59.51 0 1.02-.2 1.41-.59l7.78-7.78 2.81-2.81c.8-.78.8-2.07 0-2.86zM5.41 20L4 18.59l7.72-7.72 1.47 1.35L5.41 20z\"/>\n",
              "  </svg>\n",
              "      </button>\n",
              "      \n",
              "  <style>\n",
              "    .colab-df-container {\n",
              "      display:flex;\n",
              "      flex-wrap:wrap;\n",
              "      gap: 12px;\n",
              "    }\n",
              "\n",
              "    .colab-df-convert {\n",
              "      background-color: #E8F0FE;\n",
              "      border: none;\n",
              "      border-radius: 50%;\n",
              "      cursor: pointer;\n",
              "      display: none;\n",
              "      fill: #1967D2;\n",
              "      height: 32px;\n",
              "      padding: 0 0 0 0;\n",
              "      width: 32px;\n",
              "    }\n",
              "\n",
              "    .colab-df-convert:hover {\n",
              "      background-color: #E2EBFA;\n",
              "      box-shadow: 0px 1px 2px rgba(60, 64, 67, 0.3), 0px 1px 3px 1px rgba(60, 64, 67, 0.15);\n",
              "      fill: #174EA6;\n",
              "    }\n",
              "\n",
              "    [theme=dark] .colab-df-convert {\n",
              "      background-color: #3B4455;\n",
              "      fill: #D2E3FC;\n",
              "    }\n",
              "\n",
              "    [theme=dark] .colab-df-convert:hover {\n",
              "      background-color: #434B5C;\n",
              "      box-shadow: 0px 1px 3px 1px rgba(0, 0, 0, 0.15);\n",
              "      filter: drop-shadow(0px 1px 2px rgba(0, 0, 0, 0.3));\n",
              "      fill: #FFFFFF;\n",
              "    }\n",
              "  </style>\n",
              "\n",
              "      <script>\n",
              "        const buttonEl =\n",
              "          document.querySelector('#df-5cfa54f7-2b1c-44c7-9b91-3d64753a617c button.colab-df-convert');\n",
              "        buttonEl.style.display =\n",
              "          google.colab.kernel.accessAllowed ? 'block' : 'none';\n",
              "\n",
              "        async function convertToInteractive(key) {\n",
              "          const element = document.querySelector('#df-5cfa54f7-2b1c-44c7-9b91-3d64753a617c');\n",
              "          const dataTable =\n",
              "            await google.colab.kernel.invokeFunction('convertToInteractive',\n",
              "                                                     [key], {});\n",
              "          if (!dataTable) return;\n",
              "\n",
              "          const docLinkHtml = 'Like what you see? Visit the ' +\n",
              "            '<a target=\"_blank\" href=https://colab.research.google.com/notebooks/data_table.ipynb>data table notebook</a>'\n",
              "            + ' to learn more about interactive tables.';\n",
              "          element.innerHTML = '';\n",
              "          dataTable['output_type'] = 'display_data';\n",
              "          await google.colab.output.renderOutput(dataTable, element);\n",
              "          const docLink = document.createElement('div');\n",
              "          docLink.innerHTML = docLinkHtml;\n",
              "          element.appendChild(docLink);\n",
              "        }\n",
              "      </script>\n",
              "    </div>\n",
              "  </div>\n",
              "  "
            ]
          },
          "metadata": {},
          "execution_count": 155
        }
      ],
      "source": [
        "\n",
        "from sklearn.experimental import enable_halving_search_cv\n",
        "from sklearn.model_selection import HalvingGridSearchCV\n",
        "\n",
        "param_grid = [\n",
        "    {'columntransformer__geo__n_clusters': np.arange(2, 15, 2),\n",
        "     'xgbregressor__max_depth': np.arange(2, 15, 2),\n",
        "     'xgbregressor__learning_rate': np.logspace(-2, 0, 5)\n",
        "     },\n",
        "    ]\n",
        "xg_halving_grid_search = HalvingGridSearchCV(xgboost_reg, param_grid, cv=3,\n",
        "                                    min_resources='exhaust', # use all data in the last round, start with as needed\n",
        "                                    scoring='neg_root_mean_squared_error')\n",
        "xg_halving_grid_search.fit(X_train, y_train)\n",
        "print('The best parameters are ', xg_halving_grid_search.best_params_)\n",
        "\n",
        "halving_grid_cv_res = pd.DataFrame(xg_halving_grid_search.cv_results_)  # convert to DF for convenience\n",
        "\n",
        "halving_grid_cv_res.sort_values(by=['iter', 'mean_test_score'], ascending=False, inplace=True)\n",
        "halving_grid_cv_res.filter(regex = '(iter|^param_|mean_test_score|n_resources)', axis=1).head()\n"
      ]
    },
    {
      "cell_type": "code",
      "execution_count": null,
      "metadata": {
        "colab": {
          "base_uri": "https://localhost:8080/"
        },
        "id": "TDoPT2Ycy4UJ",
        "outputId": "0a451fcd-5b9a-473c-a18c-83c1666d2905"
      },
      "outputs": [
        {
          "output_type": "execute_result",
          "data": {
            "text/plain": [
              "{'columntransformer__geo__n_clusters': 26,\n",
              " 'xgbregressor__learning_rate': 0.12106896936002164,\n",
              " 'xgbregressor__max_depth': 7}"
            ]
          },
          "metadata": {},
          "execution_count": 156
        }
      ],
      "source": [
        "xg_rnd_search.best_params_"
      ]
    },
    {
      "cell_type": "code",
      "execution_count": null,
      "metadata": {
        "colab": {
          "base_uri": "https://localhost:8080/",
          "height": 227
        },
        "id": "norestwL8sK8",
        "outputId": "9e78d5ac-2873-4e5e-c692-be8ef1cded9a"
      },
      "outputs": [
        {
          "output_type": "execute_result",
          "data": {
            "text/plain": [
              "Pipeline(steps=[('columntransformer',\n",
              "                 ColumnTransformer(transformers=[('num',\n",
              "                                                  Pipeline(steps=[('simpleimputer',\n",
              "                                                                   SimpleImputer(strategy='median')),\n",
              "                                                                  ('standardscaler',\n",
              "                                                                   StandardScaler())]),\n",
              "                                                  ['accommodates', 'bathrooms',\n",
              "                                                   'number_of_reviews',\n",
              "                                                   'review_scores_rating',\n",
              "                                                   'bedrooms', 'beds',\n",
              "                                                   'bathrooms',\n",
              "                                                   'host_response_rate',\n",
              "                                                   'gap_between_Hostsince_Firstreview',\n",
              "                                                   'gap_betwee...\n",
              "                                                                   OneHotEncoder(handle_unknown='ignore'))]),\n",
              "                                                  ['property_type', 'room_type',\n",
              "                                                   'bed_type',\n",
              "                                                   'cancellation_policy',\n",
              "                                                   'cleaning_fee', 'city',\n",
              "                                                   'host_has_profile_pic',\n",
              "                                                   'host_identity_verified',\n",
              "                                                   'instant_bookable']),\n",
              "                                                 ('geo',\n",
              "                                                  ClusterSimilarity(n_clusters=26,\n",
              "                                                                    random_state=42),\n",
              "                                                  ['latitude', 'longitude'])])),\n",
              "                ('xgbregressor',\n",
              "                 XGBRegressor(learning_rate=0.12106896936002164, max_depth=7,\n",
              "                              objective='reg:squarederror'))])"
            ],
            "text/html": [
              "<style>#sk-3fb19fec-9d7a-44f3-8e65-31c825bb5859 {color: black;background-color: white;}#sk-3fb19fec-9d7a-44f3-8e65-31c825bb5859 pre{padding: 0;}#sk-3fb19fec-9d7a-44f3-8e65-31c825bb5859 div.sk-toggleable {background-color: white;}#sk-3fb19fec-9d7a-44f3-8e65-31c825bb5859 label.sk-toggleable__label {cursor: pointer;display: block;width: 100%;margin-bottom: 0;padding: 0.3em;box-sizing: border-box;text-align: center;}#sk-3fb19fec-9d7a-44f3-8e65-31c825bb5859 label.sk-toggleable__label-arrow:before {content: \"▸\";float: left;margin-right: 0.25em;color: #696969;}#sk-3fb19fec-9d7a-44f3-8e65-31c825bb5859 label.sk-toggleable__label-arrow:hover:before {color: black;}#sk-3fb19fec-9d7a-44f3-8e65-31c825bb5859 div.sk-estimator:hover label.sk-toggleable__label-arrow:before {color: black;}#sk-3fb19fec-9d7a-44f3-8e65-31c825bb5859 div.sk-toggleable__content {max-height: 0;max-width: 0;overflow: hidden;text-align: left;background-color: #f0f8ff;}#sk-3fb19fec-9d7a-44f3-8e65-31c825bb5859 div.sk-toggleable__content pre {margin: 0.2em;color: black;border-radius: 0.25em;background-color: #f0f8ff;}#sk-3fb19fec-9d7a-44f3-8e65-31c825bb5859 input.sk-toggleable__control:checked~div.sk-toggleable__content {max-height: 200px;max-width: 100%;overflow: auto;}#sk-3fb19fec-9d7a-44f3-8e65-31c825bb5859 input.sk-toggleable__control:checked~label.sk-toggleable__label-arrow:before {content: \"▾\";}#sk-3fb19fec-9d7a-44f3-8e65-31c825bb5859 div.sk-estimator input.sk-toggleable__control:checked~label.sk-toggleable__label {background-color: #d4ebff;}#sk-3fb19fec-9d7a-44f3-8e65-31c825bb5859 div.sk-label input.sk-toggleable__control:checked~label.sk-toggleable__label {background-color: #d4ebff;}#sk-3fb19fec-9d7a-44f3-8e65-31c825bb5859 input.sk-hidden--visually {border: 0;clip: rect(1px 1px 1px 1px);clip: rect(1px, 1px, 1px, 1px);height: 1px;margin: -1px;overflow: hidden;padding: 0;position: absolute;width: 1px;}#sk-3fb19fec-9d7a-44f3-8e65-31c825bb5859 div.sk-estimator {font-family: monospace;background-color: #f0f8ff;border: 1px dotted black;border-radius: 0.25em;box-sizing: border-box;margin-bottom: 0.5em;}#sk-3fb19fec-9d7a-44f3-8e65-31c825bb5859 div.sk-estimator:hover {background-color: #d4ebff;}#sk-3fb19fec-9d7a-44f3-8e65-31c825bb5859 div.sk-parallel-item::after {content: \"\";width: 100%;border-bottom: 1px solid gray;flex-grow: 1;}#sk-3fb19fec-9d7a-44f3-8e65-31c825bb5859 div.sk-label:hover label.sk-toggleable__label {background-color: #d4ebff;}#sk-3fb19fec-9d7a-44f3-8e65-31c825bb5859 div.sk-serial::before {content: \"\";position: absolute;border-left: 1px solid gray;box-sizing: border-box;top: 2em;bottom: 0;left: 50%;}#sk-3fb19fec-9d7a-44f3-8e65-31c825bb5859 div.sk-serial {display: flex;flex-direction: column;align-items: center;background-color: white;padding-right: 0.2em;padding-left: 0.2em;}#sk-3fb19fec-9d7a-44f3-8e65-31c825bb5859 div.sk-item {z-index: 1;}#sk-3fb19fec-9d7a-44f3-8e65-31c825bb5859 div.sk-parallel {display: flex;align-items: stretch;justify-content: center;background-color: white;}#sk-3fb19fec-9d7a-44f3-8e65-31c825bb5859 div.sk-parallel::before {content: \"\";position: absolute;border-left: 1px solid gray;box-sizing: border-box;top: 2em;bottom: 0;left: 50%;}#sk-3fb19fec-9d7a-44f3-8e65-31c825bb5859 div.sk-parallel-item {display: flex;flex-direction: column;position: relative;background-color: white;}#sk-3fb19fec-9d7a-44f3-8e65-31c825bb5859 div.sk-parallel-item:first-child::after {align-self: flex-end;width: 50%;}#sk-3fb19fec-9d7a-44f3-8e65-31c825bb5859 div.sk-parallel-item:last-child::after {align-self: flex-start;width: 50%;}#sk-3fb19fec-9d7a-44f3-8e65-31c825bb5859 div.sk-parallel-item:only-child::after {width: 0;}#sk-3fb19fec-9d7a-44f3-8e65-31c825bb5859 div.sk-dashed-wrapped {border: 1px dashed gray;margin: 0 0.4em 0.5em 0.4em;box-sizing: border-box;padding-bottom: 0.4em;background-color: white;position: relative;}#sk-3fb19fec-9d7a-44f3-8e65-31c825bb5859 div.sk-label label {font-family: monospace;font-weight: bold;background-color: white;display: inline-block;line-height: 1.2em;}#sk-3fb19fec-9d7a-44f3-8e65-31c825bb5859 div.sk-label-container {position: relative;z-index: 2;text-align: center;}#sk-3fb19fec-9d7a-44f3-8e65-31c825bb5859 div.sk-container {/* jupyter's `normalize.less` sets `[hidden] { display: none; }` but bootstrap.min.css set `[hidden] { display: none !important; }` so we also need the `!important` here to be able to override the default hidden behavior on the sphinx rendered scikit-learn.org. See: https://github.com/scikit-learn/scikit-learn/issues/21755 */display: inline-block !important;position: relative;}#sk-3fb19fec-9d7a-44f3-8e65-31c825bb5859 div.sk-text-repr-fallback {display: none;}</style><div id=\"sk-3fb19fec-9d7a-44f3-8e65-31c825bb5859\" class=\"sk-top-container\"><div class=\"sk-text-repr-fallback\"><pre>Pipeline(steps=[(&#x27;columntransformer&#x27;,\n",
              "                 ColumnTransformer(transformers=[(&#x27;num&#x27;,\n",
              "                                                  Pipeline(steps=[(&#x27;simpleimputer&#x27;,\n",
              "                                                                   SimpleImputer(strategy=&#x27;median&#x27;)),\n",
              "                                                                  (&#x27;standardscaler&#x27;,\n",
              "                                                                   StandardScaler())]),\n",
              "                                                  [&#x27;accommodates&#x27;, &#x27;bathrooms&#x27;,\n",
              "                                                   &#x27;number_of_reviews&#x27;,\n",
              "                                                   &#x27;review_scores_rating&#x27;,\n",
              "                                                   &#x27;bedrooms&#x27;, &#x27;beds&#x27;,\n",
              "                                                   &#x27;bathrooms&#x27;,\n",
              "                                                   &#x27;host_response_rate&#x27;,\n",
              "                                                   &#x27;gap_between_Hostsince_Firstreview&#x27;,\n",
              "                                                   &#x27;gap_betwee...\n",
              "                                                                   OneHotEncoder(handle_unknown=&#x27;ignore&#x27;))]),\n",
              "                                                  [&#x27;property_type&#x27;, &#x27;room_type&#x27;,\n",
              "                                                   &#x27;bed_type&#x27;,\n",
              "                                                   &#x27;cancellation_policy&#x27;,\n",
              "                                                   &#x27;cleaning_fee&#x27;, &#x27;city&#x27;,\n",
              "                                                   &#x27;host_has_profile_pic&#x27;,\n",
              "                                                   &#x27;host_identity_verified&#x27;,\n",
              "                                                   &#x27;instant_bookable&#x27;]),\n",
              "                                                 (&#x27;geo&#x27;,\n",
              "                                                  ClusterSimilarity(n_clusters=26,\n",
              "                                                                    random_state=42),\n",
              "                                                  [&#x27;latitude&#x27;, &#x27;longitude&#x27;])])),\n",
              "                (&#x27;xgbregressor&#x27;,\n",
              "                 XGBRegressor(learning_rate=0.12106896936002164, max_depth=7,\n",
              "                              objective=&#x27;reg:squarederror&#x27;))])</pre><b>Please rerun this cell to show the HTML repr or trust the notebook.</b></div><div class=\"sk-container\" hidden><div class=\"sk-item sk-dashed-wrapped\"><div class=\"sk-label-container\"><div class=\"sk-label sk-toggleable\"><input class=\"sk-toggleable__control sk-hidden--visually\" id=\"b37f8fc4-bf92-4bae-af10-04c18b3a2352\" type=\"checkbox\" ><label for=\"b37f8fc4-bf92-4bae-af10-04c18b3a2352\" class=\"sk-toggleable__label sk-toggleable__label-arrow\">Pipeline</label><div class=\"sk-toggleable__content\"><pre>Pipeline(steps=[(&#x27;columntransformer&#x27;,\n",
              "                 ColumnTransformer(transformers=[(&#x27;num&#x27;,\n",
              "                                                  Pipeline(steps=[(&#x27;simpleimputer&#x27;,\n",
              "                                                                   SimpleImputer(strategy=&#x27;median&#x27;)),\n",
              "                                                                  (&#x27;standardscaler&#x27;,\n",
              "                                                                   StandardScaler())]),\n",
              "                                                  [&#x27;accommodates&#x27;, &#x27;bathrooms&#x27;,\n",
              "                                                   &#x27;number_of_reviews&#x27;,\n",
              "                                                   &#x27;review_scores_rating&#x27;,\n",
              "                                                   &#x27;bedrooms&#x27;, &#x27;beds&#x27;,\n",
              "                                                   &#x27;bathrooms&#x27;,\n",
              "                                                   &#x27;host_response_rate&#x27;,\n",
              "                                                   &#x27;gap_between_Hostsince_Firstreview&#x27;,\n",
              "                                                   &#x27;gap_betwee...\n",
              "                                                                   OneHotEncoder(handle_unknown=&#x27;ignore&#x27;))]),\n",
              "                                                  [&#x27;property_type&#x27;, &#x27;room_type&#x27;,\n",
              "                                                   &#x27;bed_type&#x27;,\n",
              "                                                   &#x27;cancellation_policy&#x27;,\n",
              "                                                   &#x27;cleaning_fee&#x27;, &#x27;city&#x27;,\n",
              "                                                   &#x27;host_has_profile_pic&#x27;,\n",
              "                                                   &#x27;host_identity_verified&#x27;,\n",
              "                                                   &#x27;instant_bookable&#x27;]),\n",
              "                                                 (&#x27;geo&#x27;,\n",
              "                                                  ClusterSimilarity(n_clusters=26,\n",
              "                                                                    random_state=42),\n",
              "                                                  [&#x27;latitude&#x27;, &#x27;longitude&#x27;])])),\n",
              "                (&#x27;xgbregressor&#x27;,\n",
              "                 XGBRegressor(learning_rate=0.12106896936002164, max_depth=7,\n",
              "                              objective=&#x27;reg:squarederror&#x27;))])</pre></div></div></div><div class=\"sk-serial\"><div class=\"sk-item sk-dashed-wrapped\"><div class=\"sk-label-container\"><div class=\"sk-label sk-toggleable\"><input class=\"sk-toggleable__control sk-hidden--visually\" id=\"a2a9b1b6-78d1-4301-bd42-24184b16ce4f\" type=\"checkbox\" ><label for=\"a2a9b1b6-78d1-4301-bd42-24184b16ce4f\" class=\"sk-toggleable__label sk-toggleable__label-arrow\">columntransformer: ColumnTransformer</label><div class=\"sk-toggleable__content\"><pre>ColumnTransformer(transformers=[(&#x27;num&#x27;,\n",
              "                                 Pipeline(steps=[(&#x27;simpleimputer&#x27;,\n",
              "                                                  SimpleImputer(strategy=&#x27;median&#x27;)),\n",
              "                                                 (&#x27;standardscaler&#x27;,\n",
              "                                                  StandardScaler())]),\n",
              "                                 [&#x27;accommodates&#x27;, &#x27;bathrooms&#x27;,\n",
              "                                  &#x27;number_of_reviews&#x27;, &#x27;review_scores_rating&#x27;,\n",
              "                                  &#x27;bedrooms&#x27;, &#x27;beds&#x27;, &#x27;bathrooms&#x27;,\n",
              "                                  &#x27;host_response_rate&#x27;,\n",
              "                                  &#x27;gap_between_Hostsince_Firstreview&#x27;,\n",
              "                                  &#x27;gap_between_Hostsince_Lastreview&#x27;]),\n",
              "                                (&#x27;cat&#x27;,\n",
              "                                 Pipe...impleimputer&#x27;,\n",
              "                                                  SimpleImputer(strategy=&#x27;most_frequent&#x27;)),\n",
              "                                                 (&#x27;onehotencoder&#x27;,\n",
              "                                                  OneHotEncoder(handle_unknown=&#x27;ignore&#x27;))]),\n",
              "                                 [&#x27;property_type&#x27;, &#x27;room_type&#x27;, &#x27;bed_type&#x27;,\n",
              "                                  &#x27;cancellation_policy&#x27;, &#x27;cleaning_fee&#x27;, &#x27;city&#x27;,\n",
              "                                  &#x27;host_has_profile_pic&#x27;,\n",
              "                                  &#x27;host_identity_verified&#x27;,\n",
              "                                  &#x27;instant_bookable&#x27;]),\n",
              "                                (&#x27;geo&#x27;,\n",
              "                                 ClusterSimilarity(n_clusters=26,\n",
              "                                                   random_state=42),\n",
              "                                 [&#x27;latitude&#x27;, &#x27;longitude&#x27;])])</pre></div></div></div><div class=\"sk-parallel\"><div class=\"sk-parallel-item\"><div class=\"sk-item\"><div class=\"sk-label-container\"><div class=\"sk-label sk-toggleable\"><input class=\"sk-toggleable__control sk-hidden--visually\" id=\"0b97193c-7bf6-41e2-867c-c70d49bced8d\" type=\"checkbox\" ><label for=\"0b97193c-7bf6-41e2-867c-c70d49bced8d\" class=\"sk-toggleable__label sk-toggleable__label-arrow\">num</label><div class=\"sk-toggleable__content\"><pre>[&#x27;accommodates&#x27;, &#x27;bathrooms&#x27;, &#x27;number_of_reviews&#x27;, &#x27;review_scores_rating&#x27;, &#x27;bedrooms&#x27;, &#x27;beds&#x27;, &#x27;bathrooms&#x27;, &#x27;host_response_rate&#x27;, &#x27;gap_between_Hostsince_Firstreview&#x27;, &#x27;gap_between_Hostsince_Lastreview&#x27;]</pre></div></div></div><div class=\"sk-serial\"><div class=\"sk-item\"><div class=\"sk-serial\"><div class=\"sk-item\"><div class=\"sk-estimator sk-toggleable\"><input class=\"sk-toggleable__control sk-hidden--visually\" id=\"de4c4ad6-f0f1-4d93-a98e-a862d7afedb3\" type=\"checkbox\" ><label for=\"de4c4ad6-f0f1-4d93-a98e-a862d7afedb3\" class=\"sk-toggleable__label sk-toggleable__label-arrow\">SimpleImputer</label><div class=\"sk-toggleable__content\"><pre>SimpleImputer(strategy=&#x27;median&#x27;)</pre></div></div></div><div class=\"sk-item\"><div class=\"sk-estimator sk-toggleable\"><input class=\"sk-toggleable__control sk-hidden--visually\" id=\"e3f0b7b7-3de4-4648-87a5-d71f178998bb\" type=\"checkbox\" ><label for=\"e3f0b7b7-3de4-4648-87a5-d71f178998bb\" class=\"sk-toggleable__label sk-toggleable__label-arrow\">StandardScaler</label><div class=\"sk-toggleable__content\"><pre>StandardScaler()</pre></div></div></div></div></div></div></div></div><div class=\"sk-parallel-item\"><div class=\"sk-item\"><div class=\"sk-label-container\"><div class=\"sk-label sk-toggleable\"><input class=\"sk-toggleable__control sk-hidden--visually\" id=\"80eaa778-cf71-4aec-b5cd-b0b1e158b00b\" type=\"checkbox\" ><label for=\"80eaa778-cf71-4aec-b5cd-b0b1e158b00b\" class=\"sk-toggleable__label sk-toggleable__label-arrow\">cat</label><div class=\"sk-toggleable__content\"><pre>[&#x27;property_type&#x27;, &#x27;room_type&#x27;, &#x27;bed_type&#x27;, &#x27;cancellation_policy&#x27;, &#x27;cleaning_fee&#x27;, &#x27;city&#x27;, &#x27;host_has_profile_pic&#x27;, &#x27;host_identity_verified&#x27;, &#x27;instant_bookable&#x27;]</pre></div></div></div><div class=\"sk-serial\"><div class=\"sk-item\"><div class=\"sk-serial\"><div class=\"sk-item\"><div class=\"sk-estimator sk-toggleable\"><input class=\"sk-toggleable__control sk-hidden--visually\" id=\"16845a58-e586-480d-9354-7df38849b7b8\" type=\"checkbox\" ><label for=\"16845a58-e586-480d-9354-7df38849b7b8\" class=\"sk-toggleable__label sk-toggleable__label-arrow\">SimpleImputer</label><div class=\"sk-toggleable__content\"><pre>SimpleImputer(strategy=&#x27;most_frequent&#x27;)</pre></div></div></div><div class=\"sk-item\"><div class=\"sk-estimator sk-toggleable\"><input class=\"sk-toggleable__control sk-hidden--visually\" id=\"8e5d69b3-cb2b-46d9-9e47-e5a9befce0eb\" type=\"checkbox\" ><label for=\"8e5d69b3-cb2b-46d9-9e47-e5a9befce0eb\" class=\"sk-toggleable__label sk-toggleable__label-arrow\">OneHotEncoder</label><div class=\"sk-toggleable__content\"><pre>OneHotEncoder(handle_unknown=&#x27;ignore&#x27;)</pre></div></div></div></div></div></div></div></div><div class=\"sk-parallel-item\"><div class=\"sk-item\"><div class=\"sk-label-container\"><div class=\"sk-label sk-toggleable\"><input class=\"sk-toggleable__control sk-hidden--visually\" id=\"ea56bd57-b834-4c9d-81d8-de4fb71720d4\" type=\"checkbox\" ><label for=\"ea56bd57-b834-4c9d-81d8-de4fb71720d4\" class=\"sk-toggleable__label sk-toggleable__label-arrow\">geo</label><div class=\"sk-toggleable__content\"><pre>[&#x27;latitude&#x27;, &#x27;longitude&#x27;]</pre></div></div></div><div class=\"sk-serial\"><div class=\"sk-item\"><div class=\"sk-estimator sk-toggleable\"><input class=\"sk-toggleable__control sk-hidden--visually\" id=\"11e77bf8-52a9-4a30-9f6e-07189964ad32\" type=\"checkbox\" ><label for=\"11e77bf8-52a9-4a30-9f6e-07189964ad32\" class=\"sk-toggleable__label sk-toggleable__label-arrow\">ClusterSimilarity</label><div class=\"sk-toggleable__content\"><pre>ClusterSimilarity(n_clusters=26, random_state=42)</pre></div></div></div></div></div></div></div></div><div class=\"sk-item\"><div class=\"sk-estimator sk-toggleable\"><input class=\"sk-toggleable__control sk-hidden--visually\" id=\"64f01aff-c0a6-43e2-ac3d-da26cc6f4af6\" type=\"checkbox\" ><label for=\"64f01aff-c0a6-43e2-ac3d-da26cc6f4af6\" class=\"sk-toggleable__label sk-toggleable__label-arrow\">XGBRegressor</label><div class=\"sk-toggleable__content\"><pre>XGBRegressor(learning_rate=0.12106896936002164, max_depth=7,\n",
              "             objective=&#x27;reg:squarederror&#x27;)</pre></div></div></div></div></div></div></div>"
            ]
          },
          "metadata": {},
          "execution_count": 157
        }
      ],
      "source": [
        "xg_rnd_search.best_estimator_"
      ]
    },
    {
      "cell_type": "markdown",
      "metadata": {
        "id": "WgHBid6z6OBJ"
      },
      "source": [
        "#### Tuning Random Forest Regressor"
      ]
    },
    {
      "cell_type": "markdown",
      "metadata": {
        "id": "1y8lsPNm6ZtL"
      },
      "source": [
        "##### Grid Search"
      ]
    },
    {
      "cell_type": "code",
      "source": [
        "from sklearn.model_selection import GridSearchCV\n",
        "\n",
        "param_grid = [\n",
        "    {'columntransformer__geo__n_clusters': [10, 15],\n",
        "     'randomforestregressor__max_features': [6, 8, 10]},\n",
        "]\n",
        "rd_grid_search = GridSearchCV(forest_reg, param_grid, cv=3,\n",
        "                           scoring='neg_root_mean_squared_error')\n",
        "rd_grid_search.fit(X_train, y_train)\n",
        "\n",
        "rd_grid_search.best_params_\n",
        "cv_res = pd.DataFrame(rd_grid_search.cv_results_)\n",
        "cv_res.sort_values(by=\"mean_test_score\", ascending=False, inplace=True)\n",
        "cv_res.head()"
      ],
      "metadata": {
        "id": "3D5vuyTkvu-j"
      },
      "execution_count": null,
      "outputs": []
    },
    {
      "cell_type": "code",
      "execution_count": null,
      "metadata": {
        "colab": {
          "base_uri": "https://localhost:8080/"
        },
        "id": "LT6KKpHG6Nup",
        "outputId": "586d74bc-6840-43db-8574-fe27a68d5886"
      },
      "outputs": [
        {
          "output_type": "execute_result",
          "data": {
            "text/plain": [
              "{'preprocessing__geo__n_clusters': 15, 'random_forest__max_features': 10}"
            ]
          },
          "metadata": {},
          "execution_count": 159
        }
      ],
      "source": [
        "rd_grid_search.best_params_"
      ]
    },
    {
      "cell_type": "code",
      "source": [
        "cv_res = pd.DataFrame(rd_grid_search.cv_results_)\n",
        "cv_res.sort_values(by=\"mean_test_score\", ascending=False, inplace=True)\n",
        "cv_res.head()"
      ],
      "metadata": {
        "id": "ePmRpCpfYW6x",
        "colab": {
          "base_uri": "https://localhost:8080/",
          "height": 357
        },
        "outputId": "c9eed74d-1c4d-4e99-f2e2-304d653b4b87"
      },
      "execution_count": null,
      "outputs": [
        {
          "output_type": "execute_result",
          "data": {
            "text/plain": [
              "   mean_fit_time  std_fit_time  mean_score_time  std_score_time  \\\n",
              "5        9.39474       0.46219          0.66886         0.03898   \n",
              "4        8.20197       0.34019          0.63961         0.00649   \n",
              "3        6.98999       0.09959          0.66626         0.01900   \n",
              "2        8.50474       0.51046          0.71435         0.04747   \n",
              "1        7.09163       0.31026          0.64679         0.02720   \n",
              "\n",
              "  param_preprocessing__geo__n_clusters param_random_forest__max_features  \\\n",
              "5                                   15                                10   \n",
              "4                                   15                                 8   \n",
              "3                                   15                                 6   \n",
              "2                                   10                                10   \n",
              "1                                   10                                 8   \n",
              "\n",
              "                                              params  split0_test_score  \\\n",
              "5  {'preprocessing__geo__n_clusters': 15, 'random...           -0.40463   \n",
              "4  {'preprocessing__geo__n_clusters': 15, 'random...           -0.40461   \n",
              "3  {'preprocessing__geo__n_clusters': 15, 'random...           -0.40674   \n",
              "2  {'preprocessing__geo__n_clusters': 10, 'random...           -0.40870   \n",
              "1  {'preprocessing__geo__n_clusters': 10, 'random...           -0.40906   \n",
              "\n",
              "   split1_test_score  split2_test_score  mean_test_score  std_test_score  \\\n",
              "5           -0.39498           -0.40139         -0.40033         0.00401   \n",
              "4           -0.39576           -0.40159         -0.40065         0.00368   \n",
              "3           -0.39834           -0.40396         -0.40301         0.00350   \n",
              "2           -0.40073           -0.41033         -0.40659         0.00420   \n",
              "1           -0.40203           -0.41183         -0.40764         0.00413   \n",
              "\n",
              "   rank_test_score  \n",
              "5                1  \n",
              "4                2  \n",
              "3                3  \n",
              "2                4  \n",
              "1                5  "
            ],
            "text/html": [
              "\n",
              "  <div id=\"df-0b11f432-1b37-4e5e-a0a4-0c0bfb389f0e\">\n",
              "    <div class=\"colab-df-container\">\n",
              "      <div>\n",
              "<style scoped>\n",
              "    .dataframe tbody tr th:only-of-type {\n",
              "        vertical-align: middle;\n",
              "    }\n",
              "\n",
              "    .dataframe tbody tr th {\n",
              "        vertical-align: top;\n",
              "    }\n",
              "\n",
              "    .dataframe thead th {\n",
              "        text-align: right;\n",
              "    }\n",
              "</style>\n",
              "<table border=\"1\" class=\"dataframe\">\n",
              "  <thead>\n",
              "    <tr style=\"text-align: right;\">\n",
              "      <th></th>\n",
              "      <th>mean_fit_time</th>\n",
              "      <th>std_fit_time</th>\n",
              "      <th>mean_score_time</th>\n",
              "      <th>std_score_time</th>\n",
              "      <th>param_preprocessing__geo__n_clusters</th>\n",
              "      <th>param_random_forest__max_features</th>\n",
              "      <th>params</th>\n",
              "      <th>split0_test_score</th>\n",
              "      <th>split1_test_score</th>\n",
              "      <th>split2_test_score</th>\n",
              "      <th>mean_test_score</th>\n",
              "      <th>std_test_score</th>\n",
              "      <th>rank_test_score</th>\n",
              "    </tr>\n",
              "  </thead>\n",
              "  <tbody>\n",
              "    <tr>\n",
              "      <th>5</th>\n",
              "      <td>9.39474</td>\n",
              "      <td>0.46219</td>\n",
              "      <td>0.66886</td>\n",
              "      <td>0.03898</td>\n",
              "      <td>15</td>\n",
              "      <td>10</td>\n",
              "      <td>{'preprocessing__geo__n_clusters': 15, 'random...</td>\n",
              "      <td>-0.40463</td>\n",
              "      <td>-0.39498</td>\n",
              "      <td>-0.40139</td>\n",
              "      <td>-0.40033</td>\n",
              "      <td>0.00401</td>\n",
              "      <td>1</td>\n",
              "    </tr>\n",
              "    <tr>\n",
              "      <th>4</th>\n",
              "      <td>8.20197</td>\n",
              "      <td>0.34019</td>\n",
              "      <td>0.63961</td>\n",
              "      <td>0.00649</td>\n",
              "      <td>15</td>\n",
              "      <td>8</td>\n",
              "      <td>{'preprocessing__geo__n_clusters': 15, 'random...</td>\n",
              "      <td>-0.40461</td>\n",
              "      <td>-0.39576</td>\n",
              "      <td>-0.40159</td>\n",
              "      <td>-0.40065</td>\n",
              "      <td>0.00368</td>\n",
              "      <td>2</td>\n",
              "    </tr>\n",
              "    <tr>\n",
              "      <th>3</th>\n",
              "      <td>6.98999</td>\n",
              "      <td>0.09959</td>\n",
              "      <td>0.66626</td>\n",
              "      <td>0.01900</td>\n",
              "      <td>15</td>\n",
              "      <td>6</td>\n",
              "      <td>{'preprocessing__geo__n_clusters': 15, 'random...</td>\n",
              "      <td>-0.40674</td>\n",
              "      <td>-0.39834</td>\n",
              "      <td>-0.40396</td>\n",
              "      <td>-0.40301</td>\n",
              "      <td>0.00350</td>\n",
              "      <td>3</td>\n",
              "    </tr>\n",
              "    <tr>\n",
              "      <th>2</th>\n",
              "      <td>8.50474</td>\n",
              "      <td>0.51046</td>\n",
              "      <td>0.71435</td>\n",
              "      <td>0.04747</td>\n",
              "      <td>10</td>\n",
              "      <td>10</td>\n",
              "      <td>{'preprocessing__geo__n_clusters': 10, 'random...</td>\n",
              "      <td>-0.40870</td>\n",
              "      <td>-0.40073</td>\n",
              "      <td>-0.41033</td>\n",
              "      <td>-0.40659</td>\n",
              "      <td>0.00420</td>\n",
              "      <td>4</td>\n",
              "    </tr>\n",
              "    <tr>\n",
              "      <th>1</th>\n",
              "      <td>7.09163</td>\n",
              "      <td>0.31026</td>\n",
              "      <td>0.64679</td>\n",
              "      <td>0.02720</td>\n",
              "      <td>10</td>\n",
              "      <td>8</td>\n",
              "      <td>{'preprocessing__geo__n_clusters': 10, 'random...</td>\n",
              "      <td>-0.40906</td>\n",
              "      <td>-0.40203</td>\n",
              "      <td>-0.41183</td>\n",
              "      <td>-0.40764</td>\n",
              "      <td>0.00413</td>\n",
              "      <td>5</td>\n",
              "    </tr>\n",
              "  </tbody>\n",
              "</table>\n",
              "</div>\n",
              "      <button class=\"colab-df-convert\" onclick=\"convertToInteractive('df-0b11f432-1b37-4e5e-a0a4-0c0bfb389f0e')\"\n",
              "              title=\"Convert this dataframe to an interactive table.\"\n",
              "              style=\"display:none;\">\n",
              "        \n",
              "  <svg xmlns=\"http://www.w3.org/2000/svg\" height=\"24px\"viewBox=\"0 0 24 24\"\n",
              "       width=\"24px\">\n",
              "    <path d=\"M0 0h24v24H0V0z\" fill=\"none\"/>\n",
              "    <path d=\"M18.56 5.44l.94 2.06.94-2.06 2.06-.94-2.06-.94-.94-2.06-.94 2.06-2.06.94zm-11 1L8.5 8.5l.94-2.06 2.06-.94-2.06-.94L8.5 2.5l-.94 2.06-2.06.94zm10 10l.94 2.06.94-2.06 2.06-.94-2.06-.94-.94-2.06-.94 2.06-2.06.94z\"/><path d=\"M17.41 7.96l-1.37-1.37c-.4-.4-.92-.59-1.43-.59-.52 0-1.04.2-1.43.59L10.3 9.45l-7.72 7.72c-.78.78-.78 2.05 0 2.83L4 21.41c.39.39.9.59 1.41.59.51 0 1.02-.2 1.41-.59l7.78-7.78 2.81-2.81c.8-.78.8-2.07 0-2.86zM5.41 20L4 18.59l7.72-7.72 1.47 1.35L5.41 20z\"/>\n",
              "  </svg>\n",
              "      </button>\n",
              "      \n",
              "  <style>\n",
              "    .colab-df-container {\n",
              "      display:flex;\n",
              "      flex-wrap:wrap;\n",
              "      gap: 12px;\n",
              "    }\n",
              "\n",
              "    .colab-df-convert {\n",
              "      background-color: #E8F0FE;\n",
              "      border: none;\n",
              "      border-radius: 50%;\n",
              "      cursor: pointer;\n",
              "      display: none;\n",
              "      fill: #1967D2;\n",
              "      height: 32px;\n",
              "      padding: 0 0 0 0;\n",
              "      width: 32px;\n",
              "    }\n",
              "\n",
              "    .colab-df-convert:hover {\n",
              "      background-color: #E2EBFA;\n",
              "      box-shadow: 0px 1px 2px rgba(60, 64, 67, 0.3), 0px 1px 3px 1px rgba(60, 64, 67, 0.15);\n",
              "      fill: #174EA6;\n",
              "    }\n",
              "\n",
              "    [theme=dark] .colab-df-convert {\n",
              "      background-color: #3B4455;\n",
              "      fill: #D2E3FC;\n",
              "    }\n",
              "\n",
              "    [theme=dark] .colab-df-convert:hover {\n",
              "      background-color: #434B5C;\n",
              "      box-shadow: 0px 1px 3px 1px rgba(0, 0, 0, 0.15);\n",
              "      filter: drop-shadow(0px 1px 2px rgba(0, 0, 0, 0.3));\n",
              "      fill: #FFFFFF;\n",
              "    }\n",
              "  </style>\n",
              "\n",
              "      <script>\n",
              "        const buttonEl =\n",
              "          document.querySelector('#df-0b11f432-1b37-4e5e-a0a4-0c0bfb389f0e button.colab-df-convert');\n",
              "        buttonEl.style.display =\n",
              "          google.colab.kernel.accessAllowed ? 'block' : 'none';\n",
              "\n",
              "        async function convertToInteractive(key) {\n",
              "          const element = document.querySelector('#df-0b11f432-1b37-4e5e-a0a4-0c0bfb389f0e');\n",
              "          const dataTable =\n",
              "            await google.colab.kernel.invokeFunction('convertToInteractive',\n",
              "                                                     [key], {});\n",
              "          if (!dataTable) return;\n",
              "\n",
              "          const docLinkHtml = 'Like what you see? Visit the ' +\n",
              "            '<a target=\"_blank\" href=https://colab.research.google.com/notebooks/data_table.ipynb>data table notebook</a>'\n",
              "            + ' to learn more about interactive tables.';\n",
              "          element.innerHTML = '';\n",
              "          dataTable['output_type'] = 'display_data';\n",
              "          await google.colab.output.renderOutput(dataTable, element);\n",
              "          const docLink = document.createElement('div');\n",
              "          docLink.innerHTML = docLinkHtml;\n",
              "          element.appendChild(docLink);\n",
              "        }\n",
              "      </script>\n",
              "    </div>\n",
              "  </div>\n",
              "  "
            ]
          },
          "metadata": {},
          "execution_count": 160
        }
      ]
    },
    {
      "cell_type": "markdown",
      "metadata": {
        "id": "c7i9B7x46nO7"
      },
      "source": [
        "##### Random search CV"
      ]
    },
    {
      "cell_type": "code",
      "execution_count": null,
      "metadata": {
        "colab": {
          "base_uri": "https://localhost:8080/",
          "height": 228
        },
        "id": "_eYBkMwj6m9z",
        "outputId": "df2dbfe2-4902-405d-8c33-f2cd7b9550cc"
      },
      "outputs": [
        {
          "output_type": "execute_result",
          "data": {
            "text/plain": [
              "RandomizedSearchCV(cv=3,\n",
              "                   estimator=Pipeline(steps=[('columntransformer',\n",
              "                                              ColumnTransformer(transformers=[('num',\n",
              "                                                                               Pipeline(steps=[('simpleimputer',\n",
              "                                                                                                SimpleImputer(strategy='median')),\n",
              "                                                                                               ('standardscaler',\n",
              "                                                                                                StandardScaler())]),\n",
              "                                                                               ['accommodates',\n",
              "                                                                                'bathrooms',\n",
              "                                                                                'number_of_reviews',\n",
              "                                                                                'review_scores_rating',\n",
              "                                                                                'bedrooms',\n",
              "                                                                                'beds',\n",
              "                                                                                'bathrooms',\n",
              "                                                                                'host_response_rate',\n",
              "                                                                                'gap_between_...\n",
              "                                             ('randomforestregressor',\n",
              "                                              RandomForestRegressor(random_state=42))]),\n",
              "                   param_distributions={'columntransformer__geo__n_clusters': <scipy.stats._distn_infrastructure.rv_frozen object at 0x7f8e293f8130>,\n",
              "                                        'randomforestregressor__max_features': <scipy.stats._distn_infrastructure.rv_frozen object at 0x7f8e293f81f0>},\n",
              "                   random_state=42, scoring='neg_root_mean_squared_error')"
            ],
            "text/html": [
              "<style>#sk-7c5c3f28-10d4-454e-9c6b-9cfe1bf47fd0 {color: black;background-color: white;}#sk-7c5c3f28-10d4-454e-9c6b-9cfe1bf47fd0 pre{padding: 0;}#sk-7c5c3f28-10d4-454e-9c6b-9cfe1bf47fd0 div.sk-toggleable {background-color: white;}#sk-7c5c3f28-10d4-454e-9c6b-9cfe1bf47fd0 label.sk-toggleable__label {cursor: pointer;display: block;width: 100%;margin-bottom: 0;padding: 0.3em;box-sizing: border-box;text-align: center;}#sk-7c5c3f28-10d4-454e-9c6b-9cfe1bf47fd0 label.sk-toggleable__label-arrow:before {content: \"▸\";float: left;margin-right: 0.25em;color: #696969;}#sk-7c5c3f28-10d4-454e-9c6b-9cfe1bf47fd0 label.sk-toggleable__label-arrow:hover:before {color: black;}#sk-7c5c3f28-10d4-454e-9c6b-9cfe1bf47fd0 div.sk-estimator:hover label.sk-toggleable__label-arrow:before {color: black;}#sk-7c5c3f28-10d4-454e-9c6b-9cfe1bf47fd0 div.sk-toggleable__content {max-height: 0;max-width: 0;overflow: hidden;text-align: left;background-color: #f0f8ff;}#sk-7c5c3f28-10d4-454e-9c6b-9cfe1bf47fd0 div.sk-toggleable__content pre {margin: 0.2em;color: black;border-radius: 0.25em;background-color: #f0f8ff;}#sk-7c5c3f28-10d4-454e-9c6b-9cfe1bf47fd0 input.sk-toggleable__control:checked~div.sk-toggleable__content {max-height: 200px;max-width: 100%;overflow: auto;}#sk-7c5c3f28-10d4-454e-9c6b-9cfe1bf47fd0 input.sk-toggleable__control:checked~label.sk-toggleable__label-arrow:before {content: \"▾\";}#sk-7c5c3f28-10d4-454e-9c6b-9cfe1bf47fd0 div.sk-estimator input.sk-toggleable__control:checked~label.sk-toggleable__label {background-color: #d4ebff;}#sk-7c5c3f28-10d4-454e-9c6b-9cfe1bf47fd0 div.sk-label input.sk-toggleable__control:checked~label.sk-toggleable__label {background-color: #d4ebff;}#sk-7c5c3f28-10d4-454e-9c6b-9cfe1bf47fd0 input.sk-hidden--visually {border: 0;clip: rect(1px 1px 1px 1px);clip: rect(1px, 1px, 1px, 1px);height: 1px;margin: -1px;overflow: hidden;padding: 0;position: absolute;width: 1px;}#sk-7c5c3f28-10d4-454e-9c6b-9cfe1bf47fd0 div.sk-estimator {font-family: monospace;background-color: #f0f8ff;border: 1px dotted black;border-radius: 0.25em;box-sizing: border-box;margin-bottom: 0.5em;}#sk-7c5c3f28-10d4-454e-9c6b-9cfe1bf47fd0 div.sk-estimator:hover {background-color: #d4ebff;}#sk-7c5c3f28-10d4-454e-9c6b-9cfe1bf47fd0 div.sk-parallel-item::after {content: \"\";width: 100%;border-bottom: 1px solid gray;flex-grow: 1;}#sk-7c5c3f28-10d4-454e-9c6b-9cfe1bf47fd0 div.sk-label:hover label.sk-toggleable__label {background-color: #d4ebff;}#sk-7c5c3f28-10d4-454e-9c6b-9cfe1bf47fd0 div.sk-serial::before {content: \"\";position: absolute;border-left: 1px solid gray;box-sizing: border-box;top: 2em;bottom: 0;left: 50%;}#sk-7c5c3f28-10d4-454e-9c6b-9cfe1bf47fd0 div.sk-serial {display: flex;flex-direction: column;align-items: center;background-color: white;padding-right: 0.2em;padding-left: 0.2em;}#sk-7c5c3f28-10d4-454e-9c6b-9cfe1bf47fd0 div.sk-item {z-index: 1;}#sk-7c5c3f28-10d4-454e-9c6b-9cfe1bf47fd0 div.sk-parallel {display: flex;align-items: stretch;justify-content: center;background-color: white;}#sk-7c5c3f28-10d4-454e-9c6b-9cfe1bf47fd0 div.sk-parallel::before {content: \"\";position: absolute;border-left: 1px solid gray;box-sizing: border-box;top: 2em;bottom: 0;left: 50%;}#sk-7c5c3f28-10d4-454e-9c6b-9cfe1bf47fd0 div.sk-parallel-item {display: flex;flex-direction: column;position: relative;background-color: white;}#sk-7c5c3f28-10d4-454e-9c6b-9cfe1bf47fd0 div.sk-parallel-item:first-child::after {align-self: flex-end;width: 50%;}#sk-7c5c3f28-10d4-454e-9c6b-9cfe1bf47fd0 div.sk-parallel-item:last-child::after {align-self: flex-start;width: 50%;}#sk-7c5c3f28-10d4-454e-9c6b-9cfe1bf47fd0 div.sk-parallel-item:only-child::after {width: 0;}#sk-7c5c3f28-10d4-454e-9c6b-9cfe1bf47fd0 div.sk-dashed-wrapped {border: 1px dashed gray;margin: 0 0.4em 0.5em 0.4em;box-sizing: border-box;padding-bottom: 0.4em;background-color: white;position: relative;}#sk-7c5c3f28-10d4-454e-9c6b-9cfe1bf47fd0 div.sk-label label {font-family: monospace;font-weight: bold;background-color: white;display: inline-block;line-height: 1.2em;}#sk-7c5c3f28-10d4-454e-9c6b-9cfe1bf47fd0 div.sk-label-container {position: relative;z-index: 2;text-align: center;}#sk-7c5c3f28-10d4-454e-9c6b-9cfe1bf47fd0 div.sk-container {/* jupyter's `normalize.less` sets `[hidden] { display: none; }` but bootstrap.min.css set `[hidden] { display: none !important; }` so we also need the `!important` here to be able to override the default hidden behavior on the sphinx rendered scikit-learn.org. See: https://github.com/scikit-learn/scikit-learn/issues/21755 */display: inline-block !important;position: relative;}#sk-7c5c3f28-10d4-454e-9c6b-9cfe1bf47fd0 div.sk-text-repr-fallback {display: none;}</style><div id=\"sk-7c5c3f28-10d4-454e-9c6b-9cfe1bf47fd0\" class=\"sk-top-container\"><div class=\"sk-text-repr-fallback\"><pre>RandomizedSearchCV(cv=3,\n",
              "                   estimator=Pipeline(steps=[(&#x27;columntransformer&#x27;,\n",
              "                                              ColumnTransformer(transformers=[(&#x27;num&#x27;,\n",
              "                                                                               Pipeline(steps=[(&#x27;simpleimputer&#x27;,\n",
              "                                                                                                SimpleImputer(strategy=&#x27;median&#x27;)),\n",
              "                                                                                               (&#x27;standardscaler&#x27;,\n",
              "                                                                                                StandardScaler())]),\n",
              "                                                                               [&#x27;accommodates&#x27;,\n",
              "                                                                                &#x27;bathrooms&#x27;,\n",
              "                                                                                &#x27;number_of_reviews&#x27;,\n",
              "                                                                                &#x27;review_scores_rating&#x27;,\n",
              "                                                                                &#x27;bedrooms&#x27;,\n",
              "                                                                                &#x27;beds&#x27;,\n",
              "                                                                                &#x27;bathrooms&#x27;,\n",
              "                                                                                &#x27;host_response_rate&#x27;,\n",
              "                                                                                &#x27;gap_between_...\n",
              "                                             (&#x27;randomforestregressor&#x27;,\n",
              "                                              RandomForestRegressor(random_state=42))]),\n",
              "                   param_distributions={&#x27;columntransformer__geo__n_clusters&#x27;: &lt;scipy.stats._distn_infrastructure.rv_frozen object at 0x7f8e293f8130&gt;,\n",
              "                                        &#x27;randomforestregressor__max_features&#x27;: &lt;scipy.stats._distn_infrastructure.rv_frozen object at 0x7f8e293f81f0&gt;},\n",
              "                   random_state=42, scoring=&#x27;neg_root_mean_squared_error&#x27;)</pre><b>Please rerun this cell to show the HTML repr or trust the notebook.</b></div><div class=\"sk-container\" hidden><div class=\"sk-item sk-dashed-wrapped\"><div class=\"sk-label-container\"><div class=\"sk-label sk-toggleable\"><input class=\"sk-toggleable__control sk-hidden--visually\" id=\"c0d11a5f-c2e4-49f5-b221-40eda5a85ef6\" type=\"checkbox\" ><label for=\"c0d11a5f-c2e4-49f5-b221-40eda5a85ef6\" class=\"sk-toggleable__label sk-toggleable__label-arrow\">RandomizedSearchCV</label><div class=\"sk-toggleable__content\"><pre>RandomizedSearchCV(cv=3,\n",
              "                   estimator=Pipeline(steps=[(&#x27;columntransformer&#x27;,\n",
              "                                              ColumnTransformer(transformers=[(&#x27;num&#x27;,\n",
              "                                                                               Pipeline(steps=[(&#x27;simpleimputer&#x27;,\n",
              "                                                                                                SimpleImputer(strategy=&#x27;median&#x27;)),\n",
              "                                                                                               (&#x27;standardscaler&#x27;,\n",
              "                                                                                                StandardScaler())]),\n",
              "                                                                               [&#x27;accommodates&#x27;,\n",
              "                                                                                &#x27;bathrooms&#x27;,\n",
              "                                                                                &#x27;number_of_reviews&#x27;,\n",
              "                                                                                &#x27;review_scores_rating&#x27;,\n",
              "                                                                                &#x27;bedrooms&#x27;,\n",
              "                                                                                &#x27;beds&#x27;,\n",
              "                                                                                &#x27;bathrooms&#x27;,\n",
              "                                                                                &#x27;host_response_rate&#x27;,\n",
              "                                                                                &#x27;gap_between_...\n",
              "                                             (&#x27;randomforestregressor&#x27;,\n",
              "                                              RandomForestRegressor(random_state=42))]),\n",
              "                   param_distributions={&#x27;columntransformer__geo__n_clusters&#x27;: &lt;scipy.stats._distn_infrastructure.rv_frozen object at 0x7f8e293f8130&gt;,\n",
              "                                        &#x27;randomforestregressor__max_features&#x27;: &lt;scipy.stats._distn_infrastructure.rv_frozen object at 0x7f8e293f81f0&gt;},\n",
              "                   random_state=42, scoring=&#x27;neg_root_mean_squared_error&#x27;)</pre></div></div></div><div class=\"sk-parallel\"><div class=\"sk-parallel-item\"><div class=\"sk-item\"><div class=\"sk-serial\"><div class=\"sk-item\"><div class=\"sk-serial\"><div class=\"sk-item sk-dashed-wrapped\"><div class=\"sk-label-container\"><div class=\"sk-label sk-toggleable\"><input class=\"sk-toggleable__control sk-hidden--visually\" id=\"06bbd5a6-50ee-4966-b19a-00f50671cec6\" type=\"checkbox\" ><label for=\"06bbd5a6-50ee-4966-b19a-00f50671cec6\" class=\"sk-toggleable__label sk-toggleable__label-arrow\">columntransformer: ColumnTransformer</label><div class=\"sk-toggleable__content\"><pre>ColumnTransformer(transformers=[(&#x27;num&#x27;,\n",
              "                                 Pipeline(steps=[(&#x27;simpleimputer&#x27;,\n",
              "                                                  SimpleImputer(strategy=&#x27;median&#x27;)),\n",
              "                                                 (&#x27;standardscaler&#x27;,\n",
              "                                                  StandardScaler())]),\n",
              "                                 [&#x27;accommodates&#x27;, &#x27;bathrooms&#x27;,\n",
              "                                  &#x27;number_of_reviews&#x27;, &#x27;review_scores_rating&#x27;,\n",
              "                                  &#x27;bedrooms&#x27;, &#x27;beds&#x27;, &#x27;bathrooms&#x27;,\n",
              "                                  &#x27;host_response_rate&#x27;,\n",
              "                                  &#x27;gap_between_Hostsince_Firstreview&#x27;,\n",
              "                                  &#x27;gap_between_Hostsince_Lastreview&#x27;]),\n",
              "                                (&#x27;cat&#x27;,\n",
              "                                 Pipe...simpleimputer&#x27;,\n",
              "                                                  SimpleImputer(strategy=&#x27;most_frequent&#x27;)),\n",
              "                                                 (&#x27;onehotencoder&#x27;,\n",
              "                                                  OneHotEncoder(handle_unknown=&#x27;ignore&#x27;))]),\n",
              "                                 [&#x27;property_type&#x27;, &#x27;room_type&#x27;, &#x27;bed_type&#x27;,\n",
              "                                  &#x27;cancellation_policy&#x27;, &#x27;cleaning_fee&#x27;, &#x27;city&#x27;,\n",
              "                                  &#x27;host_has_profile_pic&#x27;,\n",
              "                                  &#x27;host_identity_verified&#x27;,\n",
              "                                  &#x27;instant_bookable&#x27;]),\n",
              "                                (&#x27;geo&#x27;,\n",
              "                                 ClusterSimilarity(n_clusters=6,\n",
              "                                                   random_state=42),\n",
              "                                 [&#x27;latitude&#x27;, &#x27;longitude&#x27;])])</pre></div></div></div><div class=\"sk-parallel\"><div class=\"sk-parallel-item\"><div class=\"sk-item\"><div class=\"sk-label-container\"><div class=\"sk-label sk-toggleable\"><input class=\"sk-toggleable__control sk-hidden--visually\" id=\"ba645f7d-8378-417c-bcdb-f5bd953acf4c\" type=\"checkbox\" ><label for=\"ba645f7d-8378-417c-bcdb-f5bd953acf4c\" class=\"sk-toggleable__label sk-toggleable__label-arrow\">num</label><div class=\"sk-toggleable__content\"><pre>[&#x27;accommodates&#x27;, &#x27;bathrooms&#x27;, &#x27;number_of_reviews&#x27;, &#x27;review_scores_rating&#x27;, &#x27;bedrooms&#x27;, &#x27;beds&#x27;, &#x27;bathrooms&#x27;, &#x27;host_response_rate&#x27;, &#x27;gap_between_Hostsince_Firstreview&#x27;, &#x27;gap_between_Hostsince_Lastreview&#x27;]</pre></div></div></div><div class=\"sk-serial\"><div class=\"sk-item\"><div class=\"sk-serial\"><div class=\"sk-item\"><div class=\"sk-estimator sk-toggleable\"><input class=\"sk-toggleable__control sk-hidden--visually\" id=\"3a2f5624-816e-4615-95a7-2be30ddada13\" type=\"checkbox\" ><label for=\"3a2f5624-816e-4615-95a7-2be30ddada13\" class=\"sk-toggleable__label sk-toggleable__label-arrow\">SimpleImputer</label><div class=\"sk-toggleable__content\"><pre>SimpleImputer(strategy=&#x27;median&#x27;)</pre></div></div></div><div class=\"sk-item\"><div class=\"sk-estimator sk-toggleable\"><input class=\"sk-toggleable__control sk-hidden--visually\" id=\"73489864-27c3-4bb7-8032-a3fd3bd5265d\" type=\"checkbox\" ><label for=\"73489864-27c3-4bb7-8032-a3fd3bd5265d\" class=\"sk-toggleable__label sk-toggleable__label-arrow\">StandardScaler</label><div class=\"sk-toggleable__content\"><pre>StandardScaler()</pre></div></div></div></div></div></div></div></div><div class=\"sk-parallel-item\"><div class=\"sk-item\"><div class=\"sk-label-container\"><div class=\"sk-label sk-toggleable\"><input class=\"sk-toggleable__control sk-hidden--visually\" id=\"99c25fbf-39c8-4c6d-8bc7-3effb7717031\" type=\"checkbox\" ><label for=\"99c25fbf-39c8-4c6d-8bc7-3effb7717031\" class=\"sk-toggleable__label sk-toggleable__label-arrow\">cat</label><div class=\"sk-toggleable__content\"><pre>[&#x27;property_type&#x27;, &#x27;room_type&#x27;, &#x27;bed_type&#x27;, &#x27;cancellation_policy&#x27;, &#x27;cleaning_fee&#x27;, &#x27;city&#x27;, &#x27;host_has_profile_pic&#x27;, &#x27;host_identity_verified&#x27;, &#x27;instant_bookable&#x27;]</pre></div></div></div><div class=\"sk-serial\"><div class=\"sk-item\"><div class=\"sk-serial\"><div class=\"sk-item\"><div class=\"sk-estimator sk-toggleable\"><input class=\"sk-toggleable__control sk-hidden--visually\" id=\"2bd22557-9a9b-475e-a346-61d349c2896b\" type=\"checkbox\" ><label for=\"2bd22557-9a9b-475e-a346-61d349c2896b\" class=\"sk-toggleable__label sk-toggleable__label-arrow\">SimpleImputer</label><div class=\"sk-toggleable__content\"><pre>SimpleImputer(strategy=&#x27;most_frequent&#x27;)</pre></div></div></div><div class=\"sk-item\"><div class=\"sk-estimator sk-toggleable\"><input class=\"sk-toggleable__control sk-hidden--visually\" id=\"b0668e83-53f3-4a72-a028-bbe48db3e90f\" type=\"checkbox\" ><label for=\"b0668e83-53f3-4a72-a028-bbe48db3e90f\" class=\"sk-toggleable__label sk-toggleable__label-arrow\">OneHotEncoder</label><div class=\"sk-toggleable__content\"><pre>OneHotEncoder(handle_unknown=&#x27;ignore&#x27;)</pre></div></div></div></div></div></div></div></div><div class=\"sk-parallel-item\"><div class=\"sk-item\"><div class=\"sk-label-container\"><div class=\"sk-label sk-toggleable\"><input class=\"sk-toggleable__control sk-hidden--visually\" id=\"f525a225-799a-438c-bf95-1c64f03216e6\" type=\"checkbox\" ><label for=\"f525a225-799a-438c-bf95-1c64f03216e6\" class=\"sk-toggleable__label sk-toggleable__label-arrow\">geo</label><div class=\"sk-toggleable__content\"><pre>[&#x27;latitude&#x27;, &#x27;longitude&#x27;]</pre></div></div></div><div class=\"sk-serial\"><div class=\"sk-item\"><div class=\"sk-estimator sk-toggleable\"><input class=\"sk-toggleable__control sk-hidden--visually\" id=\"3fdf35c5-c77c-4512-95dd-e7fdda7b0b47\" type=\"checkbox\" ><label for=\"3fdf35c5-c77c-4512-95dd-e7fdda7b0b47\" class=\"sk-toggleable__label sk-toggleable__label-arrow\">ClusterSimilarity</label><div class=\"sk-toggleable__content\"><pre>ClusterSimilarity(n_clusters=6, random_state=42)</pre></div></div></div></div></div></div></div></div><div class=\"sk-item\"><div class=\"sk-estimator sk-toggleable\"><input class=\"sk-toggleable__control sk-hidden--visually\" id=\"2a8bd6e6-db5a-4c86-b712-096e166767eb\" type=\"checkbox\" ><label for=\"2a8bd6e6-db5a-4c86-b712-096e166767eb\" class=\"sk-toggleable__label sk-toggleable__label-arrow\">RandomForestRegressor</label><div class=\"sk-toggleable__content\"><pre>RandomForestRegressor(random_state=42)</pre></div></div></div></div></div></div></div></div></div></div></div></div>"
            ]
          },
          "metadata": {},
          "execution_count": 207
        }
      ],
      "source": [
        "from sklearn.model_selection import RandomizedSearchCV\n",
        "from scipy.stats import randint\n",
        "\n",
        "param_distribs = {'columntransformer__geo__n_clusters': randint(low=3, high=30),\n",
        "                  'randomforestregressor__max_features': randint(low=2, high=20)}\n",
        "\n",
        "rd_rnd_search = RandomizedSearchCV(\n",
        "    forest_reg, param_distributions=param_distribs, n_iter=10, cv=3,\n",
        "    scoring='neg_root_mean_squared_error', random_state=42)\n",
        "\n",
        "rd_rnd_search.fit(X_train, y_train)"
      ]
    },
    {
      "cell_type": "code",
      "execution_count": null,
      "metadata": {
        "colab": {
          "base_uri": "https://localhost:8080/"
        },
        "id": "3JlxoKnc6spz",
        "outputId": "2195b77b-b72e-4649-e4fc-52b2286223e9"
      },
      "outputs": [
        {
          "output_type": "execute_result",
          "data": {
            "text/plain": [
              "{'columntransformer__geo__n_clusters': 26,\n",
              " 'randomforestregressor__max_features': 13}"
            ]
          },
          "metadata": {},
          "execution_count": 208
        }
      ],
      "source": [
        "rd_rnd_search.best_params_"
      ]
    },
    {
      "cell_type": "code",
      "source": [
        "# Let's check the random search results\n",
        "cv_res = pd.DataFrame(rd_rnd_search.cv_results_)\n",
        "cv_res.sort_values(by=\"mean_test_score\", ascending=False, inplace=True)\n",
        "cv_res.head()"
      ],
      "metadata": {
        "colab": {
          "base_uri": "https://localhost:8080/",
          "height": 357
        },
        "id": "Hmx8Q00Avz2Z",
        "outputId": "de7eba4f-3eb2-4e3f-ab9e-338c7f047901"
      },
      "execution_count": null,
      "outputs": [
        {
          "output_type": "execute_result",
          "data": {
            "text/plain": [
              "   mean_fit_time  std_fit_time  mean_score_time  std_score_time  \\\n",
              "7       14.04804       0.56357          0.70932         0.03975   \n",
              "3       13.80078       0.56144          0.71676         0.05276   \n",
              "2        9.73304       0.10341          0.71328         0.06181   \n",
              "1        9.00292       0.27228          0.71936         0.02505   \n",
              "6        6.18958       0.18760          0.70667         0.03096   \n",
              "\n",
              "  param_columntransformer__geo__n_clusters  \\\n",
              "7                                       26   \n",
              "3                                       28   \n",
              "2                                       23   \n",
              "1                                       13   \n",
              "6                                       24   \n",
              "\n",
              "  param_randomforestregressor__max_features  \\\n",
              "7                                        13   \n",
              "3                                        12   \n",
              "2                                         8   \n",
              "1                                         9   \n",
              "6                                         3   \n",
              "\n",
              "                                              params  split0_test_score  \\\n",
              "7  {'columntransformer__geo__n_clusters': 26, 'ra...           -0.40170   \n",
              "3  {'columntransformer__geo__n_clusters': 28, 'ra...           -0.40210   \n",
              "2  {'columntransformer__geo__n_clusters': 23, 'ra...           -0.40200   \n",
              "1  {'columntransformer__geo__n_clusters': 13, 'ra...           -0.40670   \n",
              "6  {'columntransformer__geo__n_clusters': 24, 'ra...           -0.40962   \n",
              "\n",
              "   split1_test_score  split2_test_score  mean_test_score  std_test_score  \\\n",
              "7           -0.39359           -0.39900         -0.39810         0.00337   \n",
              "3           -0.39331           -0.39974         -0.39838         0.00371   \n",
              "2           -0.39471           -0.40072         -0.39914         0.00318   \n",
              "1           -0.39817           -0.40418         -0.40301         0.00358   \n",
              "6           -0.40225           -0.40760         -0.40649         0.00311   \n",
              "\n",
              "   rank_test_score  \n",
              "7                1  \n",
              "3                2  \n",
              "2                3  \n",
              "1                4  \n",
              "6                5  "
            ],
            "text/html": [
              "\n",
              "  <div id=\"df-64639b52-1bf8-4966-a9f5-5b48abb866c6\">\n",
              "    <div class=\"colab-df-container\">\n",
              "      <div>\n",
              "<style scoped>\n",
              "    .dataframe tbody tr th:only-of-type {\n",
              "        vertical-align: middle;\n",
              "    }\n",
              "\n",
              "    .dataframe tbody tr th {\n",
              "        vertical-align: top;\n",
              "    }\n",
              "\n",
              "    .dataframe thead th {\n",
              "        text-align: right;\n",
              "    }\n",
              "</style>\n",
              "<table border=\"1\" class=\"dataframe\">\n",
              "  <thead>\n",
              "    <tr style=\"text-align: right;\">\n",
              "      <th></th>\n",
              "      <th>mean_fit_time</th>\n",
              "      <th>std_fit_time</th>\n",
              "      <th>mean_score_time</th>\n",
              "      <th>std_score_time</th>\n",
              "      <th>param_columntransformer__geo__n_clusters</th>\n",
              "      <th>param_randomforestregressor__max_features</th>\n",
              "      <th>params</th>\n",
              "      <th>split0_test_score</th>\n",
              "      <th>split1_test_score</th>\n",
              "      <th>split2_test_score</th>\n",
              "      <th>mean_test_score</th>\n",
              "      <th>std_test_score</th>\n",
              "      <th>rank_test_score</th>\n",
              "    </tr>\n",
              "  </thead>\n",
              "  <tbody>\n",
              "    <tr>\n",
              "      <th>7</th>\n",
              "      <td>14.04804</td>\n",
              "      <td>0.56357</td>\n",
              "      <td>0.70932</td>\n",
              "      <td>0.03975</td>\n",
              "      <td>26</td>\n",
              "      <td>13</td>\n",
              "      <td>{'columntransformer__geo__n_clusters': 26, 'ra...</td>\n",
              "      <td>-0.40170</td>\n",
              "      <td>-0.39359</td>\n",
              "      <td>-0.39900</td>\n",
              "      <td>-0.39810</td>\n",
              "      <td>0.00337</td>\n",
              "      <td>1</td>\n",
              "    </tr>\n",
              "    <tr>\n",
              "      <th>3</th>\n",
              "      <td>13.80078</td>\n",
              "      <td>0.56144</td>\n",
              "      <td>0.71676</td>\n",
              "      <td>0.05276</td>\n",
              "      <td>28</td>\n",
              "      <td>12</td>\n",
              "      <td>{'columntransformer__geo__n_clusters': 28, 'ra...</td>\n",
              "      <td>-0.40210</td>\n",
              "      <td>-0.39331</td>\n",
              "      <td>-0.39974</td>\n",
              "      <td>-0.39838</td>\n",
              "      <td>0.00371</td>\n",
              "      <td>2</td>\n",
              "    </tr>\n",
              "    <tr>\n",
              "      <th>2</th>\n",
              "      <td>9.73304</td>\n",
              "      <td>0.10341</td>\n",
              "      <td>0.71328</td>\n",
              "      <td>0.06181</td>\n",
              "      <td>23</td>\n",
              "      <td>8</td>\n",
              "      <td>{'columntransformer__geo__n_clusters': 23, 'ra...</td>\n",
              "      <td>-0.40200</td>\n",
              "      <td>-0.39471</td>\n",
              "      <td>-0.40072</td>\n",
              "      <td>-0.39914</td>\n",
              "      <td>0.00318</td>\n",
              "      <td>3</td>\n",
              "    </tr>\n",
              "    <tr>\n",
              "      <th>1</th>\n",
              "      <td>9.00292</td>\n",
              "      <td>0.27228</td>\n",
              "      <td>0.71936</td>\n",
              "      <td>0.02505</td>\n",
              "      <td>13</td>\n",
              "      <td>9</td>\n",
              "      <td>{'columntransformer__geo__n_clusters': 13, 'ra...</td>\n",
              "      <td>-0.40670</td>\n",
              "      <td>-0.39817</td>\n",
              "      <td>-0.40418</td>\n",
              "      <td>-0.40301</td>\n",
              "      <td>0.00358</td>\n",
              "      <td>4</td>\n",
              "    </tr>\n",
              "    <tr>\n",
              "      <th>6</th>\n",
              "      <td>6.18958</td>\n",
              "      <td>0.18760</td>\n",
              "      <td>0.70667</td>\n",
              "      <td>0.03096</td>\n",
              "      <td>24</td>\n",
              "      <td>3</td>\n",
              "      <td>{'columntransformer__geo__n_clusters': 24, 'ra...</td>\n",
              "      <td>-0.40962</td>\n",
              "      <td>-0.40225</td>\n",
              "      <td>-0.40760</td>\n",
              "      <td>-0.40649</td>\n",
              "      <td>0.00311</td>\n",
              "      <td>5</td>\n",
              "    </tr>\n",
              "  </tbody>\n",
              "</table>\n",
              "</div>\n",
              "      <button class=\"colab-df-convert\" onclick=\"convertToInteractive('df-64639b52-1bf8-4966-a9f5-5b48abb866c6')\"\n",
              "              title=\"Convert this dataframe to an interactive table.\"\n",
              "              style=\"display:none;\">\n",
              "        \n",
              "  <svg xmlns=\"http://www.w3.org/2000/svg\" height=\"24px\"viewBox=\"0 0 24 24\"\n",
              "       width=\"24px\">\n",
              "    <path d=\"M0 0h24v24H0V0z\" fill=\"none\"/>\n",
              "    <path d=\"M18.56 5.44l.94 2.06.94-2.06 2.06-.94-2.06-.94-.94-2.06-.94 2.06-2.06.94zm-11 1L8.5 8.5l.94-2.06 2.06-.94-2.06-.94L8.5 2.5l-.94 2.06-2.06.94zm10 10l.94 2.06.94-2.06 2.06-.94-2.06-.94-.94-2.06-.94 2.06-2.06.94z\"/><path d=\"M17.41 7.96l-1.37-1.37c-.4-.4-.92-.59-1.43-.59-.52 0-1.04.2-1.43.59L10.3 9.45l-7.72 7.72c-.78.78-.78 2.05 0 2.83L4 21.41c.39.39.9.59 1.41.59.51 0 1.02-.2 1.41-.59l7.78-7.78 2.81-2.81c.8-.78.8-2.07 0-2.86zM5.41 20L4 18.59l7.72-7.72 1.47 1.35L5.41 20z\"/>\n",
              "  </svg>\n",
              "      </button>\n",
              "      \n",
              "  <style>\n",
              "    .colab-df-container {\n",
              "      display:flex;\n",
              "      flex-wrap:wrap;\n",
              "      gap: 12px;\n",
              "    }\n",
              "\n",
              "    .colab-df-convert {\n",
              "      background-color: #E8F0FE;\n",
              "      border: none;\n",
              "      border-radius: 50%;\n",
              "      cursor: pointer;\n",
              "      display: none;\n",
              "      fill: #1967D2;\n",
              "      height: 32px;\n",
              "      padding: 0 0 0 0;\n",
              "      width: 32px;\n",
              "    }\n",
              "\n",
              "    .colab-df-convert:hover {\n",
              "      background-color: #E2EBFA;\n",
              "      box-shadow: 0px 1px 2px rgba(60, 64, 67, 0.3), 0px 1px 3px 1px rgba(60, 64, 67, 0.15);\n",
              "      fill: #174EA6;\n",
              "    }\n",
              "\n",
              "    [theme=dark] .colab-df-convert {\n",
              "      background-color: #3B4455;\n",
              "      fill: #D2E3FC;\n",
              "    }\n",
              "\n",
              "    [theme=dark] .colab-df-convert:hover {\n",
              "      background-color: #434B5C;\n",
              "      box-shadow: 0px 1px 3px 1px rgba(0, 0, 0, 0.15);\n",
              "      filter: drop-shadow(0px 1px 2px rgba(0, 0, 0, 0.3));\n",
              "      fill: #FFFFFF;\n",
              "    }\n",
              "  </style>\n",
              "\n",
              "      <script>\n",
              "        const buttonEl =\n",
              "          document.querySelector('#df-64639b52-1bf8-4966-a9f5-5b48abb866c6 button.colab-df-convert');\n",
              "        buttonEl.style.display =\n",
              "          google.colab.kernel.accessAllowed ? 'block' : 'none';\n",
              "\n",
              "        async function convertToInteractive(key) {\n",
              "          const element = document.querySelector('#df-64639b52-1bf8-4966-a9f5-5b48abb866c6');\n",
              "          const dataTable =\n",
              "            await google.colab.kernel.invokeFunction('convertToInteractive',\n",
              "                                                     [key], {});\n",
              "          if (!dataTable) return;\n",
              "\n",
              "          const docLinkHtml = 'Like what you see? Visit the ' +\n",
              "            '<a target=\"_blank\" href=https://colab.research.google.com/notebooks/data_table.ipynb>data table notebook</a>'\n",
              "            + ' to learn more about interactive tables.';\n",
              "          element.innerHTML = '';\n",
              "          dataTable['output_type'] = 'display_data';\n",
              "          await google.colab.output.renderOutput(dataTable, element);\n",
              "          const docLink = document.createElement('div');\n",
              "          docLink.innerHTML = docLinkHtml;\n",
              "          element.appendChild(docLink);\n",
              "        }\n",
              "      </script>\n",
              "    </div>\n",
              "  </div>\n",
              "  "
            ]
          },
          "metadata": {},
          "execution_count": 209
        }
      ]
    },
    {
      "cell_type": "markdown",
      "source": [
        "##### Halving Grid Search"
      ],
      "metadata": {
        "id": "Rudj_Pcga1lV"
      }
    },
    {
      "cell_type": "code",
      "execution_count": null,
      "metadata": {
        "id": "zXMHq0PZ5oRf",
        "colab": {
          "base_uri": "https://localhost:8080/",
          "height": 324
        },
        "outputId": "3a04c07d-6b83-4446-9c04-a0d1d5f89a11"
      },
      "outputs": [
        {
          "output_type": "stream",
          "name": "stdout",
          "text": [
            "The parameter grid : \n",
            "[{'columntransformer__geo__n_clusters': array([ 2,  4,  6,  8, 10, 12, 14]), 'randomforestregressor__max_features': array([ 2,  4,  6,  8, 10, 12, 14])}]\n",
            "The best parameters are  {'columntransformer__geo__n_clusters': 14, 'randomforestregressor__max_features': 14}\n"
          ]
        },
        {
          "output_type": "execute_result",
          "data": {
            "text/plain": [
              "    iter  n_resources param_columntransformer__geo__n_clusters  \\\n",
              "73     3        59265                                       14   \n",
              "72     3        59265                                       14   \n",
              "70     2        19755                                       14   \n",
              "71     2        19755                                       14   \n",
              "68     2        19755                                       14   \n",
              "\n",
              "   param_randomforestregressor__max_features  mean_test_score  \n",
              "73                                        14         -0.40020  \n",
              "72                                        10         -0.40124  \n",
              "70                                        14         -0.41598  \n",
              "71                                        10         -0.41657  \n",
              "68                                        12         -0.41680  "
            ],
            "text/html": [
              "\n",
              "  <div id=\"df-67fd18cd-7827-47e8-98d1-465b8b871278\">\n",
              "    <div class=\"colab-df-container\">\n",
              "      <div>\n",
              "<style scoped>\n",
              "    .dataframe tbody tr th:only-of-type {\n",
              "        vertical-align: middle;\n",
              "    }\n",
              "\n",
              "    .dataframe tbody tr th {\n",
              "        vertical-align: top;\n",
              "    }\n",
              "\n",
              "    .dataframe thead th {\n",
              "        text-align: right;\n",
              "    }\n",
              "</style>\n",
              "<table border=\"1\" class=\"dataframe\">\n",
              "  <thead>\n",
              "    <tr style=\"text-align: right;\">\n",
              "      <th></th>\n",
              "      <th>iter</th>\n",
              "      <th>n_resources</th>\n",
              "      <th>param_columntransformer__geo__n_clusters</th>\n",
              "      <th>param_randomforestregressor__max_features</th>\n",
              "      <th>mean_test_score</th>\n",
              "    </tr>\n",
              "  </thead>\n",
              "  <tbody>\n",
              "    <tr>\n",
              "      <th>73</th>\n",
              "      <td>3</td>\n",
              "      <td>59265</td>\n",
              "      <td>14</td>\n",
              "      <td>14</td>\n",
              "      <td>-0.40020</td>\n",
              "    </tr>\n",
              "    <tr>\n",
              "      <th>72</th>\n",
              "      <td>3</td>\n",
              "      <td>59265</td>\n",
              "      <td>14</td>\n",
              "      <td>10</td>\n",
              "      <td>-0.40124</td>\n",
              "    </tr>\n",
              "    <tr>\n",
              "      <th>70</th>\n",
              "      <td>2</td>\n",
              "      <td>19755</td>\n",
              "      <td>14</td>\n",
              "      <td>14</td>\n",
              "      <td>-0.41598</td>\n",
              "    </tr>\n",
              "    <tr>\n",
              "      <th>71</th>\n",
              "      <td>2</td>\n",
              "      <td>19755</td>\n",
              "      <td>14</td>\n",
              "      <td>10</td>\n",
              "      <td>-0.41657</td>\n",
              "    </tr>\n",
              "    <tr>\n",
              "      <th>68</th>\n",
              "      <td>2</td>\n",
              "      <td>19755</td>\n",
              "      <td>14</td>\n",
              "      <td>12</td>\n",
              "      <td>-0.41680</td>\n",
              "    </tr>\n",
              "  </tbody>\n",
              "</table>\n",
              "</div>\n",
              "      <button class=\"colab-df-convert\" onclick=\"convertToInteractive('df-67fd18cd-7827-47e8-98d1-465b8b871278')\"\n",
              "              title=\"Convert this dataframe to an interactive table.\"\n",
              "              style=\"display:none;\">\n",
              "        \n",
              "  <svg xmlns=\"http://www.w3.org/2000/svg\" height=\"24px\"viewBox=\"0 0 24 24\"\n",
              "       width=\"24px\">\n",
              "    <path d=\"M0 0h24v24H0V0z\" fill=\"none\"/>\n",
              "    <path d=\"M18.56 5.44l.94 2.06.94-2.06 2.06-.94-2.06-.94-.94-2.06-.94 2.06-2.06.94zm-11 1L8.5 8.5l.94-2.06 2.06-.94-2.06-.94L8.5 2.5l-.94 2.06-2.06.94zm10 10l.94 2.06.94-2.06 2.06-.94-2.06-.94-.94-2.06-.94 2.06-2.06.94z\"/><path d=\"M17.41 7.96l-1.37-1.37c-.4-.4-.92-.59-1.43-.59-.52 0-1.04.2-1.43.59L10.3 9.45l-7.72 7.72c-.78.78-.78 2.05 0 2.83L4 21.41c.39.39.9.59 1.41.59.51 0 1.02-.2 1.41-.59l7.78-7.78 2.81-2.81c.8-.78.8-2.07 0-2.86zM5.41 20L4 18.59l7.72-7.72 1.47 1.35L5.41 20z\"/>\n",
              "  </svg>\n",
              "      </button>\n",
              "      \n",
              "  <style>\n",
              "    .colab-df-container {\n",
              "      display:flex;\n",
              "      flex-wrap:wrap;\n",
              "      gap: 12px;\n",
              "    }\n",
              "\n",
              "    .colab-df-convert {\n",
              "      background-color: #E8F0FE;\n",
              "      border: none;\n",
              "      border-radius: 50%;\n",
              "      cursor: pointer;\n",
              "      display: none;\n",
              "      fill: #1967D2;\n",
              "      height: 32px;\n",
              "      padding: 0 0 0 0;\n",
              "      width: 32px;\n",
              "    }\n",
              "\n",
              "    .colab-df-convert:hover {\n",
              "      background-color: #E2EBFA;\n",
              "      box-shadow: 0px 1px 2px rgba(60, 64, 67, 0.3), 0px 1px 3px 1px rgba(60, 64, 67, 0.15);\n",
              "      fill: #174EA6;\n",
              "    }\n",
              "\n",
              "    [theme=dark] .colab-df-convert {\n",
              "      background-color: #3B4455;\n",
              "      fill: #D2E3FC;\n",
              "    }\n",
              "\n",
              "    [theme=dark] .colab-df-convert:hover {\n",
              "      background-color: #434B5C;\n",
              "      box-shadow: 0px 1px 3px 1px rgba(0, 0, 0, 0.15);\n",
              "      filter: drop-shadow(0px 1px 2px rgba(0, 0, 0, 0.3));\n",
              "      fill: #FFFFFF;\n",
              "    }\n",
              "  </style>\n",
              "\n",
              "      <script>\n",
              "        const buttonEl =\n",
              "          document.querySelector('#df-67fd18cd-7827-47e8-98d1-465b8b871278 button.colab-df-convert');\n",
              "        buttonEl.style.display =\n",
              "          google.colab.kernel.accessAllowed ? 'block' : 'none';\n",
              "\n",
              "        async function convertToInteractive(key) {\n",
              "          const element = document.querySelector('#df-67fd18cd-7827-47e8-98d1-465b8b871278');\n",
              "          const dataTable =\n",
              "            await google.colab.kernel.invokeFunction('convertToInteractive',\n",
              "                                                     [key], {});\n",
              "          if (!dataTable) return;\n",
              "\n",
              "          const docLinkHtml = 'Like what you see? Visit the ' +\n",
              "            '<a target=\"_blank\" href=https://colab.research.google.com/notebooks/data_table.ipynb>data table notebook</a>'\n",
              "            + ' to learn more about interactive tables.';\n",
              "          element.innerHTML = '';\n",
              "          dataTable['output_type'] = 'display_data';\n",
              "          await google.colab.output.renderOutput(dataTable, element);\n",
              "          const docLink = document.createElement('div');\n",
              "          docLink.innerHTML = docLinkHtml;\n",
              "          element.appendChild(docLink);\n",
              "        }\n",
              "      </script>\n",
              "    </div>\n",
              "  </div>\n",
              "  "
            ]
          },
          "metadata": {},
          "execution_count": 206
        }
      ],
      "source": [
        "from sklearn.experimental import enable_halving_search_cv\n",
        "from sklearn.model_selection import HalvingGridSearchCV\n",
        "\n",
        "param_grid = [\n",
        "    {'columntransformer__geo__n_clusters': np.arange(2, 15, 2),\n",
        "     'randomforestregressor__max_features': np.arange(2, 15, 2)\n",
        "     },\n",
        "    ]\n",
        "# Check what's in this parameter grid\n",
        "print('The parameter grid : ')\n",
        "print(param_grid)\n",
        "\n",
        "# Change to new strategy starting here\n",
        "halving_grid_search = HalvingGridSearchCV(forest_reg, param_grid, cv=3,\n",
        "                                    min_resources='exhaust', # use all data in the last round, start with as needed\n",
        "                                    scoring='neg_root_mean_squared_error')\n",
        "halving_grid_search.fit(X_train, y_train)\n",
        "print('The best parameters are ', halving_grid_search.best_params_)\n",
        "\n",
        "halving_grid_cv_res = pd.DataFrame(halving_grid_search.cv_results_)  # convert to DF for convenience\n",
        "# In the end, we care about performances in the last iteration (using most data)\n",
        "# So, let's sort by iteration (descending), then by test score (descending)\n",
        "halving_grid_cv_res.sort_values(by=['iter', 'mean_test_score'], ascending=False, inplace=True)\n",
        "# and check the top few rows\n",
        "halving_grid_cv_res.filter(regex = '(iter|^param_|mean_test_score|n_resources)', axis=1).head()\n"
      ]
    },
    {
      "cell_type": "markdown",
      "metadata": {
        "id": "8nPZ3Bzc_6hU"
      },
      "source": [
        "# Evaluate final model on the Test Set"
      ]
    },
    {
      "cell_type": "markdown",
      "metadata": {
        "id": "9paDPC3FADI6"
      },
      "source": [
        "The pick xgboost as final  model as it has lower test error. And now let's see how well it perform on test set."
      ]
    },
    {
      "cell_type": "markdown",
      "metadata": {
        "id": "DlZ83skz8MTz"
      },
      "source": [
        "Random Search on XGBoost has the lowest score of 0.39295, so we pick the hyperparameters of {'columntransformer__geo__n_clusters': 26,\n",
        " 'xgbregressor__learning_rate': 0.12106896936002164,\n",
        " 'xgbregressor__max_depth': 7} as our best_estimater."
      ]
    },
    {
      "cell_type": "code",
      "execution_count": null,
      "metadata": {
        "id": "LckJ45wD57bF"
      },
      "outputs": [],
      "source": [
        "final_model = xg_grid_search.best_estimator_\n",
        "\n",
        "final_predictions = final_model.predict(X_test)\n",
        "final_rmse = mean_squared_error(y_test, final_predictions, squared=False)\n",
        "print(final_rmse)"
      ]
    },
    {
      "cell_type": "markdown",
      "metadata": {
        "id": "KiJ84sp_AMR2"
      },
      "source": [
        "Therefore, the final test error on test test is 0.38731, which did show a improvement from about 0.43 to 0.39"
      ]
    },
    {
      "cell_type": "markdown",
      "metadata": {
        "id": "j0ica2yS5GG0"
      },
      "source": [
        "# References\n",
        "\n",
        "\n",
        "\n",
        "*   https://towardsdatascience.com/comparative-study-on-classic-machine-learning-algorithms-24f9ff6ab222\n",
        "*   https://riskspan.com/tuning-machine-learning-models/\n",
        "*   https://scikit-learn.org/stable/modules/generated/sklearn.model_selection.GridSearchCV.html\n",
        "*   https://www.mygreatlearning.com/blog/gridsearchcv/\n",
        "*   https://machinelearningmastery.com/hyperparameter-optimization-with-random-search-and-grid-search/\n",
        "*   https://colab.research.google.com/drive/1Sk8UJK9R9vYiJR2vLrEe1niexNCYcOKh?usp=sharing#scrollTo=E0cKNnrywWuG  \n",
        "*   https://bobrupakroy.medium.com/halving-gridsearch-736b13898327\n",
        "*   https://www.igms.com/airbnb-pricing/\n",
        "*   https://datascience.stackexchange.com/questions/64796/what-is-the-difference-between-a-regular-linear-regression-model-and-xgboost-wit\n",
        "\n",
        "\n",
        "\n"
      ]
    }
  ],
  "metadata": {
    "colab": {
      "provenance": [],
      "collapsed_sections": [
        "j0ica2yS5GG0"
      ]
    },
    "kernelspec": {
      "display_name": "Python 3",
      "name": "python3"
    },
    "language_info": {
      "name": "python"
    },
    "widgets": {
      "application/vnd.jupyter.widget-state+json": {
        "b258c22273df470abade6350b1a83e10": {
          "model_module": "@jupyter-widgets/controls",
          "model_name": "VBoxModel",
          "model_module_version": "1.5.0",
          "state": {
            "_dom_classes": [
              "widget-interact"
            ],
            "_model_module": "@jupyter-widgets/controls",
            "_model_module_version": "1.5.0",
            "_model_name": "VBoxModel",
            "_view_count": null,
            "_view_module": "@jupyter-widgets/controls",
            "_view_module_version": "1.5.0",
            "_view_name": "VBoxView",
            "box_style": "",
            "children": [
              "IPY_MODEL_290c09fd796043d2adf937f5a76005cd",
              "IPY_MODEL_9c42614642c54df6ba3475b74e83671e"
            ],
            "layout": "IPY_MODEL_d2d018beefd7438a9dd709ee2012e16e"
          }
        },
        "290c09fd796043d2adf937f5a76005cd": {
          "model_module": "@jupyter-widgets/controls",
          "model_name": "DropdownModel",
          "model_module_version": "1.5.0",
          "state": {
            "_dom_classes": [],
            "_model_module": "@jupyter-widgets/controls",
            "_model_module_version": "1.5.0",
            "_model_name": "DropdownModel",
            "_options_labels": [
              "NYC",
              "LA",
              "SF",
              "DC",
              "Chicago",
              "Boston"
            ],
            "_view_count": null,
            "_view_module": "@jupyter-widgets/controls",
            "_view_module_version": "1.5.0",
            "_view_name": "DropdownView",
            "description": "Choose_city",
            "description_tooltip": null,
            "disabled": false,
            "index": 0,
            "layout": "IPY_MODEL_2d5ac8f4dd3744668887d4df2341bd04",
            "style": "IPY_MODEL_6650f4a916e146b0b6aeaf133a6834f5"
          }
        },
        "9c42614642c54df6ba3475b74e83671e": {
          "model_module": "@jupyter-widgets/output",
          "model_name": "OutputModel",
          "model_module_version": "1.0.0",
          "state": {
            "_dom_classes": [],
            "_model_module": "@jupyter-widgets/output",
            "_model_module_version": "1.0.0",
            "_model_name": "OutputModel",
            "_view_count": null,
            "_view_module": "@jupyter-widgets/output",
            "_view_module_version": "1.0.0",
            "_view_name": "OutputView",
            "layout": "IPY_MODEL_187013a482ea41f2b72ca0851ecf4d94",
            "msg_id": "",
            "outputs": [
              {
                "output_type": "display_data",
                "data": {
                  "text/html": "<html>\n<head><meta charset=\"utf-8\" /></head>\n<body>\n    <div>            <script src=\"https://cdnjs.cloudflare.com/ajax/libs/mathjax/2.7.5/MathJax.js?config=TeX-AMS-MML_SVG\"></script><script type=\"text/javascript\">if (window.MathJax) {MathJax.Hub.Config({SVG: {font: \"STIX-Web\"}});}</script>                <script type=\"text/javascript\">window.PlotlyConfig = {MathJaxConfig: 'local'};</script>\n        <script src=\"https://cdn.plot.ly/plotly-2.8.3.min.js\"></script>                <div id=\"13522e1f-fb75-40eb-8aea-8a5fdb5a7043\" class=\"plotly-graph-div\" style=\"height:600px; width:1000px;\"></div>            <script type=\"text/javascript\">                                    window.PLOTLYENV=window.PLOTLYENV || {};                                    if (document.getElementById(\"13522e1f-fb75-40eb-8aea-8a5fdb5a7043\")) {                    Plotly.newPlot(                        \"13522e1f-fb75-40eb-8aea-8a5fdb5a7043\",                        [{\"customdata\":[[4.65],[5.13],[4.65],[4.5],[3.66],[4.37],[4.57],[6.91],[4.83],[4.09],[5.94],[5.7],[4.25],[4.16],[4.06],[4.83],[5.86],[4.61],[4.79],[5.52],[4.6],[4.5],[5.11],[4.43],[5.08],[5.44],[4.32],[4.01],[4.17],[5.16],[4.7],[5.08],[3.4],[5.7],[4.13],[4.25],[3.64],[4.61],[3.56],[4.26],[6.07],[3.56],[4.09],[3.61],[4.61],[5.62],[5.16],[4.26],[6.4],[3.89],[5.19],[5.44],[4.61],[5.01],[4.44],[4.98],[4.87],[5.08],[7.44],[5.01],[4.61],[3.56],[3.91],[3.69],[5.52],[4.83],[4.61],[4.86],[4.17],[5.43],[5.78],[4.52],[4.91],[5.08],[4.38],[3.91],[4.7],[5.08],[4.09],[4.61],[4.7],[4.44],[4.32],[5.3],[5.86],[4.55],[5.77],[4.38],[4.5],[4.25],[3.76],[4.09],[4.61],[5.78],[4.5],[6.11],[4.69],[5.01],[4.38],[5.81],[3.83],[5.15],[5.3],[5.44],[4.61],[4.41],[4.38],[3.91],[4.91],[4.44],[3.56],[3.89],[4.44],[4.62],[3.91],[3.81],[4.14],[4.23],[5.78],[4.2],[3.47],[5.22],[4.83],[4.93],[3.91],[4.55],[4.5],[4.69],[4.25],[5.01],[4.91],[5.22],[4.74],[4.17],[4.84],[4.49],[3.91],[4.09],[4.61],[4.6],[4.78],[3.66],[5.97],[4.34],[3.89],[5.01],[4.98],[4.74],[5.83],[4.87],[5.16],[4.75],[5.22],[5.7],[4.55],[5.58],[5.52],[5.01],[6.11],[4.79],[4.74],[4.09],[4.55],[4.17],[4.83],[5.86],[4.28],[4.5],[4.7],[5.39],[3.69],[3.71],[5.01],[5.01],[4.25],[5.19],[4.91],[3.91],[5.35],[5.27],[2.83],[4.55],[4.55],[5.16],[4.09],[3.71],[4.55],[4.49],[4.13],[4.6],[4.25],[5.3],[4.83],[3.69],[5.01],[6.4],[5.14],[6.21],[5.52],[3.87],[3.81],[5.01],[5.3],[3.4],[4.39],[5.14],[4.17],[4.61],[4.65],[4.09],[4.65],[3.87],[5.04],[4.7],[3.95],[4.32],[4.7],[5.7],[3.89],[4.79],[5.39],[4.09],[3.4],[4.44],[4.16],[4.32],[5.27],[4.5],[5.7],[4.7],[5.18],[4.65],[4.7],[5.26],[4.87],[5.52],[5.3],[5.42],[4.09],[4.17],[4.94],[3.91],[5.7],[5.68],[5.93],[4.25],[4.55],[5.0],[4.06],[5.14],[4.09],[3.85],[5.7],[4.86],[4.79],[4.32],[4.83],[4.87],[4.61],[4.09],[4.61],[4.32],[6.05],[4.38],[5.52],[4.87],[5.3],[4.36],[5.01],[4.32],[3.91],[5.01],[4.09],[3.81],[5.0],[5.63],[5.13],[5.3],[5.17],[5.0],[5.26],[5.86],[4.17],[5.3],[5.29],[4.79],[4.65],[5.18],[5.24],[4.91],[5.23],[4.09],[4.38],[4.32],[4.37],[5.23],[5.16],[4.51],[5.3],[6.21],[4.98],[5.29],[5.17],[4.09],[3.69],[4.83],[5.15],[4.61],[5.11],[5.3],[5.24],[4.61],[5.42],[4.61],[4.61],[5.11],[4.65],[6.11],[4.11],[6.4],[3.91],[4.74],[4.17],[3.91],[5.39],[4.25],[5.07],[5.7],[4.09],[4.79],[5.0],[4.62],[6.21],[3.91],[5.86],[4.5],[4.61],[5.58],[4.38],[3.74],[4.61],[5.01],[4.94],[5.01],[4.32],[4.98],[5.25],[4.55],[4.74],[5.22],[5.01],[4.83],[4.48],[4.32],[5.16],[5.01],[4.98],[4.61],[4.3],[4.17],[4.48],[3.18],[4.38],[5.19],[4.57],[4.44],[5.07],[5.16],[3.56],[5.6],[4.83],[4.83],[5.14],[4.25],[4.65],[5.3],[5.19],[4.98],[4.55],[4.17],[6.18],[4.86],[5.48],[4.61],[5.63],[4.5],[4.32],[5.0],[4.08],[4.55],[4.7],[5.25],[4.61],[3.85],[4.32],[5.07],[4.6],[4.5],[3.91],[4.7],[4.5],[5.8],[4.83],[4.09],[5.3],[4.01],[4.32],[4.2],[4.38],[4.04],[4.83],[4.09],[5.01],[3.56],[4.17],[4.25],[5.01],[3.91],[4.61],[5.22],[4.38],[4.38],[5.3],[4.65],[6.38],[4.5],[6.21],[5.3],[4.86],[3.91],[4.49],[4.74],[3.64],[5.3],[4.79],[4.09],[3.89],[4.74],[4.25],[4.32],[4.67],[5.52],[5.19],[4.38],[4.61],[4.74],[3.74],[5.01],[5.3],[4.55],[4.61],[5.09],[5.01],[4.5],[5.62],[4.87],[5.56],[4.93],[3.69],[5.37],[5.0],[5.42],[5.48],[5.42],[5.27],[4.38],[4.25],[5.35],[4.98],[3.91],[5.29],[4.38],[4.8],[5.01],[3.81],[5.01],[5.1],[4.61],[4.09],[4.25],[5.42],[4.68],[4.01],[4.6],[5.01],[4.44],[3.91],[4.38],[5.13],[4.13],[5.16],[4.04],[5.08],[4.26],[5.39],[3.91],[4.96],[4.61],[4.65],[4.17],[5.39],[5.27],[5.11],[6.21],[4.44],[4.5],[5.39],[5.3],[5.01],[5.0],[4.17],[4.3],[4.91],[5.29],[4.94],[4.09],[3.87],[4.25],[5.78],[4.61],[4.54],[4.09],[4.61],[6.91],[4.23],[4.78],[7.31],[4.09],[5.01],[4.61],[4.04],[4.25],[5.99],[5.46],[4.33],[4.17],[5.16],[3.97],[5.29],[4.86],[5.78],[4.09],[4.7],[5.7],[4.98],[5.3],[4.17],[4.49],[3.91],[5.19],[4.83],[5.7],[5.37],[4.41],[5.7],[4.98],[4.87],[4.25],[5.29],[3.91],[4.86],[5.48],[3.91],[4.7],[5.66],[4.01],[4.9],[4.25],[5.01],[4.7],[5.52],[4.32],[3.89],[6.31],[4.8],[3.91],[3.56],[5.3],[4.61],[7.0],[4.6],[4.72],[5.67],[5.01],[5.44],[4.09],[3.56],[4.25],[4.38],[4.78],[6.11],[5.3],[5.13],[4.49],[4.09],[4.38],[3.81],[4.5],[5.52],[4.25],[4.94],[5.25],[4.61],[4.74],[4.28],[4.61],[5.99],[5.42],[4.32],[4.79],[4.6],[4.32],[4.55],[5.7],[5.01],[4.83],[3.91],[5.7],[4.85],[5.46],[4.17],[5.25],[4.38],[4.76],[4.61],[5.19],[4.32],[4.9],[4.87],[4.61],[3.91],[4.9],[4.55],[5.28],[4.26],[4.61],[5.62],[4.38],[3.81],[4.71],[4.25],[4.6],[4.17],[5.7],[5.3],[4.25],[5.16],[4.92],[4.61],[3.91],[5.16],[5.07],[6.21],[5.19],[3.89],[4.44],[4.38],[5.01],[3.76],[4.69],[5.99],[5.3],[4.32],[5.42],[4.79],[3.87],[4.74],[4.01],[5.62],[5.52],[4.83],[5.7],[4.38],[3.4],[5.63],[3.5],[4.36],[5.01],[6.35],[4.09],[3.58],[5.78],[4.01],[5.44],[4.38],[5.0],[4.79],[5.0],[4.32],[4.98],[4.61],[3.81],[3.4],[4.83],[5.86],[4.23],[4.32],[6.44],[5.7],[4.38],[4.17],[5.3],[3.91],[5.52],[4.74],[4.44],[4.61],[5.7],[4.61],[4.04],[4.7],[4.55],[4.01],[4.32],[5.25],[4.75],[4.61],[3.4],[4.03],[4.5],[4.99],[5.62],[5.65],[3.91],[4.61],[4.62],[4.91],[5.27],[5.01],[3.89],[5.14],[4.61],[5.0],[4.17],[4.17],[5.16],[5.01],[5.27],[4.79],[5.52],[4.49],[4.86],[4.25],[4.09],[4.61],[4.94],[3.47],[4.83],[5.3],[3.3],[5.39],[5.86],[3.26],[4.3],[4.09],[5.29],[4.55],[4.01],[4.5],[4.09],[4.83],[5.27],[4.3],[5.11],[5.16],[3.56],[5.63],[4.23],[5.3],[4.61],[4.96],[4.32],[5.19],[4.09],[4.25],[4.98],[3.81],[5.39],[4.87],[4.32],[4.38],[5.37],[4.58],[4.79],[3.56],[5.0],[4.25],[5.27],[4.25],[4.09],[4.5],[4.61],[4.87],[5.3],[4.17],[4.74],[4.25],[4.01],[3.69],[5.14],[6.21],[5.3],[4.5],[5.29],[4.01],[4.09],[4.39],[5.67],[4.17],[4.08],[5.18],[4.75],[5.3],[4.5],[4.23],[4.6],[4.44],[4.83],[4.79],[5.01],[4.84],[4.63],[4.98],[3.69],[4.38],[4.6],[4.34],[4.79],[5.29],[4.41],[4.47],[3.74],[6.21],[4.51],[4.7],[3.69],[3.83],[4.09],[4.09],[6.11],[4.48],[4.49],[5.1],[4.5],[6.48],[4.06],[4.79],[4.74],[3.91],[4.25],[5.16],[4.79],[4.09],[5.22],[4.32],[5.3],[3.43],[3.91],[4.83],[3.69],[4.32],[4.09],[4.61],[5.22],[5.7],[3.91],[4.61],[5.52],[4.38],[4.77],[4.13],[3.91],[4.6],[4.17],[5.43],[4.6],[4.85],[4.17],[4.09],[5.01],[4.7],[5.01],[4.32],[5.19],[4.61],[4.09],[5.86],[4.66],[5.16],[3.66],[4.79],[4.17],[4.37],[5.01],[5.01],[6.89],[5.16],[3.71],[3.76],[4.44],[5.22],[4.17],[4.32],[4.61],[4.6],[4.17],[4.32],[4.61],[5.01],[5.3],[5.24],[3.89],[4.22],[4.93],[5.42],[3.81],[4.44],[5.04],[4.6],[4.6],[5.62],[4.57],[4.83],[5.16],[4.58],[3.85],[4.82],[4.17],[3.81],[5.52],[4.6],[4.5],[4.2],[6.21],[4.47],[5.44],[4.83],[5.69],[4.83],[5.01],[4.7],[4.44],[3.56],[5.39],[4.17],[4.55],[5.52],[4.68],[4.49],[4.58],[5.52],[5.08],[4.55],[5.27],[5.62],[4.49],[4.47],[5.14],[3.74],[4.93],[3.74],[5.52],[7.24],[4.25],[4.04],[4.98],[5.99],[4.65],[4.38],[5.95],[5.89],[3.69],[5.08],[5.52],[4.78],[4.09],[4.61],[4.32],[3.93],[3.83],[5.35],[5.38],[4.37],[3.66],[5.3],[4.09],[4.39],[4.98],[5.16],[4.87],[5.65],[4.13],[3.91],[4.17],[4.44],[3.91],[4.32],[4.04],[4.25],[4.91],[4.87],[4.44],[3.22],[5.47],[4.49],[4.09],[5.7],[4.78],[4.5],[4.98],[4.98],[4.61],[4.79],[4.38],[4.23],[3.87],[4.44],[4.88],[4.09],[5.56],[4.7],[4.06],[3.81],[4.45],[6.29],[4.83],[5.39],[4.8],[5.01],[4.01],[4.17],[4.09],[3.91],[4.09],[4.7],[3.71],[6.48],[5.52],[5.69],[4.55],[4.61],[4.61],[5.11],[4.96],[5.16],[4.17],[5.01],[4.74],[4.6],[5.52],[5.61],[3.81],[4.32],[3.76],[5.42],[3.69],[4.5],[5.52],[6.55],[5.27],[4.38],[4.79],[5.7],[4.7],[5.19],[6.04],[3.91],[5.01],[3.61],[5.95],[5.14],[4.65],[3.69],[4.38],[4.83],[5.13],[4.25],[4.09],[4.6],[4.87],[4.74],[3.69],[3.91],[6.91],[3.64],[4.61],[6.68],[4.38],[5.25],[5.59],[4.94],[4.44],[5.01],[4.98],[5.99],[4.25],[3.89],[4.32],[4.32],[4.62],[5.63],[4.38],[5.0],[4.23],[3.69],[4.09],[4.08],[6.91],[3.81],[5.22],[4.72],[4.06],[5.11],[4.61],[5.3],[5.16],[5.88],[4.5],[5.19],[4.87],[5.16],[3.91],[4.79],[4.25],[3.87],[4.25],[4.37],[3.91],[6.11],[3.95],[5.3],[3.81],[5.25],[4.01],[4.37],[5.01],[4.6],[5.7],[4.83],[4.08],[3.56],[5.16],[3.56],[5.01],[4.48],[4.38],[3.81],[4.79],[4.61],[5.01],[4.91],[7.0],[4.61],[4.67],[5.7],[3.91],[5.62],[5.16],[3.58],[5.7],[6.91],[5.01],[4.83],[4.83],[4.25],[5.42],[5.16],[4.79],[4.09],[3.4],[5.52],[3.69],[5.14],[5.74],[4.17],[5.52],[3.99],[5.42],[4.25],[3.93],[4.6],[5.46],[4.01],[4.3],[4.61],[4.57],[4.74],[4.69],[3.81],[5.13],[5.16],[4.01],[4.83],[4.7],[3.76],[3.69],[4.7],[4.06],[3.56],[7.5],[5.11],[4.98],[3.5],[4.25],[6.4],[4.79],[5.02],[4.49],[4.01],[4.38],[4.6],[4.61],[4.79],[5.98],[3.87],[5.25],[6.55],[3.69],[5.52],[4.06],[4.79],[5.27],[4.09],[4.79],[4.6],[4.87],[4.78],[5.14],[4.79],[5.01],[4.79],[5.25],[4.79],[5.39],[4.09],[5.25],[6.91],[5.0],[5.11],[4.44],[3.69],[5.29],[4.25],[4.91],[4.55],[3.81],[4.94],[4.09],[3.85],[4.09],[4.17],[4.83],[4.61],[6.86],[5.16],[4.61],[3.83],[3.91],[4.01],[4.61],[4.32],[4.79],[5.24],[6.4],[4.61],[4.25],[3.64],[6.31],[5.01],[5.22],[3.91],[5.46],[4.93],[4.94],[5.08],[4.01],[4.09],[4.61],[4.7],[4.79],[4.91],[4.78],[4.49],[4.45],[3.69],[3.66],[4.38],[4.87],[4.09],[3.87],[4.09],[3.89],[4.32],[5.29],[5.14],[4.83],[4.25],[5.62],[5.42],[5.01],[5.7],[4.83],[4.61],[5.3],[3.91],[5.29],[5.52],[5.3],[4.23],[5.01],[5.01],[4.51],[4.91],[4.61],[4.5],[4.61],[4.61],[4.09],[5.19],[3.81],[5.52],[5.52],[6.62],[5.59],[4.79],[4.08],[4.55],[5.01],[5.3],[4.61],[4.61],[4.54],[4.5],[4.22],[5.16],[4.44],[3.81],[4.6],[4.32],[3.53],[5.01],[6.11],[4.74],[4.17],[4.37],[6.21],[5.45],[5.32],[4.25],[4.22],[3.64],[4.61],[5.44],[5.16],[4.79],[3.4],[5.42],[5.16],[5.52],[4.25],[5.86],[4.09],[5.01],[5.01],[5.27],[5.14],[5.48],[6.11],[5.37],[5.86],[5.3],[4.98],[5.16],[6.21],[5.52],[4.32],[4.44],[4.25],[5.29],[4.17],[4.61],[5.24],[5.16],[6.4],[4.74],[4.25],[4.17],[6.4],[4.61],[5.67],[4.38],[4.94],[4.79],[4.61],[5.27],[4.61],[5.25],[3.69],[4.61],[4.87],[4.91],[5.99],[4.7],[4.09],[4.16],[4.61],[6.66],[5.19],[4.5],[5.01],[4.01],[4.87],[3.91],[4.32],[4.61],[4.17],[5.29],[5.3],[5.08],[5.07],[4.09],[4.69],[4.6],[4.85],[5.3],[4.25],[4.7],[4.56],[5.01],[4.38],[6.68],[4.32],[4.65],[5.06],[3.81],[4.17],[4.37],[4.55],[5.3],[5.07],[4.17],[4.83],[3.89],[5.01],[4.61],[3.64],[3.91],[4.17],[5.52],[4.79],[4.91],[3.81],[4.69],[4.83],[4.49],[4.38],[5.01],[3.91],[4.01],[5.52],[4.83],[5.07],[3.87],[4.17],[4.38],[5.48],[5.3],[4.7],[4.79],[4.17],[4.17],[6.55],[4.63],[5.3],[4.7],[5.16],[4.61],[4.55],[5.7],[4.09],[4.61],[5.01],[4.11],[7.31],[4.61],[4.49],[3.69],[5.08],[5.16],[4.25],[5.52],[4.83],[3.81],[5.3],[4.04],[5.52],[4.23],[5.84],[5.3],[5.52],[4.79],[5.11],[5.3],[4.6],[4.22],[4.65],[4.25],[4.91],[5.7],[5.52],[3.33],[3.56],[5.48],[4.5],[5.86],[5.52],[4.83],[4.25],[4.65],[5.08],[4.38],[4.49],[4.83],[5.86],[3.89],[4.94],[5.52],[4.22],[4.52],[4.87],[3.76],[4.01],[4.68],[4.78],[3.37],[5.01],[4.09],[5.27],[6.21],[4.44],[4.98],[4.16],[4.43],[5.52],[4.7],[4.6],[4.72],[3.53],[4.87],[4.44],[3.74],[4.94],[4.6],[5.14],[4.87],[4.55],[5.3],[3.74],[5.27],[4.83],[5.01],[5.99],[3.66],[4.6],[5.52],[4.01],[4.23],[4.75],[3.81],[4.25],[4.61],[4.01],[4.01],[3.91],[3.43],[4.32],[3.81],[4.55],[5.62],[4.38],[4.48],[3.91],[5.3],[5.52],[4.09],[6.48],[5.7],[5.19],[4.5],[4.32],[4.25],[3.56],[4.33],[6.91],[3.33],[4.61],[4.74],[3.81],[4.55],[3.56],[4.6],[4.86],[4.09],[4.09],[4.44],[4.79],[4.38],[5.16],[5.25],[4.6],[4.79],[5.98],[4.55],[4.32],[4.61],[4.5],[4.38],[4.48],[4.32],[4.17],[4.08],[6.51],[5.04],[5.52],[5.52],[4.04],[4.72],[4.75],[5.3],[3.89],[4.6],[4.32],[4.25],[5.39],[4.76],[4.61],[3.91],[3.74],[5.19],[5.1],[4.7],[5.3],[4.32],[3.69],[4.08],[4.61],[4.49],[3.91],[3.69],[5.7],[4.37],[4.61],[4.32],[3.53],[4.44],[4.83],[4.17],[4.44],[3.89],[4.7],[4.09],[3.91],[3.22],[5.01],[5.16],[4.7],[5.01],[3.97],[5.08],[5.18],[5.01],[4.32],[4.79],[4.09],[5.01],[4.32],[3.89],[5.24],[4.55],[4.25],[4.25],[5.25],[5.01],[3.66],[5.32],[4.09],[3.66],[5.01],[3.74],[5.7],[4.7],[5.3],[5.16],[4.29],[4.61],[4.83],[4.6],[4.6],[5.01],[4.6],[5.01],[3.81],[6.51],[5.08],[4.87],[4.79],[4.5],[4.7],[5.69],[4.42],[3.53],[3.81],[3.91],[5.01],[5.16],[4.48],[4.61],[4.37],[4.65],[4.49],[5.01],[4.08],[4.09],[4.94],[4.61],[5.16],[4.38],[5.0],[4.91],[3.81],[4.17],[4.55],[3.56],[5.69],[5.3],[4.83],[5.3],[5.52],[4.84],[5.16],[4.69],[4.37],[5.01],[5.19],[4.17],[5.3],[5.19],[4.25],[5.22],[4.65],[4.37],[3.4],[3.69],[4.5],[3.64],[4.61],[5.3],[4.01],[5.29],[5.99],[4.03],[4.93],[4.6],[5.43],[4.09],[5.01],[5.3],[4.74],[4.61],[4.57],[5.0],[4.32],[4.61],[5.01],[5.04],[4.91],[4.88],[5.01],[4.36],[3.89],[5.25],[4.83],[6.11],[4.32],[7.31],[3.81],[4.83],[4.01],[5.01],[4.17],[4.83],[4.6],[3.78],[4.61],[4.78],[5.93],[4.56],[3.58],[4.32],[4.55],[4.87],[5.29],[5.52],[4.09],[4.61],[5.7],[6.38],[4.26],[4.25],[4.38],[4.09],[4.5],[3.89],[4.83],[4.17],[4.17],[4.83],[4.61],[4.7],[4.32],[3.89],[4.83],[5.01],[6.05],[4.54],[4.49],[5.15],[4.09],[4.6],[4.6],[4.25],[4.7],[3.22],[5.3],[4.44],[4.5],[4.63],[4.55],[5.52],[4.38],[4.69],[5.01],[4.5],[4.83],[4.55],[5.62],[6.48],[5.19],[5.25],[4.09],[4.69],[5.01],[5.0],[5.01],[3.4],[3.91],[6.43],[4.36],[3.81],[4.08],[4.25],[4.17],[4.74],[3.91],[5.3],[4.25],[4.94],[5.52],[5.52],[4.61],[4.48],[4.61],[4.79],[4.32],[4.61],[4.32],[6.4],[4.61],[3.58],[5.14],[4.08],[4.09],[5.16],[4.38],[4.89],[5.3],[4.55],[5.35],[5.3],[4.61],[5.08],[5.14],[4.5],[4.6],[3.89],[5.42],[4.83],[4.98],[3.66],[5.73],[3.69],[4.44],[4.41],[5.42],[4.37],[4.5],[4.32],[4.5],[5.01],[4.32],[4.79],[5.19],[4.32],[5.01],[5.16],[5.13],[4.74],[4.61],[5.67],[5.0],[4.09],[5.62],[5.44],[4.32],[4.49],[4.38],[5.19],[4.5],[4.94],[4.7],[3.47],[4.55],[5.01],[4.17],[4.92],[4.61],[3.69],[4.17],[4.25],[6.75],[4.5],[4.8],[5.39],[4.38],[3.69],[4.37],[4.61],[3.89],[5.02],[5.99],[4.65],[4.16],[4.25],[4.61],[3.69],[5.3],[4.38],[4.91],[4.65],[5.3],[5.19],[7.17],[5.52],[5.14],[4.88],[4.32],[4.7],[4.68],[5.52],[5.25],[3.22],[5.08],[4.57],[4.5],[5.63],[5.01],[6.21],[3.66],[5.16],[4.89],[5.7],[3.69],[4.32],[4.09],[4.84],[4.83],[5.99],[4.09],[4.25],[5.16],[4.93],[5.01],[5.0],[4.25],[3.81],[5.01],[3.64],[5.56],[5.86],[5.29],[5.01],[4.44],[4.74],[5.58],[3.22],[6.21],[5.01],[5.01],[4.61],[4.08],[5.44],[6.48],[5.01],[4.23],[4.83],[4.87],[4.25],[4.34],[5.27],[4.56],[4.62],[4.2],[4.36],[5.3],[4.5],[5.16],[4.09],[5.99],[4.94],[5.16],[5.08],[4.09],[5.86],[4.44],[3.91],[4.94],[4.61],[5.19],[4.69],[5.19],[4.83],[4.72],[4.09],[5.39],[4.44],[4.09],[4.85],[4.83],[4.51],[5.16],[4.87],[5.95],[4.87],[5.99],[5.16],[5.01],[4.17],[5.01],[4.01],[4.01],[4.09],[4.44],[4.69],[5.99],[5.86],[3.81],[4.7],[4.81],[4.38],[5.3],[5.52],[3.91],[4.48],[5.33],[4.49],[5.86],[4.38],[5.01],[4.14],[4.78],[4.83],[5.24],[4.95],[3.64],[5.27],[5.3],[4.32],[4.09],[4.82],[3.93],[5.3],[5.01],[3.91],[4.32],[3.89],[4.32],[4.55],[4.25],[3.69],[4.61],[4.91],[5.42],[4.65],[3.91],[4.6],[5.52],[5.52],[4.09],[5.0],[4.25],[3.89],[4.01],[4.69],[4.38],[4.55],[4.25],[5.52],[6.55],[3.91],[5.06],[4.79],[4.98],[4.5],[3.83],[3.89],[5.14],[4.01],[4.38],[5.52],[3.81],[4.06],[4.32],[3.91],[4.32],[5.25],[3.81],[4.74],[5.3],[6.11],[4.79],[4.79],[7.29],[4.87],[6.8],[6.48],[5.01],[4.17],[4.61],[4.25],[5.08],[5.25],[5.01],[5.56],[5.19],[5.08],[5.07],[4.37],[4.25],[4.17],[5.01],[4.86],[5.62],[4.01],[4.11],[6.48],[3.74],[7.09],[5.69],[5.42],[3.89],[4.17],[5.08],[5.67],[4.65],[3.91],[4.83],[4.55],[3.91],[3.91],[3.3],[4.01],[5.08],[5.3],[4.09],[4.61],[4.74],[5.52],[4.01],[4.09],[4.55],[3.81],[5.52],[5.3],[5.42],[4.03],[5.19],[3.89],[5.07],[4.61],[4.41],[4.01],[4.87],[3.53],[4.5],[4.08],[4.69],[3.53],[5.7],[4.79],[4.61],[4.23],[4.93],[4.38],[4.91],[4.55],[4.6],[4.19],[5.3],[5.86],[4.09],[4.08],[3.91],[5.01],[4.14],[4.38],[5.62],[4.09],[5.3],[4.74],[5.52],[4.38],[4.61],[4.79],[5.01],[5.08],[4.86],[5.01],[4.8],[4.49],[4.09],[3.91],[3.74],[5.3],[5.62],[5.6],[5.08],[3.81],[5.11],[4.83],[4.13],[5.48],[4.09],[4.37],[5.47],[4.09],[4.91],[3.91],[5.83],[5.3],[4.51],[4.25],[5.04],[3.91],[4.38],[4.17],[4.79],[5.01],[5.19],[5.0],[4.25],[5.86],[5.04],[3.69],[5.3],[4.55],[4.25],[4.42],[4.38],[4.32],[5.42],[4.64],[4.7],[5.99],[4.91],[4.44],[6.21],[7.38],[5.7],[4.87],[4.01],[4.09],[3.56],[5.01],[4.61],[4.6],[5.01],[5.01],[3.91],[4.38],[4.89],[5.01],[4.38],[4.81],[4.22],[4.32],[5.42],[5.63],[5.08],[4.61],[4.32],[4.61],[6.04],[4.6],[3.69],[4.38],[4.83],[6.16],[4.08],[5.48],[5.52],[5.11],[5.04],[3.99],[4.79],[5.17],[4.09],[5.48],[3.69],[5.26],[4.32],[5.52],[4.83],[4.91],[5.16],[3.91],[4.17],[5.13],[4.5],[4.44],[4.58],[5.69],[4.09],[3.87],[5.3],[4.79],[3.91],[3.85],[4.38],[5.22],[5.3],[4.61],[4.25],[5.7],[5.01],[5.19],[4.83],[3.4],[5.04],[5.78],[3.91],[5.7],[3.69],[4.5],[4.65],[5.7],[5.52],[4.01],[5.52],[4.93],[4.84],[5.25],[6.35],[5.2],[5.35],[5.39],[4.87],[3.69],[4.6],[5.86],[4.49],[4.91],[3.81],[4.61],[3.33],[4.98],[4.17],[3.99],[4.79],[5.01],[4.61],[4.83],[4.3],[4.61],[5.42],[3.81],[5.94],[4.23],[5.19],[5.11],[4.94],[5.63],[4.38],[4.79],[4.41],[4.74],[4.25],[3.93],[4.55],[4.44],[4.5],[4.38],[5.69],[3.81],[3.81],[4.61],[4.01],[5.87],[4.83],[5.22],[5.3],[5.48],[5.01],[5.99],[5.7],[4.61],[3.22],[3.89],[5.99],[5.18],[5.0],[3.4],[4.61],[4.79],[4.17],[4.25],[5.3],[4.38],[5.42],[5.7],[5.94],[6.21],[5.42],[4.38],[4.01],[4.38],[5.01],[3.74],[4.83],[4.33],[3.56],[5.01],[4.44],[4.69],[4.98],[4.77],[4.09],[5.52],[4.61],[6.4],[4.25],[4.09],[4.25],[4.5],[5.11],[5.01],[4.79],[5.19],[4.25],[4.58],[5.52],[4.5],[4.61],[3.56],[4.25],[5.0],[3.91],[4.94],[3.66],[4.44],[3.91],[6.21],[5.74],[5.01],[4.55],[5.19],[4.09],[5.19],[3.81],[4.25],[4.04],[4.7],[4.74],[3.91],[4.79],[4.25],[5.99],[4.44],[4.65],[4.17],[5.01],[6.11],[4.38],[3.91],[4.41],[4.61],[4.61],[3.61],[4.32],[7.31],[4.65],[5.12],[4.44],[4.61],[4.83],[4.09],[5.16],[5.7],[4.69],[4.32],[3.81],[5.42],[4.44],[4.83],[5.0],[3.78],[4.83],[5.01],[4.03],[5.15],[4.17],[4.26],[4.83],[4.25],[5.29],[4.74],[4.94],[5.29],[4.37],[6.21],[4.78],[5.3],[5.24],[5.16],[4.3],[4.98],[4.25],[5.01],[4.25],[5.3],[5.01],[5.63],[5.42],[5.52],[5.01],[5.12],[5.52],[4.7],[4.32],[5.93],[4.38],[5.01],[3.66],[4.06],[4.6],[5.01],[5.93],[4.55],[5.04],[5.67],[3.85],[4.25],[4.17],[4.06],[4.38],[5.04],[5.25],[4.38],[4.17],[5.19],[6.23],[4.17],[3.61],[6.0],[4.01],[5.0],[4.79],[4.62],[4.01],[4.36],[5.01],[4.09],[4.38],[4.74],[4.65],[3.91],[4.84],[4.25],[3.89],[3.56],[4.7],[5.7],[4.55],[4.93],[5.3],[6.11],[4.75],[4.92],[5.27],[4.53],[5.42],[4.42],[3.91],[5.7],[5.63],[4.7],[3.91],[5.29],[5.23],[5.01],[5.65],[3.91],[5.22],[4.83],[4.44],[4.5],[4.5],[5.23],[3.91],[4.44],[3.56],[4.01],[5.52],[6.11],[4.41],[5.52],[4.47],[4.17],[4.55],[4.09],[4.81],[4.86],[4.83],[4.79],[4.7],[5.3],[3.91],[4.43],[5.01],[5.52],[5.01],[4.09],[5.16],[3.56],[5.99],[5.56],[5.99],[4.09],[5.48],[4.17],[4.09],[4.79],[4.87],[5.19],[4.09],[4.17],[4.61],[5.07],[4.57],[5.77],[5.46],[4.25],[5.63],[4.51],[4.58],[3.66],[6.05],[5.3],[4.5],[4.61],[4.83],[4.09],[5.99],[5.42],[4.32],[5.01],[3.69],[4.78],[4.25],[4.22],[5.22],[4.08],[5.35],[4.08],[4.61],[5.42],[5.3],[4.7],[5.01],[5.19],[3.81],[3.81],[4.55],[4.22],[3.89],[5.27],[4.61],[5.48],[4.65],[4.86],[5.69],[4.5],[3.43],[4.88],[5.52],[3.81],[4.61],[5.08],[4.17],[4.98],[4.61],[4.5],[5.19],[4.5],[4.69],[4.55],[4.64],[4.99],[4.16],[4.83],[4.87],[3.91],[4.83],[3.83],[4.38],[6.21],[5.58],[4.65],[4.5],[4.32],[4.83],[4.32],[5.48],[4.83],[5.13],[5.52],[5.99],[5.93],[3.26],[4.09],[3.91],[4.5],[5.44],[5.08],[4.79],[4.38],[4.32],[5.99],[5.7],[4.3],[5.13],[5.48],[5.78],[5.3],[3.47],[5.19],[4.83],[4.86],[5.01],[5.7],[4.74],[4.7],[3.76],[4.25],[4.23],[5.3],[4.25],[3.69],[5.3],[5.52],[5.48],[3.87],[3.14],[4.08],[5.24],[4.86],[4.61],[5.7],[4.55],[4.5],[5.01],[5.29],[4.32],[4.61],[4.6],[4.44],[3.97],[5.22],[4.61],[5.27],[5.3],[4.25],[4.61],[4.09],[3.76],[5.47],[4.7],[5.19],[4.91],[4.83],[4.09],[5.58],[5.16],[4.94],[4.61],[4.38],[4.43],[4.74],[5.01],[5.44],[4.61],[5.0],[5.7],[4.38],[5.14],[6.75],[5.04],[4.63],[5.14],[5.29],[5.35],[4.61],[4.38],[5.04],[4.32],[4.83],[4.32],[5.52],[4.33],[4.28],[4.38],[4.44],[4.49],[4.32],[4.44],[4.09],[3.97],[4.09],[4.75],[4.47],[4.08],[5.14],[4.32],[4.49],[4.5],[4.5],[4.5],[5.3],[4.01],[4.6],[4.36],[4.5],[4.51],[4.06],[4.09],[5.3],[4.49],[3.76],[4.17],[4.09],[5.16],[4.01],[4.78],[5.01],[5.19],[4.79],[5.42],[4.5],[4.83],[4.61],[5.52],[4.38],[3.4],[4.5],[3.69],[4.3],[3.69],[5.01],[3.85],[3.69],[4.17],[4.17],[4.08],[4.01],[5.67],[4.32],[5.99],[4.17],[6.4],[5.12],[5.14],[5.52],[5.01],[5.78],[5.3],[5.99],[4.38],[4.17],[5.29],[4.55],[4.93],[4.17],[6.11],[4.32],[4.7],[4.01],[4.48],[5.3],[4.7],[4.17],[4.61],[4.38],[5.27],[5.29],[5.01],[4.49],[5.3],[4.94],[5.29],[4.32],[4.08],[5.7],[4.55],[4.96],[5.16],[4.38],[4.38],[5.31],[5.34],[5.01],[5.01],[4.74],[4.74],[3.69],[4.94],[5.29],[3.78],[5.29],[4.55],[5.01],[4.87],[5.72],[5.98],[3.64],[3.69],[3.5],[4.84],[4.32],[4.25],[4.23],[4.61],[5.3],[5.15],[4.25],[4.44],[3.69],[4.61],[4.17],[5.19],[4.38],[4.83],[3.69],[5.52],[5.16],[4.61],[5.62],[4.5],[3.81],[4.25],[4.74],[5.04],[4.6],[5.07],[4.01],[4.09],[4.09],[4.01],[4.3],[4.25],[4.91],[5.52],[4.01],[5.52],[4.5],[4.32],[4.17],[5.21],[5.04],[4.83],[4.08],[5.02],[5.52],[4.87],[4.01],[4.25],[4.01],[4.23],[4.55],[5.99],[5.08],[4.87],[4.72],[5.53],[5.52],[4.09],[4.25],[4.25],[5.27],[3.22],[5.19],[4.44],[4.23],[3.89],[5.63],[5.19],[3.91],[4.91],[3.81],[4.25],[4.09],[4.79],[4.83],[3.81],[5.01],[5.3],[4.7],[3.93],[4.83],[4.61],[4.25],[4.78],[4.32],[4.49],[5.22],[4.23],[4.86],[3.91],[4.83],[4.55],[5.3],[5.29],[5.01],[5.52],[3.76],[4.09],[6.4],[3.91],[4.61],[3.69],[4.32],[5.7],[5.16],[3.74],[3.69],[4.32],[5.42],[5.04],[3.69],[3.81],[4.6],[4.25],[4.79],[5.58],[3.69],[4.25],[6.31],[5.08],[5.16],[4.23],[5.24],[5.42],[3.64],[4.09],[5.3],[4.32],[4.52],[4.83],[4.5],[5.01],[5.69],[5.52],[3.69],[4.61],[4.6],[5.86],[6.31],[5.3],[5.52],[3.81],[4.61],[5.24],[3.81],[4.85],[4.38],[4.74],[4.3],[4.32],[7.6],[5.16],[4.08],[4.83],[5.14],[4.29],[4.62],[4.83],[4.61],[5.3],[5.63],[5.15],[4.6],[4.7],[5.44],[4.58],[4.94],[4.38],[4.13],[4.5],[4.7],[5.01],[5.24],[5.5],[4.22],[4.87],[5.11],[5.16],[5.5],[5.8],[4.06],[6.11],[4.79],[5.39],[5.11],[5.14],[5.3],[4.25],[5.53],[5.8],[4.09],[4.79],[5.52],[4.89],[3.91],[4.74],[4.55],[4.61],[5.3],[3.81],[3.69],[4.61],[5.77],[4.25],[5.35],[4.69],[4.5],[4.25],[5.01],[3.64],[6.21],[3.91],[4.58],[4.23],[3.69],[4.09],[4.79],[4.83],[4.61],[4.83],[4.5],[5.3],[3.91],[4.79],[4.16],[5.04],[3.26],[5.3],[3.5],[5.86],[5.08],[3.78],[5.01],[4.09],[3.66],[6.31],[5.19],[4.6],[4.09],[4.79],[3.89],[3.61],[5.01],[3.47],[4.16],[5.01],[5.14],[5.14],[5.01],[4.71],[4.94],[5.7],[4.38],[5.58],[5.19],[4.25],[4.32],[4.49],[5.52],[4.17],[5.54],[4.88],[4.5],[4.55],[5.7],[5.32],[4.79],[5.0],[4.32],[4.5],[3.97],[3.56],[4.74],[4.41],[3.56],[3.89],[5.08],[4.61],[5.52],[5.16],[4.55],[5.11],[4.81],[7.47],[4.79],[4.32],[4.08],[4.25],[4.25],[5.25],[5.7],[5.86],[4.83],[6.11],[4.94],[4.44],[6.26],[4.6],[5.37],[5.05],[5.24],[4.6],[4.79],[4.01],[5.16],[4.17],[5.52],[4.01],[4.38],[6.91],[5.5],[5.19],[4.04],[4.37],[4.09],[5.7],[5.01],[4.74],[5.99],[3.69],[4.55],[4.61],[5.01],[5.52],[4.52],[5.27],[5.3],[5.3],[5.52],[5.99],[5.42],[5.11],[4.83],[5.3],[5.63],[4.74],[4.62],[3.91],[4.6],[5.34],[4.01],[5.3],[4.94],[4.5],[5.52],[4.17],[4.94],[5.11],[6.4],[5.11],[4.55],[4.43],[4.55],[4.38],[5.7],[5.32],[4.94],[4.08],[5.52],[5.01],[4.32],[4.09],[4.32],[4.38],[3.91],[4.01],[4.74],[5.19],[3.81],[4.09],[3.81],[4.38],[4.25],[6.4],[5.3],[4.65],[3.91],[4.23],[4.5],[3.69],[5.51],[5.83],[5.42],[3.91],[4.61],[4.38],[3.71],[4.83],[4.93],[5.08],[5.99],[4.79],[5.19],[4.49],[4.32],[5.39],[4.25],[6.05],[4.5],[4.34],[5.99],[5.65],[4.6],[4.94],[4.86],[4.38],[5.62],[3.91],[3.69],[4.09],[4.09],[5.01],[4.61],[3.91],[4.83],[4.19],[4.83],[4.82],[4.79],[5.08],[5.01],[5.01],[4.7],[5.58],[3.58],[4.17],[4.17],[5.25],[4.09],[4.91],[5.01],[4.09],[4.61],[4.87],[4.79],[4.78],[5.37],[4.74],[4.38],[3.81],[4.87],[4.98],[4.7],[5.19],[4.61],[4.38],[5.3],[5.5],[6.05],[4.17],[4.98],[5.01],[4.44],[5.48],[4.53],[5.07],[5.56],[4.17],[4.49],[4.61],[4.61],[4.84],[5.87],[4.22],[5.7],[5.3],[3.22],[3.69],[4.61],[5.52],[3.56],[4.73],[5.11],[4.38],[4.25],[4.17],[4.01],[3.91],[6.11],[4.6],[5.01],[4.83],[4.09],[4.25],[4.32],[4.87],[3.91],[4.61],[5.19],[5.98],[4.91],[4.25],[5.48],[4.53],[4.25],[5.29],[3.91],[5.01],[3.66],[4.5],[4.79],[4.63],[5.22],[5.04],[4.5],[4.87],[4.09],[4.17],[3.89],[5.3],[4.58],[4.17],[3.91],[3.47],[3.66],[5.04],[5.01],[4.93],[3.91],[3.91],[4.79],[5.89],[4.37],[4.7],[5.19],[5.01],[4.7],[4.62],[5.52],[3.91],[4.09],[4.01],[6.48],[5.3],[3.69],[4.09],[4.49],[4.25],[4.17],[4.44],[5.52],[4.61],[7.15],[4.37],[5.01],[4.7],[4.74],[4.6],[4.01],[4.13],[5.6],[5.52],[3.56],[4.74],[4.09],[4.79],[5.16],[4.82],[5.29],[3.58],[4.77],[5.7],[4.55],[3.87],[3.81],[4.61],[4.17],[4.6],[3.37],[4.79],[4.93],[5.08],[6.91],[4.61],[5.7],[3.81],[4.5],[3.83],[4.7],[4.83],[4.41],[5.7],[5.19],[4.23],[5.25],[5.7],[3.69],[5.11],[4.55],[6.33],[5.3],[4.28],[5.42],[3.97],[5.63],[3.4],[4.09],[4.58],[4.5],[4.69],[4.13],[4.7],[4.44],[5.23],[5.7],[4.17],[3.69],[3.89],[4.55],[4.32],[4.44],[4.38],[5.46],[5.52],[3.91],[3.37],[4.32],[4.61],[3.91],[4.7],[3.91],[4.79],[3.91],[4.79],[4.23],[4.17],[4.79],[4.37],[4.74],[3.81],[4.17],[5.29],[4.38],[5.16],[4.04],[4.98],[4.91],[5.3],[5.01],[5.39],[4.48],[4.79],[5.7],[4.17],[5.67],[5.7],[5.01],[5.0],[4.85],[4.86],[4.91],[6.05],[3.93],[4.22],[4.65],[4.32],[4.5],[3.81],[3.56],[4.32],[3.87],[4.09],[5.63],[4.38],[5.99],[3.91],[4.74],[4.61],[4.06],[3.66],[4.37],[4.58],[4.87],[4.25],[5.27],[5.13],[4.09],[5.99],[5.49],[4.32],[5.14],[5.7],[3.5],[3.74],[4.7],[4.01],[4.94],[4.6],[4.58],[3.85],[4.09],[5.01],[4.32],[4.61],[5.42],[3.69],[4.09],[4.17],[6.48],[4.38],[5.0],[4.26],[4.38],[4.32],[3.69],[4.44],[5.23],[5.29],[4.61],[4.61],[4.5],[3.58],[4.61],[4.61],[4.09],[4.65],[4.32],[4.55],[5.91],[5.08],[4.7],[3.91],[5.13],[4.49],[5.3],[4.6],[5.3],[5.14],[5.11],[6.62],[4.91],[5.24],[4.83],[5.22],[3.91],[4.08],[3.64],[3.91],[4.17],[4.54],[3.81],[3.74],[4.98],[3.91],[4.84],[4.6],[3.81],[4.78],[4.49],[4.32],[5.52],[4.3],[5.3],[4.5],[4.94],[4.32],[4.93],[4.72],[4.6],[4.44],[4.32],[5.99],[4.74],[5.14],[4.44],[4.55],[3.81],[5.01],[4.25],[5.11],[5.52],[4.78],[4.44],[3.74],[5.16],[3.58],[4.69],[6.11],[4.6],[4.22],[6.21],[4.83],[4.79],[5.86],[4.61],[3.56],[3.43],[4.5],[4.65],[3.64],[4.01],[3.91],[4.79],[7.31],[4.09],[4.5],[4.61],[4.17],[5.35],[5.16],[5.08],[4.48],[5.29],[4.09],[4.2],[5.0],[4.09],[5.35],[4.87],[5.6],[3.0],[5.67],[4.48],[5.52],[4.11],[5.39],[3.91],[4.09],[6.91],[3.91],[4.87],[3.69],[5.3],[4.7],[4.56],[4.06],[5.01],[4.09],[4.83],[3.69],[5.27],[5.98],[4.69],[5.16],[4.25],[4.09],[4.29],[4.32],[4.09],[4.48],[5.62],[4.32],[3.26],[5.3],[3.81],[5.52],[7.03],[4.61],[5.16],[4.36],[4.37],[4.75],[5.29],[4.23],[4.09],[3.5],[5.52],[5.11],[5.16],[4.32],[4.23],[4.98],[5.7],[3.56],[4.32],[5.78],[4.61],[5.08],[5.27],[4.55],[5.3],[4.79],[4.61],[4.61],[3.85],[4.5],[4.55],[5.19],[4.25],[4.17],[5.01],[4.03],[6.04],[4.65],[4.83],[5.56],[4.44],[5.01],[3.89],[3.89],[5.56],[4.5],[3.81],[5.7],[3.89],[5.06],[6.21],[4.69],[6.21],[4.49],[5.29],[5.16],[5.8],[4.32],[5.42],[4.44],[5.3],[5.16],[5.01],[4.09],[4.25],[4.87],[5.58],[6.16],[4.44],[6.1],[5.19],[4.79],[4.7],[5.01],[6.21],[5.63],[4.83],[3.89],[5.42],[4.09],[4.7],[4.17],[5.08],[4.7],[4.09],[4.09],[5.3],[4.65],[4.09],[3.91],[4.98],[4.25],[4.87],[3.83],[4.6],[4.61],[5.62],[5.3],[5.97],[4.25],[3.91],[4.36],[3.91],[5.43],[4.78],[3.99],[4.01],[5.7],[3.26],[3.91],[4.32],[6.93],[4.57],[5.14],[4.09],[5.14],[4.32],[3.81],[5.3],[4.83],[5.01],[3.91],[5.5],[4.87],[4.5],[4.32],[4.22],[4.34],[5.48],[4.09],[4.44],[4.17],[4.61],[3.69],[4.25],[5.3],[5.16],[4.61],[4.83],[4.7],[3.76],[3.61],[4.44],[4.61],[5.0],[3.69],[4.09],[4.08],[5.16],[4.87],[4.79],[3.89],[3.66],[5.32],[5.16],[4.32],[5.52],[4.7],[5.04],[4.25],[3.09],[5.7],[4.6],[5.19],[3.93],[5.01],[6.68],[4.55],[5.52],[5.46],[5.38],[5.29],[6.11],[4.01],[5.89],[5.08],[5.99],[3.91],[3.14],[4.38],[4.32],[4.37],[5.3],[3.85],[4.17],[3.81],[4.09],[5.19],[4.61],[4.61],[4.91],[5.16],[4.44],[5.39],[4.83],[5.7],[4.38],[3.91],[4.37],[5.52],[4.25],[4.6],[4.25],[5.01],[5.99],[5.72],[5.29],[4.89],[5.08],[4.61],[4.61],[4.14],[4.34],[5.39],[5.52],[5.27],[4.7],[4.61],[5.52],[4.61],[3.91],[5.3],[5.16],[3.69],[5.11],[3.69],[4.17],[5.41],[4.17],[4.61],[4.04],[3.91],[4.98],[7.0],[4.7],[4.38],[4.01],[5.07],[4.49],[6.1],[4.17],[3.81],[4.32],[5.52],[5.69],[5.42],[3.5],[5.43],[3.91],[5.7],[4.69],[5.01],[4.84],[4.06],[4.17],[4.32],[6.06],[4.38],[3.81],[5.3],[3.78],[4.68],[4.54],[5.01],[5.0],[3.81],[3.91],[3.91],[4.25],[4.65],[4.78],[5.14],[5.5],[5.43],[3.91],[4.74],[5.27],[4.61],[4.17],[3.56],[4.87],[3.81],[4.5],[4.25],[5.39],[5.3],[3.78],[4.32],[4.5],[4.32],[4.7],[4.5],[4.47],[4.45],[4.17],[5.08],[5.3],[4.61],[3.69],[5.48],[4.5],[5.29],[5.22],[4.01],[6.11],[5.72],[4.5],[4.22],[5.14],[5.21],[4.08],[4.09],[4.79],[4.57],[6.4],[4.94],[4.14],[4.51],[5.04],[3.69],[5.07],[3.81],[4.03],[5.11],[4.79],[4.61],[4.5],[4.61],[4.7],[4.93],[5.69],[4.61],[4.75],[5.1],[5.19],[4.38],[5.01],[5.78],[5.0],[4.61],[4.44],[4.09],[5.42],[4.38],[4.49],[5.68],[4.03],[4.38],[3.69],[5.16],[4.09],[3.61],[4.25],[3.81],[5.86],[3.69],[5.01],[4.94],[3.69],[4.09],[4.98],[5.52],[4.61],[4.17],[5.01],[5.3],[5.69],[4.06],[4.61],[4.74],[5.04],[3.56],[4.33],[5.19],[4.98],[4.09],[4.78],[4.17],[5.02],[4.22],[5.63],[4.61],[3.91],[4.83],[5.01],[4.38],[4.83],[3.91],[4.83],[5.16],[5.01],[4.74],[4.09],[5.37],[5.3],[4.25],[5.01],[3.64],[4.7],[4.87],[4.2],[4.87],[4.78],[4.83],[5.78],[5.19],[4.61],[5.3],[4.85],[5.3],[4.87],[4.97],[4.61],[5.52],[5.01],[4.61],[5.7],[3.56],[4.36],[5.63],[4.01],[4.32],[4.17],[5.44],[5.0],[7.46],[5.19],[5.7],[4.58],[5.86],[4.5],[4.65],[5.29],[4.32],[4.94],[5.01],[5.86],[4.25],[4.29],[5.86],[5.3],[4.61],[5.01],[4.67],[5.29],[4.17],[4.38],[6.11],[6.11],[5.14],[5.08],[4.09],[4.25],[5.62],[4.79],[4.38],[3.91],[4.51],[4.23],[5.69],[4.01],[5.27],[5.62],[4.61],[4.8],[5.0],[5.8],[4.09],[4.61],[3.91],[4.25],[4.53],[5.86],[5.02],[5.35],[4.17],[4.89],[4.61],[4.79],[5.01],[4.5],[5.44],[4.63],[5.54],[5.7],[3.22],[5.01],[4.26],[4.19],[4.94],[4.49],[4.32],[5.99],[4.87],[3.91],[4.55],[4.09],[5.11],[6.55],[3.81],[3.81],[4.17],[4.5],[4.72],[4.25],[4.04],[5.39],[4.61],[4.17],[4.09],[4.55],[4.74],[4.7],[5.63],[5.27],[4.79],[4.38],[5.06],[4.6],[3.4],[5.7],[4.7],[5.63],[4.83],[5.06],[5.78],[3.91],[4.93],[5.24],[4.91],[4.01],[4.32],[6.11],[4.25],[4.43],[4.25],[3.87],[3.61],[4.6],[4.44],[5.32],[5.7],[3.56],[5.39],[5.83],[6.21],[4.25],[5.01],[4.2],[5.96],[4.61],[3.76],[5.3],[3.64],[5.48],[4.25],[5.07],[4.38],[3.64],[4.38],[5.05],[4.43],[5.62],[4.6],[5.48],[4.55],[5.51],[5.13],[4.36],[4.5],[3.89],[5.69],[4.7],[3.69],[6.4],[4.91],[4.25],[4.61],[4.7],[4.81],[4.69],[4.17],[4.91],[3.69],[5.7],[4.49],[4.98],[4.66],[5.19],[4.5],[5.7],[5.22],[4.6],[3.91],[4.09],[4.32],[5.24],[4.61],[4.94],[4.7],[4.09],[4.09],[4.44],[5.11],[5.52],[4.48],[5.42],[4.09],[3.22],[4.94],[4.72],[5.11],[4.32],[4.32],[5.01],[4.58],[4.94],[4.74],[5.0],[4.38],[3.81],[4.09],[4.01],[4.44],[4.38],[3.81],[5.17],[4.06],[5.01],[5.44],[4.38],[3.56],[4.98],[4.32],[5.52],[4.61],[5.3],[5.39],[5.62],[4.78],[4.51],[4.08],[4.58],[4.32],[5.39],[4.32],[4.38],[5.7],[5.3],[4.25],[3.69],[5.88],[5.7],[4.25],[5.14],[3.4],[3.09],[3.37],[5.0],[5.22],[5.14],[3.81],[5.62],[4.94],[5.7],[4.5],[5.29],[4.61],[4.06],[3.93],[5.39],[3.97],[5.11],[4.5],[5.3],[4.79],[5.5],[5.29],[4.87],[5.14],[4.32],[4.38],[5.3],[4.84],[5.32],[5.99],[3.74],[5.3],[4.5],[5.16],[5.3],[4.79],[4.44],[4.45],[4.34],[5.01],[4.65],[3.4],[3.91],[4.38],[4.61],[3.56],[5.3],[4.87],[4.86],[4.82],[4.98],[3.56],[4.83],[4.25],[4.37],[4.79],[4.38],[5.16],[5.7],[4.79],[4.36],[5.08],[3.81],[4.93],[4.44],[4.32],[4.74],[6.87],[4.32],[3.91],[4.01],[4.65],[5.11],[5.27],[4.55],[3.76],[4.01],[4.83],[4.38],[4.38],[4.44],[5.33],[4.29],[5.86],[4.83],[4.79],[4.5],[3.85],[4.38],[4.74],[4.87],[4.17],[4.61],[4.38],[4.38],[3.69],[4.38],[4.82],[5.86],[4.32],[5.01],[4.38],[5.99],[5.99],[5.19],[4.44],[3.95],[5.3],[4.55],[3.81],[5.08],[4.79],[3.85],[4.55],[4.38],[6.21],[4.09],[3.69],[4.38],[4.6],[4.32],[4.25],[4.09],[5.01],[3.91],[4.33],[5.23],[3.76],[5.7],[4.25],[3.91],[4.38],[5.56],[4.32],[5.11],[4.94],[4.47],[4.32],[4.7],[3.69],[3.91],[3.81],[4.87],[5.01],[4.6],[3.69],[5.78],[4.38],[4.17],[5.94],[5.42],[4.17],[5.52],[3.89],[5.39],[5.0],[5.16],[3.69],[4.32],[4.5],[4.44],[3.81],[4.32],[5.99],[4.74],[4.13],[4.11],[4.61],[5.23],[4.32],[4.47],[5.25],[3.71],[5.04],[4.83],[3.58],[5.42],[3.66],[4.3],[5.01],[4.32],[5.42],[3.81],[5.7],[4.5],[5.14],[6.34],[3.91],[5.08],[4.38],[3.91],[3.91],[5.01],[5.13],[5.29],[4.09],[5.3],[4.16],[4.09],[4.22],[4.13],[4.79],[4.79],[5.7],[5.52],[4.83],[4.09],[4.6],[4.23],[4.61],[4.79],[4.25],[4.09],[4.6],[4.47],[5.7],[4.61],[5.0],[4.16],[5.01],[5.01],[5.86],[5.39],[4.44],[4.32],[4.55],[5.69],[4.28],[5.7],[6.68],[4.26],[5.35],[3.91],[4.6],[4.87],[5.67],[4.61],[4.7],[3.81],[4.61],[4.7],[4.61],[3.69],[4.25],[3.85],[5.08],[6.4],[4.6],[4.17],[5.22],[3.56],[4.17],[5.52],[4.79],[5.07],[4.74],[5.19],[5.59],[5.12],[5.29],[5.16],[5.63],[5.3],[5.0],[4.25],[3.69],[4.55],[4.79],[4.7],[4.5],[3.91],[5.35],[3.47],[4.9],[4.7],[5.01],[4.6],[5.11],[4.23],[5.7],[5.3],[5.42],[4.32],[5.08],[3.81],[3.83],[5.13],[3.22],[3.91],[5.16],[4.09],[4.25],[4.79],[5.29],[4.28],[4.01],[5.99],[4.79],[6.16],[3.99],[4.83],[5.42],[4.7],[4.34],[4.01],[4.72],[4.16],[3.85],[6.55],[4.61],[4.38],[4.95],[5.78],[4.36],[5.01],[4.37],[4.01],[4.87],[3.69],[5.14],[5.16],[5.99],[4.61],[4.23],[4.83],[6.17],[3.91],[5.99],[4.94],[6.11],[5.14],[5.52],[5.56],[3.89],[5.01],[4.36],[3.89],[5.22],[5.11],[4.7],[4.37],[4.98],[4.44],[4.61],[4.61],[4.01],[4.94],[4.09],[4.32],[5.19],[5.21],[4.79],[5.16],[4.83],[6.21],[5.16],[4.53],[5.07],[5.62],[6.71],[3.91],[4.83],[3.85],[5.08],[5.01],[4.83],[4.08],[5.61],[4.87],[4.38],[5.52],[5.3],[4.49],[5.16],[4.66],[4.79],[3.69],[4.23],[3.91],[6.08],[5.01],[5.35],[5.16],[3.91],[5.98],[5.11],[5.42],[4.55],[4.78],[3.91],[4.44],[5.01],[5.68],[4.38],[4.38],[4.5],[5.32],[5.19],[5.52],[4.6],[4.38],[4.93],[5.14],[4.5],[4.09],[4.17],[4.61],[4.83],[4.01],[5.01],[5.3],[5.3],[5.3],[5.01],[5.99],[4.25],[5.01],[5.63],[5.0],[5.11],[4.32],[4.65],[5.01],[5.35],[4.74],[4.74],[4.25],[4.25],[5.7],[4.84],[4.75],[4.98],[5.59],[3.56],[6.2],[5.39],[6.4],[5.04],[5.52],[4.38],[3.0],[3.56],[5.13],[4.25],[4.91],[4.7],[4.09],[4.86],[5.28],[3.91],[4.01],[5.67],[4.09],[5.0],[3.81],[5.7],[4.8],[4.87],[5.0],[3.99],[6.21],[4.6],[5.3],[4.01],[4.79],[4.23],[4.25],[4.65],[5.52],[4.01],[4.91],[4.25],[6.29],[5.39],[4.83],[4.74],[4.09],[4.17],[3.81],[4.54],[5.3],[5.86],[3.4],[6.04],[5.48],[4.55],[4.83],[4.38],[5.14],[3.69],[4.23],[4.53],[4.51],[5.25],[4.25],[4.44],[3.81],[5.16],[4.32],[3.89],[4.09],[3.64],[5.01],[4.55],[3.89],[4.92],[4.25],[3.95],[4.43],[4.94],[5.29],[5.99],[6.09],[4.09],[4.23],[4.87],[5.52],[4.98],[5.3],[4.55],[4.09],[4.49],[5.3],[4.7],[4.32],[5.18],[5.16],[4.3],[3.81],[4.61],[4.32],[5.52],[4.61],[4.36],[5.3],[4.83],[5.08],[4.09],[3.74],[4.17],[5.37],[5.01],[4.09],[4.01],[4.01],[4.79],[4.09],[4.01],[3.37],[4.44],[4.25],[4.16],[5.18],[4.7],[4.87],[5.42],[5.3],[5.52],[5.86],[4.01],[4.88],[5.16],[3.3],[4.73],[4.5],[5.01],[5.01],[4.61],[4.58],[3.95],[4.23],[4.08],[4.79],[5.01],[4.83],[4.6],[4.17],[3.69],[3.81],[4.55],[4.79],[4.61],[4.61],[4.32],[4.17],[5.3],[4.32],[4.83],[6.21],[4.88],[4.17],[6.21],[4.94],[5.42],[5.67],[4.32],[4.44],[4.37],[4.17],[3.81],[4.09],[5.62],[5.34],[6.38],[5.52],[5.3],[5.62],[4.32],[4.61],[4.38],[4.17],[5.99],[4.01],[3.71],[7.0],[4.09],[3.91],[4.55],[4.38],[5.3],[4.44],[4.44],[5.87],[4.61],[3.74],[4.79],[5.25],[4.94],[4.94],[4.63],[7.31],[4.61],[4.91],[3.91],[4.87],[4.09],[5.7],[5.3],[5.0],[4.38],[4.17],[4.17],[3.37],[4.61],[5.01],[4.74],[4.09],[5.3],[5.16],[4.83],[4.79],[5.52],[4.69],[3.91],[3.69],[4.09],[4.61],[4.44],[4.49],[4.25],[4.25],[5.86],[4.37],[5.7],[4.94],[5.0],[5.77],[4.09],[6.11],[3.91],[4.6],[3.53],[4.17],[3.56],[4.91],[5.39],[4.61],[5.39],[4.7],[4.98],[3.78],[4.84],[5.25],[4.32],[5.51],[4.61],[5.42],[4.61],[4.5],[5.06],[5.25],[3.91],[5.09],[4.61],[5.01],[3.74],[5.75],[4.23],[5.7],[5.52],[4.61],[4.79],[3.91],[4.79],[4.38],[3.87],[5.01],[5.29],[4.5],[4.32],[4.32],[3.91],[4.17],[5.7],[5.44],[4.48],[5.42],[5.65],[5.6],[5.99],[5.3],[5.3],[4.5],[5.03],[4.32],[5.63],[3.83],[4.17],[3.91],[5.01],[4.7],[5.01],[4.44],[4.16],[6.21],[5.52],[4.38],[3.66],[4.93],[4.79],[4.22],[4.98],[3.69],[5.01],[5.52],[3.53],[3.81],[5.52],[4.25],[4.09],[4.48],[4.83],[5.7],[5.93],[4.17],[5.3],[4.09],[4.38],[5.01],[6.01],[3.64],[5.01],[5.3],[4.38],[4.91],[5.08],[4.38],[4.74],[4.54],[3.91],[4.01],[4.79],[4.6],[4.69],[5.3],[4.69],[4.5],[6.4],[3.69],[3.74],[4.55],[5.86],[4.3],[4.79],[4.98],[3.95],[4.43],[5.35],[5.93],[3.89],[5.3],[4.19],[4.62],[4.61],[4.17],[3.89],[4.69],[4.79],[5.7],[5.11],[5.3],[4.55],[4.56],[5.3],[5.07],[4.91],[5.01],[4.23],[4.38],[4.47],[4.87],[5.04],[4.38],[4.32],[5.22],[5.7],[3.58],[3.69],[4.38],[5.01],[5.06],[4.38],[3.81],[3.56],[4.09],[4.74],[5.19],[4.79],[5.08],[4.32],[4.3],[4.65],[4.49],[5.3],[4.09],[4.61],[3.89],[6.11],[4.87],[5.44],[5.0],[4.5],[4.91],[4.09],[4.83],[4.61],[4.61],[4.17],[4.09],[4.09],[4.79],[4.28],[4.09],[4.38],[4.09],[6.11],[6.02],[4.38],[4.49],[4.36],[4.83],[4.25],[3.91],[5.13],[5.99],[5.65],[4.49],[4.78],[4.37],[4.17],[4.6],[6.2],[4.72],[5.3],[4.79],[4.6],[6.68],[3.91],[7.06],[4.25],[5.06],[3.83],[4.7],[4.79],[4.94],[5.16],[3.81],[3.3],[4.79],[3.81],[4.38],[4.83],[4.61],[3.71],[4.32],[5.3],[6.21],[5.0],[5.44],[4.22],[3.91],[4.37],[3.91],[4.6],[3.89],[6.57],[5.86],[4.61],[5.52],[5.44],[5.01],[3.69],[4.47],[5.67],[4.09],[4.74],[4.09],[4.61],[5.08],[5.16],[3.53],[4.7],[4.61],[4.09],[4.61],[4.94],[4.25],[4.32],[4.74],[5.3],[4.01],[6.21],[5.08],[3.76],[4.87],[4.65],[4.91],[4.79],[4.44],[4.25],[3.85],[4.83],[5.52],[3.91],[3.91],[4.5],[5.02],[6.4],[5.01],[4.44],[4.32],[5.25],[4.01],[4.79],[4.78],[5.8],[5.52],[4.61],[5.19],[5.78],[5.01],[4.61],[4.01],[4.17],[4.76],[3.61],[5.04],[4.55],[4.7],[4.25],[4.25],[4.06],[4.17],[3.56],[4.7],[4.56],[5.42],[4.61],[3.91],[5.01],[4.98],[3.76],[4.55],[4.58],[4.55],[5.16],[4.73],[4.61],[5.22],[4.78],[4.17],[3.81],[4.55],[5.42],[4.23],[4.25],[4.01],[4.98],[4.49],[3.56],[5.39],[5.3],[4.74],[4.79],[4.44],[4.44],[4.52],[5.27],[4.17],[4.38],[4.6],[4.61],[5.24],[5.42],[4.44],[6.62],[5.52],[4.09],[4.44],[4.79],[5.0],[4.32],[4.79],[4.94],[5.01],[6.68],[4.69],[4.3],[6.2],[5.01],[5.18],[5.83],[3.95],[3.91],[6.8],[5.58],[4.09],[4.49],[5.52],[3.81],[5.01],[4.87],[4.87],[5.52],[4.34],[3.83],[5.13],[4.17],[5.69],[5.01],[5.91],[4.42],[4.08],[5.01],[6.11],[4.32],[4.25],[3.69],[5.19],[4.81],[3.93],[4.25],[5.3],[5.52],[5.7],[4.7],[4.74],[3.74],[4.32],[4.7],[4.32],[5.01],[4.44],[5.5],[4.87],[5.99],[4.13],[5.01],[5.01],[3.69],[4.61],[4.7],[6.31],[4.83],[3.91],[4.6],[5.52],[4.79],[3.56],[4.87],[5.2],[4.79],[4.83],[4.17],[6.31],[5.16],[5.07],[5.01],[4.01],[5.52],[4.38],[4.17],[4.55],[5.48],[4.79],[5.86],[5.3],[5.01],[5.42],[3.91],[4.6],[5.07],[4.6],[4.25],[4.44],[5.3],[5.56],[5.78],[5.46],[4.09],[4.23],[4.44],[4.5],[6.68],[5.19],[4.32],[5.19],[4.85],[4.47],[4.25],[4.32],[3.91],[3.74],[3.91],[5.01],[5.19],[4.25],[4.61],[5.27],[6.55],[5.28],[4.51],[4.61],[4.01],[5.25],[4.08],[4.3],[5.94],[4.98],[3.69],[5.52],[4.79],[5.67],[5.99],[5.24],[4.61],[4.87],[5.19],[5.98],[3.81],[4.94],[4.38],[4.32],[4.83],[3.89],[5.95],[4.44],[4.47],[5.01],[3.91],[4.61],[4.94],[5.45],[4.87],[5.69],[5.3],[4.87],[5.08],[4.94],[3.91],[5.08],[4.5],[4.88],[4.01],[3.81],[4.17],[7.24],[4.55],[4.17],[4.79],[4.17],[4.23],[3.4],[5.22],[4.42],[3.56],[4.61],[4.13],[4.38],[5.52],[4.61],[5.99],[4.69],[6.11],[4.55],[5.3],[4.09],[4.25],[4.94],[5.42],[4.75],[4.83],[4.94],[4.17],[4.83],[4.17],[5.01],[5.39],[3.91],[4.55],[4.09],[4.38],[4.94],[4.87],[5.3],[4.6],[4.01],[5.52],[5.01],[3.66],[4.83],[4.61],[5.25],[5.01],[4.91],[4.7],[3.66],[4.91],[4.32],[6.4],[5.3],[5.37],[5.3],[4.5],[4.09],[3.66],[4.94],[4.17],[5.43],[3.56],[4.53],[5.12],[4.7],[4.6],[5.39],[3.81],[5.25],[4.25],[5.0],[5.19],[4.43],[4.84],[3.91],[4.74],[4.38],[4.61],[4.38],[5.88],[5.5],[3.81],[5.01],[4.7],[6.68],[4.09],[5.52],[3.91],[4.01],[5.0],[5.7],[4.01],[3.91],[4.09],[5.3],[4.98],[4.51],[5.29],[6.91],[4.23],[4.61],[4.23],[5.37],[4.32],[5.93],[5.16],[5.3],[5.01],[5.01],[4.01],[3.81],[4.5],[4.28],[4.43],[5.07],[5.42],[4.09],[4.61],[4.83],[5.16],[5.3],[4.61],[4.38],[4.32],[4.5],[3.69],[5.52],[5.01],[4.79],[4.74],[5.62],[3.89],[5.99],[4.32],[5.08],[4.55],[5.52],[4.43],[4.62],[3.56],[4.44],[4.38],[6.21],[4.5],[5.52],[5.48],[4.11],[4.5],[5.42],[4.38],[5.69],[4.87],[5.14],[6.48],[3.91],[3.83],[4.91],[6.21],[4.44],[3.97],[6.11],[5.19],[3.64],[4.61],[4.08],[5.15],[4.61],[5.3],[5.3],[4.94],[5.7],[4.79],[4.55],[3.91],[5.08],[4.09],[5.25],[4.91],[4.17],[4.91],[5.3],[4.38],[4.25],[5.86],[5.41],[4.09],[4.87],[4.09],[5.11],[5.3],[4.85],[4.91],[4.94],[4.87],[4.61],[4.44],[4.79],[5.7],[4.54],[5.2],[4.51],[3.3],[5.78],[4.48],[4.06],[5.52],[4.19],[4.38],[3.81],[4.61],[4.17],[5.3],[5.52],[5.52],[3.58],[4.79],[4.38],[3.91],[4.09],[5.01],[4.5],[5.52],[4.96],[4.09],[4.38],[5.02],[4.65],[4.93],[4.38],[4.32],[4.01],[5.24],[4.23],[4.32],[3.99],[4.74],[4.61],[4.01],[5.07],[4.6],[4.09],[5.29],[4.98],[5.13],[5.08],[5.27],[4.7],[6.21],[4.55],[4.91],[4.17],[4.09],[4.04],[3.58],[4.65],[5.29],[3.97],[5.54],[5.0],[5.42],[4.7],[5.41],[5.39],[6.8],[6.51],[4.91],[4.32],[4.38],[5.7],[5.01],[4.83],[6.1],[4.41],[5.01],[4.01],[4.3],[5.7],[4.83],[5.08],[4.61],[5.01],[4.86],[4.08],[4.08],[3.81],[4.5],[3.91],[4.83],[4.61],[3.71],[4.28],[4.61],[4.61],[4.26],[4.8],[4.32],[5.29],[4.79],[4.44],[4.44],[4.38],[4.87],[3.56],[5.56],[5.01],[4.72],[3.56],[5.39],[3.89],[3.76],[3.78],[5.08],[4.61],[5.12],[5.29],[4.6],[5.52],[5.29],[4.44],[4.17],[3.69],[4.44],[4.32],[4.5],[5.29],[5.22],[5.19],[3.58],[4.01],[4.01],[5.27],[4.6],[4.09],[5.19],[5.42],[5.52],[5.11],[5.24],[4.23],[4.55],[5.28],[5.56],[4.91],[4.14],[5.08],[5.01],[5.25],[4.38],[3.61],[5.16],[3.91],[4.5],[4.55],[6.36],[6.54],[4.79],[5.01],[4.17],[3.69],[5.39],[5.2],[5.62],[4.55],[5.22],[5.27],[4.3],[4.79],[4.01],[7.31],[4.09],[4.38],[5.08],[4.49],[5.08],[3.81],[4.09],[4.74],[4.01],[4.17],[5.07],[4.17],[4.91],[4.16],[5.29],[3.97],[4.94],[4.38],[3.69],[5.3],[5.01],[4.83],[4.61],[5.3],[4.83],[4.69],[4.32],[4.44],[5.08],[5.04],[5.7],[5.95],[4.78],[5.01],[4.32],[4.91],[5.08],[4.96],[5.19],[5.19],[4.5],[3.91],[4.04],[4.44],[4.93],[4.32],[5.19],[4.61],[5.3],[5.12],[5.29],[5.01],[4.94],[5.01],[4.37],[5.3],[4.79],[5.54],[4.61],[5.44],[4.8],[3.91],[5.99],[4.32],[4.09],[5.01],[4.5],[4.77],[5.3],[5.52],[4.09],[4.74],[5.52],[4.61],[4.48],[3.91],[5.17],[5.19],[4.38],[5.27],[5.01],[5.22],[3.69],[4.6],[4.98],[5.13],[3.91],[4.23],[4.23],[4.49],[3.81],[5.01],[4.5],[4.55],[4.49],[5.52],[4.5],[4.39],[4.23],[3.4],[3.97],[4.83],[4.28],[5.58],[3.91],[4.79],[4.74],[4.17],[5.69],[4.38],[4.75],[5.16],[5.7],[5.19],[4.61],[4.38],[4.49],[5.15],[5.19],[5.3],[5.78],[4.38],[4.49],[4.08],[3.56],[6.11],[4.61],[4.17],[4.08],[4.74],[5.86],[4.17],[4.01],[4.37],[4.09],[3.91],[5.14],[5.52],[4.87],[5.01],[4.38],[4.44],[3.66],[5.3],[5.84],[5.11],[5.01],[5.19],[4.87],[4.7],[4.61],[4.61],[4.38],[5.3],[5.16],[4.69],[3.91],[4.49],[3.22],[4.34],[4.83],[4.26],[5.56],[5.3],[5.86],[5.25],[5.86],[4.57],[5.02],[5.99],[4.5],[4.86],[4.26],[4.61],[5.42],[4.23],[4.79],[3.81],[4.87],[5.2],[5.48],[5.3],[4.14],[3.74],[4.09],[4.38],[4.79],[5.7],[4.98],[4.61],[4.09],[5.19],[4.36],[4.55],[5.3],[5.27],[5.3],[4.65],[5.01],[3.95],[4.38],[4.5],[5.25],[4.74],[4.5],[4.44],[3.66],[4.44],[4.91],[5.01],[4.32],[4.94],[3.76],[3.71],[4.79],[4.32],[1.61],[4.7],[5.01],[3.87],[3.91],[4.61],[4.78],[5.14],[4.98],[4.61],[4.32],[4.37],[5.27],[4.39],[5.52],[5.25],[4.17],[5.99],[4.09],[3.69],[4.58],[4.61],[4.09],[3.66],[5.01],[4.61],[3.91],[5.01],[4.87],[4.5],[5.39],[4.61],[4.16],[4.83],[5.01],[3.89],[4.5],[4.37],[5.7],[4.86],[5.78],[3.81],[3.91],[5.59],[4.74],[4.25],[6.21],[5.01],[5.08],[4.83],[4.9],[4.17],[4.32],[5.22],[5.7],[4.87],[4.65],[6.02],[4.83],[5.86],[5.21],[4.54],[4.32],[4.25],[5.02],[4.5],[4.25],[4.79],[5.01],[4.5],[4.08],[5.01],[5.7],[5.19],[4.48],[4.62],[3.87],[3.91],[5.01],[4.5],[4.26],[4.17],[3.58],[4.98],[4.3],[4.87],[3.91],[4.83],[5.29],[4.68],[4.25],[5.01],[3.91],[5.95],[4.09],[4.79],[4.44],[4.32],[4.87],[5.05],[4.01],[4.38],[4.94],[5.03],[4.7],[5.23],[5.3],[4.38],[4.94],[5.3],[5.24],[4.55],[5.42],[5.01],[5.93],[4.01],[7.13],[5.3],[4.65],[4.5],[5.7],[5.01],[4.86],[3.56],[4.5],[6.48],[5.16],[4.55],[4.01],[3.91],[5.58],[5.52],[4.87],[3.91],[3.89],[4.91],[5.16],[4.83],[4.51],[3.91],[5.07],[4.75],[5.86],[5.17],[5.01],[3.91],[5.01],[4.32],[4.65],[4.09],[5.62],[4.23],[5.29],[5.39],[4.01],[4.2],[4.83],[5.01],[3.91],[3.61],[4.61],[4.32],[4.83],[3.91],[4.79],[4.56],[5.07],[4.61],[5.52],[4.38],[4.09],[4.5],[5.5],[5.19],[4.77],[3.56],[4.37],[4.5],[4.09],[5.29],[4.32],[5.24],[3.95],[5.16],[3.81],[6.91],[5.52],[4.08],[4.17],[3.4],[4.61],[4.78],[4.61],[6.11],[5.52],[5.16],[5.16],[4.61],[6.11],[4.79],[4.42],[4.91],[6.21],[5.08],[4.33],[5.46],[5.01],[4.13],[5.67],[4.17],[4.44],[3.91],[6.05],[4.14],[5.11],[5.3],[4.79],[5.27],[5.59],[4.61],[3.91],[4.79],[4.93],[4.09],[5.16],[4.49],[4.17],[4.17],[5.01],[5.67],[4.6],[4.61],[4.5],[5.01],[3.81],[4.61],[4.09],[5.22],[4.25]],\"hovertemplate\":\"latitude=%{lat}<br>longitude=%{lon}<br>log_price=%{marker.color}<extra></extra>\",\"lat\":[40.768791639773454,40.6180588090156,40.81004627465128,40.70028154448701,40.6839849679042,40.76277805538303,40.81567824449628,40.71428849125557,40.718447845480256,40.653087204540334,40.66420530158397,40.72572084356296,40.72351379591324,40.69143129037303,40.706571997802094,40.65672661449771,40.77801403787971,40.76534574239861,40.7168234416728,40.71162966664324,40.6514152848546,40.82353216544745,40.75648015122521,40.79899972447296,40.72199825429343,40.79126129329685,40.81518681700209,40.66149469863728,40.661993200233496,40.650581293306345,40.76802660535618,40.70744705417839,40.7987210009263,40.77615788000207,40.71507142176424,40.68147241753449,40.59696156539114,40.71611182137357,40.736725019696216,40.807427511203095,40.78910505752469,40.67659291990043,40.71414065817969,40.69108654343973,40.76660400206729,40.732960852864416,40.68631416283257,40.68906843548113,40.77873664008671,40.75934656323511,40.722612171803725,40.701604540753024,40.7340162764513,40.725056960635534,40.85114043099628,40.759933017720606,40.69681959908356,40.74774560341608,40.72898339677004,40.6809304888104,40.76221849255428,40.83980354868881,40.84723061024568,40.70815858884875,40.71563232728531,40.72160044964267,40.80125874783603,40.71182798705912,40.68167868843764,40.75027174961807,40.74754619642757,40.71654182877293,40.73120316038586,40.76744376301503,40.71067460977749,40.730832248823376,40.716831044176026,40.6909814918028,40.67568537410892,40.72298648547477,40.75988543441015,40.78567908048692,40.76484631620525,40.73334242990004,40.682524140492745,40.80582058285149,40.714475860783175,40.77799385722516,40.74295973353962,40.64970328280151,40.68167520026262,40.619967928089366,40.67495191685224,40.753728682860974,40.8008152369792,40.721761071496616,40.67030257243951,40.69017004942202,40.81515299436095,40.705873182670494,40.64166792551152,40.720071457492736,40.71280281924496,40.76295019819357,40.77129473154547,40.84089638413947,40.76591993568096,40.658541039488114,40.71897191570917,40.64931143268928,40.772044691404616,40.783046166971424,40.808871147982174,40.77593077443235,40.68699362872298,40.65210045742477,40.76047734571453,40.70069588710322,40.68662040408776,40.76519870999825,40.8337899032918,40.71484129145153,40.736680576661854,40.83526250710186,40.68347817078389,40.76296529334787,40.71521620131861,40.596266232587546,40.67288605903863,40.79297060338705,40.66780818937698,40.73048568721464,40.65511788311243,40.74782681697109,40.76428316723567,40.72680343722936,40.69840349282365,40.70838061094422,40.80507584799869,40.73006695787886,40.79540221770744,40.60982868977724,40.78054564855047,40.69159809260096,40.726495030587,40.79605103843815,40.79752881405575,40.71895748157263,40.74949010631829,40.691049537466654,40.715487085127016,40.79623594919767,40.75836592845757,40.762902699303325,40.717290473320666,40.68106949472333,40.66718899958949,40.75254535069464,40.67681255807556,40.80446732134382,40.69197003492332,40.69411736629026,40.70066128064943,40.71327239385582,40.72481452055165,40.75024762025057,40.72759754045031,40.72736234281479,40.71695599741357,40.74637506678735,40.67937084115541,40.705406966397454,40.74609629380285,40.719872800161816,40.67603226470176,40.76831883695637,40.78025050465282,40.66096546352971,40.70823503445184,40.70046806769689,40.80989527812197,40.77210485304527,40.80272949003374,40.730886965423366,40.68664102055097,40.7035570817166,40.70124836162905,40.72064129293434,40.86271015300736,40.763775721120254,40.69541965679469,40.723176150106674,40.68982776506666,40.85826457496236,40.70863338604183,40.73001299437043,40.760619974889984,40.738538680516896,40.7439609576947,40.82589694405655,40.820713899723614,40.72707830893293,40.7440477637278,40.69840052308785,40.788044399972094,40.75621258163921,40.79483268043309,40.71411916790085,40.71328404773743,40.61919569886656,40.75035450501796,40.70440478948451,40.761848472443454,40.67778945108243,40.71701871755997,40.713458116221865,40.79632205382809,40.7882619683084,40.64000323034338,40.685798959954255,40.70743040721472,40.710349499118976,40.63270639024375,40.714236827731405,40.787431948024775,40.801257114533065,40.72066321072644,40.75464122464801,40.62550769183756,40.68653191875672,40.722759087620936,40.66660565591716,40.70490571909575,40.74668533158345,40.693446648947,40.75283656451301,40.74986921238697,40.716104798154944,40.771757515066966,40.6894916233161,40.66481700939641,40.69010384265408,40.68656953199309,40.72147515289684,40.72719411315721,40.706687176891066,40.682683429685866,40.71861696612586,40.69176061995936,40.75061144005981,40.75037176721651,40.83912246170324,40.72015389208292,40.723083384015816,40.80795533881749,40.72227494343237,40.7163082820227,40.71893626169441,40.7822198473536,40.71251195933957,40.72409740023541,40.68144326639717,40.831213770063,40.676872769801854,40.74442297803324,40.67319538704528,40.78408795210217,40.72621090523506,40.83261942960793,40.80270453088848,40.75010003299389,40.68070929036796,40.65663285418668,40.79845639054553,40.79815931813408,40.7359813861312,40.766193258687096,40.76450578795341,40.76615888806389,40.67423254648023,40.76443866758114,40.759188406473605,40.687857569360936,40.68195663721834,40.742180321054896,40.741263746596,40.68241069492336,40.72416334855969,40.73328995469721,40.75686709842221,40.7400126657455,40.70422291420646,40.70524611937249,40.72987333581816,40.74065176477534,40.743797391963184,40.71878620086597,40.70609162342723,40.806969162034726,40.72086205236592,40.66706560477246,40.68506652564988,40.81865677399345,40.78161696986781,40.635508545513055,40.67190717466488,40.689524681732905,40.72303593601711,40.76494682930481,40.787287915894666,40.796092924757424,40.67339391416028,40.74716568248429,40.76108197258181,40.794872324526345,40.7948451688838,40.752782037563655,40.7154394456001,40.82224918892655,40.77691050725253,40.69477332836512,40.80891876423289,40.69122036596672,40.82043721324556,40.78582772703504,40.799391071939375,40.714529774973705,40.74529669000828,40.66542895112463,40.66686174936217,40.68535327650414,40.76503386350036,40.68695012550141,40.65398022458204,40.68009240776153,40.81105663286817,40.67747436617968,40.72120462212339,40.69272011602053,40.67603035731396,40.81170902161536,40.72797766170191,40.7235589847954,40.727891640872095,40.76221895676022,40.66771567001896,40.59599650962599,40.7269568786848,40.72671718102538,40.7181183855036,40.68927488132925,40.803900423173296,40.77032089152573,40.74066460997546,40.75289553419597,40.8096493693316,40.64562744278425,40.68005644699929,40.76418084333796,40.67757496698455,40.87539783650092,40.64637008857322,40.82607831709628,40.72378521966914,40.69015587451012,40.64328236988074,40.68544230427055,40.74097716835814,40.70702980363739,40.74033773146184,40.76298210788535,40.76615722306879,40.729789346533,40.75381906499928,40.75886730320381,40.769653740109646,40.69206591371132,40.718157364179255,40.7516342232209,40.72973016118029,40.74911613712107,40.724376828310746,40.689936625581325,40.75929771267568,40.71986577608529,40.74109974562487,40.61778440671454,40.79369835586897,40.69015019412039,40.722759200096064,40.79256054027199,40.7428446619983,40.59577647424975,40.65322870585605,40.69651599468793,40.68376469716273,40.6863019841689,40.82961260854199,40.76299343287509,40.718471973568406,40.71014446279473,40.738313956741976,40.76683436477453,40.65688769527274,40.76017360866707,40.6790434285405,40.8178803722498,40.76796513608347,40.68342317912213,40.823361610587256,40.70561748744422,40.62200810630771,40.7636712034764,40.69961949045968,40.72839625622194,40.73411114434017,40.76554747648332,40.703263524747776,40.77236146928136,40.67192475080041,40.7280285118353,40.80326287565071,40.80668527979573,40.763134521954754,40.759352968311454,40.79350568220454,40.73068327123045,40.7284471032506,40.74779534049172,40.826638905712,40.79421083965389,40.71249849520958,40.85913781799357,40.79251852594432,40.81174899109248,40.65065140039248,40.681062769490936,40.68824159166408,40.75911370038836,40.77131888844325,40.675603662693725,40.7498676105537,40.77413145213974,40.71058047371711,40.75978404295636,40.82469067445985,40.67713683156389,40.67601195517109,40.68415712329169,40.82909453500464,40.84883793943792,40.744183550427664,40.68878727895372,40.8436213456485,40.75699479434476,40.68120503579785,40.72000456066704,40.77504316177027,40.72122507835309,40.73784711359252,40.75758799156944,40.75479414426223,40.681069427876814,40.75954611587421,40.719977875720666,40.66441138034317,40.801847417666615,40.68141703912172,40.69532082705279,40.6776239999147,40.728410444249725,40.71611052204546,40.67592060095704,40.67572187946725,40.64625723906735,40.80144699614703,40.67886105012225,40.707338809876816,40.60077588746784,40.86582313313187,40.82545819730522,40.77112905138225,40.75084687390099,40.76194245097325,40.729657164858494,40.726127248604605,40.67164996822272,40.87065916266849,40.785814272302495,40.67493528800272,40.76376663021789,40.67741041863261,40.68235785281246,40.73896657088123,40.732743814113775,40.7321166502129,40.765177897325465,40.72974790796406,40.691224137253386,40.69383986371496,40.6921823062669,40.72757078664189,40.76310741950265,40.76076394067963,40.76236722963076,40.72868101027705,40.707662076901,40.76422558620972,40.75977554850385,40.76123443939937,40.7977029357658,40.8260529808716,40.77689444118143,40.73385532511479,40.77121744626757,40.72334220208381,40.68889432818722,40.710088794099725,40.720156020318,40.70998666587183,40.79689745593948,40.764892721797686,40.70454921662085,40.75930051588496,40.74121961172728,40.69727803105072,40.78265464770927,40.7332550632848,40.71312369040445,40.81392483022538,40.68707102147727,40.69472998104269,40.76453959502378,40.77872763677064,40.67858304269721,40.70409922588812,40.72710282430421,40.67376503145504,40.64960745882349,40.72314596114124,40.68596565315049,40.652858334619104,40.67674209917039,40.75305295858485,40.67275198706231,40.68706310419813,40.71830805439839,40.71365826555309,40.6590025997504,40.74851685187683,40.682023481067965,40.76473375335985,40.7629891114247,40.71325563868916,40.722795876419696,40.75578325362819,40.7224455409745,40.857419544279615,40.71695503765751,40.85617264317732,40.67678730257811,40.73156764708097,40.80550736662854,40.67239117647949,40.73573561097376,40.66140697160936,40.69842224605149,40.681938491373394,40.74406808621784,40.70649891599094,40.68633870743055,40.6889817681571,40.69047584316107,40.73637061463096,40.79436600227931,40.61555250797807,40.74272700357452,40.69044596130979,40.68252379944728,40.76518000426128,40.67831646597872,40.725622226122496,40.72547269716606,40.75375793114535,40.61905398874835,40.6980791440374,40.69764542853319,40.76655996757349,40.78541374934553,40.7681001737337,40.76671601062782,40.751937846643685,40.72205155842232,40.72476065911549,40.72492817203575,40.62802563282233,40.69084432707917,40.66634913281345,40.75970027340375,40.705707856310326,40.68959877812392,40.753997874380936,40.68517121222621,40.671834545214345,40.74574925460257,40.65738541359344,40.76284261498986,40.74311821275557,40.73924190686459,40.791046138494266,40.69414366644416,40.72350300103179,40.59407686341925,40.71338735298087,40.73394386748068,40.76820990819972,40.68881380495829,40.80071536602689,40.86396385266646,40.72843649805736,40.79802445952561,40.71436598242854,40.68517304274168,40.7218847131394,40.78857209468704,40.7119847355774,40.72707357625449,40.77593669522216,40.77685751478661,40.79921283693477,40.68003385491088,40.73879357057696,40.71013443615016,40.68707278821393,40.80091179994301,40.72673699928769,40.761014091435385,40.79974329421058,40.697242876853686,40.67403836577844,40.76882104426856,40.64293110101417,40.8136059971781,40.76571212333409,40.68786131536497,40.71116237236623,40.712728778480354,40.80760604241839,40.72718195100015,40.70016777959929,40.721021184281696,40.6998638723364,40.7301795706878,40.76646387601596,40.69745208465489,40.69269099726348,40.71039941230639,40.683401040119904,40.646789413459615,40.72126029259379,40.74407271336344,40.74302513135312,40.68629655290911,40.78491887665452,40.6877795745264,40.718627279531,40.673624137201685,40.83241335049165,40.66124696885504,40.809167268723385,40.86465804532413,40.67561032639747,40.77975028450327,40.81503236526919,40.74568758593425,40.646823452463664,40.68961737604115,40.781465481548594,40.68304845735847,40.66863806886889,40.69456503965101,40.71776865635385,40.70921338459879,40.72513141674772,40.794528906731145,40.76135919977834,40.67701239411245,40.7687606783398,40.7524835371536,40.71489004560964,40.68484448529971,40.610405778627246,40.6894329994923,40.71536240107675,40.66591771765729,40.76218891262727,40.6535443221816,40.805556314235055,40.74475993514064,40.80594122704292,40.67053911181594,40.71644747936536,40.76394848422376,40.78263854161707,40.67847148782276,40.63969444560515,40.80094436176744,40.71019780367392,40.75624927267511,40.863165417794335,40.683381996905325,40.57582116008762,40.67081852579688,40.6804588559129,40.761114181389615,40.75215018060608,40.726344830677135,40.648070657057616,40.7361197632527,40.76349251082432,40.73755842382904,40.657663096209625,40.686830102809175,40.648309812639134,40.8019361917565,40.739281887568815,40.71851802487068,40.657290775084775,40.65164054266061,40.74101203593244,40.68083765120145,40.642683758600135,40.76767125563676,40.8016460240234,40.72938808520497,40.682348203230696,40.76981778244499,40.68682966932927,40.74407672524025,40.81494577182208,40.78907222175867,40.755776701517895,40.708573373556206,40.81290310691286,40.674129710644216,40.68751887163099,40.662252581108994,40.82101762390747,40.72087812289976,40.65105084441738,40.724965265730376,40.68555769799499,40.67616505409836,40.737004917186816,40.86609895786693,40.713856428159104,40.71832731839538,40.8050782501428,40.68744255055808,40.80015009657361,40.67756074919758,40.76563535760855,40.68455964471567,40.684326336737215,40.71082245362608,40.68460666143361,40.80247166005946,40.699187460895295,40.778371693803294,40.72699008530617,40.69685543455081,40.707101954853776,40.73405730054286,40.72521518775741,40.81350133232714,40.79239066876636,40.69886339610164,40.68965139884483,40.76168114138768,40.74189436812056,40.69046429839937,40.72696411467172,40.85046265652869,40.80193809536267,40.656609196382725,40.72564092053537,40.67262302989264,40.744517625371216,40.76226058244311,40.569965265267456,40.7483958616,40.75314782089509,40.68500756866653,40.714302306195606,40.72367264870183,40.71243929970265,40.69091301752307,40.6848378042632,40.705416754029024,40.76315743149765,40.763259242343466,40.64648893046238,40.65158319397551,40.70875435190036,40.66349038298958,40.831318414905965,40.8189390468254,40.80541548686849,40.69269601940925,40.633021652689706,40.7631016200212,40.66390815066626,40.80344842652679,40.67894534999258,40.72125410520408,40.65988926654232,40.6542341042183,40.778695033361046,40.59526454488018,40.72782577633646,40.819376690678055,40.80382674794331,40.68265476540007,40.65153373168785,40.66313102442648,40.76567451662171,40.68148445500644,40.74510594252817,40.70732401328332,40.7497127341079,40.68420956381564,40.777320081612366,40.72541597889676,40.729010610739344,40.7235129560134,40.79130576068099,40.74953159557911,40.68949362447815,40.621947198698095,40.72659892079552,40.73294235215012,40.86118491457789,40.7662263108525,40.79008627490597,40.67698834252725,40.68951061546414,40.664320062451175,40.66089998782064,40.71985921460596,40.7375244562721,40.724911806979776,40.68485306414235,40.68361862466853,40.66414464395061,40.67786349033874,40.68359367543778,40.68506315135373,40.72386231216246,40.683984827873225,40.69461791437069,40.634560566795656,40.67050578440134,40.62924494778183,40.735810154488895,40.71958156170144,40.67928104850205,40.64535382187453,40.77953997474668,40.71846084057872,40.70679240198364,40.819438540155176,40.6812759452524,40.77464272733282,40.82399039996292,40.71551503690147,40.72845013702326,40.659095011650216,40.82902767407791,40.71146188700041,40.724208975858886,40.77072767533466,40.72837386279145,40.74624796063296,40.77003420584751,40.71930209153577,40.62977769868957,40.68384099816808,40.64523782706762,40.73182273373513,40.68963677940111,40.80417762095568,40.69967487370814,40.70473802408347,40.74310776418311,40.713698988103296,40.726645241623366,40.69134829611173,40.650679893672624,40.656632928869016,40.64519839873803,40.68392463346506,40.812437115878616,40.6835630879185,40.768068932271404,40.58425867382975,40.744110233711865,40.81998479012534,40.81600194366785,40.806222350890025,40.802489833551455,40.68698589790646,40.75890690366128,40.68441152773681,40.76016493549383,40.72288750498976,40.65138104544192,40.80033151096114,40.691767016131465,40.814485014140025,40.72903516970428,40.69216305069008,40.70684004596599,40.79213392940932,40.765109631263535,40.6692102648061,40.68277196311925,40.687933238121374,40.71646575043168,40.68754122653458,40.70726022060137,40.71011320439473,40.70476142374272,40.800865560159146,40.761818283780606,40.76398631865207,40.76178223090076,40.75186470821949,40.71571541144154,40.78949122095,40.67876247213414,40.67783642803423,40.764490218499496,40.67378092567223,40.71341662036023,40.63198936316433,40.71875618006525,40.77881363893771,40.76530018704878,40.72207297745347,40.67042330381653,40.7598945025575,40.85203271357634,40.70053998278557,40.74398720664416,40.75516537689494,40.76253735855449,40.73569520316628,40.70614024685832,40.707778461257625,40.72816870050116,40.64521483894792,40.71992473574708,40.75591657020777,40.77004634427846,40.73840669754007,40.68698559828111,40.74523646861068,40.747656147594334,40.744570234053626,40.73762455501533,40.67016972757728,40.827679400932425,40.77555805361928,40.7284170798483,40.633974299014,40.68090952369181,40.771020349520604,40.692388095722094,40.83058927361545,40.8022335041256,40.80209323499221,40.76728168909751,40.68079625703899,40.64329069000478,40.7237334299889,40.64807782117772,40.8011941130716,40.67705632146296,40.78417901468442,40.71671654123988,40.785694924897776,40.6690673952801,40.69071844044267,40.84038331498145,40.63440172232554,40.72487834200786,40.7127879226373,40.69699529033868,40.81631107345083,40.76897823192071,40.70750525022636,40.71576004768136,40.828593078579885,40.71305293176821,40.68634013435913,40.65703558872136,40.79387341571382,40.74201203979187,40.71001949237236,40.7241486149707,40.8012038330789,40.71471461069071,40.75799376976321,40.706094961451655,40.72276828642936,40.71753031584349,40.80902565247702,40.712326777978674,40.761120339082,40.77869682562104,40.72252641241321,40.70949744215292,40.69471000456223,40.73468552957164,40.68784983050775,40.65826926551776,40.76476155401794,40.73248270639135,40.720638900223605,40.71794768913957,40.82291344155106,40.82688963257197,40.72035521855928,40.76770151375757,40.761125069332685,40.64775046631205,40.74795157831494,40.69537345626218,40.68771754916632,40.7102323906385,40.71529499859175,40.724882728629865,40.7088274353365,40.80849292931252,40.78748618563655,40.81934889354492,40.77896415142245,40.88057345610775,40.64518869713197,40.74376257182958,40.76638494064015,40.69500645327693,40.651410998710816,40.60612875857306,40.729788563742304,40.69060646000814,40.757708356605626,40.74336115404253,40.53883599496847,40.656115521044256,40.74585387817483,40.68479648381518,40.785764566014926,40.72860183173593,40.70380604251133,40.74429533245731,40.83136527857433,40.67433853867407,40.77220394843058,40.74494024454872,40.78227616586114,40.65023927260169,40.683758172216976,40.810968389974434,40.69702224800573,40.68402778458096,40.684355333776026,40.70239070124617,40.716907980893495,40.68578486071871,40.69296827210738,40.69165954934003,40.66783661285224,40.763473117705054,40.739996697418974,40.7992666392554,40.73465743684944,40.72797244782405,40.71503853672887,40.71589001405721,40.71419341282136,40.81820733585255,40.67874000354409,40.682996131339294,40.74337925202276,40.65084009683346,40.6962135584708,40.74248528759258,40.68288046666057,40.80994912150376,40.72987471417623,40.85666667170918,40.67049722960199,40.70833089724372,40.757161504541614,40.64067632963437,40.69130036253125,40.80696860619484,40.76428651863269,40.699742853414,40.8011510523083,40.69394105567694,40.72527639363096,40.85883812201953,40.7414838686629,40.72644340197595,40.78417818420486,40.68111424088409,40.72399394632861,40.792895249966456,40.72959668254453,40.81919482891745,40.71594463879725,40.72553106098036,40.77486126532165,40.68749605761349,40.80573111077583,40.674217322089255,40.764528976729686,40.68616022190873,40.72522769214171,40.75507863072289,40.74321380602566,40.67289860300811,40.69548871834677,40.72541035590079,40.73255320181422,40.7407394257219,40.66649226390442,40.71428844243224,40.85139422363172,40.8078564767613,40.71117939656308,40.68891324858672,40.58771899847893,40.74517134421373,40.65615653146932,40.82664238330821,40.772758801803946,40.72691194386336,40.75695116872368,40.83819881704077,40.72833799297111,40.765793382613566,40.7435218858334,40.66337141229982,40.7242643483013,40.76359851674079,40.68960021222721,40.71817181488981,40.68450450599399,40.72842908614596,40.76251349160457,40.68448409740383,40.66131943115767,40.83695381863145,40.742108033810936,40.72216927379517,40.734689195960016,40.716094584379896,40.733134556708656,40.70606714395235,40.72853939171925,40.76842356512083,40.858592022412864,40.710988899251255,40.670382086342094,40.75613923496445,40.73859701038862,40.741119637436654,40.775772935059855,40.72942748173507,40.672691942962366,40.72962475682419,40.788635027179325,40.6444882372376,40.85503692862978,40.69561459217579,40.652898986647976,40.7203678276016,40.72499140812722,40.72679461864717,40.7260597054696,40.78865953719606,40.84946257840379,40.59777704011008,40.725018055542826,40.79487909977507,40.749892833981455,40.75631865798589,40.68160473380773,40.73448336364296,40.684463969075495,40.74901631397637,40.748462338629096,40.65290265378556,40.76179284571869,40.743866754802646,40.774013763936175,40.79674188051845,40.81412148662156,40.634311069848174,40.68457162285117,40.749996782122686,40.70881601649632,40.7378841557204,40.74370365241724,40.74242065583806,40.76657823797117,40.69075628543168,40.716249134082815,40.77248188702146,40.69281816929102,40.733832133628894,40.762741373642,40.68952784580213,40.70838640658082,40.6934889033009,40.71345654464443,40.72432764572866,40.703351184611904,40.71039379819055,40.76348324230489,40.74042508831487,40.71580451662955,40.709625288038936,40.75389572549522,40.76186325309403,40.67012783599387,40.70026613183183,40.69221554845593,40.74140668134471,40.66396208242492,40.80325477994269,40.67306904706799,40.86789534391599,40.7799757707378,40.80266558375789,40.711248592307896,40.64292184566539,40.71741377307987,40.64943900138771,40.82409665434383,40.79232583973718,40.72010222404669,40.6833627946332,40.74397798395197,40.86165937174326,40.83434495548367,40.823247276204654,40.711104641045154,40.76989810731088,40.67169585334938,40.7313864237592,40.73178476617267,40.71335356894237,40.69051841674185,40.726129107869774,40.760686959633546,40.73680739372551,40.80428619668949,40.71464466990004,40.74319729834779,40.76243775989317,40.74293896174968,40.765111089319575,40.76505225631481,40.82324585565229,40.82681672267486,40.764026275707366,40.70825877700749,40.66155400670768,40.64322366030578,40.828370003019,40.696778305317146,40.84645017499353,40.7636457423266,40.71328150141323,40.69524957735406,40.67962319963596,40.67764238242368,40.81817919896062,40.69988218847558,40.7292957863313,40.70190641458415,40.69748279819537,40.714439099744986,40.71581675277826,40.82293581240861,40.81248433889262,40.762252736606335,40.68451589598526,40.86558150067166,40.71316130790931,40.65948632664896,40.7334619859168,40.773312590932704,40.71259115166989,40.617558616986905,40.699496490307936,40.76118386838481,40.70852283396268,40.73852170280888,40.81675810101152,40.81432640385221,40.7139190536864,40.760909258285615,40.70611458065578,40.685469447007215,40.70512696104651,40.80109317957583,40.76239516718383,40.74787366284912,40.73987834401565,40.66720859448135,40.693686893182566,40.72726771962211,40.70400841149949,40.71045879519168,40.66700162217597,40.654992662242776,40.70794204261132,40.77185800656353,40.73004755123864,40.72301901223744,40.70762526796529,40.68370144985086,40.67244825028703,40.824161527402055,40.76625059503321,40.763072118813646,40.79240813146245,40.74410547594871,40.659993514908216,40.755801173483455,40.67862451509431,40.72168433150336,40.71576822966863,40.81280616362992,40.67424627955288,40.69482271296791,40.73876096428057,40.73020680530343,40.67325788482096,40.749546886720815,40.702582365076935,40.77843066307764,40.75783849345242,40.71255639069296,40.83362593186877,40.786292301853216,40.8266400790775,40.81636067861248,40.73407188332611,40.71764091344075,40.72811042117848,40.67211391746597,40.72163393878918,40.74063522600108,40.754818056809576,40.73315803939308,40.73353921467545,40.68542570363274,40.71287892301303,40.77143569596201,40.710323522318895,40.76073035438945,40.8382785977649,40.73798960996312,40.66049877107797,40.78827704448853,40.75227889567203,40.70433128251586,40.79502028902425,40.72224293760264,40.67918078064425,40.74848724740921,40.70956857795285,40.67102354163981,40.73700026259905,40.80793893020419,40.66429087372467,40.76462912938423,40.729645076460045,40.798996797433965,40.715115053197664,40.76939657849226,40.6943216472395,40.716896041529495,40.71533034666943,40.68210840915783,40.67553213175486,40.71106314250736,40.70082081952636,40.70187787988508,40.80666960544314,40.70827785595218,40.735957396929656,40.67966111751914,40.68695156255772,40.67738078745048,40.7389196076654,40.68602563735303,40.62754815284883,40.731884106308975,40.690319364949175,40.75975245852143,40.64157867857232,40.71747006582795,40.747717584001,40.66181947717861,40.72054778694054,40.76100560384102,40.651324077197735,40.78772985522691,40.69913317168128,40.657518246845406,40.76273398907703,40.7412979786016,40.66201754472523,40.74790474006868,40.69935144558956,40.7166551864481,40.83885485415012,40.74267248138446,40.77896602215242,40.79273369158047,40.717055939463066,40.82219580082626,40.71499067248305,40.71963399980696,40.71734635446167,40.70106390456024,40.7075476776353,40.73361314018989,40.68373604907232,40.63767099114576,40.72013840704757,40.72261457432573,40.694176695474034,40.756885743453005,40.67877926871823,40.83455783548619,40.6686035960228,40.714492500732334,40.616774638755984,40.68171996243632,40.57701336733221,40.71999269127829,40.71586627906447,40.76223476424563,40.73524632535019,40.67781536410151,40.71436756384493,40.8270037136189,40.75538238149672,40.68077983956089,40.812127100876815,40.743681294798975,40.70901265312983,40.86238431006053,40.774309230041546,40.72789663474303,40.74374625444938,40.79487026446815,40.76056744183421,40.71054881541109,40.80606051347732,40.74437690205602,40.73254679866003,40.66260769802396,40.75924512166885,40.695156358478016,40.69423807785217,40.7672337415033,40.6943517895576,40.74650751129074,40.624986695628685,40.78672372860338,40.692655953650295,40.67798159054434,40.76430622782886,40.70627258253936,40.81757107707834,40.82389119342345,40.76716978593507,40.809639229899936,40.68626404811072,40.71671080590222,40.73141784475264,40.74142314862795,40.72126201933454,40.67292556051393,40.70782102209985,40.78191637040017,40.80876693449145,40.80418019808626,40.68095954649119,40.78560570650795,40.72554126471584,40.8550875816596,40.807487138055855,40.71585571124388,40.69575914618069,40.744258375122726,40.731776805267145,40.79254918271826,40.70626825695685,40.69362408973107,40.787539595148495,40.66881765413024,40.73585778328199,40.680379010244096,40.710131088442175,40.75328846750805,40.719671592482094,40.71157547160699,40.697065958791256,40.79393578942946,40.7015753218332,40.66728814385589,40.67618895067984,40.763868134505095,40.732471257926,40.59703362021672,40.744745334778415,40.80338093816376,40.82214909215546,40.75064597202885,40.7961721784038,40.79588620451614,40.74025020485737,40.84267878768232,40.722154861248505,40.762809197131006,40.71985234370796,40.738886572971744,40.64544582887135,40.742790588998005,40.70826962983319,40.63895190874992,40.69566307057007,40.71017643291006,40.680728417695775,40.79795151043896,40.69747648686759,40.7766098361629,40.72282286434847,40.72624624913736,40.674767829532186,40.70886102337976,40.723267347329504,40.690184991866175,40.76279353379302,40.7100930241556,40.59621221416924,40.84685877712765,40.80309801718469,40.69092805502658,40.67196461261891,40.6800047669001,40.705783655513294,40.70060478220893,40.66721191070948,40.70279081048064,40.6271301076785,40.71097456573267,40.66943927052974,40.7291515694488,40.76820078209122,40.7133801682625,40.81320471907853,40.71325137263893,40.57962589554784,40.70781636248033,40.71830461742567,40.73076377274212,40.78458405088926,40.70701198290285,40.684092777617366,40.86729040018006,40.73275247568873,40.707933467075314,40.80101684880276,40.65484017579932,40.701403387494,40.82025463129083,40.73832180859434,40.724351642406575,40.631814035487686,40.64377261506646,40.72996646302997,40.67786454121614,40.73226489302856,40.69128358187734,40.723897019507056,40.69841620128616,40.727133675028696,40.75348155599453,40.7469968952116,40.76322777460052,40.71238038325274,40.722315942039536,40.77414925719921,40.71144685309712,40.74871149983528,40.70844076633643,40.834948618743184,40.6633430828167,40.70232327201261,40.707952760950015,40.74685178470854,40.76029789107528,40.73392948089396,40.73408311943685,40.69531200076454,40.7299446548225,40.72551175518891,40.76873842326925,40.691636270854005,40.71719652592553,40.70873070662722,40.85657970755516,40.74910086110136,40.80515957345747,40.74041776040147,40.821302303472685,40.856119385218506,40.69893075343485,40.79457815293405,40.59705847407725,40.68225621850733,40.680177723013074,40.84278787654476,40.58439709990349,40.72493892025877,40.80448986034561,40.82644242355886,40.66088924878952,40.76034985187283,40.72277967531265,40.813260672153966,40.6702535425851,40.69005882954313,40.81383993252789,40.66963482029958,40.687431899472365,40.79879886546315,40.61813873300337,40.79330036406407,40.67181496266703,40.68547323188793,40.770087221719976,40.76883122220379,40.77717960792384,40.768070211676175,40.79334921103752,40.67825283833237,40.70689225174614,40.7681395300395,40.72239409294777,40.899835927185705,40.69007737475668,40.81369425195681,40.70558262603876,40.696049770058906,40.69333755138676,40.76420172084417,40.74688997496912,40.69361131331976,40.7029256593724,40.6804671025896,40.660268888729966,40.683046765569976,40.73277484148856,40.69435318541303,40.61121457834665,40.73334057397887,40.65883314862953,40.73405723752333,40.7252912238616,40.6892405534396,40.69056310706011,40.74462008515,40.68656583084681,40.77415438869854,40.755735540203226,40.6225663223597,40.68435953482176,40.68501090545042,40.80493370358654,40.68939485619373,40.70858224218985,40.76191933059192,40.73139123517689,40.81628883900294,40.64036613421433,40.71779982622499,40.73316549675136,40.650216990885575,40.698480195505326,40.69272773563589,40.70104772329776,40.76688003213717,40.668626286386655,40.71324789806632,40.730787855291815,40.792025833784365,40.70509636305801,40.71382442597415,40.77273346686621,40.60212643098371,40.82840449026826,40.68492127727279,40.69267019720584,40.713888614287455,40.78311172934256,40.71052892832415,40.77906490658688,40.69039533835461,40.71023546552711,40.68289350745979,40.647316283507365,40.765472491448975,40.68816601636731,40.71909863795515,40.75635524650615,40.76371214469291,40.783199321691264,40.745222296064135,40.800957910954295,40.666636073119726,40.772307002356094,40.67263521832589,40.643424828625406,40.77355926358386,40.621059111319326,40.74476549033768,40.67239759219657,40.725877370894295,40.75134287433207,40.64575894409256,40.85926898945058,40.72744613853777,40.83255241440933,40.72381599458757,40.729220153839975,40.79115373642696,40.681245532138206,40.68623359731912,40.82553199093464,40.73975264223493,40.75920170985869,40.85472392069612,40.68636599927285,40.737766470979146,40.77117072272645,40.775688557522656,40.73156231500109,40.721477396918026,40.66867462351299,40.73556487574474,40.74381856404311,40.75745801848047,40.78059539553541,40.74444406769352,40.70610631665299,40.68004173679516,40.81237494999164,40.76513464085731,40.78712062160327,40.67112499652048,40.72214492848118,40.68983940217114,40.748305471800045,40.7037466097507,40.75714971528093,40.70240239874071,40.6898017556161,40.84516860588792,40.726578096397134,40.70892954887685,40.65836248391846,40.80389872432784,40.661422550072295,40.72704490627984,40.801786682348855,40.82472414361491,40.698094237979774,40.74354199402534,40.736651003274055,40.6730953722377,40.73209808324,40.70873594728501,40.72155962429425,40.79972502489471,40.74865524652432,40.761118026929694,40.883679105827696,40.7570928705978,40.74331631806586,40.68326649059061,40.6940922824336,40.84977456920603,40.69158419820223,40.813097712325344,40.71175815044507,40.71515035464336,40.70030767741928,40.63799500932385,40.73981230081419,40.77021284912333,40.682626503003775,40.68404488893569,40.68467749258978,40.716773271217896,40.73925560190753,40.69384155731658,40.7647916998264,40.57703703571091,40.689579452964296,40.7009629886253,40.671029838325374,40.73329274676559,40.708612774018334,40.65713386717222,40.68633243102118,40.75601122373142,40.7511198151166,40.85262582620613,40.777208152080064,40.72170669646079,40.72474467428477,40.711624699639415,40.7212770166957,40.658256661350975,40.8074497935081,40.7105423200242,40.724639311051256,40.68114953349578,40.65043968523607,40.73317014486406,40.69222028617039,40.76107843610016,40.74582461377403,40.660853051399286,40.76421267557021,40.67601975716378,40.847275178614176,40.707628150285984,40.7983053188016,40.69654923669378,40.80585841740991,40.691986858646544,40.83674507046912,40.71592030429887,40.7569946273273,40.742283976737816,40.72740330868079,40.723930893432346,40.70427233594469,40.80114936012453,40.68750148556497,40.72263445066165,40.69804859028496,40.6473609647764,40.71956815082507,40.720039513446814,40.69693478722638,40.68630745905758,40.71742681378358,40.66063201349636,40.721537043869965,40.74442862618289,40.67509113739864,40.72807161363444,40.72965296777361,40.78147217408981,40.689281067666826,40.72809966600672,40.67649342479893,40.8386254443804,40.76052727639134,40.72225989854736,40.70021699774426,40.71497743000514,40.78093015067287,40.70712636016805,40.690065215006896,40.712148544333616,40.82889323329184,40.66557208212358,40.87240277866059,40.72229461721895,40.76793473812435,40.88952747902572,40.863129191607584,40.74318246495916,40.76633962772138,40.7061868557836,40.7052915693786,40.76498228816317,40.71138641631672,40.71461889188208,40.741607305671394,40.75258539222403,40.77108234782767,40.77320235584397,40.7699546644235,40.68019910044917,40.704784613532645,40.68605928994865,40.78733443911602,40.80590565020416,40.75876850219386,40.70584748407874,40.75846532173957,40.75376286409168,40.65494061088637,40.7146041470959,40.64364174366964,40.76717467534038,40.67040349852864,40.69388597647464,40.7058926293624,40.69606964607664,40.69108732020153,40.80102153123601,40.83287615435356,40.80594077984428,40.72038559475795,40.8144345936558,40.681079592786936,40.77567386005004,40.69458082399589,40.81325038909241,40.74266113292961,40.814918676629546,40.77734731142448,40.72357138488411,40.76057266329399,40.81403609740289,40.68537234850613,40.71956817823045,40.79468960468708,40.68845638750526,40.86790163423548,40.793349109235415,40.72608778149191,40.76301974490698,40.76666133970635,40.71183034957296,40.72249370707959,40.75383375822362,40.72817632056865,40.75799301907869,40.75890953637213,40.73574686524191,40.75264381091753,40.72702184153477,40.64025100964122,40.64431780684529,40.73842040703228,40.90389505836605,40.79215972303997,40.67289153516428,40.682337214259455,40.84202672496357,40.74446842337736,40.77288560776192,40.712715666589325,40.75397964976301,40.80182118835738,40.73093396953711,40.707483444215626,40.68415924712176,40.7285547663449,40.74136795954027,40.64007431678946,40.66279366058396,40.78990853403389,40.780000134258415,40.71826321469533,40.684298253953344,40.76976551509264,40.704605892648026,40.80005147393216,40.80473436245215,40.68856548746908,40.79487009330166,40.71802977350379,40.73429671194936,40.67863511412281,40.776986446878645,40.66168477795421,40.67181965174304,40.725929621424186,40.735778331651005,40.80882243748839,40.693631813246405,40.718706399245455,40.78586739584127,40.65324104716893,40.641866265263225,40.70993751004463,40.66478192915896,40.75304912898229,40.708801423672426,40.67027476768461,40.83634939715872,40.77476361429037,40.68905972551693,40.70739479976848,40.742020811338094,40.66611482869455,40.76207238995739,40.71112291566008,40.744968680956376,40.73064520034816,40.71120006424342,40.778834455927466,40.71002275936758,40.79250326061934,40.68317747592904,40.67464516933354,40.64152553523952,40.67353853181518,40.72075875559521,40.80351611128896,40.72738134126801,40.68029988196143,40.68640307468181,40.69899531197946,40.741385029753424,40.804820818168686,40.843463738829406,40.79488401164062,40.69833522633656,40.72791542170727,40.73674572135294,40.79159439723313,40.77658361989233,40.78764881125985,40.72257076635047,40.80735317240421,40.77800496691745,40.68357525110888,40.828045363984266,40.745159692299325,40.693678555126056,40.72944476063752,40.675858907631614,40.66325801212172,40.72601281550522,40.743510482766105,40.73323929267885,40.76144592349407,40.774805128864976,40.66829025291507,40.75828601824347,40.72281051026968,40.701606913030425,40.71768944947321,40.776924557404016,40.64848859379,40.77285814450121,40.63591302558483,40.73927487474116,40.69988914829025,40.76329842465685,40.76463112291318,40.80402877864349,40.77693499541334,40.76776571269031,40.722741143492975,40.74417630714469,40.687450442750674,40.79947820777286,40.71175094711423,40.67784158901144,40.723157021306704,40.71686345358821,40.67542548603464,40.71033116437259,40.669257753208754,40.79998703894481,40.713632073418175,40.67152565281325,40.69583586467251,40.77519779907301,40.69828303361192,40.72373948804313,40.77231304389976,40.781465936610665,40.71393538578108,40.722885235932345,40.72338762073573,40.76821270393696,40.72891020888213,40.81023376650553,40.73702205459092,40.69869805461251,40.73067766115469,40.770189377808535,40.71960010009832,40.692681017417,40.707069396726936,40.718671295929546,40.876629495886334,40.791818880190384,40.8045827305008,40.76606267610551,40.71327373163954,40.65633546329408,40.60058363896984,40.77842091655992,40.75598824762382,40.71264570913779,40.760753849434,40.65308435616421,40.68634475678372,40.71272780080032,40.63622794820176,40.79098208579008,40.731910130502726,40.69639005194236,40.75538011670207,40.76126539523279,40.76406197813344,40.75991443310939,40.68908631281749,40.72560405043226,40.76142616946756,40.71496144556247,40.75227918670245,40.78123702341821,40.720281270017,40.7345285795904,40.71390781002704,40.72347717395504,40.69594544492213,40.78185214623894,40.732359626124094,40.784201252778615,40.70488122493418,40.7210121357301,40.742214127056606,40.66247073151143,40.6738975658357,40.70360323223824,40.63275604898176,40.73466268071842,40.624924126484935,40.72415979198125,40.73988459294527,40.6708361768974,40.75487610608585,40.68640849685678,40.68869940796756,40.77257313412082,40.69062652799905,40.64205606773029,40.765337533212815,40.79540717622204,40.57625968383048,40.66480508344035,40.66568546831047,40.641187915648814,40.71061821436647,40.75966447838504,40.68414726768739,40.72456077361277,40.72353556623156,40.80450938157792,40.67793976665296,40.73157610108508,40.72015485380519,40.71422981288973,40.69066573556242,40.67782841529301,40.68738934469423,40.72295804575285,40.80187872965212,40.762504588460345,40.682390421390274,40.75665752716827,40.81866738336854,40.70852499735357,40.73381471811082,40.69752360918231,40.65900845362551,40.688592212939646,40.744250166289,40.718077552034686,40.69811411330896,40.75588229622362,40.78833858603271,40.8066945735893,40.68851363722249,40.72363124869379,40.7423767585648,40.76114449852391,40.636523781328975,40.755347250562366,40.71177241047347,40.80679572220264,40.75619117207994,40.77775836403647,40.76148135091828,40.67797060727847,40.64429034180319,40.74703385429852,40.726881335719575,40.76580575141488,40.65560991673835,40.72308697758479,40.71212152865314,40.77585453739516,40.720245113419104,40.71311682067682,40.70786137912234,40.66795124070372,40.74266625789804,40.690555485500994,40.75421270018384,40.77741802027012,40.75735613255836,40.67791015896125,40.72135884041055,40.80283439454576,40.7286774294926,40.70927717035807,40.6956462653537,40.79007157778084,40.763774592009504,40.74182074316676,40.67922263802127,40.71275128299798,40.72778262559525,40.80951824103872,40.82315638107448,40.70830418220253,40.73086306325239,40.74934455761072,40.83646190904823,40.793662861115166,40.688945925602,40.73105363632421,40.74535037709092,40.797467685786856,40.70104463481547,40.67202811549385,40.67600613335579,40.71520690561015,40.79105702744472,40.71680552123257,40.67021191065361,40.71270422233128,40.726521206546494,40.705993759789365,40.77884360606666,40.720143688146216,40.812290733441294,40.74153840240093,40.645192722189954,40.66509592234436,40.63560665638176,40.625595369297145,40.82951766026181,40.72555166806461,40.66566561571268,40.7394219185388,40.80208768682195,40.80243296703842,40.88421895937665,40.72589996667058,40.76903782281497,40.755358478854816,40.71104526762932,40.700891981253854,40.71110989361927,40.6594916519403,40.79779188376892,40.7748372397469,40.7922059915192,40.632618243532576,40.71586170848497,40.65203481033671,40.82867973414029,40.662439706229016,40.74857055638,40.82878987404125,40.73227176515313,40.73702429838178,40.83558976204824,40.6894475603458,40.7234738336284,40.79636790671547,40.6767826683141,40.80195912273824,40.73054341733424,40.74383468146434,40.80263082166685,40.68086889480549,40.727413393607705,40.83740466029097,40.71092562190014,40.81941730810744,40.803119837905975,40.74251690111639,40.78443017040893,40.74846900708884,40.70529011700253,40.696385854014224,40.75644972214447,40.68543518746503,40.746007021912376,40.73078139480001,40.76214018928732,40.70655328793208,40.71588330487475,40.77340495368273,40.6793863142108,40.72793328849114,40.71073003430121,40.707497185477685,40.78007498486168,40.82794438569943,40.76470991902515,40.82138566483864,40.73707372885087,40.82186333852439,40.69061847551725,40.6759953431466,40.68069398297942,40.88225049860161,40.6535986192831,40.729466240115016,40.71972718066471,40.74625626130396,40.648448138576754,40.684032176072655,40.71486067273639,40.72404677141047,40.645077662182,40.69486398725143,40.76780944934159,40.75996775868053,40.7814229365352,40.74956279317485,40.57583893803591,40.82959389488002,40.73415341342551,40.71267836674596,40.84114416028828,40.72635837218007,40.75426704548831,40.68013162380568,40.73068002820707,40.67375932306653,40.71501439515036,40.76238527211465,40.71453051388049,40.74212212606032,40.58593135706533,40.74091614968125,40.6980240486644,40.68252675996469,40.73775666208466,40.66453752754661,40.77859797139733,40.68013854564178,40.83082610542548,40.650728230742885,40.700895339798095,40.70648416653447,40.76174649582889,40.76139521506119,40.73317527919204,40.67050273131231,40.730666959079,40.76389633076269,40.71028725999909,40.81183626636221,40.76458689602882,40.69165040338135,40.6698950206066,40.756805526324,40.67644253461008,40.8000249726433,40.8178848419407,40.710087955937325,40.68795933380556,40.74751199254669,40.81590135685383,40.71468964919517,40.80215271377453,40.67025768464036,40.70075289851981,40.79458741377157,40.80072226568264,40.70229529847624,40.68718331812543,40.71329189181351,40.64691255242792,40.7127942981017,40.715844488525065,40.725069778239295,40.857192357745134,40.7238899140398,40.71474897546833,40.71539122631204,40.757543072923866,40.57988820277553,40.72654504706851,40.69215861192525,40.68783395997775,40.75902685498316,40.721416636553634,40.70739169433239,40.69760871549785,40.73601943567135,40.686039254422695,40.72195822149747,40.69483540193932,40.76205130348271,40.706102204757606,40.67717553267899,40.72751640445973,40.722753978065526,40.73939870390157,40.73647823685997,40.66677190788463,40.77878764793813,40.757676917229965,40.68590136252487,40.83886684991203,40.673692289993895,40.82599051757513,40.7067368954521,40.70952388619153,40.65870198783715,40.76499814155003,40.86716873685326,40.70837656994663,40.688513775276256,40.68039145083772,40.86980115758821,40.73520688679624,40.660550223023854,40.72314122393732,40.70026563845163,40.714986598408906,40.74767202563597,40.72525192858174,40.711761324648975,40.66481276923362,40.818136696909626,40.81142748965837,40.76228251915345,40.83380293455582,40.72456720830691,40.71299953357347,40.72832896663653,40.72675519878693,40.7648654800302,40.764586911904,40.68220532355935,40.76817037117763,40.72553799143427,40.7253273560044,40.7284676519419,40.80139277227909,40.68193713547685,40.76970106934078,40.6692647013972,40.70883431772639,40.71169237130705,40.679542789413134,40.65510124182336,40.7449952873406,40.76317455131328,40.68562045011172,40.66190962269668,40.81790113092753,40.717450397709605,40.68175033808152,40.658275214674966,40.718345417114975,40.7698460653169,40.71540918620707,40.72346217940629,40.69444635322736,40.68741554054985,40.7295175493035,40.64550677058831,40.79511551496239,40.67370111550261,40.77977699823258,40.721442311300905,40.801448310517365,40.84504215399336,40.7779769954009,40.756223355333816,40.69401148161414,40.6989136655461,40.72726496231167,40.80081594263636,40.81577758585693,40.68672629034195,40.81954742227806,40.76389075170373,40.66523683361487,40.73096172411617,40.65166854719914,40.72060520638777,40.710454517470886,40.72039593093693,40.73237059888866,40.690542253426905,40.74616808887625,40.72609406360953,40.67418221846605,40.74321858099015,40.70996846985491,40.67964435242426,40.74964960407012,40.707814305418346,40.70690757352261,40.735598748519045,40.788345367888326,40.67677832363788,40.724220997115424,40.756797363514906,40.771379894127655,40.64593167642079,40.70762965886889,40.64290980399775,40.80006778223288,40.723953388046354,40.68929932786176,40.74328400405504,40.68152268209766,40.78350381833492,40.68869482870382,40.76316836501896,40.794939663287074,40.64495773515904,40.778235939882606,40.71107319241802,40.70408333894036,40.82078104017385,40.7476675215853,40.793998228265984,40.76355412467441,40.76206404308649,40.72294056002254,40.67838976423916,40.68427365851192,40.63442642054483,40.70888048741389,40.71341105238716,40.676166239979295,40.76892657403242,40.68247748670338,40.7120892170708,40.82403413217697,40.69152579809085,40.7589331516464,40.77178186945178,40.70659182656375,40.775224957079686,40.685133632745,40.79893925099781,40.74033434058117,40.7480311412366,40.79878425160672,40.70909347538415,40.69635195118681,40.8029965454334,40.833663837304286,40.720753792960856,40.73490911923973,40.71728875972955,40.723092333374254,40.68619386659661,40.72151055875757,40.76213173550976,40.67591105543419,40.72903696371164,40.80533246880648,40.66773151593447,40.76354698441701,40.68630910249315,40.82280387645191,40.69020903334961,40.7151240950361,40.72776520405649,40.79527897640823,40.8015277375692,40.62665910791832,40.63861044720012,40.7550077731106,40.71649256948562,40.76338725907573,40.68541013652565,40.757999180606426,40.7982037928817,40.73898064565908,40.71432204686258,40.7334928689272,40.682725916561495,40.696057712175325,40.811929177662,40.76033506868361,40.65376453708864,40.74154786594025,40.694292673259056,40.76762092819472,40.743967182986815,40.67067929938538,40.677024493415615,40.639531717751225,40.76697787863214,40.80321584604547,40.78141924689179,40.695649245915,40.83133978448553,40.65840903689315,40.72118332401453,40.66186129891751,40.69556243252725,40.61900867082127,40.64331859120839,40.76729487791224,40.6532632357014,40.71399589813248,40.738295288189,40.594917599765175,40.679581485413344,40.74474642052189,40.721335665802,40.69994366282229,40.79736994529458,40.72996785015712,40.76286170969705,40.70820658496695,40.774197566817925,40.72734726071919,40.726342367396434,40.74357140194715,40.77032214986037,40.75680396823639,40.70077791840932,40.664315319144,40.778277932106,40.68590761887626,40.815891780848105,40.727705428697575,40.69130021257172,40.85619398015179,40.734116046801,40.69778519626334,40.77541157276239,40.833830962511705,40.782709697991216,40.67719234829156,40.69979509012922,40.66735037826128,40.764919505326645,40.68333308583597,40.71607148710288,40.71190064595649,40.724008047599966,40.69145308936957,40.72351150565239,40.82584450991936,40.76534358413211,40.713968750206455,40.8021626395189,40.70543753044718,40.72077826308945,40.75563681795978,40.81792291309682,40.68501290934699,40.716059603291015,40.72874900402576,40.68877387455885,40.72659497374728,40.64797769694372,40.85023349109797,40.748715171487305,40.690255772645,40.83657919111367,40.71726841645054,40.69387315554111,40.71519199637486,40.78206431968908,40.73333399938874,40.70836668369053,40.68852408083001,40.68788919353253,40.71198601996581,40.706920392995954,40.85616743745114,40.70470201335736,40.72435941394276,40.67345280181017,40.78698983210767,40.688638354073646,40.80191064320603,40.740407310663855,40.70824734326391,40.79453535972112,40.739178042724745,40.66856357466377,40.70018534804551,40.63877706168061,40.69019833661704,40.70745371666163,40.67403811054093,40.690712449058594,40.64498045042704,40.802289224502815,40.74864069240072,40.710036616319535,40.815605199449685,40.65685217289224,40.75812299270165,40.73323728185177,40.70857163367465,40.75545689238857,40.762800502784906,40.75568828764955,40.723784551695,40.719437874908095,40.71659951764438,40.675406674436346,40.69386523952896,40.69306809713459,40.71354364279016,40.77305342229887,40.69203522978505,40.71171130670668,40.718184000936496,40.752192045281895,40.79660305618796,40.71952373549248,40.68566883840157,40.78828170460053,40.689988572192014,40.7162009154733,40.71586229518747,40.83414255931808,40.716224318458906,40.812965169878005,40.72748468051061,40.76643461959684,40.712424834418,40.84367705510662,40.62476389833769,40.694591945310776,40.76667752765874,40.71213414699759,40.76384585315538,40.64210293999211,40.82078007708156,40.72454105374431,40.79795897234572,40.71749594765082,40.69166960227582,40.70250293538998,40.77435022423385,40.68353063951957,40.71779778037316,40.80130058797792,40.76300191441004,40.67055474389284,40.683712530785584,40.702894392332354,40.78080163104752,40.68760358267718,40.66267897364136,40.709494100731895,40.779377481004616,40.686085198510106,40.71601362044331,40.7285278724278,40.72998251959999,40.78388632079909,40.7891960004256,40.64298262751917,40.72909824013994,40.880940624483536,40.70740683447498,40.746083079855055,40.76091764885998,40.827757855082936,40.78165098597718,40.70665645879591,40.67594908251697,40.77476619520226,40.71927660809142,40.71894034522568,40.75841775902192,40.82764696824272,40.711055837417895,40.67212420477452,40.73974336779629,40.73289140562618,40.68823893438568,40.77015537014285,40.69515677891743,40.67280900631568,40.72390035209946,40.81550425573291,40.70790367445433,40.70777754487121,40.73659600353568,40.67070797306492,40.76521235793424,40.82349041947752,40.76424217847229,40.668195707956144,40.63632847967661,40.65609008297756,40.77711159526333,40.80011585796416,40.81032080306733,40.801880010539264,40.6331359276726,40.64354341368308,40.7055389863916,40.776049463288295,40.635042120517774,40.65221413529465,40.685104180795065,40.68593223967628,40.80986455117601,40.73682863285048,40.660157895785325,40.67941254115031,40.75964362458981,40.7966946975659,40.6735525426794,40.65549476420155,40.728953655993465,40.8641195329613,40.69228204190508,40.79732777649769,40.74011975068801,40.63844314025306,40.69012165009372,40.69872041803192,40.72840147973699,40.71573827090745,40.61644940198496,40.76374618519528,40.690272435195816,40.83422119293417,40.7260118447736,40.78318213064274,40.76548917103377,40.73554721602611,40.73012542293994,40.72034477505623,40.714610363768,40.80853907632329,40.86728580699937,40.79023230731724,40.84433112476633,40.58789879655618,40.642029543239104,40.76178276525228,40.75668658610912,40.68622948448617,40.686765174036886,40.70010934708676,40.67936562613869,40.71232523807542,40.85933422075564,40.74506883344864,40.82217538398434,40.71536361317749,40.70337688504245,40.6743316029722,40.76279232078989,40.7218053891579,40.67752052271323,40.75810861537616,40.7269652238808,40.77668310637225,40.76589607297709,40.771115275920174,40.76119903990608,40.69669670228626,40.692851338116725,40.84655905638524,40.71257015387674,40.68294321008784,40.773770279714434,40.68401968426596,40.80925730023651,40.74584712981275,40.70117587160515,40.73307237040657,40.71523836292652,40.68144029847757,40.697211947943735,40.68673367791511,40.7604552091929,40.78330328967248,40.72234678459139,40.722673518587406,40.70833091500865,40.75984903318261,40.7725412982308,40.766355544346645,40.7135012985336,40.71459412968736,40.65192776112588,40.77804056063015,40.67851416551489,40.75921497556714,40.636316616923935,40.765494985819785,40.589976651215146,40.663195618518,40.72125211696677,40.72941061104503,40.74770967689901,40.77579446880557,40.73575899090434,40.73574977455465,40.78730258985637,40.729897628931816,40.73981027958336,40.53971433672261,40.72919479160501,40.64419180920886,40.70604365733149,40.7304614040854,40.65015332389528,40.649097523406944,40.67392961643008,40.70707815023095,40.69973461618753,40.760393796221976,40.70206720325457,40.68815868630429,40.807841098055526,40.71080412309225,40.682025927532734,40.68371981751739,40.71208988359113,40.81043305227981,40.81661198673969,40.74316993550949,40.76538278238552,40.708505339656,40.6995816768364,40.729558899275375,40.69911169290606,40.84673739416265,40.68720448543125,40.76307370131581,40.76206611654336,40.83997881970511,40.70925771955358,40.76212077178325,40.68525793128229,40.79658769513032,40.63256425770732,40.69324230236872,40.70206067480754,40.70146487868264,40.74430751964636,40.740563254382096,40.7842381655268,40.755629389452025,40.68763434512224,40.73812742122029,40.726980400163406,40.68948657571752,40.68215423684696,40.761450078012594,40.67275138400569,40.78686022054933,40.67738942248069,40.718439317695285,40.7184396020925,40.72825563248657,40.75820161979833,40.651908559378455,40.76497575128991,40.837596297935136,40.689137235128605,40.79902320812469,40.70721140578618,40.81541412234025,40.710628646060016,40.78046916784658,40.77243692173432,40.80866508385719,40.67101489765425,40.69712060726145,40.74923875102596,40.70595378313621,40.71886263517576,40.74637590634492,40.69221535302771,40.76152928461349,40.6471074472064,40.67815046727119,40.798936698398016,40.72184167530674,40.67302380986239,40.71161418119624,40.83014167720768,40.7235115811525,40.68706574045581,40.8042227493541,40.675084953475626,40.64742376600254,40.66984697766704,40.68567728835662,40.7196446387061,40.75995491980493,40.69572567454985,40.75528540970952,40.61761045007432,40.771891719163854,40.679726243740014,40.777869896631216,40.76508004591937,40.612879665795546,40.674839965529,40.71717116540225,40.72154200383,40.73760720111278,40.773041846276186,40.757880250319,40.84367185336448,40.774429510473496,40.69370548973705,40.85770333167845,40.77680298818073,40.726420469208456,40.70295669771157,40.72508700143052,40.71334977208565,40.60876607731268,40.85771133876919,40.691593400223695,40.71682151955771,40.78091942320817,40.67209844795772,40.6894323584999,40.72520064099815,40.714769705730966,40.79652401067254,40.77584979889127,40.82483407548685,40.7679989922351,40.77706038014628,40.67660238016618,40.71213325435205,40.7464789389652,40.80723823085853,40.672258978228285,40.70408681553676,40.70111512911839,40.713614297777625,40.805691243124855,40.7114802978632,40.75319562664688,40.69983386590732,40.82039876620007,40.66992811781525,40.73762616727576,40.629711669127744,40.64576629818927,40.67320944464057,40.726806752022206,40.66955046406755,40.727063111917246,40.74314213336782,40.70228352410729,40.69468142957473,40.70700160928369,40.82304847828279,40.70718751737113,40.770817168517134,40.69508054629264,40.68690126579251,40.71483736510979,40.7330026318476,40.74289157389262,40.75702785205973,40.76974025852856,40.729017952243005,40.60776212327381,40.810518067827246,40.67601930744402,40.76162691646467,40.72881338058348,40.72283057293468,40.75820160103597,40.81253201210181,40.827416643454725,40.72949869708898,40.72965219710393,40.714248826562354,40.75348903238008,40.66116882128272,40.71854704571236,40.765420785200185,40.71983086215271,40.73457821128764,40.76942973047797,40.6979826032054,40.80694621877368,40.68697508512996,40.77215602774817,40.71217897356632,40.75418909244471,40.82101246947087,40.7187458016445,40.74563511943622,40.73853506249549,40.802744847706926,40.79271275598651,40.71696667256115,40.71351207837494,40.74679395037718,40.71297523203985,40.83766454125049,40.76959731148965,40.76760142973278,40.82255637354672,40.68615663533023,40.734957181854725,40.64371891111885,40.79279350727348,40.705854249705055,40.70277882652422,40.68821945263602,40.69491462094209,40.7645977685112,40.779324880385865,40.71670272505619,40.68041165798976,40.78509810341348,40.69058470982983,40.65814432584031,40.72040022617913,40.73162041292746,40.66758391971982,40.66011769855592,40.751722785537694,40.70118378890464,40.75178781134829,40.71483497637172,40.72118718860097,40.67959854254863,40.708768493176365,40.68779633192808,40.74829050938939,40.71832669816874,40.71887344777557,40.81316132411108,40.68926900659458,40.66923555880317,40.68945568098435,40.80841509993751,40.76069589251181,40.68504042174661,40.69708099973922,40.71497545918946,40.68182748148013,40.69090818974286,40.76633583073969,40.60352900785708,40.67807149921893,40.691718013243,40.66847135905076,40.65554486852277,40.69236810687456,40.71756474517851,40.82273533762838,40.709222814718345,40.657306282296,40.72982086720923,40.74468290571836,40.686137901159626,40.69336994693592,40.68701027996505,40.68292519776325,40.64814031890559,40.7519504229684,40.74419162012878,40.68507789746217,40.737810136230095,40.740306557461295,40.717943162214056,40.77686256837311,40.758222898340414,40.62285826356271,40.70516397190495,40.810239917078405,40.68370901044469,40.678321522745634,40.72961235902952,40.75317081260661,40.7945205985249,40.675744268777706,40.75573136109675,40.69541645765585,40.79723774204245,40.682948426633466,40.6387685398659,40.69570441356024,40.68781273193732,40.67750781502258,40.728835673730295,40.7171311844436,40.7157719454944,40.68247674787279,40.745787188076335,40.72318045297772,40.8844401394666,40.66895730964265,40.64239149048365,40.76334854667535,40.75619609578913,40.7419064770465,40.75206745659422,40.74301830857751,40.716655556758326,40.731951724406784,40.71868926088591,40.78749892705112,40.74109855390535,40.62966530263375,40.77804607179847,40.71465389127633,40.71714154100949,40.74093502231448,40.73709959244897,40.7960925442793,40.791530421396274,40.82443588084267,40.763067927951006,40.687152207844896,40.71403252983977,40.76221100251293,40.74549935728973,40.68826830615142,40.688753285289,40.799082170093385,40.694258713165176,40.78535070752439,40.71854456804032,40.724420430132405,40.732093685291936,40.58033466619196,40.81403928660629,40.75528253018429,40.71515231744925,40.73110734517,40.77841435181297,40.753956215597725,40.70709094942824,40.778753131630246,40.77220615839412,40.722894119487634,40.774356171967646,40.7156721436228,40.88437804224455,40.737425293491135,40.73314782854284,40.773688188481344,40.71990627221954,40.89212361731874,40.67073200786152,40.74322775671775,40.700325044296186,40.72407880689308,40.7395591413206,40.76418472329554,40.7774425767939,40.66089023182353,40.75931796242728,40.738770465760666,40.78170976064776,40.71491955945908,40.76790860890072,40.788701817552536,40.77542739873698,40.707219830052026,40.72226953583162,40.70371421539908,40.72508946997228,40.681848244281134,40.77008948159563,40.72939196723643,40.636138831590415,40.65422564398953,40.81910621567365,40.655543001888674,40.828963138128856,40.70524633899153,40.69625737078235,40.761217182917385,40.68464234440001,40.69902533411163,40.63880615045482,40.72461458042645,40.80409216008609,40.76583638665785,40.71463245071213,40.734539908813794,40.64663677982536,40.71464206338924,40.72351122654313,40.70515689069551,40.72611097298248,40.72931829045199,40.76035839049089,40.71585563869082,40.660110574870814,40.848056967758815,40.70553731227862,40.761899966236,40.7505818368298,40.71849064706032,40.778522898120414,40.7356386819844,40.72456732165896,40.68773324573297,40.8002870546564,40.66317126374185,40.70759249107013,40.79512454807696,40.776419558651966,40.69689220527833,40.761848391089785,40.68836256275939,40.725419937766574,40.71624781863164,40.69718817060232,40.69104599584699,40.73276629437133,40.70460800768555,40.82434141163528,40.73780418133185,40.72027338032372,40.7066227363318,40.86056768652821,40.69691332034839,40.68950135657332,40.7655448386205,40.67188059158952,40.6941830683149,40.70708959210928,40.69531024076481,40.76693803962199,40.68374461847375,40.689156117119936,40.73490047577907,40.6065958666356,40.802186766056174,40.76484887532365,40.71026303820078,40.7324173897114,40.674770869895454,40.67045406765404,40.76619850176096,40.67767593925597,40.70494643858671,40.65057129877152,40.80327246322906,40.69100223845527,40.60682918251325,40.73991889022928,40.67704343211572,40.74997169664662,40.72952755212265,40.880051335698965,40.66346510394752,40.729838882178456,40.79806744426042,40.79598061587881,40.73101499758064,40.76023092893772,40.69642523378701,40.74655706915991,40.76367144800312,40.69469889095516,40.737812186116976,40.69490101057679,40.68252013749118,40.72985750066754,40.829885812280295,40.7718146112811,40.7873190590516,40.65258288349576,40.72147380546585,40.679023793184975,40.70617094725047,40.74137735022581,40.76985052375416,40.843528192598704,40.81936714435415,40.67592595101142,40.71431229144952,40.70465525627094,40.61856101329989,40.74478067066279,40.688970900913226,40.67517922513293,40.70860152376827,40.7302647077569,40.767971916745296,40.77254442421511,40.70922518989731,40.70894067243745,40.71840959214046,40.68470907321034,40.67858805431229,40.7186507018826,40.7135837292841,40.76941795525404,40.74775425759948,40.68233325268217,40.7672645597908,40.67879401852589,40.70090201188261,40.67974703318829,40.614010743190775,40.67801304326645,40.75820494603192,40.69279128511696,40.72201896248095,40.7257990973445,40.78027810343614,40.737335545619146,40.70815940194381,40.72887380936864,40.76722499214528,40.67545687240328,40.72686497503134,40.64641612310539,40.69646431163913,40.66331171025468,40.82327611893525,40.72765821223285,40.64133528289838,40.707454107988994,40.6121035772719,40.70508221390256,40.70875631046651,40.76176764354331,40.71171333424989,40.67713149750674,40.68763068554846,40.81118162871906,40.76241238162553,40.56890802093383,40.80700759851838,40.7087107795349,40.68859208653648,40.77285067627877,40.75221064548776,40.725818972145056,40.64916281700259,40.75531190472878,40.656636663306415,40.72840347379656,40.78587320484016,40.83211132382392,40.75862648243513,40.73286779549392,40.81145662422285,40.71815373425397,40.59888931986816,40.802365278536406,40.732618229725645,40.84177719329095,40.79742198848961,40.720964180765904,40.719151085657664,40.783039078723725,40.71558081185885,40.71572184568985,40.65172717960397,40.7152026544367,40.668958081262325,40.833181613398935,40.70758221081842,40.845707208829886,40.78616637076248,40.72804492296572,40.631948333990906,40.72075899743251,40.773627434804986,40.72821158221164,40.765569907376936,40.686685219599255,40.71149576481848,40.64187855658879,40.668097859946776,40.72463458719471,40.76135857430937,40.690361193275606,40.730951794618335,40.72507755852644,40.75334026765229,40.69316410075056,40.72936039457577,40.7355032261916,40.65465262123035,40.72981119476101,40.71489881631907,40.85104007571115,40.76214590277947,40.67982897426836,40.681921642359335,40.80796786116184,40.67962193598255,40.66141095289933,40.71040693456233,40.71112595845307,40.7595654910283,40.69564942132643,40.77822228923714,40.79838412959373,40.64813800343204,40.763729994580174,40.76205884343965,40.77744448061191,40.65158953158629,40.650227903924005,40.6931730851088,40.60851499890797,40.707919004691455,40.684441583626736,40.68658907148372,40.703822521681474,40.69092760423881,40.63692363010341,40.83005305129501,40.653401579313005,40.65381811484564,40.713324045833104,40.83566791579329,40.72819522038989,40.74994429655138,40.72625309650346,40.71584864309777,40.74712107369144,40.70695228327821,40.80517452610517,40.84288770280853,40.66046062480154,40.72236229553601,40.65287942344268,40.67343115794312,40.71219234762496,40.70638678444383,40.60053168396653,40.80077187030891,40.75361145515078,40.86882763063792,40.79642918679685,40.6513605999149,40.68791017646871,40.81260577513528,40.71389590434132,40.78202820381928,40.82717253920671,40.70038984253913,40.748304656436616,40.76627830155567,40.765427209302366,40.744291476877066,40.745608486309145,40.72040495442951,40.78447438446965,40.66454088496676,40.71036616142817,40.72108687331821,40.65813361628363,40.65142230223193,40.72491833918885,40.79860897810649,40.71805501103085,40.79387752732139,40.73256476645603,40.78486783138289,40.69700828085056,40.68328476395534,40.7344301385608,40.69757288538019,40.71605105052229,40.65706973643769,40.70926593935935,40.64191513100542,40.71800670951039,40.81968220158776,40.758528479903326,40.68912724088016,40.8009819244942,40.72364018611568,40.72846449008177,40.73679955123275,40.71771538033439,40.75355768160751,40.758850530986685,40.70393122796776,40.728473956170376,40.74508544955057,40.67289494905231,40.72686329680907,40.73436404587697,40.68722348780975,40.72324994763812,40.76256630979432,40.76431881875865,40.80588401943124,40.78534607730517,40.8589193211612,40.68568827885812,40.80577490454698,40.78084246178327,40.69539368911969,40.86193322077643,40.72489297298264,40.80747661605668,40.59495093046219,40.713555932340704,40.74656522884017,40.83713332816932,40.775346072725405,40.718450086048925,40.685787469648425,40.81245166217928,40.706238001623184,40.71659259709758,40.666745879237865,40.69142088627536,40.678349559528286,40.77508734947275,40.72947869194042,40.81272721816431,40.69586842535993,40.71342030376811,40.81586892799724,40.64680094011253,40.7684096966699,40.83811908199641,40.70306446920124,40.714767986738096,40.69612909190997,40.725580292651,40.78801010192658,40.68469454076799,40.7550171555916,40.70607667415057,40.80239368188544,40.72720584879307,40.58817207237888,40.66896056288496,40.67639852682496,40.76328765162878,40.721792373922646,40.7619714349,40.77060202705479,40.74166935688074,40.74029214397866,40.85695963432693,40.75242933420228,40.76114252734048,40.849570688103405,40.81477574973575,40.678898350866,40.73882806655445,40.69027365839703,40.68174617605361,40.7037639060205,40.722080489890544,40.65891811991289,40.80865886486196,40.748695302345546,40.777405091912335,40.76186455391522,40.799155251487925,40.81260544044896,40.70802838357713,40.71260746917864,40.69584250299602,40.668418983313735,40.711538485911774,40.82890592797374,40.764947551287605,40.669605884297006,40.69681562504604,40.764373702740016,40.74446060226181,40.72190013339471,40.661041537626,40.78235619643284,40.80130824719144,40.79493064404335,40.67658260150514,40.79838245950153,40.71522804578141,40.73123002281156,40.70769237064407,40.652367459858496,40.72790302917293,40.65123351454917,40.72892997504166,40.72355432276353,40.75260812519756,40.82349973795989,40.78289689724311,40.67264459495525,40.663671232900406,40.71199354538236,40.85490325044319,40.763422515113504,40.70197129436167,40.75538268976487,40.71805320770984,40.87224678388149,40.72399697801,40.75902308527432,40.72611253958867,40.74262323007184,40.68409389023533,40.71702937433948,40.71598551645474,40.68373859515108,40.74891653136466,40.76491264171521,40.73101269517246,40.735255610703135,40.74094102002051,40.65610604832869,40.78882348526344,40.78389849051735,40.69219732278581,40.822864152256905,40.72468828991085,40.71885469309734,40.64471125131764,40.68522515228689,40.69134667853268,40.68180522881485,40.69331596443019,40.78110027715193,40.68966658494249,40.691925147082365,40.73634786565143,40.81088171944575,40.66057839208023,40.67026226532131,40.691719201535726,40.72781291910596,40.72182621090908,40.761105042297615,40.73296502658931,40.76104837481531,40.79483526532739,40.82361854179359,40.77037749576338,40.7196140518248,40.7960769494029,40.77319787927329,40.76349651973953,40.70772285083717,40.69408129760311,40.82711736787165,40.744967726933936,40.80265665228648,40.70880412569108,40.67649225198946,40.700812468024736,40.68716564236647,40.69708421819253,40.718183756849896,40.77635077333981,40.68766539969293,40.76985345624564,40.77312191496026,40.74381795382023,40.80506713335677,40.71254514824462,40.77761303535567,40.67005454795051,40.711792769828506,40.71657177081619,40.678955306073775,40.679680790955366,40.70852318070775,40.68055161988344,40.70657728606179,40.76418029721553,40.75240632128016,40.64746818744664,40.76404216493568,40.82294897982466,40.75103733854802,40.697834793885285,40.73772662245092,40.70779946999939,40.7057583145378,40.67355660379637,40.6430180396211,40.71577770119983,40.801728390688695,40.7125087004571,40.72134010066464,40.71429807871328,40.77483018003633,40.70819952448357,40.70159001705108,40.73800268772202,40.72076561562877,40.76951227042771,40.79079660202019,40.690816002310974,40.586344951507,40.689169059641145,40.70475799784651,40.67681148273618,40.7226544215502,40.66110240104293,40.71855477684765,40.77712369697744,40.71400085265621,40.72727090154804,40.75598521604053,40.76418648978007,40.73736637194693,40.690701660351245,40.74280692971004,40.72634036074599,40.65383606514593,40.71306266996079,40.72202070362016,40.707415013049285,40.74078405793311,40.73049830778277,40.72083180354221,40.82231461714986,40.711529560150375,40.76671219537077,40.77808921692488,40.77595710767867,40.72020576030354,40.70934522295135,40.65829321014239,40.7219824462973,40.72251972874452,40.76510420350161,40.70838522464009,40.74150040738367,40.6217445728234,40.67908724769547,40.67327402891011,40.875848069458925,40.74894435753588,40.71909725604037,40.72240280710484,40.829701672914986,40.79051971096165,40.77854194634149,40.74701051304872,40.67069612834237,40.69411362026716,40.69284842789117,40.6766696985849,40.69809539684256,40.68235161338213,40.68347846572296,40.81175885313112,40.72281676848224,40.721214952872046,40.77683562177772,40.77301969871685,40.68517497196737,40.75578721421327,40.6979533515126,40.756004739357024,40.714661119049104,40.68448857417729,40.686486197781385,40.73428069897903,40.75024479583088,40.765138831549685,40.677099468179975,40.76042499600329,40.72240656802881,40.680824894811735,40.64950220216975,40.71574729742928,40.70770765551849,40.85612158864397,40.72885855694511,40.708467334702455,40.6978218832989,40.67528674037887,40.537552759174254,40.74454829016546,40.68616777626695,40.62985898424383,40.688167480552366,40.65260300120801,40.76784924348753,40.69448659615329,40.677934224559024,40.67158938230583,40.76495768616655,40.64743525322835,40.6362155728928,40.72639716611455,40.7382782416186,40.673347978243534,40.81067814047245,40.69338231263949,40.71310666720783,40.70532318256033,40.79346053042138,40.711365744215456,40.72405410471421,40.69292393815137,40.87308806884214,40.718367439154896,40.76772684590189,40.66915584495233,40.82319111983436,40.68510516287068,40.68654565246402,40.73928238787653,40.80349668968389,40.578207781540506,40.72998085869509,40.760518031494826,40.725836598800456,40.69817328769752,40.669329883959655,40.78332968360653,40.68351752727367,40.68840764753685,40.67372343983978,40.8095789081106,40.75634253904194,40.8060366550011,40.781451753420704,40.74221180829224,40.669234239460906,40.838293844772096,40.761587157010496,40.65499928249251,40.76261631789393,40.71941182180896,40.78417412971663,40.85356533571764,40.61588177872849,40.82483643844736,40.82874114772327,40.810491435042216,40.71064451710151,40.74479607377886,40.64474225166909,40.641457459504686,40.69065552067186,40.73110725158288,40.72183972971153,40.66620639580589,40.75059312427501,40.69445872947775,40.6760676124013,40.718617063394106,40.65732362041821,40.730877550141294,40.70765548098557,40.69481289936479,40.792533848916335,40.73747881114568,40.71391317070709,40.68940516248004,40.6370987831461,40.72171207562988,40.72798275924545,40.72056691615148,40.717464643803225,40.75953863172107,40.76979010103644,40.76049029595017,40.62020356964873,40.67455261691614,40.69093309370652,40.779086008576506,40.77131375738887,40.74600831094738,40.74155659364518,40.664130806807286,40.73896697675063,40.71245518795512,40.85816684400586,40.71758667685845,40.72976854890714,40.69382734991365,40.70234300163165,40.67176072164612,40.71238694148554,40.70776193498208,40.71121302669802,40.745697051031705,40.694071712532846,40.670466363418,40.78731079115667,40.76040281539351,40.71726600830063,40.71362735783449,40.78582945614397,40.58775741233654,40.76606842297966,40.679496580903226,40.62276264015211,40.69323959528115,40.72375428650096,40.73877035558506,40.734537189741374,40.78459227319078,40.70605662556736,40.773628366648936,40.86065856757863,40.75143973714954,40.752329607039655,40.76090268347526,40.6882317730399,40.80702617811008,40.67836472729351,40.76035258217,40.75659912993979,40.69767884642268,40.79204883841072,40.775175309826864,40.67987684409708,40.79791246736964,40.744017490234974,40.67607384544221,40.81362787772416,40.80457979746739,40.72306339117547,40.68231063760032,40.714055526304215,40.82137447355815,40.66951647716031,40.67862157847296,40.68813964522943,40.73933162791978,40.6989901455474,40.82096760696453,40.72608144892944,40.72865130634097,40.761207710678704,40.71650329757349,40.74468523221419,40.67680028650918,40.75744174742431,40.857352863089645,40.72221562383777,40.807514909940096,40.70127353036392,40.70528201952201,40.763973049628895,40.82484721653724,40.75752444102327,40.69296259184168,40.8178103818233,40.72619921190547,40.73710258476815,40.73135122335928,40.78515642083802,40.71780660573208,40.65197129242632,40.76021819605029,40.720346582476814,40.78919391188032,40.734697649935455,40.68812373077783,40.73373795652952,40.752781437588965,40.80960381466917,40.7332897139774,40.67613154058433,40.7284708184415,40.66761602631172,40.77367572844443,40.76484858662009,40.859528828195245,40.79486477328484,40.72577875370916,40.64894913363988,40.72450205553309,40.78484297266859,40.82432042888785,40.66719698676254,40.83048086558113,40.67658787552594,40.66145558412392,40.71912565654821,40.75965165052634,40.75675791460551,40.704000901376325,40.763786249208216,40.80403492546945,40.74344125663222,40.805985135402665,40.64676288822721,40.731944794808896,40.76402920157776,40.724729981292406,40.71366336474176,40.760502611660186,40.80300209457411,40.80494466123999,40.7194056804087,40.71603922749547,40.78687345994089,40.73356044926891,40.71738914346516,40.74609676051208,40.79466453108685,40.719046974671606,40.68980082772099,40.806914146345726,40.6825480438818,40.73940419490066,40.78876536684464,40.81841246523889,40.77194087666503,40.65156849419018,40.742509497522505,40.685516109229006,40.753022680695096,40.68459351140367,40.72908183971979,40.74370880012283,40.74649953411001,40.83192836856537,40.78789197912051,40.66569239077011,40.777745240501496,40.88303556416231,40.71413983267599,40.68606499175479,40.67995914438072,40.736001493665405,40.80192820568976,40.74103090644653,40.73844575953007,40.67284882156636,40.66210838226212,40.7167653839485,40.68636600250965,40.79673599479904,40.76107248573494,40.72440189225592,40.67379602019816,40.72672773676509,40.75584459165231,40.876785087262014,40.80988995814955,40.68168717546046,40.801916698236255,40.7210567919726,40.68814539917739,40.72901706026861,40.743609775845975,40.72194969020864,40.72508782386621,40.6793741301826,40.8687992193225,40.65282911055013,40.679283616435335,40.72053155088269,40.740855422734725,40.73378740580321,40.76874730915685,40.74469341560325,40.73351739294369,40.75347327341422,40.69261459376105,40.658750036735775,40.75744817787312,40.72759883113204,40.71645535508139,40.686016772981134,40.80581174395738,40.722577085021655,40.73618262974139,40.79784187519788,40.71230711179233,40.763327978255376,40.81224923952136,40.73436970481034,40.67814662076582,40.702479409545695,40.69758107525527,40.75740551594375,40.7639159382266,40.74233950175168,40.71109026465728,40.731025765989145,40.6478622072072,40.72892150208622,40.82498299058469,40.74497605372567,40.71926129956828,40.65446765785133,40.74395100572289,40.76796049826645,40.73324806026636,40.81898710267365,40.7863339527438,40.729338818164095,40.68805525314852,40.81793384662203,40.78693430052905,40.80095535779432,40.78239371755173,40.70711645486862,40.666223401962775,40.74432863250087,40.76323004153762,40.71244267608125,40.72870748777941,40.75753960881824,40.72472996340091,40.73143828973976,40.76230806387858,40.724895543831074,40.67375700533745,40.79514653941875,40.8786280694146,40.72115520062854,40.73374243276151,40.77378010898428,40.71593336983805,40.72792518412683,40.68401750881427,40.72083206742303,40.68744730804433,40.681632707606894,40.682659249790575,40.646847089961724,40.67278471742689,40.69895368060076,40.78564418141987,40.714980541206295,40.73282078710251,40.82581680826221,40.699652135339946,40.76615710456672,40.7388049883676,40.71129704203165,40.81031834668738,40.784461366754975,40.67545803763355,40.68609468423429,40.790904282311566,40.66423210162309,40.778309881373744,40.80164891081686,40.68627065420951,40.71982131557291,40.817025183402,40.690964411016,40.79994186195144,40.764712782858346,40.67170147672877,40.78030632186128,40.81918878069922,40.68561480620252,40.75968990214319,40.822413162206246,40.810947960452935,40.68895240137747,40.7654750208708,40.76430460123736,40.67893185081064,40.68401891749664,40.78342863385011,40.702722718475286,40.699038440772775,40.84650476470945,40.68089815589754,40.77286071912753,40.7661733698413,40.74315991243297,40.73088338593023,40.68646581746255,40.79401054105502,40.685907131909474,40.66304453948965,40.82203735226411,40.768988566634704,40.730752364987424,40.77781424302617,40.76872671701633,40.744929080018494,40.71896327919398,40.80828823775276,40.723750130006906,40.7172915724036,40.71011312501697,40.78157764348822,40.83590357725177,40.749234875828186,40.66129266621674,40.76626361448497,40.6382490852549,40.81708105094071,40.70536049172872,40.712559384248216,40.745296383048256,40.768712586523705,40.80748039906618,40.85598137307292,40.71813346044753,40.76015435955165,40.72776982726639,40.79136211113523,40.692077178381325,40.79873865089267,40.712964373944544,40.76089634571487,40.70777920687164,40.73341545380474,40.64876159299212,40.7419715465584,40.72109231099108,40.6726008827641,40.6975147027014,40.859030453949146,40.6704738274856,40.70912232561853,40.73158671590694,40.720319300445134,40.75737505810443,40.71075369054764,40.771427307934616,40.752991314517104,40.651606335892296,40.68597022511484,40.80659736268173,40.76233827700379,40.68456346175573,40.72124490982174,40.69442564290507,40.79262329051324,40.736411945928495,40.62495736540366,40.807022001474216,40.73764310502193,40.71447304897993,40.72039524241765,40.76079278067908,40.72813691440084,40.71333830333473,40.76494141150911,40.63352725149596,40.77314647382214,40.642562443784655,40.59605616309472,40.66174922095522,40.74135876853406,40.76092251890294,40.85016157198051,40.70525656632513,40.785831201627325,40.65785267245757,40.768535114066026,40.810848153315966,40.791969797480135,40.63366041037924,40.7068353522562,40.71675182122368,40.76859812181781,40.81980371385593,40.76300268278153,40.66689118737153,40.724340234294274,40.65689563014072,40.589274058435,40.67032596561712,40.7236294869583,40.67225180606362,40.67063786156336,40.74538442289537,40.81781327418435,40.67986263957324,40.762756917060535,40.75436625469378,40.77175802122392,40.69142448829008,40.67072240929554,40.83553738511966,40.69605666502832,40.71724173824271,40.76859479957439,40.82441984198697,40.80265803768446,40.7049962862456,40.6075632225886,40.71519924478714,40.76904103486678,40.68713125989522,40.687972377417246,40.659581081217326,40.66587218273486,40.68853105239259,40.7752941917965,40.75495374971943,40.74329285160685,40.680088780374135,40.71243146479507,40.71900719553543,40.61439763709415,40.76800564095837,40.67881535435949,40.713850549120046,40.7653681008047,40.712074612687225,40.74916814226417,40.74772224082936,40.70192476869164,40.76532255069378,40.757614101431066,40.67749545451039,40.78795515362509,40.819808922593424,40.6382093103564,40.71110849040416,40.68510727889832,40.85772341773226,40.759242003792046,40.689873905185685,40.7051569298116,40.71797264210064,40.635272066350055,40.67859123825739,40.76252475633189,40.8082704527085,40.6677797298948,40.840617761188895,40.67717755144312,40.77411156405611,40.805561888956,40.80419015246896,40.6962691378448,40.72383357921133,40.75733300669154,40.748831828862365,40.72804408938103,40.744658834503774,40.611728352072326,40.71505144412337,40.69099095275517,40.725881705996784,40.69275823232211,40.78692363629128,40.793128074307646,40.784770115752366,40.76608377196798,40.76382773854647,40.66259751400276,40.67375520621291,40.699798145787305,40.76059957997853,40.72590700168805,40.72905183557205,40.70648248297929,40.694028206411,40.787918169953215,40.715030374002616,40.67688287492383,40.81669814689708,40.739808040371855,40.68239505776764,40.78122297998559,40.779212182226246,40.82392502979816,40.65587840508133,40.72996593824586,40.71049842141486,40.84554747434832,40.806918075259645,40.85122781430974,40.7354754255925,40.69387416634879,40.75945120503541,40.72104252476785,40.685675913376095,40.797450140772256,40.731963054240325,40.76987925975502,40.751468411092674,40.71189538098448,40.717469471060966,40.676200432296405,40.84421691645135,40.70030698664961,40.82035000553696,40.71297842711985,40.68448801037051,40.76446871950456,40.81251121760331,40.85448829001429,40.77388015659868,40.58293295578247,40.80525617676835,40.82523106249146,40.72120351199453,40.74179138057312,40.76008537540756,40.6999066316077,40.75012145579318,40.76432474918358,40.72555625279549,40.675803064663576,40.79558385236453,40.764285246044,40.66070209876987,40.67421108490405,40.66249047661054,40.66743738910265,40.74466926537831,40.82360337894175,40.730137325703616,40.71009553877744,40.72412901726764,40.733736150834005,40.724687896916606,40.7331039762037,40.68340055929449,40.745071882390725,40.81107531126776,40.69934923502658,40.764814786167776,40.82447164283411,40.7054812348979,40.68653965991109,40.746224174750544,40.83148479036316,40.85557664641056,40.79317954621878,40.71384397120909,40.705215599510176,40.68604768512691,40.827588478277725,40.65293488738792,40.7086722586433,40.67442425489585,40.7121010400269,40.59204219192205,40.69527047400622,40.868448131322175,40.738371453335645,40.84876624941963,40.76212052393118,40.747738148115104,40.668249755643615,40.68978309836047,40.76376111000414,40.68530749062139,40.72666483036152,40.72473223648819,40.80287292541985,40.79662876656612,40.774717641463006,40.7699424407755,40.68730050997316,40.70032851395808,40.67396807341329,40.70675587510055,40.68127927380455,40.68816435221447,40.73974017303647,40.755914230060746,40.79955908889674,40.74700579367816,40.67554019059901,40.765637813817584,40.72086215254089,40.705236610052,40.728873504666346,40.80149948304576,40.73408688987196,40.68962472297709,40.71356880104124,40.68675821721951,40.73326347367332,40.685905825251886,40.764194835123575,40.75082397884,40.72468074109429,40.82483820717886,40.69051448893267,40.715001392113095,40.7073615096972,40.755390557098295,40.73165547223989,40.671828298019584,40.72426686912215,40.68463642562283,40.68026276986432,40.68928921142626,40.76617920453902,40.73846912395804,40.752931741710725,40.86599733390686,40.71474186660864,40.72356608894726,40.81597288587886,40.75532910703596,40.64612095905545,40.72049018619995,40.75181115539042,40.68652109270351,40.67860414356164,40.72999336650441,40.57928436869767,40.81316413661536,40.72489634933982,40.68335711391772,40.72715511973435,40.76238544994997,40.68924084910686,40.716732249421504,40.71240971149332,40.76167877843545,40.72601436316945,40.685384117711685,40.73200144373358,40.765179162852455,40.68995774251717,40.76354513110517,40.6550060970136,40.677664295970544,40.67520868178767,40.75388100501869,40.808219120058425,40.711472875617936,40.799889544148456,40.76963465594888,40.66322728380237,40.73310465729252,40.718559525271246,40.80552113173378,40.71554057752561,40.852715039927226,40.662054020389405,40.78664497561057,40.77882607718232,40.69320018680353,40.69537373070421,40.63957633445845,40.73126829181553,40.81056430441279,40.59056531114854,40.718340194797285,40.70802577262504,40.77315203884249,40.70847492131048,40.71454680461753,40.67036263316047,40.80507302316318,40.63551614583695,40.73310601478995,40.73075667444488,40.789860076081695,40.7485895876784,40.70428249637597,40.623438955005895,40.8319102765578,40.68453753667728,40.717856756061366,40.73994071517196,40.73457892173693,40.69766662329123,40.81084401272536,40.88015429437127,40.67033627360725,40.68009556336901,40.77928170162257,40.683686688607786,40.665236058874775,40.78882328605379,40.74686095036815,40.75564184825823,40.71945307020611,40.684258589501816,40.76084520038268,40.75954579417103,40.69205727585964,40.80175690734638,40.84899473622293,40.67700007515745,40.75924576377894,40.69218016404145,40.65947625531541,40.75164288886906,40.73865939955999,40.8712265804868,40.727588334670784,40.7303303089194,40.68047566774482,40.71631644924548,40.68756202377463,40.71169556236945,40.82199648252536,40.72808480148094,40.67725400340465,40.70921551754351,40.72917222993674,40.60944489855576,40.71436015877146,40.720302589254175,40.682467520883925,40.71622371997845,40.77737345060693,40.70017619313247,40.70865579016508,40.69164274040965,40.74919763927307,40.68439113064204,40.72384370519986,40.68599155384478,40.77382804677846,40.76259180142057,40.70409780197468,40.720797344695725,40.72223066257928,40.72571766038615,40.80027358100533,40.69428733385561,40.78062465883168,40.80209987090058,40.6917098161126,40.76107327296036,40.72246746915762,40.72596914173046,40.77573917166296,40.78508277705836,40.7787168304125,40.72706953656649,40.7919305845537,40.79306832578399,40.78826916006996,40.69819485869525,40.811856531505406,40.77885848842512,40.6687247137564,40.66525948493727,40.68574565582113,40.659614817674985,40.71080808437372,40.67512046274111,40.72468192165313,40.79033328980845,40.73988868094523,40.73951393126644,40.77715871669459,40.7366667502995,40.69301444217189,40.69934209286171,40.68975255021675,40.67888909678072,40.72746273852876,40.70446841198417,40.72246244207744,40.76046269917196,40.74577346508178,40.68946656172896,40.68678164546906,40.785917669533184,40.69946370087856,40.77185001115726,40.69220984242561,40.71589828972285,40.69599911614052,40.762692061983536,40.71778440988032,40.75855531818833,40.81706119736975,40.73699793253567,40.80570227533685,40.70781089050712,40.740991185204685,40.74758491859354,40.71641000129068,40.71220946793114,40.66226201367645,40.68091379717393,40.73008551955257,40.71868694066077,40.729758525202826,40.70202273684535,40.72576969440525,40.77547737850122,40.85749334164878,40.73618270792208,40.73844930272863,40.718126989263226,40.76563223542035,40.80464934979589,40.69814869093858,40.79740175874068,40.80550524451596,40.68201811750186,40.74640715988277,40.719146715652535,40.69284315252469,40.75237993954887,40.64318497504791,40.72031872699864,40.66516563802944,40.72093094158185,40.6876140591429,40.75719725357987,40.70649606432513,40.6297934831978,40.66598885642095,40.722282328656576,40.74770393390215,40.81813040740966,40.66760307056752,40.719783454463936,40.715335691512,40.71888929044768,40.77832859880995,40.71959873527607,40.77917166291193,40.7554682650234,40.67075092036352,40.80268502417603,40.72329069263721,40.75543998197571,40.806267677466295,40.73696592857736,40.735157493627575,40.71334586227302,40.65541167988468,40.71183877084864,40.81332591143013,40.76017563645146,40.65407612670074,40.63676210411585,40.72783697920973,40.737507300663694,40.71912859797192,40.76347754426119,40.75967333188731,40.72052074224404,40.61994076217111,40.679125893555735,40.796313249344365,40.72846153875216,40.747847369549376,40.7042446732374,40.688758691200576,40.72329990733185,40.716538616023406,40.71102326546142,40.70021258082557,40.69014448052728,40.74224416431103,40.76127479634271,40.67721876101928,40.71853993444228,40.82784063478317,40.59755147086931,40.68993518803768,40.74551156858285,40.656458667274286,40.74578088958466,40.67901198129779,40.67479048422549,40.77562444552547,40.76403778899535,40.6730701287071,40.770851762534384,40.81146813355289,40.88701953465921,40.691043973510425,40.836800843767946,40.68111848986089,40.74341344261011,40.71232940721655,40.68249714723248,40.68943203012513,40.76441740175069,40.6771291455931,40.71671695420263,40.75930622882215,40.72362403542817,40.76313482089479,40.79485009573903,40.6599022565928,40.70960132012321,40.84470430833776,40.69299496575128,40.71697134451148,40.763279423109935,40.7827439039675,40.77366362655637,40.73652084759453,40.698824227990286,40.84493817097648,40.71507232120064,40.68393940060941,40.73389984013549,40.719862318346976,40.71652519641672,40.73157632318622,40.73310343718951,40.70468425738651,40.81099362242552,40.69044642365277,40.80054044919093,40.68034052070162,40.761893087376,40.78992999633935,40.77196053525818,40.71609181575618,40.80871752638546,40.67754441107817,40.681358782469,40.72230888815983,40.68721268606874,40.69620512708055,40.81723815860349,40.80388623438954,40.71847642654932,40.72138208013428,40.852800668747896,40.57519072778727,40.67615731721058,40.67417787277887,40.68695838088889,40.76351832244315,40.73963941406197,40.671975738013145,40.73096336641613,40.6784516623745,40.72661389578131,40.8069935573575,40.7330518205196,40.690797925854895,40.754453874168334,40.67774060635095,40.680096072649015,40.78321243299026,40.68312628508585,40.680375383572674,40.67512303877728,40.7120158285606,40.70859919577439,40.662211611741135,40.80025945158176,40.71336602071416,40.700533837680936,40.789960480530965,40.76589444682968,40.727870328357305,40.692956103985416,40.724162567593325,40.740098820775486,40.63778047956328,40.85131397980261,40.74170868274809,40.73076677707186,40.72955149776996,40.67074883963672,40.675549912905176,40.66755809643271,40.70962628887529,40.76377819063417,40.81956628723847,40.694139396820944,40.74571581394733,40.72317276544277,40.66984150633289,40.733751904124304,40.67954521641765,40.71628529054768,40.74598147998447,40.797534090396354,40.72271140757347,40.71572476004871,40.73835278410745,40.87664611667027,40.63838819062344,40.67423952494247,40.67293581503125,40.69889105435848,40.75292403472753,40.69329653244704,40.67238338880788,40.74864210562691,40.844110580452,40.7265980750169,40.615532025932175,40.6772664610186,40.69371997073656,40.76901466718176,40.73008646861221,40.69520090730385,40.669074925109,40.65545711550895,40.70673969806413,40.718663243443295,40.71507975833506,40.7562085480737,40.63061262493826,40.74261924561854,40.78433769685129,40.65972148009454,40.70850406802116,40.755896554875,40.7127850009458,40.80289211911492,40.5854365698979,40.80390728431204,40.72729186114199,40.71372145787703,40.678050558596574,40.74246528231658,40.77101306258996,40.71933125120008,40.700371376984656,40.69414215824185,40.7797269468546,40.72259400175592,40.76832054512704,40.76564483789939,40.69022723193223,40.73304694565859,40.70669985333589,40.67963384265461,40.661546385844375,40.71498320903461,40.74381506078811,40.69526263257017,40.677096073373335,40.73593076495239,40.64341932674287,40.82834202998652,40.79885666430953,40.7144243790923,40.69450398020437,40.63630879452128,40.7871103012616,40.75199482864093,40.77878015074295,40.84805094458488,40.70497519321316,40.678463769058965,40.644244428763535,40.65157244264012,40.6701740746916,40.74936255444336,40.70086626786543,40.80264300189627,40.7073307514114,40.65786828958005,40.68214416360143,40.76519555632563,40.80402680232759,40.71222581535879,40.65814953375547,40.78751500947149,40.68855594944255,40.69405983918819,40.68851627861561,40.72980460341353,40.8102216730855,40.686660028194936,40.691746447241705,40.77216726767967,40.683505769795936,40.68265175112936,40.749441222512594,40.712874061119535,40.6622094367707,40.84242676479562,40.764658435911656,40.70771343581468,40.69444471761425,40.717351798098704,40.670443385443775,40.723917152191184,40.75509010370518,40.70533045027368,40.73628730527036,40.7285456424608,40.719186651760936,40.737168198846994,40.71198968192329,40.76098320273044,40.69627059923451,40.64116949692443,40.61802158609617,40.73994641855647,40.71671903043817,40.66845423478357,40.71947390828731,40.71078372576277,40.75347720573696,40.74285894889161,40.722763865745726,40.758959191367005,40.80036768436533,40.76308125192371,40.71487098849777,40.72146815225035,40.70621152864639,40.79220643873525,40.688621044606606,40.73562028159096,40.68764671562707,40.76737232589276,40.68645225693349,40.69648186132267,40.6702127963767,40.8012841756296,40.71512978076522,40.79945782710159,40.72210294608743,40.7449018271326,40.7599681713768,40.816908658289535,40.736895067823,40.688095423051855,40.7859297261505,40.72372025045132,40.65428513935333,40.74381298220507,40.73942093701508,40.79986930839297,40.678887123431686,40.642858786883366,40.82864712889183,40.6774916436334,40.702574679851374,40.73630708034084,40.85304223022455,40.77546802506984,40.74725354481274,40.74792445619926,40.73232259519642,40.77672781870281,40.67566790930949,40.74409247486287,40.69249740415748,40.71377616065829,40.68033528100503,40.68173136491264,40.65537835362705,40.671232612669286,40.743358039249046,40.76015433391808,40.65636381953493,40.72578012358532,40.73409605997698,40.75854899268872,40.70701702828607,40.7080558260843,40.67099155864253,40.737938363113386,40.684427025193095,40.69269657032092,40.681967294709786,40.80084703045007,40.72594760179045,40.70959407903408,40.84501289149415,40.85308507160221,40.72006281045914,40.701628959066575,40.71366796361765,40.65337331777005,40.71549591869677,40.74573258746449,40.77555531282356,40.708843159450005,40.71976546317453,40.7550091961682,40.71455841065629,40.66059498439554,40.75350123012453,40.69517083021181,40.72799377159792,40.65107498738659,40.679021655645535,40.74809246022953,40.71426114907649,40.6547516510442,40.72917223684079,40.7263517121616,40.67244974965589,40.683364038718906,40.64261929673898,40.76288979389577,40.74267597835328,40.74577587409809,40.75532218176808,40.73845332525162,40.77585044221349,40.68756915549782,40.70498372035584,40.68512533891115,40.74058423326081,40.69856269358728,40.684130819935305,40.7403269901472,40.812855854565896,40.72517190432801,40.71121506471889,40.77999783724606,40.74469654546721,40.85158470894228,40.662550355238416,40.76631341330943,40.71869194505208,40.649785737712286,40.64324425735743,40.70058867351376,40.80936759446545,40.678371144670656,40.727142851186535,40.8045236808991,40.83146453707043,40.81744918036091,40.67774680985664,40.72784042136616,40.80725805947016,40.75500351460206,40.71178646464752,40.6944925304625,40.7310642366785,40.6873743600338,40.82337018405337,40.76869695093959,40.75785918386014,40.66971562534192,40.72171493899037,40.67307729385677,40.762241860890974,40.857042612304646,40.766563191346826,40.762571585341576,40.81497519571359,40.753696861462686,40.6903423982376,40.65254251834797,40.80998766351425,40.71608415019718,40.85159258895237,40.71300717909246,40.58658004758277,40.718061457932045,40.75932040009261,40.72043954342614,40.7798442933015,40.79241468544868,40.64053385939621,40.707552090223615,40.720058007533815,40.67920520513771,40.68904006000807,40.70512145854551,40.70575472258383,40.72882531265816,40.65599310957912,40.731574745928434,40.689480889244926,40.76007333874958,40.850824046242046,40.67319670643854,40.677273096629314,40.71850826498356,40.69464843570688,40.70699537327046,40.64195949659764,40.70513186581577,40.76445736985725,40.71635818564275,40.762475097519626,40.76049391364615,40.71165248935856,40.74453562399508,40.76391432866404,40.71623838478471,40.73280053534892,40.6892748827032,40.77065410928724,40.74557538995636,40.67691520304808,40.81409844284249,40.8238477842607,40.82579101811528,40.74356615381953,40.725344163273405,40.81121227304913,40.74455694655322,40.83489526108827,40.73246062051636,40.689474991091046,40.72901392560918,40.71134416837899,40.74041479232153,40.79776320478775,40.69125632166767,40.74111372555953,40.75972018576356,40.727801195868594,40.70715501929717,40.76725770538676,40.72756988116768,40.69141005242808,40.72642396334097,40.72650107646977,40.76805775348371,40.814173123617394,40.71230159863731,40.73892659894058,40.76452207867396,40.77626862141962,40.70752327643309,40.81348266274628,40.60628738480922,40.7218043236906,40.6386731393229,40.71759504821812,40.70439155802568,40.763475818197655,40.801175752181095,40.84946010378963,40.67725006385839,40.7762688730308,40.70860049710275,40.6932878705353,40.77079545901538,40.758389969553,40.59273708919754,40.71309820554525,40.68825448527008,40.75302659075594,40.72603249736153,40.719386690278334,40.7227331266634,40.7476654950236,40.70207917862679,40.69313006176566,40.6894408702394,40.73133477101775,40.81435354978434,40.69512039159076,40.73599726196381,40.65319027427708,40.82087761409976,40.61021422081853,40.75519340160438,40.83117014456572,40.743972792354654,40.765476968322986,40.830908340047394,40.78122004337664,40.69367016706013,40.67759919945063,40.67824118347031,40.68792371082231,40.76791820880753,40.66177860271736,40.69418040767549,40.71989279101318,40.7739824313193,40.71635698463224,40.70696603782097,40.82013565051125,40.689206714113006,40.76597215667547,40.6149908164487,40.79091100456623,40.824853237336505,40.73510507687983,40.72727314328354,40.720515412114366,40.72950794897145,40.77787781592433,40.83206481943444,40.675024832869504,40.66049642744985,40.682550818450295,40.763785886164605,40.68983558990284,40.6863758117612,40.72007654685874,40.743999266605954,40.72799079816403,40.83428414364005,40.679182785463055,40.67167156358086,40.61768714268867,40.69460954575226,40.76229925375892,40.80008680949447,40.721039903535406,40.866151228167794,40.68586468058963,40.728600268470416,40.846110867809465,40.645331982800286,40.68790347559564,40.694646049897344,40.69290507526585,40.70812346434958,40.80319551695983,40.73140693307651,40.76042801019069,40.80673944190784,40.68555115099729,40.707012983257215,40.69346842319586,40.67048729176178,40.69621827903163,40.6611268850324,40.76773378283674,40.72577905436328,40.81667945915319,40.67293785941257,40.73809279261868,40.68788899152983,40.67808330580254,40.69393149844503,40.703336736328296,40.827730080472605,40.78823801288261,40.76214919704108,40.777073665728494,40.77412269339258,40.75533168721733,40.78965127598526,40.76422458880168,40.84609063108133,40.75211280179963,40.76385400408306,40.76838485731717,40.676072749616,40.75904589195503,40.69336759212758,40.82314591215584,40.7599742932201,40.7193348956714,40.68371911455656,40.68492173399742,40.790780211609615,40.68497747976463,40.67223953098707,40.66641553227842,40.72914363067762,40.738942042355646,40.80129091084722,40.67978391455456,40.7652914978422,40.75265319110443,40.81249348138977,40.71465804765749,40.66470102042079,40.70968256204001,40.715779874373005,40.71837253232632,40.6372347691539,40.689625619426046,40.765094385997294,40.676154431225946,40.72478883073176,40.695806807151214,40.77420166738972,40.6849150009356,40.715335979181646,40.72250131912684,40.64603559890338,40.725146006258136,40.71257874669386,40.701525950724935,40.811520178909376,40.65251325617597,40.75483354589571,40.66216066102833,40.768704292276055,40.76895791619265,40.732892322084616,40.73532719493521,40.71967792743778,40.66157618451904,40.6931100033386,40.6432745368556,40.73061697900898,40.72672229359488,40.77696538888879,40.740454186727575,40.71078765193617,40.728183172180415,40.677137476782654,40.75327300618451,40.6658490077596,40.81343172032222,40.74270170830668,40.86706671632893,40.716361565041694,40.74272217833824,40.7260325740953,40.69946602232567,40.701658148304254,40.72480612451979,40.75855644088193,40.68003535823126,40.68786739275511,40.66546293327296,40.72698450225051,40.762168426790325,40.68972365031967,40.673287241105314,40.77446572512834,40.85529094191658,40.73377678314139,40.68454333921639,40.748373421139966,40.726720547004064,40.67809653413744,40.80213718790121,40.748397346993535,40.734640577759215,40.77498731614017,40.59100795322205,40.755532359991065,40.75085917303459,40.72234778818351,40.66695265421146,40.69058708530788,40.731536799376,40.7446962198171,40.74517287848735,40.81054808258289,40.74691032604212,40.75597646407109,40.74224582027831,40.74252012394685,40.687223703933725,40.67237833365957,40.79656425509337,40.74658578300404,40.69106534248392,40.69268820852401,40.55375415776553,40.729494113379225,40.769543773072535,40.68469453391102,40.63564678646664,40.81211379806109,40.644552883644536,40.8123404162956,40.68604263291235,40.737850973864816,40.74167245011205,40.68576039092707,40.85893232174303,40.71982781943233,40.7656787894826,40.73658833526961,40.75114965713868,40.77590933230476,40.6894897959486,40.82623428113363,40.692230299031735,40.79799689612311,40.757845431419774,40.68466134839876,40.766003861842215,40.73608152676508,40.7147896913724,40.67488612769709,40.761403636011785,40.77787192504105,40.72131794663394,40.71181686755118,40.67697421021104,40.7594531348046,40.7011765460493,40.7273899533778,40.73684423029685,40.660415905628426,40.79304427279985,40.67072546757311,40.74051633096987,40.7172255123048,40.707597746298354,40.72724470679708,40.66078720291896,40.72357609800646,40.71198765185274,40.77149545710272,40.76280201791509,40.72088313790667,40.76044422602073,40.72521424566553,40.70830439961613,40.78013490911862,40.66927811477103,40.768652852355046,40.6775663339324,40.776747097141,40.742276867845774,40.77141009464248,40.69023217538629,40.6788068871096,40.78134540082621,40.84377096601218,40.71800205629839,40.79651765042144,40.821190669937415,40.64067842534485,40.76654329907375,40.74786009941722,40.706312451628015,40.70185121869336,40.6696429840531,40.63265519170145,40.735186154537615,40.6867383647673,40.7764309481688,40.71513114368665,40.75417377079562,40.71046243603696,40.680292008303454,40.68093880151911,40.66116025285096,40.72175938468527,40.76523476775184,40.57310048618341,40.74454726048627,40.80555281394983,40.78287461491703,40.70850686271472,40.73343342007247,40.764369047833206,40.729210238451344,40.69757941853132,40.72001542207367,40.692988028951405,40.67537879003415,40.72910045924417,40.69068106189896,40.72822849956847,40.68559406466685,40.703528389264434,40.720913752985616,40.68345818836547,40.64729374879694,40.81064650848205,40.72105096741686,40.7625780709333,40.7457718902455,40.759132490130746,40.80780650665464,40.76657712064058,40.71338364076596,40.77176148718358,40.75741280882402,40.7186930221544,40.75108876302725,40.75009935557146,40.8288513768188,40.82051216376015,40.6289734567202,40.785581885230215,40.82809339227121,40.74711548348069,40.84916094154735,40.70664103305674,40.7292522007973,40.778029140914434,40.79809252473029,40.71322308391076,40.80601778805429,40.69972689564352,40.7411137640888,40.68876892504567,40.70403395502176,40.60911158853245,40.68214939817032,40.67436476816489,40.731022901270215,40.822249365847576,40.58060451103737,40.71288247836732,40.68838823864638,40.72617282119826,40.82801499045157,40.77356772716823,40.661488837938215,40.75374744712772,40.73686012430317,40.75891084382207,40.68027118894548,40.704067197229406,40.77840409124681,40.74074160876132,40.71075059912764,40.65871179247841,40.69025495165664,40.6888929015631,40.5852759176716,40.806738033222,40.73700297780976,40.734606324444734,40.80057113847204,40.77743703537474,40.71419966429629,40.724109000864594,40.700013340845,40.807523425831775,40.78113768099182,40.7110936123322,40.64371087544651,40.687690999656745,40.8221464531403,40.6805684057237,40.70881558723025,40.713005675029976,40.714118589466096,40.733436059899546,40.76084722813934,40.78941447470696,40.70628833413805,40.65278957285659,40.711579120457145,40.69562983614238,40.68117043558388,40.81994644490185,40.86252828373874,40.76466875550661,40.73376459853967,40.71503827575451,40.80274472355647,40.729819739391424,40.76042927826492,40.77106890321123,40.7173118496232,40.7168980484241,40.7122907938274,40.73298027685951,40.65490162557497,40.75999200628841,40.695353059614064,40.7622569974035,40.59209432341582,40.80273355351825,40.71327644058028,40.7218305296196,40.761379341618735,40.70981859282647,40.71794784697546,40.68221913939144,40.75272926755712,40.71330571651785,40.71732652084361,40.73160391001114,40.802973419649774,40.72566263695114,40.72346890515827,40.68693277277284,40.74712173021653,40.69309053625013,40.70523797047812,40.69144412155545,40.68898014101646,40.75697861382048,40.77623139334204,40.62398184727715,40.59592429332698,40.62318272833055,40.78591934554589,40.675957964804006,40.72890851584243,40.72714133577772,40.67257219272017,40.67938528609122,40.83945026528118,40.73487271507475,40.69300942860014,40.690951935750775,40.82365565390899,40.72870291913993,40.7104801255734,40.71136027509213,40.710174714690986,40.81525425524911,40.70238905931382,40.80100484475457,40.66847577687452,40.78671361497344,40.68820909126745,40.81232007633788,40.70650307591236,40.72562063864545,40.73273786477494,40.72955496053012,40.741177670485726,40.630126765874905,40.66774591670856,40.73153537728683,40.662094255001634,40.72778880642913,40.72181750346769,40.7195530948637,40.71786373968395,40.71523098213653,40.62802308347344,40.678051721742136,40.70550923859655,40.72665274726008,40.728715812557006,40.78903085391499,40.76301359714832,40.73697580447629,40.70762776006912,40.76781524331457,40.67369962812276,40.684100200604966,40.72809589149036,40.65042286785236,40.8302913862228,40.74509002477839,40.82380015615019,40.717084995335895,40.666565644317934,40.710096776026575,40.72155072701168,40.69856317042371,40.6741775386284,40.63948731050844,40.72682353552764,40.66328697382151,40.68147370382187,40.8709405662074,40.67183224764707,40.69484550290958,40.70430203237197,40.70770068492104,40.70324807594844,40.66872828554754,40.76220723460794,40.733869611895926,40.69572885341945,40.76556559411368,40.617212643222295,40.700723905490406,40.75062324373368,40.75782794386186,40.67878862438136,40.71728415698372,40.73037590970952,40.76522549255379,40.71169536579911,40.78340261408961,40.71996289179049,40.76665777751368,40.69917131461274,40.70699646520888,40.65202876576468,40.65570012878317,40.68267414235754,40.82474594931809,40.713935712557074,40.77882897512404,40.71591432109325,40.731227249005975,40.71520584083688,40.7696219427424,40.69598856824846,40.783902697588026,40.683060947946245,40.71068002265233,40.68845610014657,40.74432714724847,40.660856490310906,40.773249292065096,40.79983564917015,40.71243559356501,40.729963691585496,40.867623960283495,40.762022216184505,40.77769676072502,40.70017644718849,40.75019593632594,40.72615407521295,40.76373849133172,40.691525847693335,40.73085746764614,40.71240418307861,40.66533816000253,40.72003335568674,40.54268005862543,40.58944153280553,40.74634542458022,40.6761458263514,40.69916623120694,40.72140441018987,40.76473447147958,40.71952432452812,40.75757251488285,40.83702966491021,40.68581892985282,40.808872503731706,40.851391475520586,40.69590081489611,40.71541475680665,40.70892418651489,40.71230714302219,40.74177637577014,40.72033485402904,40.68631098807495,40.7153050589837,40.73362404897709,40.79690389598673,40.70868464091401,40.69384105056672,40.749280397955495,40.68993813110908,40.76258873514718,40.740963934084135,40.71284418912757,40.71570497288148,40.77958035708811,40.74750817168066,40.68804855514568,40.68715524098767,40.64059514962898,40.70581218224701,40.71199064424807,40.76854497442404,40.67227689915172,40.66127954160717,40.67655969122957,40.6958041871076,40.8583527948465,40.74768100417776,40.72323433140985,40.82510112800357,40.75994159291122,40.68277300158629,40.829844506483774,40.623490073442056,40.78502041121264,40.718328140166456,40.72587830011611,40.705646081577136,40.73330039901333,40.692707733232616,40.71965469611168,40.76748377857203,40.76042897230677,40.82887874622413,40.71310104605215,40.66594774185307,40.80330193871522,40.79384343027049,40.71755897664541,40.7622077164121,40.73640172242902,40.76567256438887,40.71932017080616,40.78718273857643,40.83775811128236,40.66611228452248,40.76150247463419,40.68326216347768,40.71912212838258,40.83446022146056,40.66485174862688,40.711808172413846,40.78649703558249,40.79220890769286,40.82224543727777,40.77251945001564,40.75715708641025,40.80324533898604,40.772117470503936,40.659351248294286,40.74602728308393,40.79794397098927,40.76635410159224,40.68781625848945,40.70114509261119,40.71116573960971,40.74530294145777,40.65086631542199,40.68501995984527,40.73257061530993,40.72787799202863,40.65833533675973,40.717243057349314,40.73877165425706,40.87812998726957,40.70473044171686,40.72397551471536,40.76448268435564,40.810373154501775,40.85349118988138,40.72322891682309,40.821908688111854,40.7159082088953,40.7965316803548,40.71994879030518,40.71431646571651,40.73887223788991,40.71763420384279,40.71259882542578,40.79964838544832,40.84762814813398,40.70445189102119,40.739575865696345,40.80729972015693,40.70397209011913,40.73287208719072,40.773273081858704,40.71356375824585,40.69187895158437,40.674078349658096,40.6892593726673,40.702216906678366,40.827020100506616,40.77091628159295,40.69962706251176,40.79494165164141,40.77511938919752,40.69261334419125,40.67754140956135,40.745502109593055,40.71170556607205,40.77127120336209,40.73227721985008,40.774847875796254,40.72858047511272,40.74066239608615,40.81250377478696,40.74823367513881,40.822718878860606,40.82404410103749,40.680181359197405,40.674468014094366,40.77044886855005,40.693003909342345,40.7469109703421,40.71904560666768,40.82318999331336,40.72834939214864,40.672471777520144,40.68282684452062,40.726374664801135,40.727000439387886,40.6832947880426,40.6914347044263,40.69321572795471,40.72228119322752,40.695641091539976,40.76779840916785,40.59103028420412,40.6256166790105,40.79670641578378,40.811357256225534,40.71848582938765,40.6815427667503,40.666410491938365,40.69318482463649,40.7271381068682,40.690093181514,40.80763406668037,40.758842206582166,40.706703704390506,40.7163764365041,40.70695632651836,40.69704454704728,40.66154690285647,40.68209754326436,40.75968169170272,40.72638044914349,40.69370149841917,40.73626296239,40.68561268330132,40.66391722997511,40.68996043419161,40.69293318820049,40.68747161209446,40.67189875419814,40.679262372761904,40.84266170269567,40.7418744221019,40.71035676622285,40.761125749899286,40.7929401708333,40.77872125827175,40.72989321951138,40.76327238421149,40.73823783895105,40.717297553091285,40.90120047106077,40.82840336458643,40.663422021986094,40.69197216941029,40.70725127145281,40.787176869485954,40.66820009275104,40.705042525864656,40.63078831736696,40.73321322998492,40.67231643386969,40.703445003840976,40.77786491684711,40.71078454910322,40.72571849266243,40.72151818684448,40.79938741445666,40.876920993409534,40.67376069989928,40.70776500690045,40.792151079605055,40.70097800763786,40.68141963836809,40.78163533261768,40.72528009464656,40.68177175716056,40.67664582516355,40.68849646395783,40.81487785900564,40.67630944841103,40.57581303972004,40.80992045679225,40.72544093158313,40.71401506089887,40.79519453727292,40.805670139172506,40.736689945145294,40.67892792493734,40.82223294807844,40.68255589945986,40.736844472352544,40.73251427010271,40.65731248163427,40.77562441682199,40.7849782816966,40.72372330799608,40.820761472171775,40.775306989332506,40.80256816632151,40.671455232722224,40.76100556034741,40.69417659155236,40.697093250667045,40.802625700567816,40.72619489502113,40.802355713229296,40.671269366659935,40.65058524606198,40.733258951194905,40.727037199630274,40.68644035624045,40.83270055864232,40.82991765379981,40.68610182637829,40.78478636587927,40.74852630546106,40.71656064943837,40.73510373847102,40.73970043540909,40.81790894355128,40.74738096435515,40.73217360810448,40.68645857704015,40.7645177757388,40.7632586806989,40.660744451137255,40.71605389295839,40.74405932675911,40.66868140951127,40.7680529188952,40.85959069283521,40.772716745024425,40.773009841630255,40.78353821815493,40.69473850701387,40.68704840588202,40.77508786106748,40.65089531892576,40.70749365432928,40.63364459859244,40.70564625759024,40.65060090148057,40.71113759090312,40.714182375029374,40.71586015752524,40.7822074178083,40.7140125094208,40.71688497387712,40.85063178030772,40.674399966285975,40.87039382420306,40.74753887099181,40.68144948706712,40.68189864539842,40.724500442141405,40.65415999074092,40.7196292637928,40.75532626634792,40.709572970103785,40.76191191541537,40.70120762621222,40.70752870469792,40.65181622214515,40.644508819149046,40.681480086642686,40.71315743504322,40.711156635326645,40.67850990635027,40.609912005422224,40.891953689070256,40.843933880810006,40.69830408710821,40.69652362997076,40.72229032951125,40.74767120120856,40.67468979293669,40.64588060301328,40.85267398431847,40.76112354888272,40.725907672596136,40.88090664874723,40.83436246564807,40.72526423428954,40.792239448738506,40.69425421233824,40.7152186825015,40.71442516973928,40.691844409726265,40.76187723542888,40.831013631552615,40.69328854962121,40.72970660117296,40.647351599731024,40.68004757797527,40.67218073609441,40.80878002284811,40.64523314930453,40.6924504795085,40.74523043749418,40.7183612626952,40.69243952718456,40.719300093774,40.708947016865295,40.80803383549086,40.72738806301932,40.71875403692378,40.80085600869008,40.69479901861283,40.75979425856421,40.704576215545146,40.756270214552366,40.71033822751443,40.72612248179258,40.79996950036672,40.69874796703471,40.83367374640834,40.69289304037662,40.76575272419825,40.7156902338747,40.66249391244345,40.68873151993922,40.6981518516401,40.67621475641444,40.77734413998008,40.64290794149529,40.73129174466749,40.66961372968893,40.64604519317295,40.7280722487809,40.80711895516436,40.676808388599696,40.69344820607685,40.76129931762069,40.76531381305917,40.7219618196811,40.802254061524025,40.74429790096608,40.691431876521705,40.72063861467827,40.69682392474722,40.78086638298424,40.8002365441394,40.77438890609264,40.72724626858907,40.75558373303258,40.727641248810784,40.86663396228741,40.708493781868526,40.732042987280266,40.75860958836088,40.7644954163206,40.71577826648842,40.71840483835646,40.794502233845655,40.70463406718997,40.70147161013213,40.68587832416457,40.67085664937589,40.71523907843896,40.73664819721085,40.70075997828919,40.735318760677536,40.74926691354311,40.69723539992936,40.695456194136575,40.724713920180825,40.64464778446148,40.72470616487442,40.6874230018672,40.699550476249904,40.76164904798157,40.71838846806908,40.71681196952404,40.73324640390522,40.71938297381523,40.74598783150825,40.80477213356657,40.71368697784188,40.6941506371379,40.84521769164122,40.746450611994405,40.75721022965319,40.80614288815273,40.74647714484218,40.710038421673566,40.78463957915569,40.78233303842757,40.71723690922783,40.75160022930734,40.68238096418325,40.668907103422,40.70463345773079,40.70007156595089,40.77205773499124,40.686303366983935,40.7258685006299,40.68901940242482,40.725130075874944,40.718272928858205,40.7618817961047,40.7995065543934,40.81000056186483,40.71400710595508,40.64593775299977,40.66758944751577,40.71546737203296,40.84566311527183,40.77539950443466,40.82560728159291,40.71625834199668,40.69213109071771,40.68124987532408,40.76387216780781,40.72930990334775,40.709517198638224,40.705472978986506,40.68525915569621,40.79658303100226,40.5774252955187,40.67060626632986,40.71404282879485,40.71450156202732,40.74737364373526,40.687002812569744,40.74397821744965,40.81375492639183,40.67144804512707,40.73606938426426,40.770009807841454,40.6785495883418,40.71141415063261,40.6815085464504,40.79949443577005,40.79558673982587,40.65775746886101,40.70386785302247,40.90733759790199,40.76588605888017,40.76223591834922,40.68544672620116,40.77653854272381,40.69967153417132,40.72715103507578,40.76230602573713,40.743828081219256,40.629239704280046,40.77042653927558,40.6781914555975,40.764953673433,40.664206938505295,40.70401968240392,40.76715384826922,40.65056140650292,40.79236951432002,40.72321303184928,40.687743675195286,40.83712490463286,40.801444852763424,40.78463758061233,40.691115283955774,40.742956001028965,40.77480758690628,40.683418659881646,40.751752963841774,40.77293494892266,40.686389281148216,40.76452341896776,40.730772282921215,40.81055357351087,40.73073991346109,40.74744573758451,40.71062524988693,40.70085108831164,40.66893783388808,40.73854414722053,40.71685979790079,40.7169247400989,40.7511838281277,40.74102887074768,40.70970766171032,40.70988801772881,40.610554745323896,40.72311641583276,40.77376223029906],\"legendgroup\":\"\",\"lon\":[-73.9539841122843,-74.03195146755458,-73.95719649434746,-73.92438969737739,-73.8703881693763,-73.98178006456273,-73.94974340383862,-73.98263648243106,-73.98571509179708,-73.95522881929355,-73.98705755999762,-73.98160351002824,-73.98389288972515,-73.93435630903538,-73.94467745432004,-73.96058385138961,-73.9838492298332,-73.98874125454168,-73.99842884997716,-73.95186015925925,-73.95282620572826,-73.93823521306146,-73.83412754069117,-73.96777258367415,-73.98302086942672,-73.94663287249192,-73.9395629995136,-73.94278031012567,-73.962942881379,-73.97305969463166,-73.93032949727882,-73.94483785442985,-73.96070180464457,-73.98973746237405,-73.96108216660214,-73.95813963415776,-73.75524118295918,-73.93883707335213,-73.92526168530726,-73.9425597665706,-73.973960361938,-74.00642652567403,-73.94661004293492,-73.91410687415585,-73.98959129494786,-73.98884456602477,-73.92741279369926,-73.91838614969086,-73.98437087636994,-73.92620623635507,-73.98457602977602,-73.92835872070856,-73.95371351932295,-74.00953323082827,-73.91335898543096,-73.97054198860555,-73.98370474380636,-73.99154858550777,-73.98050728400119,-73.97767354111231,-73.99087730878759,-73.93849859992926,-73.93934423774341,-73.95312161517732,-73.99922618882749,-73.94286640199155,-73.9648814998983,-73.9635428833069,-73.93574133961202,-73.99664122323793,-73.98285693857251,-73.99932031325193,-73.95836613737674,-73.96117851113553,-73.95418695297886,-73.98036298281717,-73.95623171644745,-73.97988500476005,-73.94808491067708,-73.99344406061986,-73.99264379008821,-73.94867924011706,-73.9843530188465,-73.9941620022456,-73.99619378904706,-73.95340280602835,-73.95189193079919,-73.95223222475637,-73.87831484094075,-73.94753526587581,-73.9235678084577,-74.01680067998781,-73.96749638589712,-73.97286823717316,-73.964482058866,-73.99520825555791,-73.94208561136158,-73.9709655535317,-73.94210356108806,-74.01533690101543,-74.01532370983487,-73.98945949807012,-73.99702566952003,-73.98435451147478,-73.95010151892559,-73.93803592322709,-73.91811598801178,-73.96103677047596,-74.03956714155926,-73.97330033542632,-73.90868436026985,-73.95380998210473,-73.94755863787853,-73.9769864644005,-73.92345097532892,-73.96097698254995,-73.93870405773472,-73.93065732529917,-73.98305440635848,-73.991973237124,-73.9414067571725,-73.9897656769741,-74.0028841489669,-73.94098461901005,-73.95753448723927,-73.99125393554067,-73.99355496391206,-73.97287008353746,-73.9404935899671,-73.96822842122505,-73.99024393528269,-73.96115235011222,-73.94757096745744,-73.89306287731516,-73.99410148555938,-73.98027360949283,-73.9265652453381,-73.92138521912841,-73.94941650979783,-73.98636600556543,-73.94925908250032,-73.95887270232994,-73.98673411979505,-73.94713734402272,-73.98277548390412,-73.93575713139774,-73.93340735552151,-73.99767196860189,-73.98511388152491,-73.97356008747246,-73.94712074493003,-73.94752090142553,-73.91386748104634,-73.98495918977612,-73.94529617426112,-73.98244851008387,-73.98361484649976,-74.00314161618431,-73.97535491056712,-73.96621176112608,-73.97218026907613,-73.9497520770055,-73.92948910769354,-73.96437696597037,-73.98216204430261,-73.98011248070414,-73.98346679952937,-73.95675850826348,-73.99115883987194,-74.00015770270393,-73.9840416853082,-73.9297675919558,-73.92145867371514,-73.9970772814542,-73.78216902556144,-73.98288580097605,-73.97922474463341,-73.95155189568865,-73.94919322172953,-73.98526193935268,-73.85444374148452,-73.94630889085482,-73.96659653551939,-73.98195140162248,-73.92317537330126,-73.9113086439044,-73.94061403906187,-73.97758747480566,-73.88544820590238,-73.92268833152765,-73.93257961645827,-74.00507108319174,-73.97327256534284,-73.93349031429014,-73.95543079295831,-73.97579375118428,-73.9861681845594,-74.00153562263476,-74.00283073903577,-73.94962369642877,-73.93813481034809,-74.00055421824541,-74.00593972825205,-73.92272977168761,-73.94905563847425,-73.96527597999028,-73.9347833517482,-73.9914966858165,-73.99315415959063,-73.93190981119395,-73.98082764267082,-73.82432887584031,-73.99126171541799,-73.9723265943681,-73.9409939578867,-73.93882608704264,-73.96879105374934,-73.96766890316208,-73.97112841639742,-73.93465246729885,-73.96625001642552,-74.00852092859202,-74.02875930852446,-73.99679540635361,-73.94915386176584,-73.94540385375086,-73.95307906368494,-73.9175539591659,-74.15589729580134,-73.96411899926987,-73.9829121667738,-73.98825255620547,-73.92366740628714,-74.00352624899284,-73.9663222443002,-74.00715116045279,-73.97293459122466,-73.9549923387574,-73.95490223964893,-73.91708376096841,-73.93619100813332,-73.91446726990242,-73.96775829880113,-73.99542555471207,-73.98516049730652,-73.94648142884127,-73.9454837236127,-73.83470766139504,-73.94764680753596,-73.984868399492,-73.91264658810333,-73.9381358493341,-73.85084779729567,-73.9956753502273,-73.94060829472022,-73.95792140987497,-73.95497965748093,-73.98788793966398,-73.94790686109786,-73.98890049597905,-73.84209488004134,-73.89415718640973,-73.95052861771616,-73.97847895383165,-73.9751458652271,-73.97281874632323,-73.97332971936883,-73.9482666801576,-73.94279661100356,-73.93979548815838,-73.89044951301085,-73.94141154816751,-73.9614153775938,-73.93324323250866,-73.94111492918306,-73.98390558111531,-73.98986837104745,-73.98819865804853,-73.98410514119422,-73.87286797136024,-73.926070699934,-73.99565966261544,-73.95018931306262,-73.99943988528624,-73.99737682242319,-73.98263076147495,-73.93997693138837,-73.98144641330087,-74.00035583062848,-73.91596861264284,-73.98274534765838,-73.90978097106634,-73.93280780464244,-73.98314466490967,-74.00177849884803,-73.97673883278932,-73.95349770161262,-73.92828086703825,-73.9449975954567,-73.98857143067731,-73.98994448314049,-73.93824492464702,-73.94110658037319,-73.91765419754181,-73.93289799342158,-73.93996737006579,-73.94308948390872,-73.98089181102272,-73.98963628985416,-73.96906689031847,-73.93307046260578,-73.96519237347451,-74.00099940806716,-73.98978999547424,-73.96555246385101,-73.94867980237557,-73.99874791250693,-73.94771124645327,-73.94503490880598,-73.94768262502923,-73.92489036330717,-73.94156136138456,-73.94153810411032,-73.95457998807764,-73.94891543628657,-73.96752400350391,-73.9439278195417,-73.99765837696062,-73.98696919926809,-73.98907341187099,-73.94958611557544,-73.98826700001973,-73.95426891465105,-73.96376611934015,-74.0000852096843,-73.95432383240161,-73.99916757720986,-73.99463174679205,-73.9723513315882,-73.98239282040359,-73.9549081218888,-73.9503821415158,-73.98467682104976,-73.97629355299406,-73.99021473463087,-73.98044523931003,-73.7886582390808,-73.98405802178178,-73.98514203338107,-73.99452356436196,-73.98422767835484,-73.95072545746537,-73.98740644982514,-73.99894674374887,-73.97093635065465,-73.94553294469254,-73.98107270222671,-73.96870302239063,-73.9849407117155,-73.86975536185025,-73.91262774764323,-73.97863228766022,-73.95249839482928,-73.9957099990381,-73.97307055128258,-73.97506179474482,-73.97131948025634,-74.00512887064656,-73.94322834463014,-73.98215518124898,-73.98676335408558,-73.98441409705144,-73.98917174241282,-73.91968335725271,-73.99474701252774,-73.98386402062688,-73.96506907516284,-73.95798639965936,-73.97219648837759,-73.89649360331077,-73.9937358148517,-73.99704394466579,-73.99370906660181,-73.99224118258645,-73.96013394962841,-73.86265434164794,-74.02736152521528,-73.95010124479,-73.77472132836313,-73.9367567412836,-73.97595679040322,-73.99504642135446,-73.74590351219146,-73.96222987507561,-73.92351313282775,-73.95096512361134,-73.96127170307658,-73.94413966193017,-73.94970214429334,-73.98933028126073,-73.9587109084089,-74.00323698067278,-73.98283843347588,-73.95796453598882,-73.99198126128219,-73.9093384159479,-73.93582537922357,-73.91992025611128,-73.90993129354062,-73.95194003390718,-73.9294621615649,-74.0293432357591,-73.9936385578271,-73.91667135619592,-73.94597611507382,-73.88576502564338,-73.98029260650158,-73.918223225829,-73.95116530703284,-73.97733494425262,-73.9885284770664,-73.95797412498527,-73.94970229382078,-73.98954095767904,-73.98750237559138,-73.93388168918483,-73.98948801075785,-73.97989117077014,-73.89706685166823,-73.94978480137738,-73.97096774274065,-73.94680881584033,-73.86979421965525,-73.97166170817407,-73.94104955832191,-73.96303458465796,-73.92803106038536,-73.90490839867161,-73.9629940504946,-73.91808236508075,-73.92304729095451,-73.9971022503232,-73.95655640728731,-73.9672003678521,-73.92976862936442,-73.9402908464393,-73.9112589060777,-73.91096906747995,-73.95509989798855,-73.92248665278396,-73.78227587249019,-73.99989912183587,-73.97589215759278,-73.94058417549878,-73.99030911907451,-73.957008884585,-73.98504008908175,-73.94944953675991,-73.90716917050008,-73.99878389501549,-73.9833326798648,-73.93551717659591,-73.97875709024693,-73.99416022158634,-73.95432185845559,-73.9527849455185,-73.96806620041781,-73.95888862366745,-73.94407498866023,-73.97096859937248,-73.9823086088705,-73.99404798129284,-73.95941129684648,-73.97009680065237,-73.99607335779167,-73.95571756108386,-73.96801643018496,-73.83467284629869,-73.96526780661524,-73.92581564309262,-73.95235107867704,-73.92592196564851,-73.93743022213323,-73.98601312798303,-74.00233887747305,-73.98599909623894,-73.95209964104166,-73.91484672945377,-73.95176604112841,-73.94831049126931,-73.98786398081515,-74.00252480978988,-73.94313757897461,-73.88182326867258,-73.99050646126139,-73.95895080815887,-73.98123615791356,-73.95647184821179,-73.93495201823345,-73.95429396643783,-73.93574460759474,-73.98904760303792,-73.99157466744909,-73.9900989831382,-73.9640215149078,-73.98634791293767,-73.945396290484,-73.97693235170989,-73.96980906069727,-73.99525274181434,-73.93735703942906,-73.94940477759452,-73.98102896323516,-74.00459851131448,-73.98134763315865,-73.98440293323367,-73.82692663513194,-73.81959839979258,-73.95779838459183,-73.96890178339642,-73.96127800301436,-73.91182534855292,-73.92956201121154,-73.99143457739828,-73.88641396510162,-73.93066494797927,-73.97684433128448,-73.9553142229404,-73.96170451768181,-73.96188298217945,-73.93246611300911,-73.91882412689303,-73.98169509735824,-73.98466239035871,-73.93713482942412,-73.92418359738713,-73.94637867830372,-73.95398022718666,-73.97464976631662,-73.99507245391338,-73.94917910555395,-73.9614271410622,-73.9964155200409,-73.97150986689323,-73.94554691728902,-73.95960062126505,-73.98213425042887,-73.98798846595449,-73.99227096765684,-73.97508324347775,-73.98150832113677,-73.97905194049011,-73.92340377036365,-73.94457225352022,-73.98561747602533,-73.99522702029525,-73.98412984457768,-73.9302975834262,-73.961568340397,-73.93141329848416,-73.9377587440359,-73.9876644314329,-73.94955621536369,-73.93224902292249,-73.98868858253378,-73.84705196767435,-73.93505398173302,-73.90956498829388,-73.98496778015182,-73.92590554478622,-73.99932302584268,-73.94120159861706,-73.84713771668113,-73.99866895214731,-73.94585751716775,-73.94355982662293,-73.90457739006331,-73.99786145921017,-73.9666414560387,-73.9786034304251,-73.95957142439381,-73.97948149294007,-74.00371857622278,-73.91288135503581,-74.01200977950906,-73.93173752298759,-73.93334488812216,-73.82951354582087,-73.9507221636762,-73.9099503117083,-73.9922795834174,-73.93825706993722,-73.9838938528617,-73.84356149455732,-73.95067002925448,-73.96749831300552,-73.90313779920147,-73.99133293842472,-73.99017795633495,-73.92774048187259,-73.96761273443154,-73.96743912821134,-73.96951256045608,-73.9561991194445,-73.9208306110495,-73.95982783053623,-73.99031623208678,-73.98472403331441,-73.82648705374595,-73.97434459584885,-73.96413945429609,-73.9420305591537,-73.94372332354901,-73.96504387699618,-73.95655536931196,-73.95737861638244,-73.92138761603303,-73.94377937053291,-73.92519971495805,-73.97917323825331,-73.94002751133131,-73.96054208610376,-73.93972519854955,-73.98226114140688,-73.94952290582636,-73.96510559688376,-73.95680933038739,-73.95569039542367,-73.95501200144261,-73.93657435314952,-73.96122648200244,-73.97993500595145,-73.94860239290999,-73.93490047824265,-73.91449059495064,-73.94300460281909,-73.98906746959177,-73.964323653252,-73.97065953361862,-74.01020809707944,-73.94314821840278,-73.97026943250364,-73.96044693833704,-73.98023205452782,-73.95211426494033,-73.8151388272821,-73.95749294390419,-73.94248829271844,-73.9539235022612,-73.91204659120629,-73.9480764704453,-73.92980450003883,-73.98259560508251,-73.98690303674825,-73.93038013955717,-73.93908707982902,-73.95548755860978,-73.98548965611708,-73.95175093527686,-73.98481693503524,-73.98157361642416,-73.997973306726,-73.98385030504089,-73.97654788698323,-73.91381236496842,-73.94405167303364,-73.96516743399003,-73.92763211680625,-73.89976190545117,-73.9540471216658,-73.85708738793606,-73.97823225226337,-73.94977443967784,-73.96054174521345,-73.9859219750616,-74.08734274801026,-73.95168647337617,-73.95315837827077,-73.97853364095963,-73.92663381562821,-73.93889190526151,-73.99010547983579,-73.96284750665538,-73.98063570312165,-73.94543131351469,-73.99954202267297,-73.96141318851151,-73.95978978125625,-73.87052624860799,-73.99438431914882,-73.96480713071558,-74.01166401109515,-73.91210135343115,-73.95275935545796,-73.94266223190591,-73.83065708475212,-73.94390555466084,-73.94012288692123,-73.9804000496965,-73.95363180686387,-73.7815810759327,-73.93473152853983,-73.82861102362294,-73.94794230351238,-73.99923625447366,-73.8954772506552,-73.96648045095392,-73.96024015023413,-73.80670219701608,-73.82494284857263,-73.92072280250437,-73.98575755039188,-73.92780134296419,-73.91887560604559,-73.99982254076299,-74.00425525994093,-74.00061605935184,-73.96625198244345,-73.90405206512101,-73.99112139143467,-73.99857513307093,-73.97613940588367,-73.96980816184517,-73.96181498093817,-73.93738359141112,-73.87754928393211,-73.88372912417262,-73.99917293292252,-73.96145927819022,-73.9798281641344,-73.92803684500453,-73.96504686130281,-73.81785260010612,-73.96497010539275,-73.98319149935206,-73.99806078206427,-73.90254381077614,-73.95466338671963,-73.99692726442821,-73.96159430124861,-73.9487705434821,-73.93666402766638,-74.01676667884482,-73.91651057530538,-73.96497400110444,-73.9922770858797,-73.95893800659532,-73.95466481093105,-73.98533322258014,-73.9251201699968,-73.98207972298745,-73.99778828704655,-73.88381738395302,-73.98230526163776,-73.9209115287673,-73.95704916101684,-73.95747794205937,-73.96261875844125,-73.95520562832924,-73.93763870202609,-73.94774535829795,-73.98758814199388,-73.96965457460074,-74.0017963168373,-73.9613583812707,-73.93904035671756,-73.95427034020517,-73.93818032599847,-73.95222448891386,-73.98147667549455,-73.93041538445479,-73.92943739982229,-74.00886751609015,-73.9456340815086,-73.93476295532204,-73.94534787729512,-73.94616721177036,-73.97169120298392,-73.92986004225808,-73.92374993335908,-73.95167451099188,-73.97820517064298,-73.94271191235495,-73.95550986929712,-73.96144168538113,-73.98682444188537,-73.92534336322004,-73.9816300835346,-73.9913736018303,-74.0944363692943,-73.94604156446033,-73.97175318235992,-73.95903849181914,-73.96104215464445,-73.98061159492886,-73.94384087105789,-73.95435499996576,-73.95759393822182,-73.91957881223145,-73.98840075587194,-73.92569047168931,-74.08034653731727,-73.96427688185426,-73.95508134006789,-73.98505382172766,-73.86872662188702,-73.93870566837545,-73.96230155970636,-73.94656215981915,-74.11395796773569,-73.9859822989413,-73.9355130163836,-73.95066758918385,-73.93934218561193,-73.9927231209431,-73.95385590413652,-73.95920897035829,-73.98407096174655,-74.06471486469418,-73.98903521946241,-73.94495581561077,-73.96792567642079,-73.94466319551324,-73.95830803008502,-73.94027716854978,-73.82791926115259,-73.92646992786786,-73.95816955135548,-73.95259076467642,-73.99533135488122,-73.96630890597609,-73.91199366969137,-73.97986239442227,-73.95812309125769,-73.98287711990207,-73.94344495168438,-73.88024925984581,-73.91190983030758,-74.0351914454852,-73.99373440889603,-73.85907515910353,-73.92757848011246,-73.95745279967825,-73.97314281312674,-73.8810387955073,-73.91524477621581,-73.9364958661635,-73.9618476268449,-73.96045619600194,-73.81152004193059,-73.98914285416156,-73.93683606130209,-73.93298535565295,-73.98506838171387,-73.92363117075634,-73.92690102416185,-73.92316183583945,-73.94085206045567,-73.94100961532861,-73.80178110205135,-74.02771908641361,-73.95166134859778,-73.92556085480082,-74.00665925989594,-74.00128619706706,-73.94193712960843,-73.97379567173321,-73.94885644474627,-73.98672237771103,-73.91692086757973,-73.95324412162198,-73.9145127267668,-73.95225898053495,-73.95327730078529,-74.00748949278574,-73.90367078166923,-73.98212454028085,-73.94714141451115,-73.8467746340973,-73.9904113223983,-73.92201348174379,-73.99194566244627,-73.91643400905839,-73.95938203947951,-73.98767069703742,-73.96206950475836,-73.96200967695776,-74.08325910038512,-74.00803376912758,-73.94884450851104,-73.96308469270281,-73.91402686394815,-73.9299662805251,-73.98286335608533,-74.00727268111369,-73.99552936122774,-73.95859347802497,-73.96282892127844,-73.95988560033776,-74.00315212958336,-73.95353855531566,-73.95227174354558,-73.92856657703592,-73.98418460151603,-73.95949042894732,-73.98011282818756,-73.90324820874058,-73.9554503965907,-73.96238032084419,-73.94812026706329,-73.9604938709249,-73.92780542727691,-73.95099091409902,-73.96910132752609,-74.00352805198875,-73.95511724505943,-73.95983348252942,-73.90451193725173,-73.95227642687762,-73.97946079473886,-73.99545513004925,-73.74627087751267,-73.949643040631,-73.98973485040894,-73.87796592376087,-73.92284125492365,-73.97286659045697,-73.93824345213041,-73.92521809683466,-74.00599007184645,-74.01456963617734,-74.01556686941852,-73.96192530929413,-73.96634800299795,-73.98563674881025,-73.96713167517612,-73.99634730825231,-73.96441228036001,-73.97841528059556,-73.99778675103094,-73.96829583888061,-73.91859699307463,-73.88846129814756,-73.94803190958055,-74.02971553789723,-73.9854188792645,-73.97725749482285,-73.98837814166505,-73.98490525022194,-73.95071985274642,-73.98900284265005,-73.93875916884306,-73.91184898974856,-73.95321123918845,-73.99560976121916,-73.9141476133838,-73.98086579954357,-74.00626113784281,-73.94639860001972,-73.99286127333032,-73.94750982169249,-73.96029163496219,-73.9551509225295,-73.91011399268889,-73.9223269464475,-73.96389641541367,-73.98193972612046,-73.91856267727808,-73.90473723058024,-74.00797969773707,-73.94851996488097,-73.94737327715781,-73.95178993286147,-73.98727500315647,-73.96540104617183,-73.95005285036841,-73.94937647870097,-73.91442978541001,-73.94569104316741,-73.95918209847585,-73.96195648361798,-73.95388171655479,-73.95929274055435,-73.95620243485358,-73.94585556446745,-73.90776728103803,-73.9529540318959,-73.98405572203231,-73.94850969244331,-73.99183693571825,-73.97958877622439,-73.88493100050404,-73.92845356075445,-73.85661739470045,-74.0240554327937,-73.95562298931543,-73.96036838767365,-73.9227673577043,-73.93933010147855,-73.95450861465076,-73.92058384418925,-73.86268414665437,-73.949702025642,-74.00688830755485,-73.93209560015221,-73.96086012470944,-73.97136068801844,-73.9209599115837,-73.95233543979822,-73.97451448791759,-73.9455386222833,-73.99930336995592,-73.99430058487539,-74.00744453391603,-73.99399404692099,-73.94945811790656,-73.93990215155708,-74.00032833965615,-73.91459797372559,-73.98087962840974,-73.9473307601467,-73.78828424999804,-73.93319472080844,-73.95527389004438,-73.92412133982535,-73.97962366715096,-73.98456614510819,-73.95236646648699,-73.98648054571456,-73.94929740666088,-73.95172237782545,-73.94983438003005,-73.97889235391305,-73.91581241878079,-73.98917500393627,-74.00858095377649,-73.9917055665889,-73.93597894164424,-73.95627572251662,-73.94911775681071,-74.00028239159491,-73.94084933313765,-73.9441470478947,-73.94460008255736,-73.97087298882255,-73.90771621205229,-73.95812156705499,-73.83572332686136,-73.96314532125659,-73.97778463729071,-73.99404352308531,-73.92538168121865,-73.92512118962556,-74.08907216714942,-74.00305466061226,-73.73916581615853,-73.96871655358599,-73.99040966760174,-74.19826195186798,-73.96049648343259,-73.99496410102047,-73.98893659310014,-73.97593777217267,-73.98851767075897,-73.94315356266031,-73.9792505037433,-73.94687547661852,-73.95727720623375,-73.93105306199904,-73.99980448916719,-73.97747563326837,-73.97369528902567,-73.95643948320856,-73.96001279879466,-73.93146344221056,-73.93087757860958,-73.91411443963108,-73.9189207215464,-73.9502059481392,-73.93964567450331,-73.95952422794547,-73.9102547083628,-73.95770338455891,-73.97800207815091,-73.9190126236913,-73.96234570721154,-74.00156395326572,-73.98217343235915,-73.98664364248593,-73.95821556326057,-73.94367796162645,-73.94745879611115,-73.9684196224028,-73.91980619194557,-73.98286572531913,-73.97334340218856,-73.85020368698288,-73.92466015846234,-73.96023643296091,-73.94485373737216,-73.95296194264192,-73.86542852804617,-73.97953848684665,-73.93916214774815,-73.88744880962588,-73.98521170691113,-73.90998045125383,-73.94338042272446,-73.99579410874713,-73.93379665297412,-73.95261524115655,-73.96713059037836,-73.97882328365323,-73.93355736499987,-73.9849250948366,-73.9840314774473,-73.97099938859883,-73.95643874702806,-73.98869228704469,-73.94123107961678,-74.00186320245915,-73.95686710616972,-73.95400349858083,-73.94121715501716,-73.95583438103186,-73.96093135119861,-73.96621101473528,-73.88534054091386,-73.98829753964577,-73.91542855609889,-74.00127132469663,-73.92917633490511,-73.99496004107307,-73.93373109848936,-73.92248898758386,-74.0101484726074,-74.00372456752388,-73.9818976929553,-73.92854963651004,-73.85088479487936,-73.93764961156073,-73.94313093428941,-73.91510052217922,-73.96598427161884,-73.80205402304749,-73.98082186998106,-73.92370388558456,-73.94434049959688,-73.90220829960188,-73.94802129461371,-73.92020227318591,-73.94494287774779,-74.00250163729879,-73.99033839572171,-73.98636946991779,-73.898063841621,-73.9953483156402,-73.99016814023167,-73.90623970510825,-73.96401032713737,-73.91193395793668,-73.99989592771,-73.99246902954214,-73.92999497084155,-73.92204818333116,-73.94124292308456,-73.98458509177037,-73.99480924645619,-73.9577808482461,-73.9025034174617,-74.00335871737602,-73.92844903669821,-73.98433785770155,-73.99109055364801,-73.89571454756104,-73.95825030685353,-73.93214074628592,-73.9934116897052,-73.9977492534351,-73.91739287490766,-73.98258421768811,-73.98650092154564,-73.94725719161737,-73.98931691249966,-73.97682844482551,-73.97317559882525,-73.93647684264103,-73.96900127825779,-73.96159126323886,-73.98701387719474,-73.9876682763817,-73.94837554866174,-73.98370067717354,-73.95460801036445,-73.93125861866639,-73.74774122602575,-73.97834849443215,-73.94342003727724,-73.87828695393694,-73.80829756519694,-73.98099550042839,-73.99797327711262,-73.90851356907824,-73.94066222401335,-73.99310947006181,-74.00399475702051,-73.98730859563138,-73.9563249119907,-73.94569787036377,-73.94781044077935,-73.91143795747281,-74.025518830204,-73.92619566647517,-73.99637479651041,-73.95653613515623,-74.00637116910076,-73.98866659682577,-73.92596624955007,-73.99334936145765,-73.94532758375213,-73.95134033692072,-73.98108422275862,-73.9247698940388,-73.99509008568421,-73.95062816815471,-73.90726300774907,-73.94538103938875,-73.92211355928791,-73.9919650054231,-73.98683703605917,-73.91583083606301,-73.96388367070881,-73.993436819817,-74.00422903778397,-74.00697803272921,-73.95810235398041,-73.99415575556856,-73.97323702398933,-73.94397354250566,-73.93021870310672,-73.96020053340683,-74.00184526756652,-73.89827839130733,-73.9406974009084,-73.97235431414244,-73.90023010804919,-73.95030037969227,-73.94280676443124,-73.98736513435173,-74.0165846191542,-73.95977727351361,-73.93375519791562,-73.95259255757367,-73.96429568005634,-73.98409821642605,-73.9542058344015,-73.99664318564352,-73.92916365327088,-73.91496307507957,-73.95121958902162,-73.87337017104659,-73.98984821787457,-73.96204447324503,-73.98418156071703,-73.98613013169096,-73.9655041418112,-73.9232966526025,-73.98989238444197,-73.8333762602799,-73.98028412726495,-73.96243040437062,-73.9444720776571,-73.95565149371262,-73.9913712787652,-73.98137450161634,-73.81983519206177,-73.90917528360606,-73.94779879727061,-73.94633860065859,-73.92782137617873,-73.948441277859,-73.94673854148212,-74.07626917951862,-73.94853529503135,-73.94409075176289,-73.86767590190203,-73.99471504112758,-73.95786969105903,-73.78010969786321,-73.88927799728975,-73.94043087811043,-73.93905055911866,-73.94330344396435,-73.98084760745546,-73.98390980823672,-73.9012694932189,-73.94057518929705,-73.98812168572823,-73.94998810217069,-73.95259792750866,-73.96164871221755,-73.9064313548784,-73.92227710383554,-73.96404523773067,-73.94852221493883,-73.98797911375027,-73.95066709454477,-73.96037498617879,-73.99222036115846,-73.90087493386987,-73.98994938489001,-74.00258119371324,-73.99601807246006,-73.96068816047746,-73.94385559868832,-74.00713703098968,-73.98560383228596,-73.93612406480278,-73.96886446473637,-73.90998832489204,-73.97093100924587,-73.99135731329315,-74.00088280158134,-74.00359916979794,-73.98256385554348,-73.9229243630316,-73.98801339012128,-73.91204522800138,-73.9506920365791,-73.99232589498672,-73.95797050167083,-73.92167641485435,-73.95402375292271,-73.85511254597425,-73.99478376267983,-73.95688341486077,-73.93859319788533,-73.93173465708666,-73.95306264288772,-73.92447014421819,-73.99486535121723,-73.94058256071122,-73.9802724255198,-73.99390347294344,-73.92771916466344,-73.98560989488462,-73.99478373233016,-73.96052581949542,-73.9431919709243,-73.9651419736664,-73.82550877988382,-73.98108011924478,-73.9989529188802,-73.95148874067469,-73.95080869583563,-73.92068146885767,-73.98032526422536,-73.96088139556156,-73.95224233664163,-73.9152196520167,-73.98061755002799,-73.94814143661179,-73.94765174281235,-73.95313822388701,-73.95290807502344,-73.98663174425269,-73.9759972387501,-73.98290965943815,-74.00258152281627,-73.96776294866105,-74.00632454258692,-73.9859286881647,-74.0032790501775,-73.93688285748627,-73.94898637474866,-73.95482334889051,-73.93152390811883,-73.94372452947819,-74.00073825216704,-73.95009999131963,-73.97531855190209,-73.93165933217166,-74.00782413079091,-73.96702860650319,-73.9900078031354,-73.97211680827405,-73.82914247768237,-74.01743334318444,-73.98079878141306,-74.00643361473622,-73.94150125596683,-73.94994243207175,-73.9877031828944,-73.95460946667255,-73.93311873491416,-73.9824283284818,-73.9572044456295,-73.8667734767489,-73.94714223090911,-73.95406762930243,-73.9236045868672,-73.9637631413597,-73.98821052796892,-73.92375158615236,-73.92274947936544,-73.95561568959198,-73.9425308026563,-73.98077318481296,-73.8902810909063,-73.96309725736305,-73.9650892531427,-74.00384903526286,-73.94320034225603,-73.96096613700661,-73.957225560925,-73.95000194602963,-73.99348984053373,-73.97141728201882,-73.9545948917083,-74.0022412427428,-73.93747892553006,-73.95842566684959,-73.98401687201216,-73.95690950132149,-73.97304732856115,-73.94484606620323,-73.95727898032821,-73.90579089480995,-73.98007298730964,-73.96194757129544,-73.98682785627841,-73.9227955586423,-73.95446867687488,-73.94161391342341,-73.88001738401181,-73.95501112878131,-73.97216037230099,-73.99875661781894,-73.94323461930277,-73.94592087039405,-73.99452245180267,-73.94465349081443,-73.90926537787699,-73.92277012468183,-73.95809226406219,-73.90824463327625,-73.95636685701649,-73.96171355657377,-73.993478132914,-73.92889034269524,-73.96822417957455,-73.90802878521096,-73.94569895251432,-73.98945485947223,-73.98740204004369,-73.95912584697749,-73.98982854873383,-73.96615954978391,-73.83920273358062,-73.94348132711133,-73.82571760199353,-74.00094554536584,-73.94987182180586,-73.93781622132623,-73.91907545298723,-73.99476508555028,-73.9735920551007,-73.93949946926371,-73.99824592457749,-73.95541700272544,-73.92806031877251,-73.98737805349427,-73.98640975556202,-73.99983557365795,-73.93477227572203,-73.96294909415352,-73.95553280266108,-73.95060970953901,-73.98038556085558,-73.95933600184365,-73.94673324784773,-73.9942663342302,-73.9225791242662,-73.99313035815027,-73.92438944089626,-73.9454459090544,-73.89734923431594,-74.01684061519603,-73.94519406247609,-73.94553214194653,-73.96230364348685,-73.94792700079138,-73.78428622189813,-73.93824223351588,-73.9526585132639,-73.9531660562257,-73.93963534309499,-73.9671187835947,-73.95539680908078,-74.00999559582198,-73.99315333735704,-73.95387613005809,-73.96128232345023,-73.9433546590738,-73.9795924016143,-73.94456194995031,-73.95513066792157,-73.93408829812442,-73.97637161425443,-74.00362740638023,-73.93236411534451,-73.93922029575147,-73.9621127645431,-73.9408248755541,-73.98250302157075,-73.95422041029161,-73.9384237188118,-73.9494682720723,-73.94624343777645,-73.97002223631617,-73.95396292963333,-73.9529396335647,-73.7724391569178,-73.96754365786366,-73.94013091743496,-73.98506245669337,-73.96066815899532,-73.93914192479032,-73.96971453766352,-73.91850606095413,-73.93228342556948,-73.946924466053,-73.92592828504509,-73.95829094888694,-74.08675613945883,-73.95860619791848,-73.95733592991421,-73.9560139243405,-73.97920669375688,-73.93451658070033,-73.96810500237004,-73.98323088472158,-73.9105326843261,-73.99511956567987,-73.91973237372555,-73.75372247977955,-73.91752356325712,-74.01400142382751,-73.97416816831714,-73.9569886210312,-73.90867840189833,-73.91314268601738,-73.94987606174641,-73.9751546098767,-73.96198617946416,-73.96749691054288,-73.94825060349925,-73.8557066698812,-74.00180041651849,-73.94960534662317,-73.96776908707535,-73.97714243488541,-73.9432743386686,-73.9933085658033,-73.95741159542065,-73.95767188627882,-73.94180933111392,-73.9615772166167,-73.91290705772816,-73.93823803606433,-73.98360499009308,-73.92375403851388,-73.93931050701075,-73.93861938921955,-73.92889974823731,-73.95694479635141,-73.94548648796349,-73.95716706460665,-73.98865877119151,-73.95045075548317,-73.96833259957226,-73.95076758457543,-73.96648629957393,-73.96207652912544,-73.95461716561313,-73.9608778512148,-73.99567178625752,-73.97836452567519,-73.92168407971046,-73.96264197220052,-73.89045830059591,-73.79365619445906,-73.9419301206028,-73.9679360439475,-74.00202785501673,-73.91798120168271,-73.95732058231249,-73.90669209163356,-73.9515411898732,-74.03417967518317,-73.95085465562892,-73.98632618852602,-73.97166497598047,-73.95285391794991,-73.93652558249094,-73.98111411574098,-73.93729730060834,-73.99979088918259,-73.9706529668004,-73.90306976355872,-73.99105684809297,-73.96451177893684,-73.99342551591188,-73.91863493859077,-73.98698707171422,-73.97308210724637,-73.93877158055857,-73.94405967867286,-73.99816407430316,-73.9229921413415,-73.92023381111636,-73.98781305907013,-73.99865733509438,-73.99819986257691,-74.00262690654381,-73.91335862887972,-73.99952694274559,-73.98780868582112,-73.9609642851118,-73.90967580675705,-73.98400134076732,-73.94925641374503,-73.92655848378728,-73.97878786323076,-73.9429884420626,-73.9971439947218,-73.95130773764646,-73.89742923944165,-73.98515790793884,-73.97127957780178,-73.97288464962453,-73.9547325772705,-73.96581506686641,-73.94153812431772,-73.93587996220339,-74.00839188190166,-73.9568749355605,-73.93970193383369,-73.95102452339263,-73.98812253170483,-73.99136146920101,-73.95972390473621,-73.9463841864239,-73.86916621252186,-73.90513862021507,-73.94792058342617,-73.91684803100209,-73.93946499467567,-73.97077606440888,-73.94801366533382,-73.92500487852546,-73.93208609369087,-73.8770786457428,-73.95353267399331,-73.94669969034621,-73.95436423262609,-73.94583357766345,-73.8941626530374,-74.01450900023853,-73.98475992883074,-73.94604868713266,-73.86902478964791,-73.92661262215205,-73.94150159665153,-73.94093050259555,-73.93491317318158,-73.95079126831683,-73.99132516174629,-73.86366287662122,-73.9525912085028,-73.92759217409734,-73.9323958438723,-73.98054187415778,-73.85764335383931,-74.0041335379865,-73.91852229746708,-73.95774699213015,-73.9890419804247,-73.98006907460208,-74.00963220311128,-73.97948770397859,-73.96809786443535,-73.9672087653811,-73.91653935351876,-73.94071582817334,-73.91695279923523,-73.90692870247548,-74.09983977763059,-73.93237703573217,-73.96043884695119,-73.94453270930319,-73.92331463896419,-73.95301425964071,-73.98983463731379,-73.98775697027189,-73.95961304733446,-73.90156057377528,-73.98448253007606,-73.99812571602762,-73.97246940333498,-73.89568887813056,-73.90549839033267,-73.91547018575405,-73.98289054002859,-73.98150774887529,-73.94915547772204,-73.95243126865344,-73.97299029045318,-73.92348854197652,-73.91282447155447,-73.91129999387576,-74.08929866942142,-73.94628251156654,-73.93140988352431,-73.97259018050575,-73.99315566379896,-73.95298614828322,-73.96086568659337,-73.91264776085451,-73.92824541117102,-73.95170152949515,-73.98531656497316,-74.00022873762585,-73.97728667300441,-73.95478774642487,-73.99627611936306,-73.9669728350544,-73.99306237126711,-73.97670631823473,-73.97504805756574,-73.96670769504033,-73.92805120670918,-73.95695471406823,-73.98802015489801,-73.9745140845998,-73.98006630302348,-74.03383699623551,-73.8248806373045,-73.93340427053118,-73.99052399110352,-73.85218950406406,-73.95870913030495,-73.90142453603254,-73.98474921557316,-73.94411106340004,-73.99335376110828,-73.95134232971833,-73.94743274835115,-73.97235676912491,-73.98956495625352,-73.95228942228898,-73.98072563270877,-73.91964555509504,-73.93913867440041,-73.94720811002837,-73.87288814271955,-73.9042698559259,-73.91275061610678,-73.95535579736779,-73.99581150840245,-73.9878367775457,-73.95570264660505,-73.9879794000777,-73.9669865151549,-73.9517785255242,-73.98972104332672,-74.00842260116181,-73.99529876318769,-73.95954582701732,-73.98655551396014,-73.97737796418987,-73.9453615674917,-73.94834762868895,-73.9941989894968,-73.99651776751945,-73.90939505630183,-73.91309463903,-73.9215876134138,-73.97024300547676,-73.9374772117048,-73.94031366115925,-73.94832321929928,-73.9616126163003,-73.94729433079904,-73.99078003051338,-73.94578939926652,-73.96494661949639,-73.94952351231348,-73.93434667632133,-73.98122203644475,-73.99779444953317,-73.96309281518809,-74.00460663682904,-73.82617457315705,-73.98866145414773,-73.96152363789055,-73.98964911395393,-73.9588768962498,-73.89750522299724,-73.99544721375219,-73.90686660139997,-73.96073441017536,-73.8470837262918,-73.78660938743727,-73.96698500485826,-73.96074136062336,-73.95186289457897,-73.9479801678965,-73.92964338905203,-73.96742483488896,-73.90604093352434,-73.9542488126053,-73.96294879359831,-73.99287580929051,-73.96303362636688,-73.95849481038499,-74.00460184138596,-73.90872188172068,-73.98454881814135,-74.00221064729546,-73.85294258504352,-73.93092230127678,-73.91843002437936,-74.00516345713211,-73.95413810588488,-73.95370371418194,-73.93972348137343,-73.81022592364457,-73.97963539335579,-73.9351989351242,-73.95455631002548,-73.9499822702976,-73.94732686688711,-73.94550957999428,-73.97842519631182,-73.95423471041329,-73.94180362368138,-73.95669378493605,-73.98861116281587,-73.90998666255152,-73.96327410018922,-74.0011760524858,-73.99767802530626,-73.92739706972813,-73.74927244078229,-73.89893222521609,-73.98781839719355,-73.95854491194723,-73.93438752120333,-73.95177371930875,-73.9396137103051,-73.96513777373634,-73.94332349606469,-73.94234656504915,-73.94282988457107,-73.99677618654755,-73.98493327749615,-73.99750961034057,-73.99991453477544,-73.98270903274961,-73.94251692359975,-73.96416940210003,-73.92541566132326,-73.99621926658143,-73.93314886999283,-73.96204520525805,-73.96211165773964,-73.98418769319981,-73.93725170298515,-73.95574597667192,-73.99372475140667,-73.98894306419652,-73.99895766376265,-74.0025912091653,-73.95720154058094,-73.98800702572713,-74.0026101589026,-73.95283583175885,-73.9078014093875,-73.98671339679134,-73.97112801168828,-73.93792611996048,-73.99052032417376,-73.99349957687005,-73.90265293074236,-73.96436632938624,-73.9789805804874,-74.00793377485492,-73.87046545906081,-73.9935515057239,-73.9459850971448,-73.97896088110613,-73.91740555097178,-73.98912726198085,-73.98816747769129,-73.91111144644546,-73.9086095524891,-73.99622864653685,-73.92002631910697,-73.92449386963278,-74.00634812383952,-73.98596051052617,-73.96352904624194,-73.94640681918388,-73.98235202674488,-73.97060572556478,-73.94849673182877,-73.95857423183763,-73.98198233634952,-73.91366212912267,-73.92766718955271,-74.00122483767264,-73.9736449832058,-73.95525416172937,-73.98733169601694,-73.92698172399659,-73.97115463237536,-73.82859380603131,-74.00434500617166,-73.99100499837094,-74.01205590716631,-73.95532354553221,-73.97431564155788,-73.93539574344561,-73.95123465408244,-73.9229506251716,-73.91776918377398,-73.94004790471,-73.9430593784257,-73.9453992519348,-73.94161009202931,-73.94121167882629,-73.99592489609047,-73.92202285701126,-73.94313802110395,-73.95322558887585,-73.91884265455174,-73.89930832849707,-73.958013631757,-73.98796510662469,-73.92870516842055,-73.95233177712687,-73.95043476678052,-73.99551098653656,-73.96575058555294,-73.95652719891652,-73.91841726945623,-73.97224405116269,-74.00304954691974,-73.96724817024308,-73.9803615259218,-73.94918432305217,-73.99507051388787,-73.96776727636609,-73.97957429571866,-73.92005954341734,-73.99535395702621,-74.00288780589428,-73.9939014908266,-74.0013127954173,-74.01734529008708,-74.09910215547684,-73.98007812460555,-73.8415129633978,-73.97315568741196,-73.97128798189918,-73.94843103453648,-73.91365576023479,-73.99683595906465,-73.92069480636475,-73.94602761838246,-73.90082921181545,-73.94216527813118,-73.86365288737053,-74.0018502057181,-73.93936969646481,-73.99023196754614,-73.9234038977649,-73.98010899448592,-73.94545161129645,-73.9417666997028,-73.98249224062546,-73.9919943381263,-73.92207564702125,-73.91596332378424,-74.00768262226954,-73.96149255249944,-73.95320495160827,-73.99888461858593,-73.96371542669614,-73.98579554611263,-73.95197611519791,-73.84596471954295,-73.9524008677493,-73.86665222282677,-73.93030162442929,-74.00184941440986,-73.95456707012806,-73.9420037303217,-73.90800023531098,-73.95861839004958,-73.94763737232486,-73.95691677863421,-73.9586032515487,-73.94915171962906,-73.98944082699863,-73.87245506299129,-73.96181233807856,-73.97475543649274,-73.9492463660559,-73.98328550067319,-73.93751058027314,-73.94725564703332,-73.9851090875268,-73.93707637646469,-73.9889499831592,-73.9193233488179,-73.98532127216518,-73.98860090844059,-73.96077908811354,-73.97493759011991,-73.9473864859534,-73.96605217065817,-73.91682365024708,-73.94049018412423,-73.96267896827274,-73.96504688338197,-73.95613770486572,-73.95079047896195,-73.98075687070515,-73.95166850696397,-73.94528556875638,-73.92849486130092,-74.00050434087973,-73.95417286425794,-73.94213647259694,-73.93677995661368,-73.92755481033417,-73.98506801543323,-73.95382086575509,-73.97808612485845,-73.95613258475241,-73.94892765289863,-73.9846509950276,-73.94755952782243,-73.94821548668291,-73.95458324372264,-73.94675992862861,-73.88259121917677,-73.9504171717131,-73.98644553897955,-73.96210008500577,-73.9880470436661,-74.00098216106053,-73.97628053858294,-73.95547350225206,-73.98830135567988,-73.9564131223077,-73.98779092634729,-73.91298307774554,-73.99496363248508,-73.92919475492614,-73.98952736502534,-73.98111490386762,-73.96584581226924,-73.95218454396769,-73.90940618832461,-73.99999638979598,-73.93865817725136,-73.98852792563723,-73.99252442263466,-73.951245870061,-73.95408171219395,-73.91108962089561,-73.9916851092419,-73.99868471090798,-73.95704290758562,-73.96475848970067,-73.96092021703194,-73.94995210918135,-73.98439567776904,-73.95647776917968,-73.95611328544838,-73.91511089391186,-73.93211495016759,-73.9536667000832,-73.99368022003614,-73.9880030147763,-73.84726964122345,-73.95272381443219,-73.92099905438779,-73.98847319459048,-73.78239796209925,-73.95287418330274,-73.94192603883322,-73.99372902973936,-73.99460948752908,-73.91249830552415,-74.00109143805875,-73.91925792106423,-73.92656941764056,-73.91577715707659,-73.98843859716804,-73.90424067141097,-73.9633539624117,-73.9557523063291,-73.95279512654966,-73.98836253861066,-73.9104055274638,-73.95001085167083,-73.94888333018228,-73.99488034472256,-73.9397867317768,-73.95846242646778,-74.13257715938776,-73.97555965899723,-73.93415283946257,-73.95822585501263,-73.99037508519278,-73.94551893010126,-73.95112073563044,-73.9439913319346,-73.99635146494184,-73.94842467232681,-73.98297145611505,-73.93135859751197,-73.99625612903613,-73.99181474684015,-73.98704687322024,-73.99649070262565,-73.97485156767976,-73.99486772073533,-73.96201707890064,-73.9459327654385,-73.97185151391153,-73.98475323802651,-73.98388519046621,-73.9579481190714,-74.00488861004943,-73.98914347784608,-73.9817268791015,-73.94739886028584,-73.99920069162113,-73.97467139966346,-73.93114722616157,-73.95968322004677,-73.98120768604984,-73.93348040793316,-73.93371592499048,-74.00772490251745,-73.95685142320274,-74.00639509719758,-74.03150263817128,-73.94938202121003,-73.98292700835624,-73.95645267849339,-73.97134093260006,-73.95790038460133,-73.93535570830906,-73.94616000073222,-73.97194649530445,-73.97172013800477,-73.9900839490553,-73.9446496531859,-74.01099088698265,-73.99120000360944,-73.87747216832406,-73.96295348449627,-73.80145395630586,-73.90923746364044,-73.95640738377085,-73.9800448511276,-74.00313673691858,-73.96333549976562,-73.97397840082597,-74.00604576095495,-73.99056487642449,-73.96202862225334,-73.93881140911266,-73.96628639151595,-73.92480645292605,-73.98793916632054,-73.96808362133666,-73.93918728431105,-73.893192920154,-73.99444267416881,-73.93846965555461,-73.95288546214066,-73.98129134347654,-73.97154252342439,-73.96045292109142,-73.97289592186401,-73.9573308552317,-73.95808136416088,-73.97573556383055,-73.99357104786444,-73.94863468125494,-73.95011738631595,-73.95995601539985,-73.80284854731957,-73.91783353957621,-73.98945609942622,-73.90014758391906,-73.91397281526466,-73.95161982830051,-73.96773028460905,-73.91881396913732,-73.94656717934986,-73.99488556229423,-73.96783412994087,-74.08484083424061,-73.8233794620196,-73.98651380171434,-73.92043494161119,-73.9605908371062,-73.99115107406887,-73.98905450719992,-73.91094042786361,-73.94359989551269,-73.99033053047309,-73.95030049858164,-73.89231776038022,-73.91793974357613,-73.98038036385164,-73.97414321451913,-73.91561387588281,-73.99303334312063,-73.95337108717698,-73.97881594605153,-73.96503630882192,-73.99035893706224,-73.94882452814727,-73.92511044814908,-73.96805299585084,-73.9920918578085,-73.97898443382816,-73.93919765407817,-73.95858320725705,-73.98304894283294,-73.94532163794051,-73.94478141486384,-73.95473060595451,-73.98189347109492,-74.00287150724523,-73.94607287601535,-73.94059147854166,-73.85788993366563,-74.007973940668,-73.97900983020195,-73.94106493867535,-73.91272584309398,-73.93493716126281,-73.95042786419431,-73.96112229234853,-73.94588424688784,-73.99079984862527,-73.96014891526049,-73.94643148653219,-74.00266187304979,-74.01564944288644,-73.97855757359922,-73.98277178943229,-73.88886969809978,-73.9851527805245,-73.89054407512195,-73.7661370574029,-73.97960756991908,-74.02057599258923,-73.9506443488158,-73.97965372742655,-73.99510099410634,-73.99628925063296,-73.94244744132868,-73.95642916397081,-73.9088649909643,-73.99389510314607,-73.95435473558425,-73.99698037438041,-73.94798014083906,-73.94997051102736,-73.91689355237686,-73.91145912663113,-73.93647980382642,-73.95102743123756,-73.97475781964698,-73.95767576469744,-73.94395509680554,-73.93317326091449,-73.94651257362429,-73.98695411933596,-73.98001562373365,-73.93820839416169,-73.98451315762344,-73.99739279187784,-73.94551521623106,-73.98784361337533,-73.99544601271009,-73.96893269009888,-73.94867162252193,-73.95261290426619,-73.9833900438469,-73.97908954302936,-73.9645784608202,-73.94169579347779,-73.94337283431764,-73.94622250176637,-74.01638141149569,-73.94264029275847,-73.94447505348886,-73.99099835550757,-73.97335652651849,-74.00032613518172,-73.83148252248174,-73.9343022612624,-73.97049175176709,-73.9245707878393,-73.99927506891312,-73.82232346617586,-73.98598034711823,-73.9399195782768,-74.01690551386963,-73.90857054684498,-73.94938766636021,-73.98771291530312,-73.95300857417337,-73.95384728494831,-73.95195317423601,-73.94194142473775,-73.95818801201614,-73.95411151971241,-74.00316370677237,-73.95672063358127,-73.96997355525075,-73.95282784101836,-73.97705849663005,-73.89654879269776,-73.95811157846565,-73.95093134946923,-73.95581595555906,-74.00292333098444,-73.97301654002335,-73.9364091787874,-74.01007630992332,-73.97747463413563,-74.08126270419602,-73.96618467988236,-73.93303467373818,-73.98781413521125,-73.95026617986323,-73.90657165191128,-73.96840656469905,-73.9471855117883,-73.95724408828653,-73.96676439388905,-73.78305228672215,-74.0037315540775,-73.90645593934875,-73.99397060221308,-73.98620478922271,-73.88341403663783,-73.97903987657578,-73.98723920581901,-73.95510267129198,-73.99827812989571,-73.93540615453776,-73.97681452475584,-73.91471524996075,-73.95010342497112,-73.95327054334278,-73.98477845718719,-73.98554029784121,-73.94512974355284,-73.94665061729805,-73.96360915279408,-73.99376350856977,-73.9299672425923,-73.95011889203795,-73.99125944468588,-73.98436473681704,-73.77786758844327,-73.99831704526353,-73.99388457434335,-74.01725346556263,-73.94286581282435,-73.90731741101902,-73.84841130995139,-73.98837120619278,-73.99710865668006,-73.9808190780179,-73.9555863254746,-73.95580185857364,-73.95300233214604,-73.99229165977601,-73.99482598501355,-73.93725126692145,-73.99949852014066,-73.93888532394335,-73.95514049560819,-73.98275598595689,-73.96818054147562,-73.91576078319423,-73.98605923435272,-73.91333535326909,-73.99046901938091,-73.9585470139547,-73.9641022277276,-73.99189098056384,-73.98861371157473,-73.93573200434405,-73.98934204703484,-73.99513315886036,-73.99379019973013,-73.97849805966709,-73.96374609634992,-74.00174096569822,-73.90858794630027,-73.91723841829479,-73.99476404859693,-73.98521400637547,-74.00513098265532,-73.94932959890153,-73.99848599556043,-73.96759756028213,-73.99062922871363,-73.95851722293571,-73.9871074602567,-74.00465700463623,-73.98513385244371,-73.98968659262864,-73.98525314594922,-73.99268346396475,-74.00173327816862,-73.95204612779264,-73.98031800772485,-73.91076520454841,-73.98958692837655,-73.88804737299775,-73.9658917257984,-73.94544814811012,-73.94364610137711,-73.95567000117359,-73.95910619930288,-73.98903515538943,-73.91943144001719,-73.94184983259964,-73.95740206672464,-73.94302201561051,-73.92254786767343,-74.00568027232195,-73.97974484751813,-73.97969710673296,-73.92310384584898,-73.95561298483709,-74.0106106483801,-73.97733996853297,-73.94697160538927,-73.98366739478261,-73.94458598882358,-73.94247966232923,-74.00057893386999,-73.94511071908488,-73.9471744994553,-73.94109270634097,-73.98117958747257,-74.00159314898764,-73.91377441973972,-73.9584088801947,-73.91795419082065,-73.92044769606214,-73.8602970613899,-74.00981096729531,-73.98331057840133,-73.9543254684269,-73.94067865652774,-73.96085569251824,-73.95801532478855,-74.01457866875694,-73.82993117951196,-73.97386842367169,-73.97859702868253,-73.94300161334505,-73.95831655183909,-73.93206365958147,-73.85805066179117,-73.94319387698702,-73.99409206867958,-73.95416847647867,-73.96151540209368,-73.9913832137877,-73.94249189436641,-73.94144203599008,-73.97696514770941,-73.94459198461642,-73.92212449348645,-73.99848794094794,-73.99809968875357,-73.94887604826953,-73.99891122497466,-73.9759817753909,-73.98914529702438,-73.9449239757779,-73.93657851973518,-73.95251250174971,-73.96768051085347,-73.90917105294302,-73.9842340507302,-73.9904283626922,-73.96520163421528,-73.94250128483702,-73.958285020358,-73.95585322047387,-73.99071743264155,-73.73282975947224,-73.98376100176168,-73.96267007065829,-73.9968943501172,-73.96769828906693,-73.97753234317238,-74.00608483693381,-73.90365036875214,-73.94664367939045,-73.98356450845453,-73.94661356271648,-73.99450276413079,-73.94902109052676,-73.99231376605422,-74.00397621102529,-73.92184390452354,-74.00801265208976,-73.99049341753233,-73.96809737490254,-73.96692311849337,-73.98211123246485,-73.91612570149205,-73.94972771764245,-73.9650023082232,-73.9287196274346,-73.97927773537782,-73.95285789235112,-73.98001099220346,-73.96601874261918,-73.99742078661177,-73.99518324245105,-73.97459529720331,-73.98898718216508,-73.99053434533093,-73.94556848194732,-73.94992967413636,-73.97701458632076,-73.78428788234372,-73.91943689830235,-73.95474270234617,-73.94467761025051,-73.97631513348102,-73.91743544661205,-73.99369559464111,-73.95291538898569,-73.966225141795,-73.98090277830629,-73.96702568975094,-73.94158558941525,-73.74803881615802,-73.9578361070526,-73.9883095420779,-73.92811461442574,-73.94745485507725,-73.95378990179995,-73.96044378359049,-73.96366172682367,-73.94850040070563,-73.93864923753789,-73.92784619781997,-73.95286262719323,-73.95973231208113,-74.00023922024204,-73.98528902258582,-73.94495345143062,-73.92559964758217,-73.92982061289341,-73.96458669585556,-73.94301611660214,-73.98347845437236,-74.00578372293619,-73.95512252455099,-73.98285378985473,-73.79229308580751,-73.94140696434856,-73.99366280828468,-73.95611629798472,-73.99968607033313,-73.94963202959576,-73.96144114105155,-73.99171198804632,-73.92629015841133,-73.94567477741552,-73.97257598124273,-73.94978006731715,-73.98545265194356,-73.94418267830774,-73.96068907500937,-73.96094104680948,-73.89787007324658,-73.99900592740904,-73.9564711650279,-73.99404097641846,-73.91290681356135,-73.96654477869552,-73.96930558163945,-73.9832458719318,-73.96458226711506,-73.86009479890065,-73.95437118920519,-73.77310796586006,-73.95945702876159,-73.99200064514916,-73.95336309735825,-74.00282606403842,-73.90632072861516,-73.90726982143558,-73.8790298432793,-73.767105960103,-73.96260906204915,-73.96308464277902,-73.95353426323918,-73.93487632825007,-73.9841792263432,-73.94122640086863,-73.9477757577155,-73.9602175497266,-73.98697096732694,-73.98108834823685,-73.98229491266841,-74.0004498117528,-74.08283289294194,-73.77162146823524,-73.9614216768044,-73.96253089723558,-74.0060158136423,-73.94995814335451,-73.94580694873765,-73.98511587833664,-73.98305776470549,-73.9322399731711,-73.9318523199792,-73.98008633331595,-74.00032104432127,-73.94274429801449,-73.98035808229832,-73.98454147483419,-73.98208255642714,-73.99808877031373,-73.99493328961567,-73.83054955956948,-73.92292320506031,-73.97953921719504,-73.94629075753821,-73.9249032861011,-73.93824067524159,-74.00009139941301,-73.96694268102759,-73.93117387718577,-73.85089597841086,-73.91356488721937,-73.95082973856151,-73.94468628432281,-73.95288215512052,-73.93205131560559,-73.93265349707349,-73.98455193996213,-73.99127979500274,-73.95838369999868,-73.95856796344724,-73.94638147210208,-73.94016248938978,-73.93536141153518,-73.94241193389583,-73.93920026779175,-73.98939964032199,-73.94872582033538,-73.94491246175306,-73.91827736561541,-73.99439293114914,-73.91726569842436,-73.94204983214617,-73.96238307179124,-73.95527264251713,-74.00169135547378,-73.97794570539959,-73.97729856688922,-73.94492436862654,-73.93604942850314,-73.99774799553386,-73.94914063809166,-73.93832598324201,-73.99366539456048,-73.91340814814932,-73.96140342629077,-73.94948837074377,-73.95699135473926,-73.95908693820037,-73.9358756963187,-73.94409760280995,-73.9402166325842,-73.94619416478841,-73.86699081932356,-73.94579371450548,-73.9896433553734,-73.9596709415204,-73.95162024877294,-73.96153707270858,-73.95386670276928,-73.98932539408935,-74.01402773933974,-73.93951211032987,-74.00187485790632,-73.95619210316937,-73.92303303309681,-74.10636001228244,-73.96023218280358,-73.94511102777966,-73.95615699985723,-73.92679558990751,-73.98190851914045,-73.96718968081899,-73.98352371050505,-73.95994275641317,-73.95264112118313,-73.95286872496943,-73.9184726014974,-73.95413766998391,-73.80749613866918,-73.96762128578744,-73.92049202469612,-73.828658058539,-73.98672093320552,-73.99395744208019,-73.96379392644192,-73.9325336101668,-73.96840625678013,-73.92723169694732,-73.99118982826495,-73.99090585183245,-73.98318969598957,-73.94574903864523,-73.99639117350594,-73.78074417230572,-73.96193963485285,-73.98437002338207,-73.9400108246075,-73.96916164334951,-73.96710571309045,-74.01565068303627,-73.96327911924024,-73.94023782748759,-73.99063096203037,-73.93922295138324,-73.97924865803091,-73.95809435647622,-73.99520411253317,-73.93751494588375,-73.92398082716376,-73.96407997829823,-73.89419087085638,-73.9909920703652,-73.99087161896048,-73.98171076234033,-73.93770636793816,-73.9915128204172,-73.97255370179698,-73.99863528868626,-73.92169045992678,-73.90984892017784,-73.91217457904911,-73.94876864521547,-73.95594669817672,-73.96669214225953,-73.98623827824134,-73.95527730936153,-73.95603848687911,-73.98583198428635,-73.9102462884073,-73.99323431193416,-73.94963169592086,-73.91497204808124,-73.98721122397637,-73.93965693911434,-73.95359307853825,-73.98619056111282,-73.98295166130201,-73.9530641250971,-73.94832950392035,-73.89035045692665,-73.95620943388236,-73.88285516993815,-74.00540021389014,-73.9028338692072,-73.96338534447493,-73.94704010074203,-73.94825462347687,-74.00596722873495,-73.98053299415416,-73.96511290008505,-73.98906736434273,-73.99204841115547,-73.82500728493936,-73.94475930771722,-73.99223794132375,-73.94389684180591,-74.00069185586351,-73.95477165213602,-73.91627795195203,-73.95716296553938,-73.92912482212206,-73.97627913580384,-73.99677988216276,-73.9457798264514,-73.95597703958035,-73.94883619784231,-73.98703267866006,-73.94752288645964,-73.98775652301423,-73.94192867982852,-73.99074589438983,-73.9819624813986,-73.97210710884458,-73.93874389161573,-73.94525287486502,-73.96895824239654,-73.94351116166847,-73.96702219749501,-74.01900576200781,-73.97776739719474,-73.76637218043788,-73.90773737561045,-73.96603472288795,-73.9584806611188,-73.92729914377323,-73.96692346899624,-73.95348998599628,-73.98190510843588,-73.95382054307075,-73.95349631547859,-73.98946147572346,-73.96371160390022,-73.84398418846824,-74.00373229015429,-73.98789335787782,-73.84663711857775,-73.93352541362104,-73.94875063070356,-74.00138797469303,-73.92868354141655,-73.94195030647292,-73.93754771528641,-73.9897621296438,-73.999252589585,-74.03107984454174,-73.94855505670724,-73.9502081349229,-73.93847772617134,-73.95502494120977,-73.97329366281937,-73.98452403821916,-73.99559128860506,-73.98183675007486,-73.95668646229943,-73.95279014021045,-73.94305220005987,-73.92497625424092,-73.97126491047666,-73.93869437024546,-73.96285747148262,-74.01382728444426,-73.94988069594291,-73.91973759531646,-73.94517984609189,-73.97790818665942,-73.90188762305219,-73.98125815217583,-73.96132158089912,-73.92863231134217,-73.88351781186473,-73.9552742738848,-73.99793664945166,-73.91879094152776,-73.98102978126343,-73.9850025662835,-73.98727961037734,-73.97224186654965,-73.96654853388819,-73.98488331093358,-73.97815046602075,-73.98211135031174,-73.94944122813679,-73.98631198122591,-73.9762156075392,-73.959698513786,-73.9414313635759,-73.95191155934766,-73.9267195093053,-73.90801282686375,-73.93080833680315,-73.94978675827952,-73.9816782708105,-73.92826267705355,-73.850467361723,-73.96228594709018,-73.99308952011678,-73.92722467684591,-73.97317973912193,-73.9968815175282,-73.94697422664285,-73.98319035794937,-73.86997053099397,-73.95394858743893,-73.98454400868368,-73.98526563323905,-73.9854981432117,-73.99120816641012,-73.9388505642247,-73.97743115189972,-73.97776438933954,-74.01591252823471,-73.98932768230826,-74.02386088053625,-73.99198066920712,-73.79006968639399,-73.95534527542024,-73.98058035960172,-74.00481218017336,-73.98872517167706,-73.98863668335353,-73.85621001867824,-73.97999980524487,-73.98036097454104,-73.95781674015085,-74.00159919806593,-74.14743672708995,-73.978935878214,-73.95946915358729,-74.00882354316118,-73.9809355494285,-73.97945323183237,-73.92713302565001,-73.9545958341067,-73.92343293078036,-73.92451269919097,-73.99002265535826,-73.93612725720047,-73.97578942781672,-73.94481060928058,-73.99890624077518,-73.92471895148606,-73.96087438211144,-73.95196305497251,-73.95952306781811,-73.93725801952087,-73.97508221824596,-73.9888596599881,-73.94197155480498,-73.9200572677155,-73.97903135543385,-73.90751276141617,-73.88184117249371,-73.96192238973349,-73.96467115302818,-73.90851523093951,-73.9429502783493,-73.94836810232266,-73.96117154166478,-73.97154084223645,-73.97300250891955,-73.94756778711718,-73.92126037002667,-73.92963633519813,-73.91762527307884,-73.9202358870453,-73.98389164371329,-73.97644473339828,-73.99508470030932,-73.9177342535088,-73.98097586130706,-73.94911147660382,-73.91762672615981,-74.00536054880375,-73.99204793264595,-73.95168654147989,-73.94264840836989,-73.9486560768447,-74.0022844188921,-73.99734898794297,-73.98421961175265,-73.87656031752994,-73.97699702062042,-73.91764648157019,-73.94672433697781,-73.91817046089055,-73.96220241005095,-73.95340696241955,-73.94149081132741,-73.99526226756248,-73.97572670151494,-73.9520629846815,-73.93996112860384,-73.94543445653619,-73.93054922811173,-73.99784190675513,-73.90871026098459,-73.9832684527293,-74.00132861149943,-73.91509151241266,-73.80303597184218,-74.07982848361685,-73.96231602624592,-73.96408944308493,-73.99471461752655,-73.93899896149678,-73.9612472613979,-73.9465602193427,-73.98360770350365,-73.91918364119347,-73.95494982191137,-73.78247442875659,-73.97559347367493,-73.92490881281049,-73.95165793562427,-73.9471888851068,-73.98616889483039,-73.91376276566254,-73.9689695493542,-74.01174957436261,-73.95540195787449,-73.99797220528043,-73.9084828078676,-73.76646024195169,-74.06196271981663,-73.95376105952946,-73.99964239372784,-73.95449214160291,-74.00327555143457,-73.95532916738975,-73.99222684956105,-73.91717990659903,-73.90756110375075,-73.76526145089791,-73.93262282839237,-73.94824619883536,-73.85958591922305,-73.92689893355329,-74.00304339059024,-73.94331497080942,-73.973821380278,-73.90898809037577,-73.91287336708757,-73.99574267881405,-73.9516186045253,-73.9536250126133,-73.90574215128044,-73.9826096018774,-73.94760814570641,-73.9332332641398,-73.95059088575606,-73.95296808435647,-73.92428526307282,-73.98406684665164,-73.9798920419028,-73.9570521428909,-73.90443850413837,-73.96347718469137,-73.98407481316174,-73.93489715146448,-73.91201035402989,-73.96461514584604,-73.963331764538,-73.9557326134549,-73.8773053913757,-73.9298144299826,-73.94652370953486,-73.94341452420821,-73.98287848474358,-73.93335924440929,-74.00532331789411,-73.96574178562628,-73.99345869551969,-73.98174023875661,-74.00042585653244,-73.99552451697053,-73.92887296643124,-73.99326898211467,-74.00781709235518,-73.93889387402669,-73.91414420528389,-73.95563260753248,-73.93358712269651,-73.93074111584045,-73.95414738570193,-73.99412598230086,-73.98134410683085,-73.87666809336329,-73.9181884500991,-73.98094239365166,-73.9554466144966,-73.91355273882874,-73.9473642150477,-73.91782626260219,-74.00049305631161,-73.97756396458226,-73.92811301177622,-73.93951606609427,-73.94725826285719,-73.98623218448874,-73.9570740152016,-73.94729288544293,-73.77302627613655,-73.96082773298774,-73.94379693615261,-73.92114575380137,-73.98800995473314,-73.98765548022517,-73.76082466230821,-73.9246154141521,-73.94982075258314,-73.97096986117094,-73.78881198565016,-73.95765965803163,-73.97150442960888,-73.95435764034994,-73.95555580920441,-73.9759270398032,-74.0029407761819,-73.95000348360439,-73.97271711746151,-73.96203863688784,-73.94315677240537,-73.99021413864408,-73.99003923431947,-73.94047374095435,-73.95197601161057,-73.99280160984931,-73.94484408016281,-73.93084363327443,-73.9872345220658,-73.96254674275319,-73.97131252527238,-74.01175924382203,-73.92672930893518,-73.87590261208653,-73.91265684853852,-73.98981337987406,-73.94810090250675,-73.95272201082487,-73.92983675357527,-73.97684672702863,-73.93579440052362,-73.96180727796613,-73.94122788132997,-73.98103292187082,-73.95032604696549,-73.96078373141856,-73.93789838926551,-73.92245364525883,-73.98548799023169,-73.96216388025181,-73.98738282976898,-73.97328425695244,-73.94889102197794,-73.97167071004449,-74.00420060716445,-73.79790778604796,-73.96069200760671,-73.95176452492511,-73.9081731745993,-73.9371635979804,-73.97130158462792,-73.9313632596611,-73.99894693673163,-73.96960478534737,-73.91237275583522,-73.96358293866233,-73.96742774284525,-73.93667428896391,-73.98681228709816,-74.01599475075828,-73.94711833087864,-73.9321172128659,-73.98892799603931,-73.95800158142252,-73.92550952018229,-73.9984909513562,-73.93852192984215,-73.95231736465217,-73.97579784486992,-73.98025569694953,-73.99834558785051,-73.99081665665086,-73.94815765723578,-73.96173689708263,-73.99746899406979,-73.97303984298405,-73.97190591528296,-73.99861003639563,-73.97454540031744,-73.90851232281433,-74.00253288978027,-73.95745213063464,-73.9083069115378,-73.96332415966731,-74.02398813536199,-73.96149254129192,-73.95249651845711,-73.98213040870979,-73.99540651777343,-73.95655708165668,-73.96876918574769,-73.97065404818379,-73.98027730130644,-73.72930514130681,-73.93055794384532,-73.9372890655278,-73.9253598278241,-74.01992733451138,-73.91874914117851,-73.99414595959679,-73.98143003586976,-74.00434208176998,-74.00057095262514,-73.9408432727101,-73.93317444667072,-73.92349625725485,-74.0022312653289,-73.90582929941883,-73.97409016897916,-73.8838265661875,-73.92500020593037,-73.92920588172214,-73.98112481523304,-73.9735057027985,-73.99292888614733,-74.00661021010916,-73.98556577409663,-73.99140633838238,-73.94675470309879,-73.99024323227944,-74.12850137333645,-73.91520557286537,-73.95925608670954,-73.9913891810324,-74.00040641584096,-73.99375154656755,-73.94965106867211,-73.97174061064247,-73.95111655989001,-73.97996689793884,-73.92537920017392,-73.98619264197416,-73.96328474790832,-73.99493747492772,-73.91815337309757,-73.78785511374328,-73.9614092147294,-73.92423823543186,-73.97715236630226,-73.99705051711476,-73.9395689203098,-73.95133577609974,-73.9403595768529,-73.94489872263975,-73.97434191401072,-73.94910902298156,-73.98674774630105,-73.98028030671455,-73.96538341355819,-74.00748097976475,-73.9875022889876,-73.94819474660791,-73.99431254539208,-73.98895372922244,-73.98990327293187,-73.86396693347353,-73.98433732109659,-73.9871875876201,-73.95064503112165,-73.86354717478135,-73.84545721988269,-73.98718850547458,-73.99475575697326,-73.93127025624959,-73.97713737567075,-73.98162710230343,-73.9167765159542,-73.94900020315829,-73.93992678965319,-73.96396211812262,-73.98120570306403,-73.95028836943699,-73.95935138006203,-73.92247306240587,-73.94735780032529,-73.95499233891239,-73.94279154624229,-73.95788106751958,-74.0072615292139,-73.97898403494786,-73.94108396859612,-73.94269916451984,-73.97883265793554,-73.97212694229624,-74.0018372768841,-73.93642321609839,-73.9604617617995,-73.9405928859959,-73.93670934117714,-73.98382363754169,-73.98583184906235,-73.95002171719433,-73.94693545005045,-73.91751430447515,-73.9792113691925,-73.93987643937406,-73.98818201150748,-73.95500559392218,-73.9887758132933,-74.00745976711413,-73.95123301016794,-73.98410225878294,-73.91609182084885,-73.98256460310928,-73.9867065636529,-73.98848206231091,-73.95395036735623,-73.95439304454182,-73.9393117044455,-73.91934064529326,-73.96137356852813,-73.85350351877686,-73.94627862702194,-73.90836043119495,-74.00526603636871,-73.98452961894309,-73.95630782336755,-73.96625731074019,-73.95273597722158,-73.94524263473983,-73.97092004721131,-73.95594342882453,-73.9107260433105,-73.96141221477109,-73.99762731932037,-73.98033710725323,-73.93845455452309,-73.73332588237764,-73.9456510079454,-74.00138807546914,-73.93844743478405,-73.94816006548321,-73.92565961391594,-73.98535237458348,-74.0050988108928,-73.92907054583544,-73.94847689256312,-73.97024252099375,-73.98245203857711,-73.97533277025524,-73.96770333773,-73.94101938374016,-73.9327562137158,-73.95496926320844,-73.9645168141813,-73.92294119515495,-74.00049876396973,-73.95947907756461,-73.96493795822944,-73.93958895430461,-73.96594532185496,-73.87337019936936,-73.97403690022537,-73.95716217816054,-73.98320641136293,-73.93681704805167,-73.92452236534595,-73.97858136665022,-73.95045580342324,-73.92534878707535,-73.99742763462447,-73.80928359212747,-73.91483875525647,-73.78815321792266,-74.00461711080986,-73.8370881986677,-73.98438171506656,-73.9865967898873,-73.96894340444983,-73.94288023260927,-73.98935527952415,-73.99181656463296,-73.89361532976291,-74.00382812895785,-73.96869809481196,-73.9069468831251,-74.00355759367241,-73.95817888757341,-73.93862545238751,-73.99611854767029,-73.94549010618493,-73.95145442581493,-73.97488719182378,-73.96013281196943,-73.98774006983612,-73.99707185556193,-73.9367439618854,-73.98813796874501,-73.95815055302853,-73.94201365599359,-73.95762718586657,-73.95884628601733,-73.99141923777074,-73.93529650460616,-73.97108830616307,-73.97367118392178,-73.95476728143224,-73.9811857572169,-73.95474984025883,-73.985871098448,-73.95368974894798,-73.94930372340295,-73.96007301033467,-73.9455442255723,-73.96232063074424,-73.90906355868084,-73.9607645605378,-73.95875215727897,-73.96420713823301,-73.92342763578975,-73.94797111249268,-73.9777757652083,-73.9828502171587,-73.97438126214203,-73.93877084517995,-73.97665506415585,-74.03042641843246,-73.96739119741225,-73.91686503867297,-73.82148965601816,-73.94620768667602,-73.84834263636655,-73.91476550213774,-73.95719903721988,-73.9424369742648,-73.98599152993089,-73.98667682395059,-73.94890035102831,-73.94926327033097,-74.01151659900056,-73.96058991183435,-73.94604731475494,-73.94956486931603,-73.99975903100348,-73.96249315420722,-73.94306902599587,-73.95805796353888,-73.94446601733922,-73.94726527086618,-73.95722448518484,-73.96255753114787,-73.9576544509889,-73.92705908960991,-73.9431331887502,-73.97651190016893,-74.09438556744539,-73.94169785630226,-74.0055538564488,-73.97670249305551,-73.94714924436222,-73.9715704385962,-73.98040041806075,-73.96237227714458,-73.88397035760902,-73.88909155027342,-73.98672703599277,-73.97181192109352,-73.87207514550175,-73.9349664765388,-73.95211093911047,-73.94588606113764,-73.98936924627013,-73.97370218763591,-73.94369790370284,-73.95208507092029,-73.93619723585535,-73.96157408802543,-73.94423618013707,-73.95848288292848,-73.91782972900124,-73.94355106986966,-73.94032243878495,-73.96035484293519,-73.99946956249264,-73.8858725947355,-73.94081262614588,-73.94196524973968,-73.9400724411324,-73.97529905399108,-73.98867247214956,-74.02825761309653,-73.99004879613634,-73.90049839253763,-73.97943839679628,-73.98700358100757,-73.98416864114908,-73.9114157730043,-73.98041788149277,-73.98319449949544,-73.95226822116905,-73.98897189739819,-73.95055679246387,-74.00320806375446,-73.98393085236764,-73.97331926590684,-73.96817594043219,-73.9788183982273,-73.99963537742083,-73.96159128913419,-73.95094258803735,-73.94251822529766,-73.93616777747457,-73.9903558435785,-73.9212145186108,-73.99080073982515,-73.93685904553445,-73.93770333645236,-73.99436750373887,-73.96629610789495,-73.95457039690696,-73.96416388086669,-73.9710950127907,-73.98016118003214,-73.96388158545443,-74.0035047791872,-73.98809569528288,-73.86794985896803,-73.98075861323002,-73.96223994352373,-73.97307584291326,-73.94895648353376,-74.06702673299971,-74.00434342588564,-73.98846917716384,-73.93593523445021,-73.7395497920804,-73.97045817728328,-73.99062711160937,-73.8814920168484,-73.9439027041083,-73.95033804644395,-73.96585314535041,-73.94488731557865,-74.00165499293243,-73.88417946956994,-73.98173323553853,-73.99170727400704,-73.82289370328823,-74.01555277989519,-73.95404469651659,-73.9268751033242,-73.95188578119406,-73.97683211243053,-73.95588837613595,-73.96290522526789,-73.96084959851845,-74.00794046166412,-74.13258615730496,-73.94432235734935,-73.82871546592726,-73.92125934124383,-73.93543394330985,-73.94418291552493,-73.92547390083921,-73.9477558059215,-73.94860127618544,-73.97643556607147,-73.95248890394623,-73.92867324171303,-74.00031148434978,-73.99313895746684,-73.95554291706625,-74.00616363421375,-73.9192739971279,-73.99041567710906,-73.97811235531022,-73.9610748855045,-74.00864602051523,-73.95795948044572,-73.95772651805554,-73.97600733309385,-73.98982222297299,-73.94060105786514,-73.99095881457227,-73.96721013321817,-73.87151567460755,-73.97815755312531,-73.90051123533526,-73.93719313615613,-73.95677626461605,-73.92905739898383,-73.95180108716241,-73.9609239312349,-73.94228129512739,-73.96420632479317,-73.9614657042364,-73.95831333890571,-73.99542757218134,-73.90869997263114,-73.94574139721753,-73.99923062956735,-73.95009350498074,-73.87950270754297,-73.95059412992043,-73.8554372842958,-73.99583818280647,-73.92839920808663,-73.98681974388708,-73.98254199833583,-73.97433987033942,-73.98551591669211,-74.002492139015,-73.73253563049242,-73.99201525784072,-73.92634090600005,-73.87226757723529,-73.94919460421005,-73.97712219520255,-73.92989533549773,-73.9254910458767,-73.94964058003977,-73.94735448008578,-73.92850149917335,-73.92866616150802,-73.9892629358589,-73.95589358380339,-73.75771025814404,-73.9437241634994,-73.91421031421648,-73.94342778966099,-73.90845692262181,-74.000041087483,-73.97455054741593,-73.93744159347617,-73.93563669779779,-73.99078968422639,-73.81071020214496,-73.8203922152892,-73.96845962721582,-73.98158600420092,-73.99956667950012,-73.9399102787348,-73.95113658592321,-73.99044684530021,-73.9415844737715,-73.95080334663714,-73.99338925343943,-73.94464473851026,-73.92526409643337,-73.98715793519608,-73.907676510538,-73.97928891588705,-73.9491003090782,-73.90794152624305,-73.93162720206652,-73.93129857925659,-73.95496061077951,-73.984110767921,-73.80001640972833,-73.97641275643915,-73.95497392428018,-73.9582720952766,-73.94573332530345,-73.9930782683107,-73.98919035905425,-73.99902500496694,-74.00233270619619,-73.91438609786408,-73.89552940899806,-73.91397669123583,-73.93959031742641,-73.94633549746003,-73.9562285863643,-73.9253533107617,-73.96015679645126,-73.91530463494405,-73.94262145175341,-73.98472825138013,-73.98159971335693,-73.92068945047626,-73.99514178255355,-73.9527084540831,-73.99164821703037,-73.97071802258412,-73.95600905306709,-74.01734825197262,-73.99829325722642,-73.90794168032706,-73.9916115215358,-73.95264482117068,-73.94330905096041,-73.98764845743189,-73.94031509220612,-73.93525034502164,-73.98039100320969,-73.97835715473599,-73.98077304420832,-73.96159602067794,-73.97553522161141,-73.95790451196551,-73.94462213956784,-73.94439695323763,-73.97130030709067,-73.99818823056842,-73.9937442323251,-73.95508421843157,-73.95878181403413,-73.9449354415983,-73.96436444939131,-73.98056268544553,-74.0104507362377,-73.97062778835213,-73.95144090606607,-73.9472084595546,-73.98136213163615,-73.92699837381475,-73.94050069784134,-73.86790593501036,-73.86252386202706,-73.75383146472845,-73.99750905286439,-73.96416256836969,-73.8874800972617,-73.94508168509873,-73.91819376389411,-73.97904743640774,-73.97944651060533,-73.9405622711311,-73.9414937375031,-73.95539242023645,-73.96718879413703,-73.88882528263821,-73.92432602108144,-73.94049526790127,-73.85064738865333,-73.98079979081761,-73.95149899817262,-73.94869482115173,-73.97403447210863,-73.92399100114966,-73.9546604988234,-73.993252244819,-73.9543738293867,-73.94950466230307,-73.96753000164385,-73.97321363753015,-73.94213714783456,-73.91216498419897,-73.94567385990617,-73.95513592900703,-73.9273980270491,-74.00923363141915,-73.95774363475195,-73.95824535911505,-73.97667644133855,-73.90223391241334,-73.98619631185956,-73.98870201456955,-73.94953593905713,-73.95636143912284,-73.92068225025628,-73.97465523411718,-73.95101666843922,-73.95829214980951,-73.95837358256941,-73.93867964927246,-73.95173397440827,-73.92023904620275,-73.94206968520628,-73.95014840859771,-73.94800615622363,-73.99562023259352,-73.96465056711665,-74.01455323846487,-73.92257125723962,-73.92786058091778,-73.9669000643814,-73.91917683674859,-73.99350139244447,-73.9481258628592,-73.91260709054838,-73.92481152781488,-73.98819007675962,-73.95037858516125,-73.96413661997246,-73.94316175032775,-73.95309625965498,-73.93384619147145,-73.98117181296574,-73.79187851814967,-73.74916159536255,-73.95950253053653,-73.94849390303078,-73.9611224722607,-73.96759285549804,-73.9909980292612,-73.89094771781622,-73.96170624549548,-73.98066210857657,-73.95066286442055,-73.93862611085487,-73.91227112055928,-73.98197961783434,-74.00914273182822,-73.92948745290488,-73.97742232171369,-73.95021858087935,-73.98200557164755,-73.95698136586513,-73.96243361563559,-73.991042651603,-73.94175919959898,-73.91699766757787,-74.01367739666233,-73.94345937698063,-73.99567000890555,-73.81484939597625,-73.93077334980877,-73.97723328275829,-73.9217948611512,-73.81867270900624,-73.91549295295323,-73.90873889238044,-73.95930075850816,-73.98364607239769,-73.94710819432673,-74.01484519640529,-73.91053192459572,-73.96278596178635,-73.99956049944637,-73.88070117148362,-73.98053205984422,-73.97994613062029,-73.96731786231572,-73.999692021495,-73.99320139551224,-73.96113794750606,-73.98714541064416,-73.99451096601447,-73.94184962395549,-73.98228186071162,-73.98431555114097,-73.9789497675449,-73.95626311944487,-73.95808349298241,-73.98237365362398,-73.98944440410166,-73.90802323895946,-74.00048869186864,-73.95207304778502,-73.95946723561033,-73.98931606137644,-73.99440904944713,-73.99175231011145,-74.00584313028523,-73.92522505327996,-73.96079758129062,-73.99599800684686,-73.95223896544192,-73.91322522000753,-73.91102569495719,-73.98811724592477,-73.99604159530861,-73.9456391130647,-73.9436373668227,-73.94980535907462,-73.99139746974888,-73.92333531825449,-73.94085666559009,-73.92914526328553,-73.96057839275495,-73.94126386091621,-73.9468624750607,-73.96393514526225,-73.9499938090856,-73.9970756948463,-73.9853360910654,-73.95077274543145,-73.91838793412116,-73.91166126083722,-73.80931973239336,-73.92813520584718,-73.80984691750771,-73.96429085999954,-73.96275990277786,-73.94418231388663,-73.98520754781957,-73.87848811658822,-73.90963216266758,-73.9599371055641,-73.9734528148468,-73.94178905095818,-73.97713033302732,-73.96429501255064,-73.94224414105317,-73.94311232859117,-73.93023993346856,-73.94580455855302,-73.94386650884103,-73.93911348585905,-73.94988236230704,-74.21664468513212,-73.97816701506532,-73.96921648923333,-73.90637885603662,-73.9297095500957,-73.9736591277042,-73.98762167978498,-73.91155593968489,-73.96576748665714,-73.95241920218194,-73.98969040568366,-73.95464724821949,-73.97405877122937,-74.0015653545673,-73.98954121512575,-73.96000385920013,-73.9428807092886,-73.97322143788575,-73.98482050940031,-73.9445468942778,-73.94613156239903,-73.94362160453511,-73.995184012065,-73.9434898994554,-73.86325754555826,-73.83534781363447,-73.91700980798996,-73.95079618138574,-73.951027334689,-73.96775272634677,-73.86490902250054,-73.97927912511574,-73.97003589734379,-73.94122472278741,-73.9913967214077,-73.99314263866779,-73.98940387959466,-73.9354095178196,-73.95430516842984,-73.94996353956302,-73.96348239463825,-73.95081523867034,-73.95334107564788,-73.95885963912569,-73.99185591295523,-73.94233306374593,-73.95588199369563,-73.9973968568861,-73.9871423622714,-73.94167287947324,-73.98553861201935,-74.00675557616447,-73.99297612955242,-73.98534125835175,-73.83875417766208,-73.92968784010105,-73.94612976933608,-73.94652822080614,-73.95121554546182,-73.9042966761165,-73.96759936149033,-73.92363901101164,-73.92297054572678,-73.96222324585173,-73.90300179880593,-74.0067634353519,-73.98679691830729,-73.99311009363376,-74.00306964743534,-73.98320292911059,-73.94421440458683,-73.98405300198839,-73.96112082253323,-74.0037826470472,-73.94766516256993,-73.92243596867773,-73.97377745424588,-73.98028267501701,-73.99162348302758,-73.99535263628437,-73.99833938555992,-73.95487474729684,-74.00391470016864,-73.98339679850228,-73.95496999817212,-73.99235440988727,-73.96751169238618,-73.99196847764445,-73.94176922821845,-73.95056621563296,-73.96507275309494,-73.95194689960869,-73.95454452951708,-73.97163349553347,-73.91866008468763,-73.76651282292974,-73.99719530775904,-73.99143581944294,-73.90715217965023,-73.96125834147618,-73.983632160423,-73.92771295048847,-73.89815565478267,-73.93386873787567,-73.96177938102977,-73.95886418030534,-73.94851551898543,-73.99549497114694,-73.96404753400974,-73.95173183266388,-73.97406640819045,-73.97410210516209,-73.9575302184517,-73.9113582437597,-73.97680110906333,-73.79308273231591,-73.95568605023489,-73.99468122910864,-73.9328870135121,-73.94656270753632,-73.94643658464193,-73.98188731415665,-73.98551538690303,-73.97141623361411,-73.93647114207303,-73.98081861990772,-73.85413708073744,-73.98507900777342,-74.00251936259279,-73.99224601933228,-73.93366545368815,-73.94049024303244,-73.98703304398208,-73.98025783091889,-73.97165423475715,-73.93358963009442,-73.97261978931073,-73.95618104469378,-73.92687094122354,-73.96285322564597,-73.99383313315894,-73.96412959645775,-73.94747726801457,-73.95411927711103,-73.98158744506055,-73.94160252037176,-73.94964732682507,-73.94745031443485,-73.9479107058701,-73.978562710892,-73.97249423615962,-73.99879497774255,-73.92285625221197,-73.92738974526671,-74.00273569293523,-73.97888634583134,-73.9234073666129,-73.90059721321508,-73.99763772956497,-73.9400397076591,-73.99360482756398,-73.92980475619035,-73.99849277231242,-73.94097086990345,-73.92606877475255,-73.94172218489784,-73.96082330410611,-73.93773703814948,-73.99425405806588,-73.96055027472974,-73.96118996948384,-73.86720119647082,-73.86066755999043,-74.00039740161338,-73.94152505597401,-73.99569368001791,-73.95947849748633,-73.98787414920609,-73.99160241784234,-73.97473027173874,-73.95726788436414,-73.81263914929278,-74.00135007721545,-73.97004549343256,-73.94098965949713,-73.89462604388449,-73.95458213873896,-73.98579228166517,-73.75555333751852,-73.98704452701969,-73.922573596683,-73.93135759656282,-73.97205659353345,-73.98236397389005,-73.94838164730129,-73.98794039033194,-73.9770656470713,-73.93852325292205,-73.96163704931173,-73.95009078534943,-73.95753899376686,-73.95081085064795,-73.98260509125272,-73.95125467763752,-73.96908832556767,-73.98464065042478,-73.91596591429911,-73.95427061446605,-73.99592015222137,-73.96376395865575,-73.97403303902385,-74.00254093064287,-73.98769109434933,-73.81308561230199,-73.95538476334376,-73.98959519056856,-73.95277896005486,-73.9563843160098,-73.99706180309961,-73.95320242261963,-73.96864894589557,-73.95808496898469,-73.94118070795884,-73.98631822634705,-73.93683171280891,-73.95937313295106,-73.92989478606589,-73.94871239042844,-73.92852984497212,-73.8552748631856,-73.94789672693244,-73.89067093034622,-73.96172384935285,-73.92935704388361,-73.98413935560704,-73.95327527346652,-73.90281231843949,-73.94993302792851,-73.97970324253109,-73.98205238576683,-73.99100307752838,-73.93640410930887,-73.95056973795245,-73.9799958475805,-73.98732166583946,-73.88277929059011,-73.99242285988744,-73.96047186298976,-74.00100659094116,-73.92424760162338,-73.96510742277647,-74.00224193631001,-74.00096048582745,-73.95956081449637,-73.92105719831567,-73.94963157850917,-73.94169861898871,-73.93479917188728,-73.99651918831914,-73.97731920026138,-73.95715279156695,-73.94071381689035,-73.80222046424434,-73.83135687485158,-73.95245692826656,-73.93019522754786,-73.95827353132891,-73.99648548514715,-73.95264064496273,-73.99998912938935,-73.99398207883333,-73.98698208277392,-73.89687431816337,-73.96838385100237,-73.92255717671281,-73.73887183227893,-73.97012835131952,-73.98900964723329,-73.98029701611671,-73.95460876650499,-73.92769328440329,-73.97443452833242,-74.00017515483034,-73.98567107094046,-73.95068691105733,-73.97660411541666,-73.80823075814712,-73.98441802246201,-73.97656026135006,-73.9347492711956,-73.95373901327241,-73.99260752278249,-74.00900270457498,-73.94404013265681,-73.94366513383143,-73.82879321314576,-73.85349401450755,-73.85019627286661,-73.95992099759914,-73.93224744953832,-73.9349335947503,-73.99471453537008,-73.99523876971088,-74.0003201681795,-73.96247247961266,-74.0090556210357,-73.96063712289764,-73.9833472155752,-73.93628502424376,-73.99845343313038,-73.94205637575648,-73.95631493020315,-73.99844043686548,-73.98276563526437,-73.99971186187162,-73.94584056368286,-73.9552751530471,-73.9809110398998,-73.95491323737454,-73.94149403372258,-73.9755778368866,-73.9577596798412,-73.97580573231734,-73.94735046913483,-73.983566055055,-73.98318200393349,-73.97846489386271,-73.95570383773803,-74.00148620525674,-73.91732198432577,-73.95346046468583,-74.0037787926705,-73.99411624304376,-73.95145723957235,-73.9819469113538,-73.94277654338654,-73.89752994897907,-73.96026984997599,-73.95617184968442,-73.95376769238675,-73.9996900786901,-73.98684359898445,-73.95573092223778,-73.9958413989512,-73.98983028988424,-73.98088183729787,-73.967425572339,-73.9613649580166,-73.92970475646119,-73.90789298919246,-73.97456592537011,-73.96104224661316,-74.00094630406737,-73.94875981631334,-73.79285676199932,-73.98435015511866,-73.980239770216,-73.99442014651747,-73.95414595833556,-73.9718907948046,-73.97637591041025,-73.95885199433751,-73.96761899389448,-73.94047393709458,-73.98703501211557,-73.96599543509332,-73.94898332103531,-73.98326665814797,-73.9524990192704,-73.94612686919181,-73.97093935106956,-73.92484340657414,-73.98587961597488,-73.91003014419681,-73.94617064473366,-73.9202862120066,-73.99524753626173,-73.9412028094649,-73.92225881521253,-73.96901937540937,-73.99155430172796,-73.92637438368945,-73.97068445455056,-73.95175504334587,-73.95133344619596,-73.93150724751075,-73.91282381590561,-73.94319108186012,-73.95051469155244,-73.94788678019319,-73.98555188102706,-73.99946380624903,-73.99308598758486,-73.95908885458641,-73.96432407999112,-73.93423733872503,-73.9327488538043,-73.94517062040038,-73.98937250247145,-74.00237628239867,-73.92272887557219,-73.95719777413453,-73.95369916389245,-73.95620633923147,-73.9554815581414,-73.87404414660347,-73.9844179976297,-73.96142005503698,-73.94596552483151,-73.94101352468687,-73.99375555386334,-73.9611738401963,-73.94058267084709,-73.89980870185718,-73.9398877535611,-73.94418353539676,-73.94132420278962,-73.92310996328446,-73.98819546263681,-73.94868987948115,-73.90051520505813,-73.98598501466078,-73.96378419166011,-73.97947977676276,-73.94963591968566,-73.9657669884157,-73.95989919430575,-73.96147538550964,-73.92287756207794,-73.95890499552205,-74.00361555775787,-73.96278981679575,-74.00408595201277,-73.94679284687969,-73.87398963588569,-73.93472873687865,-73.9295650626845,-73.88978856136254,-74.00720930083959,-73.95048263880388,-73.99924541415385,-73.99546460763601,-73.95639763880409,-73.92223494006498,-73.97330640226161,-73.97313940228034,-73.98788130416389,-73.9519074756238,-73.99062745497719,-74.00020492337211,-73.93673388941247,-73.94316244632715,-73.96987953581679,-73.95482058496634,-74.02925370803926,-73.9517556980369,-73.99823398367704,-73.9497255742505,-74.00046722469115,-73.93215074880742,-73.98017943578365,-73.98574738998313,-73.95804193244842,-74.09349198953741,-73.95690532834158,-73.9285487097474,-73.77881725269222,-73.98731312004871,-73.99507181374076,-73.99270956994098,-73.93177959324703,-73.92203120542565,-73.94316008335942,-73.96137182796103,-73.83102246344092,-73.94213520015579,-73.94710544597336,-74.07687137127054,-73.94226665809494,-73.95725157254049,-73.95306682448854,-73.94590849716539,-73.99404464483167,-73.9588217505965,-73.97841841954427,-73.95813923905625,-73.80462228770035,-73.95949410672594,-73.94570366431662,-73.97356923406313,-73.94760318849893,-73.94746973633622,-73.94577470833084,-73.99942454395998,-73.98941564073615,-73.99623248954427,-73.95528327192923,-73.97375764368728,-73.94829593488835,-73.93849162519858,-73.85226108182317,-73.9854632306599,-73.96121075006185,-73.86193000231255,-73.94728315361759,-73.92108686315581,-73.95920269412599,-73.9622982330578,-73.8929140887273,-73.93659065911598,-73.94696397862336,-73.99376652688983,-73.97736521485993,-73.94980346678565,-73.9819200163728,-73.9672690138844,-74.00271006576837,-73.94676146032863,-73.9587309196282,-73.9594018046547,-73.92225661620927,-73.9608450846373,-73.92649329254513,-73.99711432922452,-73.99437950774606,-73.95916336758461,-73.97549179547649,-73.91158896197261,-73.91274889119444,-73.96150155757188,-73.96217480002855,-73.97186582336694,-73.97683656150586,-73.95417527007629,-74.02729972320924,-73.98930992762982,-73.97414824354819,-73.93107956890921,-73.98923248459207,-73.91433038210798,-74.00797933779074,-73.96627693569542,-74.00677078391024,-73.938782582867,-73.99419945479188,-73.93812970773409,-73.95830918837176,-73.94125187268891,-73.99492990621262,-73.92730934489278,-73.95112947102174,-73.95582252069025,-73.92718120771401,-73.9829014585566,-73.96287891841126,-73.98268993089258,-73.98100449106917,-73.99504114093327,-74.148225570124,-73.93936150735699,-73.96002731677713,-73.98598413381427,-73.97061392005077,-73.97094796706206,-73.9465108051023,-73.94882675936348,-73.99202512633056,-73.99251321342129,-73.97971373391067,-73.96372766250231,-73.9291306863596,-73.97181113799721,-73.9482612158313,-74.00136594948448,-74.01234225379379,-73.93459029248767,-73.94858400201647,-73.96063451969266,-73.97601708632945,-73.94287643435263,-73.98463026539025,-73.93596634182018,-73.94989434462448,-73.9488856586089,-73.92413585980417,-73.9506191414047,-74.00218662997702,-73.94872205852279,-73.93912240295455,-73.9643367768155,-73.9322285358924,-73.95569251542555,-73.99411634011653,-73.82297979447127,-73.97991102228278,-73.95266219526668,-73.97210855299029,-73.9793195885089,-73.94982283085976,-73.89071327290286,-73.96376919728755,-73.99570887115738,-73.96169945909884,-73.93995581699772,-73.91717663084438,-73.95528792412458,-73.95821441478003,-73.98523667543891,-73.92102945136931,-73.95412168640466,-73.93390725330205,-73.9466160820155,-73.96648780600212,-73.95509391774901,-73.95383303722646,-73.98353414636462,-73.97929810488239,-73.98995690090234,-73.92815638734113,-73.99899737320824,-73.98870571147319,-73.94367916713111,-73.94150469251018,-73.9630729755866,-73.98042642486992,-73.99710279532371,-73.95039572149551,-73.9584136164169,-73.98797739529488,-73.8754863742023,-73.94743460867,-74.00753659876763,-74.00963348887636,-73.95089589331886,-73.99759737051147,-73.95099317028316,-73.99360507566169,-73.95614036288377,-73.97877560495691,-73.94682464169345,-73.93872370966537,-73.98738844277109,-73.95075611669334,-73.92954785223836,-73.98671400660436,-73.9229588611343,-73.9202692678362,-73.93777301490026,-73.97249430640466,-73.94762082415639,-74.00774751403198,-73.86614805414708,-73.94850390618687,-73.96440250819784,-73.94061026969973,-73.98419228775728,-73.95892082258031,-73.78665040229079,-73.94784120959149,-73.92090900877979,-74.00801496705522,-73.93515144113017,-73.98610189773608,-73.82265096212289,-73.95303929572239,-73.93751366419386,-73.99276311819466,-73.97450706475895,-73.94819225218204,-73.95198965801474,-73.95602774652038,-73.94893101092231,-73.98641378221056,-73.91840745361546,-73.94366047524667,-73.82987381182367,-73.95912101550097,-74.00611554669338,-73.93201978733958,-73.91710193963634,-73.99985400770436,-73.99498837966058,-73.94112702938034,-73.97629629093156,-73.9638375658333,-73.82042767119512,-73.99406956432692,-73.93304936785398,-73.98633093064822,-73.963909201546,-73.99960355654818,-73.9329267469298,-73.96278951878304,-73.92192460854857,-74.00576994731306,-73.91344387941339,-73.98586675211003,-73.98526114021028,-73.94694267943298,-73.94442831144917,-73.95049084311364,-73.95018328569908,-73.92406742494613,-73.83171676703702,-73.98298748888554,-73.94933927848537,-73.93931422451033,-73.84244762955166,-73.93730419475463,-73.90484253082394,-73.98278743118455,-73.85596175174413,-73.93757208574928,-73.92432323525516,-73.99654384840531,-73.95057103901942,-73.96036575415238,-73.99279814329962,-73.95943815339454,-73.95220573490771,-73.97210284060995,-73.91365093853001,-73.96693911314706,-73.98275341345501,-73.98676438281565,-73.95698898581695,-73.98852486694084,-73.98316341409142,-73.9497125339583,-73.94868398341431,-73.95572492282756,-73.94316268200393,-73.95172520947732,-73.86129848141212,-73.95090663797802,-73.94138486802035,-73.98747266399717,-73.96261663046538,-73.94053469410667,-73.98913700384068,-74.00350024254695,-73.93933671512269,-73.9516625644662,-73.93367729560339,-73.95207946280371,-73.96745254145769,-73.956113737992,-73.93041120108063,-73.98116557574448,-74.00571151236218,-74.01018581648503,-73.94784601623927,-73.94903949419357,-73.83300666252516,-73.9493601510487,-73.95329463000749,-73.95205054663703,-73.90496358973087,-73.94067884614715,-74.07525732181351,-73.99186718849519,-73.95887670611604,-73.73960673790533,-73.9842328805283,-73.95909686281773,-73.95848030542156,-73.94585474097228,-73.94489479984506,-73.98474862615699,-73.96465366032812,-74.12124987118763,-74.00454975065186,-73.85032872985565,-73.94847770763175,-73.93904025461576,-74.00952198454836,-74.07527085182626,-73.94110343434117,-73.96113900827469,-73.94556321875831,-73.99004566459944,-73.98127599429411,-73.9133567300363,-73.94390969483894,-73.86963820588767,-73.95710974822151,-73.94195807047369,-73.97965647385251,-73.92664524734566,-73.8134791941737,-73.97944847696355,-73.98752525338087,-73.96892432457665,-73.95081261943507,-73.91938864652083,-73.9851036717667,-73.99738085798526,-73.74546375359064,-73.96638469703015,-73.94017932984956,-73.94341384153802,-73.99135613814828,-73.99124158647551,-73.96204347809504,-73.87643938570008,-74.00062788776566,-73.88888404347426,-73.98119990027003,-74.00283674506741,-73.99378928865924,-73.88297412095702,-74.00413362993812,-73.95652030616358,-73.84820278472905,-73.98763439401735,-73.97370507204819,-73.94722185566731,-73.95589093382453,-73.95915787881444,-73.95420516363639,-73.95525283719851,-73.84368200606063,-73.9427320928031,-73.9503169722755,-73.9528021103115,-73.95868443754875,-73.92841822683928,-73.99846895371118,-73.96335646690207,-73.81062547044056,-73.98826386440366,-73.94984401770462,-74.00014876650941,-73.92666516091941,-73.98742852568435,-73.95485534468894,-73.94095582804394,-73.96775148237286,-73.97188815907406,-73.94883923671856,-73.96629088718812,-73.90788016105823,-73.98460274472106,-73.9843512310728,-73.86131007453835,-73.95239614956769,-73.97237304862273,-73.9139550124522,-73.9539329052554,-73.97443184516305,-73.95138084181819,-73.96901395809572,-73.93339889815138,-73.94020657171507,-73.91020185036456,-73.97580818414134,-73.98449251458446,-73.93153424411969,-73.9617670182764,-74.01359500195925,-73.9614577824336,-74.00376159299344,-73.97289512294427,-73.98687054828821,-73.98269855650705,-73.94778789519644,-74.00297897031041,-73.95098384959378,-73.78324563751369,-73.93459752866706,-73.94809634482208,-73.97610826883663,-73.98753631422694,-73.97911845460091,-73.95124953852587,-74.0007435137357,-73.86333090237156,-73.96043840666191,-73.97331028185667,-73.92171004062628,-73.90502390259743,-73.93822868680813,-73.99600395161234,-73.90853988204843,-73.99005925129731,-73.95503406273954,-73.99519887301214,-73.93655808012545,-73.99576396716988,-73.95826149530095,-73.9555325123504,-73.9844756495158,-73.97363603432831,-73.99622702828749,-73.95660958639161,-73.98956246168224,-73.94661939624766,-73.99986893720532,-73.95357998373248,-73.95189213943124,-73.92762394405007,-74.00278539002333,-73.94621448516811,-73.93258473019766,-73.98330283959079,-73.98372634771435,-73.9966521264493,-73.98682507307295,-73.95538637331587,-73.9361609782632,-73.93539942107887,-73.94801696399347,-73.92003735198149,-74.00510302818827,-73.9558100439031,-73.99633460355551,-74.00259157223657,-74.01329385228175,-73.98332285289506,-73.98637034280777,-73.98897331146223,-73.91566048841264,-73.9928710852417,-73.93784332212245,-73.9443098728063,-73.95295124660187,-73.99345532900222,-73.94437651493752,-73.94207923406485,-73.89021619854226,-73.98424346734392,-73.95486886457036,-73.99050879187283,-73.94825248057694,-73.98955187943692,-73.9739696300392,-73.99501157923882,-73.78000445559861,-73.94636693578417,-73.9489139038548,-73.9940641445587,-73.9635395736567,-73.92122742860501,-73.9553222654266,-73.94959919688708,-73.97609600387446,-74.00876319130926,-73.94453123067085,-73.98877498425563,-73.87883439636259,-73.95032902334927,-73.98336305720123,-73.99170604274137,-73.99679859594919,-73.92695575260683,-73.99289140652091,-73.9858856896793,-74.01352377030155,-73.97930631236481,-73.96151915112866,-74.00069152196562,-73.8245846110178,-74.01564466896211,-73.98914984713723,-73.94186731161857,-73.95368915019587,-73.95122527187084,-73.91532413868659,-73.97346834434052,-73.99939084413477,-73.97208890880019,-73.95005117488184,-73.98361518488176,-73.93704303828603,-73.98303349041437,-73.9139310154053,-73.97756881145361,-73.95315004525743,-73.97809703208466,-73.95125719721983,-73.957218743525,-73.95406167266253,-73.96627683684262,-73.95126311186034,-73.79530253512203,-73.94710316638988,-73.86574568256056,-73.95340149912559,-73.91056073724394,-73.9297026679564,-73.90040961861965,-73.96180903121952,-73.90818389448411,-73.95186054809218,-73.98042406832805,-73.96093139446555,-73.94506541897373,-73.88468287965208,-73.98518802538813,-73.91564643796342,-73.93468981312755,-73.73220839603928,-73.95448770473638,-73.93368632701282,-73.99283356612489,-73.95918698553217,-73.99502520345351,-73.91317926476302,-73.95755142890292,-73.98458350366204,-73.93622422837194,-73.93535562988399,-73.93553821838529,-73.9467763615321,-73.98548287402816,-73.95344360471347,-73.95554317724095,-73.9869974852578,-73.9871596611334,-73.92862653568223,-73.9575915363058,-73.92643700037014,-73.96789687844215,-73.91410771595754,-73.9629763125631,-73.94993065296173,-73.95420785705913,-73.94452838497155,-73.94026076531048,-73.96162717685736,-73.94415941500252,-73.99068506645995,-74.00147285738035,-73.84532234462702,-73.94179810726362,-73.96610946444314,-73.99091230319422,-73.98897853129048,-73.941144897201,-73.95467745025553,-74.0040067797287,-73.97535659804605,-73.91381581166075,-73.98155305605131,-74.00366387219617,-73.98277592637092,-74.00319303967215,-73.99982675412082,-73.9458637267759,-73.95937419199583,-74.00302652045409,-73.97332357195225,-73.99182116841442,-73.96486514476362,-73.92873402513777,-73.95042905559977,-73.93074819204921,-73.96728463227005,-73.96278117950277,-74.00543016240195,-74.00788991162398,-73.98692782617542,-73.95196758613281,-73.94202522491116,-73.92588748841501,-73.97987420874756,-73.92864193637617,-73.99051937954484,-73.92079264593583,-73.94398185404826,-73.97994273062642,-73.95078276036756,-73.93196283209002,-73.97672063194827,-74.00002443229306,-73.97926403920783,-73.9447022411146,-73.95056822231389,-73.95186900718312,-73.95117866826992,-73.94932575096618,-73.95435288398527,-73.92877022774566,-73.91612360508228,-73.94856372601309,-73.95141432285477,-73.98704297307627,-73.94661563676989,-73.95785831907334,-73.99463945468909,-73.96211170349352,-73.99517695230719,-73.94057962820575,-73.92635988761744,-73.90855000582128,-73.9715099599091,-73.88136332003701,-73.95810016716645,-73.92936505073158,-73.88129337334756,-73.91370845419173,-73.96059321888931,-74.00225901166331,-73.93784038523142,-74.00211141408563,-73.96380828322118,-73.943148490265,-73.94578451891438,-73.9592498984729,-73.9856637062547,-73.96947399804178,-73.93127693878576,-73.94619497301963,-74.0062853214134,-73.94300063935782,-73.94585594237562,-73.91894823293822,-73.90908475394245,-73.92009547685116,-73.97866832658843,-73.99370381612405,-74.00533117640104,-73.97973208825448,-73.99445486879672,-73.94033856279809,-73.81390005665801,-73.96576358987241,-73.9458724140662,-73.99244678582643,-74.0006782743073,-73.9820187031283,-73.95917446833381,-73.96202158659706,-73.90727544960242,-73.94118352132436,-73.98714694952709,-73.99234218251569,-73.99090448566393,-73.92327445451771,-73.75404533168589,-73.99568627315587,-73.94635648421638,-73.91253105275578,-73.96053007558902,-73.94206849418364,-73.9930187847692,-73.9267406470769,-73.89862958770388,-73.98854526761241,-74.01224445834048,-73.94743720688716,-73.94288871605984,-73.99321676411722,-73.99542930030736,-73.96185901735863,-73.97649369521953,-73.97161800538281,-73.95147550414458,-73.94208501702228,-73.92868163864023,-73.99443176371885,-73.8991092611995,-73.97939623326532,-73.97752000459651,-73.99159394171926,-73.90570701180904,-73.94400225860973,-73.92996113050337,-73.95929070032163,-73.9125919411417,-73.98425577460658,-73.95614906624976,-73.94347379892882,-73.9816990743727,-73.9431368369738,-73.91503143776333,-73.9524707629472,-73.94990184096956,-73.99319953556173,-73.942658388714,-73.9272383533159,-73.90296142086821,-73.95343650929436,-73.93224044681317,-73.9775364189408,-74.0057828133712,-73.98684800116496,-73.99743062092823,-73.83240182541155,-73.94690618397321,-73.95324285349959,-73.95256574708844,-73.99094514905183,-73.99157304933401,-73.98719025732387,-73.99549802226574,-73.9295046745104,-73.95437037499505,-73.98042918417411,-73.94180271868747,-74.00460289001606,-73.96317406230514,-73.98427458208215,-73.92264727513822,-73.9603820732498,-73.92865882764538,-73.91888023951553,-73.90037899411399,-73.9918072994648,-73.95676787178199,-73.94061296973514,-73.9900742046092,-74.00100255248239,-73.99499015076451,-73.91529609926324,-73.9684546132967,-73.98999694321844,-73.94947274232787,-73.98882875784601,-73.94902599144744,-73.96587612749734,-73.91536808921141,-73.98307769685212,-73.97073354328056,-73.98373075429069,-73.96691263125176,-73.9826111304072,-73.92367859406706,-73.95555927663811,-73.95028107295038,-73.95371614931709,-73.79820063970368,-73.98049654065244,-73.99265497760611,-73.94834846005605,-73.87613235524259,-73.96280977140471,-73.94890709510095,-73.94858629699358,-73.73431957067146,-73.980164977806,-74.00065085411592,-73.96303487082051,-73.86403970002233,-73.94838895156902,-73.9462148455804,-73.97464217990655,-73.9847017003806,-74.00611449175761,-73.9355463625909,-73.98153697785227,-73.99238485877672,-73.98696350956611,-74.00473440508199,-73.98010541967912,-73.95778865242836,-73.91868076528469,-73.98613200198234,-73.96257045900575,-73.96150471031554,-73.87314124430578,-73.96119416256704,-73.9375277635429,-74.00278497658637,-73.99939458765178,-73.97945176602337,-73.97762365384943,-73.95728209573568,-73.98883407650398,-74.01303992094746,-73.94053079525527,-73.94178913432675,-74.00480693628386,-73.92495533821352,-73.92866653194723,-73.96233826843877,-73.96468303359535,-73.98901040259959,-73.94945773494432,-73.93970102253368,-73.92887976275208,-74.01043293082591,-73.92087838463081,-73.94228460403247,-73.91229161014553,-73.95631775191336,-73.97448572371944,-73.95244931615376,-73.95425002984435,-73.98638304884555,-73.92793039513892,-73.95189639591041,-73.99361200253779,-73.98831875501376,-73.94013384465592,-73.99009821594201,-73.95719461667798,-73.94747060014055,-73.97868308365986,-73.98944102084569,-73.96186256920394,-73.99974210156886,-74.00298152920483,-73.96358429247431,-73.90714901973877,-74.10068091783037,-73.99635081277917,-73.91611638848295,-73.98075592449827,-73.91603246170244,-73.97690731277636,-73.95566339502093,-73.77891437038984,-73.92628217839744,-73.9678878933718,-73.98498634744531,-73.93161566898708,-73.92693493650772,-73.97900356784821,-73.93618449742986,-73.94939907842993,-73.95602385821373,-73.98240960765855,-73.9759344043939,-73.93877973133999,-73.94517052763906,-73.92691868960516,-73.95157989279292,-73.95944080167956,-73.96328109931268,-73.91236712310544,-73.94988559867501,-73.95421744799499,-73.98396819626461,-73.9639269452682,-73.94757376476501,-73.93674372623032,-73.9590996409012,-74.00046372898176,-73.93814976365185,-73.99660633315665,-73.96449160516002,-73.98367182157992,-73.98651063494651,-73.9712514675922,-73.9452933188618,-73.95704758314331,-73.96606060614428,-73.97953731777673,-73.95872482909951,-73.94114148359836,-73.87660322256885,-73.93789295569468,-73.97037860204185,-73.99302859151909,-73.94545270064255,-73.87321320266224,-73.91665508555096,-73.96114319119002,-73.93945538456933,-73.98961525727424,-73.94035807401521,-73.94370208156316,-73.96931908861534,-73.96036758479434,-73.91912235341817,-73.99704277017116,-73.9485070371348,-73.97262185427952,-73.95784937871701,-73.95116596428173,-73.98498016045042,-73.94283453818029,-73.94789990090031,-73.93479669010864,-73.90170662918577,-73.9786901913551,-73.95745912093753,-73.95814558168908,-73.97466648862867,-73.990775258521,-73.93319715741525,-73.95529616883663,-73.95055394123125,-73.9512959492292,-73.97131487383005,-73.90085741527427,-73.93862885337046,-73.9550460609843,-73.99294384913541,-73.99704593177925,-73.99343056324072,-73.9956932856275,-73.96086949463016,-73.9239357443771,-73.9130625346294,-73.98934826627905,-73.98380096302178,-73.96956883519836,-73.95269477230711,-73.92324000581895,-73.96956759561563,-73.96010090836475,-73.95591124825893,-73.9432372814538,-74.00476226058363,-73.94537513422435,-73.95817891584484,-73.97122467570226,-73.94829095831963,-74.00854499089421,-73.915438812475,-73.99250282859153,-73.95020496301089,-73.99989829609419,-73.93828860298935,-73.94375946685557,-73.8943462238632,-73.99139159094041,-73.97997336689969,-73.73267788920627,-73.81216618690641,-73.98745882104555,-73.93951790306258,-73.94574410930505,-74.00225537809007,-73.98671626132958,-73.9602963981361,-73.99559994294567,-73.9831031040528,-73.98748843759746,-73.98364857670056,-74.01495431476773,-73.95731608134776,-73.75654268371554,-74.00188377589937,-74.01856893197669,-73.95359208872861,-73.9111144048006,-73.95884454361115,-73.96782806297348,-73.93449673497007,-73.94206674489307,-73.98492340200234,-73.95643979384288,-73.95069259429313,-73.9541605270487,-73.76745739519751,-74.16178289540845,-73.95660375917646,-73.90834009807361,-73.88098109543245,-73.99745770320533,-73.95731663257749,-73.94627630077993,-73.90721120966634,-73.93258242449672,-73.93543328087956,-73.9375963953091,-73.9846713707383,-73.95912020133534,-73.94978213289423,-73.98148451780943,-73.97620576639841,-73.95628247631834,-73.90515139767486,-73.9933091820244,-73.87565545100169,-73.9840508229921,-73.98473859844056,-73.94222898027881,-73.9469853055872,-73.94709268864283,-73.94917651680372,-73.9271110570472,-73.98998571062221,-73.93464584498602,-73.94516622724849,-73.95650360523294,-73.98556753730205,-73.92615530627491,-73.98785039473522,-73.94290854970885,-73.95432680476158,-73.94212800633453,-73.98620215047994,-74.06550580784175,-73.9438608945337,-73.9453658557628,-74.00229904158556,-73.98511694089738,-73.98002538105969,-73.99202598467211,-73.9770834413046,-73.94261415527217,-73.9573171549786,-73.9169382673573,-73.96167382621644,-73.95909052914944,-73.91506948632019,-73.92855941421737,-73.99612084208535,-73.99069586750309,-73.85543397776883,-73.94737671687261,-73.91243797147476,-73.93071763272506,-74.03594825810897,-73.93405854894577,-73.95043796384783,-73.96123375189903,-73.98297504064755,-73.92332306791401,-73.97269206105831,-73.99859472733945,-73.91036443709591,-73.95686898854022,-73.94984527097766,-73.92752361111485,-73.94268809826887,-73.94003426395012,-73.96495036498028,-73.98737190664329,-73.98995113537751,-73.96141154335673,-73.94872514430934,-73.93667018058723,-73.98561917754273,-73.94176890037009,-73.93394387696097,-73.94542095705052,-73.95455834099334,-73.9872816702449,-73.94510793514614,-73.87442374159042,-73.98215194989723,-73.99425963119381,-73.94795565499085,-73.94437650656397,-73.90647075684576,-73.95054203408742,-73.94687417930699,-73.95879448707535,-73.91887377534299,-73.90609628234077,-73.90573726294244,-73.96869849771736,-73.96039534893805,-73.93948186674895,-73.97115723423677,-73.98212354513569,-73.92564429446175,-73.94550410840074,-73.99117088290119,-73.96443855694943,-73.94035882850642,-73.90925930093712,-73.98620103744946,-73.93655233778489,-73.95489083322158,-73.94853205212891,-73.97855884553292,-73.97837276579912,-73.98145799521595,-73.98060346034158,-73.98650758526833,-73.96574256762702,-73.92882682456916,-73.98845261575775,-73.97919792301417,-73.94313555671975,-74.00802313824674,-73.99002628767684,-73.9457529886646,-73.95879062374391,-73.95515684582028,-74.00527807949248,-73.953164874098,-73.94681219688313,-73.95775967497704,-73.98949728495577,-73.95454111868955,-73.98795503543705,-73.9791305516979,-73.9663308923021,-73.9536148036489,-73.99732722278452,-74.00181724666375,-73.95191396606262,-73.89706414304729,-73.95082733592692,-73.73650171156244,-73.99468313879875,-73.96113530146656,-73.94307698934665,-73.95897920148127,-73.99583734431656,-74.00378008519702,-73.98707517483021,-73.98954178558829,-73.92898577395358,-74.0835582802609,-73.98838022043373,-73.98851319218215,-73.95372342089631,-73.99982810761212,-73.95428108233506,-74.00785025863267,-73.96437015341445,-73.97174854889279,-73.94992815245583,-73.95836694112178,-73.99242965648214,-73.90711711500123,-73.94003239534601,-73.92347142601756,-73.98982382735937,-73.90426124001134,-73.93009513395958,-73.9895599868415,-73.97188958638802,-73.94628024995863,-73.95718742485771,-73.9370471831251,-73.98948307533313,-73.98765253119397,-73.93073206716467,-73.95319337232108,-73.98222802433635,-73.9397956837676,-73.95719679619101,-73.99961425195637,-73.91240031434154,-74.00254627776337,-73.90821861404066,-73.95325448513769,-73.9130738824606,-74.00083977971131,-73.94874613769697,-73.78915633420583,-73.97250501601368,-73.94246084836242,-73.99543047797745,-73.957168139557,-73.95602200908216,-73.95485273011963,-73.82496743522522,-73.83542443225208,-73.95548545090483,-73.99927613882619,-73.97034343590278,-73.98484632726112,-73.99691294260613,-73.90868737511066,-73.83908620742163,-73.94817837124654,-73.9874707100498,-73.97367433282106,-73.97093444916467,-74.16435087077402,-73.97894376444098,-73.76977049819423,-73.94699558721328,-73.9643418964004,-73.93779631021715,-73.97825778215093,-73.91687559213685,-73.91923926118227,-73.97456800366368,-73.9233644259593,-73.93223287460813,-73.92985321004002,-73.95675470526118,-73.98206710773222,-73.98773094551741,-73.89390479871226,-73.91450138530816,-73.8402300623426,-73.94411219760475,-73.93537330407298,-73.96317354604528,-73.99930075892338,-73.93400313724007,-73.92681597275437,-73.95249188783836,-73.96048394389094,-73.93080964201806,-73.99955644103605,-73.91472297515774,-73.97859676605735,-73.95691905599205,-73.97405829201955,-73.93009205834294,-73.92046069304497,-73.98277992744255,-73.98194058593955,-73.95915172832349,-73.97725403528744,-73.91799292496808,-74.0042277978736,-73.96285411422365,-73.94072442204089,-73.98321319531722,-73.9569334377815,-73.98670222987505,-74.01693918887294,-73.95222159991395,-73.98500842326808,-73.97824962670144,-73.99051212566332,-74.00212962772255,-74.00414704302203,-73.95081918529675,-73.99018881788996,-73.96467646724498,-73.9491321626096,-73.95598363850033,-73.8956637214026,-73.9534017456362,-73.91301027225576,-73.99378819610492,-73.90786077937534,-73.93826047991666,-73.95249544671951,-73.93383112110944,-73.95773255737994,-74.01530716900048,-73.99081087444901,-73.98852536606664,-73.9192193951951,-73.91832268617429,-73.92159770413475,-74.02839954033384,-74.00225043632297,-73.96756444705974,-73.9508246559803,-73.94848217423888,-73.99507910606519,-73.91785718964198,-73.96260775589083,-73.9644561755338,-73.96166063566794,-73.99345379232027,-73.98978698938755,-74.09459485437681,-73.99776963627195,-73.96463574500717,-73.95271992471855,-73.9489983717618,-73.95638111077335,-73.91950344719126,-73.98348332498277,-73.93131944786326,-73.95780066410491,-73.90441857652125,-73.95699798364654,-73.98232679343894,-73.96593266102346,-73.98558078222393,-73.84959598154865,-73.93439608434649,-73.96132952901122,-73.93121241341349,-74.01571761100023,-73.9456978898192,-73.98139751379314,-73.98490233990853,-74.00606318093534,-73.98601243224357,-73.95522893797113,-73.95224348615749,-73.99225576028607,-73.90885455786493,-73.99723202639619,-73.99310062266176,-73.99740817854844,-73.99372661769742,-73.94701792459811,-73.95608509644066,-73.90334350708119,-73.97260026775662,-73.91589760434309,-73.97433944269714,-73.93759361454569,-73.94953981149627,-74.0017150479581,-73.9538329453438,-73.9623317651759,-73.95079270975167,-73.95577139358727,-73.99171029073162,-73.97959172173384,-73.98867756520258,-73.920933613153,-73.75902355681397,-73.96120683016326,-73.97593341558421,-73.98310731805238,-73.93800491486536,-73.94463827175598,-73.94136746064649,-73.98700387172669,-74.00140565615673,-73.95167046569044,-73.94728585407866,-73.95182312640901,-73.97295091192842,-73.86452255569758,-73.96533001293072,-73.948159794328,-73.91746905644027,-73.98006845169664,-73.98572947573291,-73.9567551800783,-73.95263042893063,-73.9303041377503,-73.91106646919565,-73.9576346892588,-73.94145664764517,-74.00291700371737,-73.9965731070457,-73.9546823112602,-73.9482101311072,-73.77920470390897,-73.9908178822248,-73.9069827247806,-73.96713487558848,-73.95365327725298,-73.9591765875782,-73.96472359134742,-73.95253993258922,-73.95468952016107,-73.89313385074233,-73.95445245258324,-73.95374400661932,-73.94959269792001,-73.95680606084122,-73.98953132998619,-73.94881300613011,-73.92883600006846,-73.95476337422015,-73.96460190415284,-73.97050694681005,-73.97461421337407,-73.95829125016103,-73.9276968696376,-73.99302307798372,-73.95442680615766,-73.98072317601908,-73.96459191266254,-73.9550312553733,-73.99500302271561,-73.95322030180108,-73.94299897749237,-74.00264728079473,-73.95298885745909,-74.00668665407518,-73.95432281756038,-73.92881326109277,-73.91840134292863,-73.95983835185645,-73.78970232934077,-73.95923887545547,-74.00506642927964,-73.99499199241157,-73.99124957351262,-73.96419768886246,-73.9942380216512,-73.94984969001733,-73.96903946072136,-73.9634711956398,-73.99858476928951,-73.98542991011685,-73.95131808767428,-73.98166206459565,-73.99301623510843,-73.94578772849832,-73.8932899223281,-73.959212887357,-73.9524839438547,-73.95599872436279,-73.9475583772436,-73.99340560361517,-73.95576044392799,-73.92545253366964,-73.97523194958659,-74.07847798489716,-73.97774518516681,-73.98013536204792,-74.00497365530917,-73.95088391893317,-73.98760722429256,-73.99398026056069,-73.94353321602816,-73.92145422396534,-73.93098114451072,-73.95860568834625,-73.94610279882542,-73.97862636802556,-73.96716951685931,-73.99390756518163,-74.00924069242329,-73.95279321389245,-73.9819938573016,-73.96647137320738,-73.98002354893114,-73.97367407852686,-73.99030290141599,-73.94932313513623,-73.95568085788895,-73.98558149404275,-74.00128995336094,-73.97919436587318,-74.00161238491498,-74.0806074351566,-73.95910955488714,-73.9803691686403,-73.93946788503216,-73.9997708578198,-73.95576258311077,-73.9604879768858,-73.95588448214781,-73.9848881148047,-73.9473727996463,-73.91887965610509,-73.94348543782837,-73.94831557319283,-73.99798492963271,-73.94357276091517,-73.91295471239377,-73.87762617459116,-74.0077777675258,-73.9279556634583,-73.94459726906341,-73.92448064320543,-73.99066605003388,-73.96417988551406,-73.94111722211366,-73.8964856181789,-73.94456274189831,-73.94278357091578,-73.98724801723691,-74.00528620106587,-73.94099641842945,-73.94368201519909,-73.95957611490627,-73.90585457468757,-73.95282500950702,-73.9398629992347,-73.96488071304705,-73.89385954379462,-73.98583412058787,-73.93794377916664,-73.986671922428,-73.92211835245269,-73.9299977803976,-73.9791551650735,-73.98891494764698,-74.00190748380916,-73.91126473331819,-73.98745302468593,-74.03145922234941,-73.91593925710241,-73.99685847406953,-73.96383123499014,-73.9811994578034,-73.94297689510199,-73.98771198952025,-73.98951951634861,-73.96320949105868,-73.94556328102142,-73.98600958849684,-73.95506919036238,-73.89253953308709,-73.92204028716662,-73.96279999342374,-73.95470640193511,-73.90575820451282,-73.95070142127516,-73.95669247492172,-73.95624337554669,-73.95550148166407,-73.9514722993421,-73.9470484942608,-73.9612897007683,-73.92194494082932,-73.94783151538563,-73.94658580197115,-73.81576668201109,-73.91770133083071,-73.98545581011271,-73.98421293983327,-73.9898118342394,-73.95309672729628,-73.98755641702762,-73.98576786245566,-73.91888899124034,-73.92207299967188,-73.97633344304842,-73.9258609152601,-74.00272456733697,-74.00225451579055,-73.98871779944416,-73.9707796984923,-73.85662514108705,-73.81761489227921,-73.93222120205942,-73.9575553715881,-74.16253706205403,-73.92745443801547,-73.97304573888637,-73.9475248060327,-73.93178070939389,-73.98379476359304,-73.98936833299109,-73.99312718934495,-73.96755780529797,-73.85648296085844,-73.92847049430631,-73.95916674420859,-73.78413886754987,-73.75159154653116,-73.94464344196565,-74.0132496188936,-73.81987956578419,-73.97313235704911,-73.99118261199055,-73.93992726062562,-73.8998797199121,-74.00922959812573,-73.94870939350261,-73.94757068345467,-73.94220411978856,-73.80528953441473,-73.92125355708656,-73.9894128482581,-74.00129346463744,-73.93964648162269,-73.99183118223931,-73.97580619421689,-74.00047267682788,-73.95102939847881,-73.91881623896708,-73.96195093691918,-73.90112128404121,-73.94004371240176,-73.95532343731614,-73.9724757841141,-73.94797439194973,-73.89578852767826,-73.94515153483864,-73.93108094823117,-73.98723436077414,-73.99588330039217,-73.94286869527816,-73.96113709755642,-73.95885627927497,-73.94993673067069,-74.07595860817722,-73.94762747598166,-73.99079724612473,-73.98198114244056,-73.94342053468571,-73.98942510287887,-73.9936487706478,-73.94280264791338,-73.98427488379416,-73.92256862254065,-73.94736246067008,-73.99206861800367,-73.95343448488703,-73.94570316812502,-73.94033550686794,-73.95526564962614,-73.99231151710748,-73.92450968748977,-73.98222932809081,-73.99122322100074,-73.97520523297358,-73.94086687494642,-73.95175978550633,-73.99765422928608,-73.98003578728084,-73.98218496274218,-73.94030080931161,-73.98343204850727,-73.95647091684242,-73.94406448905599,-73.97331385290957,-73.94548909491216,-73.95580742264771,-73.91775394965676,-73.96174177871798,-73.94660758221116,-73.90278614096073,-74.00147036624425,-73.93876035391048,-73.9568308738032,-73.93500301793006,-73.92120123658951,-73.96325861061841,-74.00704015141828,-73.96467025189334,-73.90882957195323,-73.9823380462664,-73.98435604425167,-73.95680309303584,-73.94492061652656,-73.98170920318223,-73.9106391554725,-73.91262046096256,-73.94977565965844,-73.92713520489556,-73.95832740846606,-73.78860659381962,-73.94877047118558,-73.95735703891289,-73.9948827719757,-73.9493694782022,-73.98935622072902,-73.95628571218666,-74.00925225620831,-73.96126302350437,-73.95001206794261,-73.95446429749899,-73.93579632815849,-74.01520556359068,-73.9975007669228,-73.9439867847215,-73.95536357695565,-73.98584880473476,-73.94982403858876,-73.94075151759972,-73.94741585685087,-73.88015802309654,-73.99386280433724,-73.92290973369491,-73.95162856459783,-73.94882262604739,-73.99359925893073,-73.97220856962788,-73.98959038718307,-73.9439292364651,-73.94304998097473,-73.95607020567489,-73.98995411065968,-73.98191420217728,-73.98554175853656,-73.9794066893937,-73.99893393259983,-74.00159070215838,-73.94463124522011,-73.91455506354447,-73.94502018626676,-73.93918813635791,-73.94839340169014,-73.94664957524111,-73.95563604889621,-73.99773958895302,-73.95347662799719,-73.98487101266947,-73.94667280437913,-73.86107906059985,-73.93616090825705,-73.9437462260424,-73.95038575724048,-73.9424899769982,-73.96089520797648,-73.94228733606806,-73.94594131833982,-73.98408762051173,-73.99690586815247,-73.98680228072581,-73.78908608538791,-73.95579312251647,-73.97119530035829,-73.94247071403497,-73.94692618712085,-73.95339842241523,-73.9907793488116,-73.95669295243503,-73.85957085771884,-73.9574039415636,-73.94241831528771,-73.99038821659117,-74.00621343225075,-74.01369402650155,-73.94348941473537,-73.9340806111938,-73.99013301080672,-73.90856375995631,-73.77261376371469,-73.98463801784229,-73.931040756205,-74.0018094684893,-73.97611261585037,-73.98692348330697,-73.92045694079646,-73.98363721738336,-73.95620201986178,-73.89254151446978,-73.99243258615388,-73.93976613047822,-73.97870544357549,-73.95477300525198,-73.92803521559776,-73.9707548766926,-73.90943307664503,-74.00240311134928,-73.96120483546774,-73.9987294573669,-74.00533730513327,-73.90010049459003,-73.94461450864995,-73.98450028119464,-73.90486169253663,-74.01532970137703,-73.97532485671887,-73.94926679210661,-73.91180342656776,-73.92346723226956,-74.00242068208148,-73.96220231278397,-73.91124305595723,-73.90819090517155,-73.95070754207319,-73.98269244688355,-73.99616302185956,-73.95470433971019,-73.87426924238194,-73.96344768324238,-73.94350169595964,-73.95482347236917,-73.92673648922862,-73.96999690883588,-73.95873000658095,-73.9885358072875,-73.99392567827853,-73.97094172800344,-73.94084693573916,-73.95885630736069,-73.91411916823172,-73.95373075567505,-73.95859152474088,-73.98469290176644,-73.95811214011371,-73.96945173274075,-73.94129741009795,-73.87426003306196,-73.89423351719607,-73.9389943985683,-73.94325865064705,-73.95606961353897,-74.00288989299662,-73.9469348582788,-73.97726356783333,-73.94887273685298,-73.98270659041856,-73.95548805118315,-73.95164583844488,-73.94692591445853,-73.98127021659529,-73.99035758223388,-73.91884141870612,-73.93538447547995,-73.94662081722483,-73.95783697086594,-73.96615119631718,-73.9900576610905,-73.82895609250794,-73.98299929172208,-73.9887126139217,-73.9856967225911,-73.9402792839607,-73.9456264698984,-73.93996583146793,-73.97316604716552,-73.99592749873565,-74.01426537282913,-73.85649198805973,-74.00490300269277,-73.95356608720651,-74.00134390580989,-73.95652426427999,-73.95974519467954,-73.98562327241585,-73.98164542116537,-73.94617897556009,-73.95436955862284,-73.98986244806895,-73.93351481741573,-73.95424278537466,-73.87006680395139,-73.9530704768132,-73.9566362239422,-73.94698793889776,-73.82284164951214,-73.87036148816395,-73.95133404489994,-73.94907894660267,-73.93916235766513,-74.0296351447272,-73.9479137024275,-73.92553065076291,-73.98875259765383,-73.9929547989878,-73.94858521023727,-73.97396093373399,-73.78053135985738,-73.8423753997374,-73.94314581085735,-73.95902138169828,-73.91610729535903,-73.98309360243637,-73.9420823963301,-73.99765316851587,-73.95021768021323,-73.95566632240771,-73.98590932023114,-73.9660281858619,-73.95705568900667,-73.98794072276657,-73.98295912160056,-73.95154054496045,-73.9804290411613,-73.96183624946346,-73.92051862863578,-73.95648354215315,-73.94013505390316,-73.9556608864234,-73.9567737379323,-73.85230153092078,-73.9397852311018,-73.92606855455197,-73.99161684624262,-73.81870285904971,-73.99002613446045,-73.9406247087921,-73.94961147381444,-73.93663994016514,-73.98472624107666,-73.97999698890077,-73.91176614653169,-73.94735196538883,-73.99030756337973,-73.97612068442218,-73.96404532628962,-73.94593033194944,-73.96154442892109,-73.91848117257041,-73.97193313145182,-73.93957586653434,-73.95606556253549,-74.00021364412447,-73.97610931183324,-74.01283158270388,-73.95368319177344,-73.93759889273474,-73.96213062829308,-73.92163203205824,-73.97720063760485,-73.95823413234987,-73.96501017837936,-73.98920166382341,-74.01302977248517,-73.94896604892438,-73.98274322052991,-73.98829735437648,-73.94543747784375,-73.92252982667813,-73.81016497080715,-73.920312547534,-73.91501371666725,-73.98651024383408,-73.99043465063465,-73.96798800437237,-73.9348207150607,-73.94298284940531,-73.96701066307519,-73.98618701555694,-73.93734823263615,-73.95795449561865,-73.91077739597182,-73.93239517226236,-73.95350784218417,-73.95997114334655,-73.99963696739788,-73.9584489630682,-73.82020502825797,-73.8938176139402,-73.95400020050303,-73.95315521791417,-73.9311725853992,-73.96229057500999,-73.91529739247375,-73.98446585127206,-73.98344770311111,-73.94491043176404,-73.99723709438007,-73.94302216998213,-73.99671880052938,-73.92318359740902,-73.97811983142509,-73.96826480963432,-73.77722641047731,-73.98352373416637,-73.81019113481945,-73.9511940858046,-73.9239061767,-73.82851364000956,-73.98580088360524,-73.96939003884968,-73.92340100230187,-73.96102024019528,-73.9593487633859,-73.96810319010372,-73.91272079617305,-73.94378367024999,-73.92783753628446,-73.99165496019296,-73.95015468552006,-73.98732771927502,-73.92877849724353,-73.99472664689462,-74.00691222222466,-73.93199928711839,-73.93503021998539,-73.98445803504362,-74.01881037269067,-73.98680159376454,-73.92196159592376,-73.92225018631882,-73.97873175344971,-73.94329395776231,-73.96296010461566,-73.87311094053769,-73.95135878247393,-73.98320743616955,-73.94796874560312,-73.9552303177918,-73.92041318006308,-73.93952204314908,-73.90245538654857,-73.96285725216141,-73.95541505319855,-73.99286454531646,-73.95644104474486,-73.95142352908157,-73.94689774053968,-73.96105358644552,-73.97308193902258,-73.99480509768351,-73.95330437424279,-74.01695658574769,-73.94338026968623,-73.91124449204551,-73.92422427474595,-74.00185661419842,-73.99516642086945,-74.00149563739035,-73.95493946297837,-73.91765989406099,-73.9676696796608,-73.95068830973976,-73.95664227582692,-73.9070538710172,-73.93676790593227,-73.99978107925416,-73.93998008405484,-73.95235673323414,-73.9445986792317,-73.9598401839804,-73.92304118815844,-73.97973762311399,-73.99117130915495,-73.98222422097481,-73.95078396131136,-73.9374733349028,-73.9656526950523,-73.93286542366967,-73.96678884966616,-73.88003744531244,-73.9611861165189,-73.94963942291598,-73.97406675305722,-73.92742458222878,-73.97848305974503,-73.96071965398419,-73.9601157992638,-73.92439070393522,-73.95691375825058,-73.90894151163475,-73.95155062390242,-73.94826812140387,-73.95473623361758,-73.96433974136393,-73.95218150985038,-73.93174922639855,-73.90136984512905,-73.95843648423663,-73.96337783443003,-73.95669067355298,-73.94903616918285,-73.91442908050514,-73.98100558764492,-73.9853415750726,-74.00340311166956,-73.96311037922237,-73.95557373540672,-74.00924235239515,-73.98530161339315,-73.89120859461677,-74.00776241702481,-73.98532907164787,-73.96369075999988,-73.96865431657847,-73.981574084136,-73.92463963844102,-73.85991075772925,-73.95192691330064,-73.97800123261926,-73.93899987935956,-73.97771161539005,-73.91260512079221,-73.91016837665966,-73.97217753397321,-73.91846435322216,-73.93115636448134,-73.99911462410986,-73.98650934677319,-73.94016194771724,-73.98346109839204,-73.97676341150985,-73.9181756485403,-73.81284347259509,-73.98516152201965,-73.87406907698711,-73.9516064459113,-73.99455233120227,-73.99902467999001,-74.00416862982549,-73.89691813019618,-73.95584942504831,-74.01405270916909,-73.9916966247525,-73.98863845831973],\"marker\":{\"color\":[4.65,5.13,4.65,4.5,3.66,4.37,4.57,6.91,4.83,4.09,5.94,5.7,4.25,4.16,4.06,4.83,5.86,4.61,4.79,5.52,4.6,4.5,5.11,4.43,5.08,5.44,4.32,4.01,4.17,5.16,4.7,5.08,3.4,5.7,4.13,4.25,3.64,4.61,3.56,4.26,6.07,3.56,4.09,3.61,4.61,5.62,5.16,4.26,6.4,3.89,5.19,5.44,4.61,5.01,4.44,4.98,4.87,5.08,7.44,5.01,4.61,3.56,3.91,3.69,5.52,4.83,4.61,4.86,4.17,5.43,5.78,4.52,4.91,5.08,4.38,3.91,4.7,5.08,4.09,4.61,4.7,4.44,4.32,5.3,5.86,4.55,5.77,4.38,4.5,4.25,3.76,4.09,4.61,5.78,4.5,6.11,4.69,5.01,4.38,5.81,3.83,5.15,5.3,5.44,4.61,4.41,4.38,3.91,4.91,4.44,3.56,3.89,4.44,4.62,3.91,3.81,4.14,4.23,5.78,4.2,3.47,5.22,4.83,4.93,3.91,4.55,4.5,4.69,4.25,5.01,4.91,5.22,4.74,4.17,4.84,4.49,3.91,4.09,4.61,4.6,4.78,3.66,5.97,4.34,3.89,5.01,4.98,4.74,5.83,4.87,5.16,4.75,5.22,5.7,4.55,5.58,5.52,5.01,6.11,4.79,4.74,4.09,4.55,4.17,4.83,5.86,4.28,4.5,4.7,5.39,3.69,3.71,5.01,5.01,4.25,5.19,4.91,3.91,5.35,5.27,2.83,4.55,4.55,5.16,4.09,3.71,4.55,4.49,4.13,4.6,4.25,5.3,4.83,3.69,5.01,6.4,5.14,6.21,5.52,3.87,3.81,5.01,5.3,3.4,4.39,5.14,4.17,4.61,4.65,4.09,4.65,3.87,5.04,4.7,3.95,4.32,4.7,5.7,3.89,4.79,5.39,4.09,3.4,4.44,4.16,4.32,5.27,4.5,5.7,4.7,5.18,4.65,4.7,5.26,4.87,5.52,5.3,5.42,4.09,4.17,4.94,3.91,5.7,5.68,5.93,4.25,4.55,5.0,4.06,5.14,4.09,3.85,5.7,4.86,4.79,4.32,4.83,4.87,4.61,4.09,4.61,4.32,6.05,4.38,5.52,4.87,5.3,4.36,5.01,4.32,3.91,5.01,4.09,3.81,5.0,5.63,5.13,5.3,5.17,5.0,5.26,5.86,4.17,5.3,5.29,4.79,4.65,5.18,5.24,4.91,5.23,4.09,4.38,4.32,4.37,5.23,5.16,4.51,5.3,6.21,4.98,5.29,5.17,4.09,3.69,4.83,5.15,4.61,5.11,5.3,5.24,4.61,5.42,4.61,4.61,5.11,4.65,6.11,4.11,6.4,3.91,4.74,4.17,3.91,5.39,4.25,5.07,5.7,4.09,4.79,5.0,4.62,6.21,3.91,5.86,4.5,4.61,5.58,4.38,3.74,4.61,5.01,4.94,5.01,4.32,4.98,5.25,4.55,4.74,5.22,5.01,4.83,4.48,4.32,5.16,5.01,4.98,4.61,4.3,4.17,4.48,3.18,4.38,5.19,4.57,4.44,5.07,5.16,3.56,5.6,4.83,4.83,5.14,4.25,4.65,5.3,5.19,4.98,4.55,4.17,6.18,4.86,5.48,4.61,5.63,4.5,4.32,5.0,4.08,4.55,4.7,5.25,4.61,3.85,4.32,5.07,4.6,4.5,3.91,4.7,4.5,5.8,4.83,4.09,5.3,4.01,4.32,4.2,4.38,4.04,4.83,4.09,5.01,3.56,4.17,4.25,5.01,3.91,4.61,5.22,4.38,4.38,5.3,4.65,6.38,4.5,6.21,5.3,4.86,3.91,4.49,4.74,3.64,5.3,4.79,4.09,3.89,4.74,4.25,4.32,4.67,5.52,5.19,4.38,4.61,4.74,3.74,5.01,5.3,4.55,4.61,5.09,5.01,4.5,5.62,4.87,5.56,4.93,3.69,5.37,5.0,5.42,5.48,5.42,5.27,4.38,4.25,5.35,4.98,3.91,5.29,4.38,4.8,5.01,3.81,5.01,5.1,4.61,4.09,4.25,5.42,4.68,4.01,4.6,5.01,4.44,3.91,4.38,5.13,4.13,5.16,4.04,5.08,4.26,5.39,3.91,4.96,4.61,4.65,4.17,5.39,5.27,5.11,6.21,4.44,4.5,5.39,5.3,5.01,5.0,4.17,4.3,4.91,5.29,4.94,4.09,3.87,4.25,5.78,4.61,4.54,4.09,4.61,6.91,4.23,4.78,7.31,4.09,5.01,4.61,4.04,4.25,5.99,5.46,4.33,4.17,5.16,3.97,5.29,4.86,5.78,4.09,4.7,5.7,4.98,5.3,4.17,4.49,3.91,5.19,4.83,5.7,5.37,4.41,5.7,4.98,4.87,4.25,5.29,3.91,4.86,5.48,3.91,4.7,5.66,4.01,4.9,4.25,5.01,4.7,5.52,4.32,3.89,6.31,4.8,3.91,3.56,5.3,4.61,7.0,4.6,4.72,5.67,5.01,5.44,4.09,3.56,4.25,4.38,4.78,6.11,5.3,5.13,4.49,4.09,4.38,3.81,4.5,5.52,4.25,4.94,5.25,4.61,4.74,4.28,4.61,5.99,5.42,4.32,4.79,4.6,4.32,4.55,5.7,5.01,4.83,3.91,5.7,4.85,5.46,4.17,5.25,4.38,4.76,4.61,5.19,4.32,4.9,4.87,4.61,3.91,4.9,4.55,5.28,4.26,4.61,5.62,4.38,3.81,4.71,4.25,4.6,4.17,5.7,5.3,4.25,5.16,4.92,4.61,3.91,5.16,5.07,6.21,5.19,3.89,4.44,4.38,5.01,3.76,4.69,5.99,5.3,4.32,5.42,4.79,3.87,4.74,4.01,5.62,5.52,4.83,5.7,4.38,3.4,5.63,3.5,4.36,5.01,6.35,4.09,3.58,5.78,4.01,5.44,4.38,5.0,4.79,5.0,4.32,4.98,4.61,3.81,3.4,4.83,5.86,4.23,4.32,6.44,5.7,4.38,4.17,5.3,3.91,5.52,4.74,4.44,4.61,5.7,4.61,4.04,4.7,4.55,4.01,4.32,5.25,4.75,4.61,3.4,4.03,4.5,4.99,5.62,5.65,3.91,4.61,4.62,4.91,5.27,5.01,3.89,5.14,4.61,5.0,4.17,4.17,5.16,5.01,5.27,4.79,5.52,4.49,4.86,4.25,4.09,4.61,4.94,3.47,4.83,5.3,3.3,5.39,5.86,3.26,4.3,4.09,5.29,4.55,4.01,4.5,4.09,4.83,5.27,4.3,5.11,5.16,3.56,5.63,4.23,5.3,4.61,4.96,4.32,5.19,4.09,4.25,4.98,3.81,5.39,4.87,4.32,4.38,5.37,4.58,4.79,3.56,5.0,4.25,5.27,4.25,4.09,4.5,4.61,4.87,5.3,4.17,4.74,4.25,4.01,3.69,5.14,6.21,5.3,4.5,5.29,4.01,4.09,4.39,5.67,4.17,4.08,5.18,4.75,5.3,4.5,4.23,4.6,4.44,4.83,4.79,5.01,4.84,4.63,4.98,3.69,4.38,4.6,4.34,4.79,5.29,4.41,4.47,3.74,6.21,4.51,4.7,3.69,3.83,4.09,4.09,6.11,4.48,4.49,5.1,4.5,6.48,4.06,4.79,4.74,3.91,4.25,5.16,4.79,4.09,5.22,4.32,5.3,3.43,3.91,4.83,3.69,4.32,4.09,4.61,5.22,5.7,3.91,4.61,5.52,4.38,4.77,4.13,3.91,4.6,4.17,5.43,4.6,4.85,4.17,4.09,5.01,4.7,5.01,4.32,5.19,4.61,4.09,5.86,4.66,5.16,3.66,4.79,4.17,4.37,5.01,5.01,6.89,5.16,3.71,3.76,4.44,5.22,4.17,4.32,4.61,4.6,4.17,4.32,4.61,5.01,5.3,5.24,3.89,4.22,4.93,5.42,3.81,4.44,5.04,4.6,4.6,5.62,4.57,4.83,5.16,4.58,3.85,4.82,4.17,3.81,5.52,4.6,4.5,4.2,6.21,4.47,5.44,4.83,5.69,4.83,5.01,4.7,4.44,3.56,5.39,4.17,4.55,5.52,4.68,4.49,4.58,5.52,5.08,4.55,5.27,5.62,4.49,4.47,5.14,3.74,4.93,3.74,5.52,7.24,4.25,4.04,4.98,5.99,4.65,4.38,5.95,5.89,3.69,5.08,5.52,4.78,4.09,4.61,4.32,3.93,3.83,5.35,5.38,4.37,3.66,5.3,4.09,4.39,4.98,5.16,4.87,5.65,4.13,3.91,4.17,4.44,3.91,4.32,4.04,4.25,4.91,4.87,4.44,3.22,5.47,4.49,4.09,5.7,4.78,4.5,4.98,4.98,4.61,4.79,4.38,4.23,3.87,4.44,4.88,4.09,5.56,4.7,4.06,3.81,4.45,6.29,4.83,5.39,4.8,5.01,4.01,4.17,4.09,3.91,4.09,4.7,3.71,6.48,5.52,5.69,4.55,4.61,4.61,5.11,4.96,5.16,4.17,5.01,4.74,4.6,5.52,5.61,3.81,4.32,3.76,5.42,3.69,4.5,5.52,6.55,5.27,4.38,4.79,5.7,4.7,5.19,6.04,3.91,5.01,3.61,5.95,5.14,4.65,3.69,4.38,4.83,5.13,4.25,4.09,4.6,4.87,4.74,3.69,3.91,6.91,3.64,4.61,6.68,4.38,5.25,5.59,4.94,4.44,5.01,4.98,5.99,4.25,3.89,4.32,4.32,4.62,5.63,4.38,5.0,4.23,3.69,4.09,4.08,6.91,3.81,5.22,4.72,4.06,5.11,4.61,5.3,5.16,5.88,4.5,5.19,4.87,5.16,3.91,4.79,4.25,3.87,4.25,4.37,3.91,6.11,3.95,5.3,3.81,5.25,4.01,4.37,5.01,4.6,5.7,4.83,4.08,3.56,5.16,3.56,5.01,4.48,4.38,3.81,4.79,4.61,5.01,4.91,7.0,4.61,4.67,5.7,3.91,5.62,5.16,3.58,5.7,6.91,5.01,4.83,4.83,4.25,5.42,5.16,4.79,4.09,3.4,5.52,3.69,5.14,5.74,4.17,5.52,3.99,5.42,4.25,3.93,4.6,5.46,4.01,4.3,4.61,4.57,4.74,4.69,3.81,5.13,5.16,4.01,4.83,4.7,3.76,3.69,4.7,4.06,3.56,7.5,5.11,4.98,3.5,4.25,6.4,4.79,5.02,4.49,4.01,4.38,4.6,4.61,4.79,5.98,3.87,5.25,6.55,3.69,5.52,4.06,4.79,5.27,4.09,4.79,4.6,4.87,4.78,5.14,4.79,5.01,4.79,5.25,4.79,5.39,4.09,5.25,6.91,5.0,5.11,4.44,3.69,5.29,4.25,4.91,4.55,3.81,4.94,4.09,3.85,4.09,4.17,4.83,4.61,6.86,5.16,4.61,3.83,3.91,4.01,4.61,4.32,4.79,5.24,6.4,4.61,4.25,3.64,6.31,5.01,5.22,3.91,5.46,4.93,4.94,5.08,4.01,4.09,4.61,4.7,4.79,4.91,4.78,4.49,4.45,3.69,3.66,4.38,4.87,4.09,3.87,4.09,3.89,4.32,5.29,5.14,4.83,4.25,5.62,5.42,5.01,5.7,4.83,4.61,5.3,3.91,5.29,5.52,5.3,4.23,5.01,5.01,4.51,4.91,4.61,4.5,4.61,4.61,4.09,5.19,3.81,5.52,5.52,6.62,5.59,4.79,4.08,4.55,5.01,5.3,4.61,4.61,4.54,4.5,4.22,5.16,4.44,3.81,4.6,4.32,3.53,5.01,6.11,4.74,4.17,4.37,6.21,5.45,5.32,4.25,4.22,3.64,4.61,5.44,5.16,4.79,3.4,5.42,5.16,5.52,4.25,5.86,4.09,5.01,5.01,5.27,5.14,5.48,6.11,5.37,5.86,5.3,4.98,5.16,6.21,5.52,4.32,4.44,4.25,5.29,4.17,4.61,5.24,5.16,6.4,4.74,4.25,4.17,6.4,4.61,5.67,4.38,4.94,4.79,4.61,5.27,4.61,5.25,3.69,4.61,4.87,4.91,5.99,4.7,4.09,4.16,4.61,6.66,5.19,4.5,5.01,4.01,4.87,3.91,4.32,4.61,4.17,5.29,5.3,5.08,5.07,4.09,4.69,4.6,4.85,5.3,4.25,4.7,4.56,5.01,4.38,6.68,4.32,4.65,5.06,3.81,4.17,4.37,4.55,5.3,5.07,4.17,4.83,3.89,5.01,4.61,3.64,3.91,4.17,5.52,4.79,4.91,3.81,4.69,4.83,4.49,4.38,5.01,3.91,4.01,5.52,4.83,5.07,3.87,4.17,4.38,5.48,5.3,4.7,4.79,4.17,4.17,6.55,4.63,5.3,4.7,5.16,4.61,4.55,5.7,4.09,4.61,5.01,4.11,7.31,4.61,4.49,3.69,5.08,5.16,4.25,5.52,4.83,3.81,5.3,4.04,5.52,4.23,5.84,5.3,5.52,4.79,5.11,5.3,4.6,4.22,4.65,4.25,4.91,5.7,5.52,3.33,3.56,5.48,4.5,5.86,5.52,4.83,4.25,4.65,5.08,4.38,4.49,4.83,5.86,3.89,4.94,5.52,4.22,4.52,4.87,3.76,4.01,4.68,4.78,3.37,5.01,4.09,5.27,6.21,4.44,4.98,4.16,4.43,5.52,4.7,4.6,4.72,3.53,4.87,4.44,3.74,4.94,4.6,5.14,4.87,4.55,5.3,3.74,5.27,4.83,5.01,5.99,3.66,4.6,5.52,4.01,4.23,4.75,3.81,4.25,4.61,4.01,4.01,3.91,3.43,4.32,3.81,4.55,5.62,4.38,4.48,3.91,5.3,5.52,4.09,6.48,5.7,5.19,4.5,4.32,4.25,3.56,4.33,6.91,3.33,4.61,4.74,3.81,4.55,3.56,4.6,4.86,4.09,4.09,4.44,4.79,4.38,5.16,5.25,4.6,4.79,5.98,4.55,4.32,4.61,4.5,4.38,4.48,4.32,4.17,4.08,6.51,5.04,5.52,5.52,4.04,4.72,4.75,5.3,3.89,4.6,4.32,4.25,5.39,4.76,4.61,3.91,3.74,5.19,5.1,4.7,5.3,4.32,3.69,4.08,4.61,4.49,3.91,3.69,5.7,4.37,4.61,4.32,3.53,4.44,4.83,4.17,4.44,3.89,4.7,4.09,3.91,3.22,5.01,5.16,4.7,5.01,3.97,5.08,5.18,5.01,4.32,4.79,4.09,5.01,4.32,3.89,5.24,4.55,4.25,4.25,5.25,5.01,3.66,5.32,4.09,3.66,5.01,3.74,5.7,4.7,5.3,5.16,4.29,4.61,4.83,4.6,4.6,5.01,4.6,5.01,3.81,6.51,5.08,4.87,4.79,4.5,4.7,5.69,4.42,3.53,3.81,3.91,5.01,5.16,4.48,4.61,4.37,4.65,4.49,5.01,4.08,4.09,4.94,4.61,5.16,4.38,5.0,4.91,3.81,4.17,4.55,3.56,5.69,5.3,4.83,5.3,5.52,4.84,5.16,4.69,4.37,5.01,5.19,4.17,5.3,5.19,4.25,5.22,4.65,4.37,3.4,3.69,4.5,3.64,4.61,5.3,4.01,5.29,5.99,4.03,4.93,4.6,5.43,4.09,5.01,5.3,4.74,4.61,4.57,5.0,4.32,4.61,5.01,5.04,4.91,4.88,5.01,4.36,3.89,5.25,4.83,6.11,4.32,7.31,3.81,4.83,4.01,5.01,4.17,4.83,4.6,3.78,4.61,4.78,5.93,4.56,3.58,4.32,4.55,4.87,5.29,5.52,4.09,4.61,5.7,6.38,4.26,4.25,4.38,4.09,4.5,3.89,4.83,4.17,4.17,4.83,4.61,4.7,4.32,3.89,4.83,5.01,6.05,4.54,4.49,5.15,4.09,4.6,4.6,4.25,4.7,3.22,5.3,4.44,4.5,4.63,4.55,5.52,4.38,4.69,5.01,4.5,4.83,4.55,5.62,6.48,5.19,5.25,4.09,4.69,5.01,5.0,5.01,3.4,3.91,6.43,4.36,3.81,4.08,4.25,4.17,4.74,3.91,5.3,4.25,4.94,5.52,5.52,4.61,4.48,4.61,4.79,4.32,4.61,4.32,6.4,4.61,3.58,5.14,4.08,4.09,5.16,4.38,4.89,5.3,4.55,5.35,5.3,4.61,5.08,5.14,4.5,4.6,3.89,5.42,4.83,4.98,3.66,5.73,3.69,4.44,4.41,5.42,4.37,4.5,4.32,4.5,5.01,4.32,4.79,5.19,4.32,5.01,5.16,5.13,4.74,4.61,5.67,5.0,4.09,5.62,5.44,4.32,4.49,4.38,5.19,4.5,4.94,4.7,3.47,4.55,5.01,4.17,4.92,4.61,3.69,4.17,4.25,6.75,4.5,4.8,5.39,4.38,3.69,4.37,4.61,3.89,5.02,5.99,4.65,4.16,4.25,4.61,3.69,5.3,4.38,4.91,4.65,5.3,5.19,7.17,5.52,5.14,4.88,4.32,4.7,4.68,5.52,5.25,3.22,5.08,4.57,4.5,5.63,5.01,6.21,3.66,5.16,4.89,5.7,3.69,4.32,4.09,4.84,4.83,5.99,4.09,4.25,5.16,4.93,5.01,5.0,4.25,3.81,5.01,3.64,5.56,5.86,5.29,5.01,4.44,4.74,5.58,3.22,6.21,5.01,5.01,4.61,4.08,5.44,6.48,5.01,4.23,4.83,4.87,4.25,4.34,5.27,4.56,4.62,4.2,4.36,5.3,4.5,5.16,4.09,5.99,4.94,5.16,5.08,4.09,5.86,4.44,3.91,4.94,4.61,5.19,4.69,5.19,4.83,4.72,4.09,5.39,4.44,4.09,4.85,4.83,4.51,5.16,4.87,5.95,4.87,5.99,5.16,5.01,4.17,5.01,4.01,4.01,4.09,4.44,4.69,5.99,5.86,3.81,4.7,4.81,4.38,5.3,5.52,3.91,4.48,5.33,4.49,5.86,4.38,5.01,4.14,4.78,4.83,5.24,4.95,3.64,5.27,5.3,4.32,4.09,4.82,3.93,5.3,5.01,3.91,4.32,3.89,4.32,4.55,4.25,3.69,4.61,4.91,5.42,4.65,3.91,4.6,5.52,5.52,4.09,5.0,4.25,3.89,4.01,4.69,4.38,4.55,4.25,5.52,6.55,3.91,5.06,4.79,4.98,4.5,3.83,3.89,5.14,4.01,4.38,5.52,3.81,4.06,4.32,3.91,4.32,5.25,3.81,4.74,5.3,6.11,4.79,4.79,7.29,4.87,6.8,6.48,5.01,4.17,4.61,4.25,5.08,5.25,5.01,5.56,5.19,5.08,5.07,4.37,4.25,4.17,5.01,4.86,5.62,4.01,4.11,6.48,3.74,7.09,5.69,5.42,3.89,4.17,5.08,5.67,4.65,3.91,4.83,4.55,3.91,3.91,3.3,4.01,5.08,5.3,4.09,4.61,4.74,5.52,4.01,4.09,4.55,3.81,5.52,5.3,5.42,4.03,5.19,3.89,5.07,4.61,4.41,4.01,4.87,3.53,4.5,4.08,4.69,3.53,5.7,4.79,4.61,4.23,4.93,4.38,4.91,4.55,4.6,4.19,5.3,5.86,4.09,4.08,3.91,5.01,4.14,4.38,5.62,4.09,5.3,4.74,5.52,4.38,4.61,4.79,5.01,5.08,4.86,5.01,4.8,4.49,4.09,3.91,3.74,5.3,5.62,5.6,5.08,3.81,5.11,4.83,4.13,5.48,4.09,4.37,5.47,4.09,4.91,3.91,5.83,5.3,4.51,4.25,5.04,3.91,4.38,4.17,4.79,5.01,5.19,5.0,4.25,5.86,5.04,3.69,5.3,4.55,4.25,4.42,4.38,4.32,5.42,4.64,4.7,5.99,4.91,4.44,6.21,7.38,5.7,4.87,4.01,4.09,3.56,5.01,4.61,4.6,5.01,5.01,3.91,4.38,4.89,5.01,4.38,4.81,4.22,4.32,5.42,5.63,5.08,4.61,4.32,4.61,6.04,4.6,3.69,4.38,4.83,6.16,4.08,5.48,5.52,5.11,5.04,3.99,4.79,5.17,4.09,5.48,3.69,5.26,4.32,5.52,4.83,4.91,5.16,3.91,4.17,5.13,4.5,4.44,4.58,5.69,4.09,3.87,5.3,4.79,3.91,3.85,4.38,5.22,5.3,4.61,4.25,5.7,5.01,5.19,4.83,3.4,5.04,5.78,3.91,5.7,3.69,4.5,4.65,5.7,5.52,4.01,5.52,4.93,4.84,5.25,6.35,5.2,5.35,5.39,4.87,3.69,4.6,5.86,4.49,4.91,3.81,4.61,3.33,4.98,4.17,3.99,4.79,5.01,4.61,4.83,4.3,4.61,5.42,3.81,5.94,4.23,5.19,5.11,4.94,5.63,4.38,4.79,4.41,4.74,4.25,3.93,4.55,4.44,4.5,4.38,5.69,3.81,3.81,4.61,4.01,5.87,4.83,5.22,5.3,5.48,5.01,5.99,5.7,4.61,3.22,3.89,5.99,5.18,5.0,3.4,4.61,4.79,4.17,4.25,5.3,4.38,5.42,5.7,5.94,6.21,5.42,4.38,4.01,4.38,5.01,3.74,4.83,4.33,3.56,5.01,4.44,4.69,4.98,4.77,4.09,5.52,4.61,6.4,4.25,4.09,4.25,4.5,5.11,5.01,4.79,5.19,4.25,4.58,5.52,4.5,4.61,3.56,4.25,5.0,3.91,4.94,3.66,4.44,3.91,6.21,5.74,5.01,4.55,5.19,4.09,5.19,3.81,4.25,4.04,4.7,4.74,3.91,4.79,4.25,5.99,4.44,4.65,4.17,5.01,6.11,4.38,3.91,4.41,4.61,4.61,3.61,4.32,7.31,4.65,5.12,4.44,4.61,4.83,4.09,5.16,5.7,4.69,4.32,3.81,5.42,4.44,4.83,5.0,3.78,4.83,5.01,4.03,5.15,4.17,4.26,4.83,4.25,5.29,4.74,4.94,5.29,4.37,6.21,4.78,5.3,5.24,5.16,4.3,4.98,4.25,5.01,4.25,5.3,5.01,5.63,5.42,5.52,5.01,5.12,5.52,4.7,4.32,5.93,4.38,5.01,3.66,4.06,4.6,5.01,5.93,4.55,5.04,5.67,3.85,4.25,4.17,4.06,4.38,5.04,5.25,4.38,4.17,5.19,6.23,4.17,3.61,6.0,4.01,5.0,4.79,4.62,4.01,4.36,5.01,4.09,4.38,4.74,4.65,3.91,4.84,4.25,3.89,3.56,4.7,5.7,4.55,4.93,5.3,6.11,4.75,4.92,5.27,4.53,5.42,4.42,3.91,5.7,5.63,4.7,3.91,5.29,5.23,5.01,5.65,3.91,5.22,4.83,4.44,4.5,4.5,5.23,3.91,4.44,3.56,4.01,5.52,6.11,4.41,5.52,4.47,4.17,4.55,4.09,4.81,4.86,4.83,4.79,4.7,5.3,3.91,4.43,5.01,5.52,5.01,4.09,5.16,3.56,5.99,5.56,5.99,4.09,5.48,4.17,4.09,4.79,4.87,5.19,4.09,4.17,4.61,5.07,4.57,5.77,5.46,4.25,5.63,4.51,4.58,3.66,6.05,5.3,4.5,4.61,4.83,4.09,5.99,5.42,4.32,5.01,3.69,4.78,4.25,4.22,5.22,4.08,5.35,4.08,4.61,5.42,5.3,4.7,5.01,5.19,3.81,3.81,4.55,4.22,3.89,5.27,4.61,5.48,4.65,4.86,5.69,4.5,3.43,4.88,5.52,3.81,4.61,5.08,4.17,4.98,4.61,4.5,5.19,4.5,4.69,4.55,4.64,4.99,4.16,4.83,4.87,3.91,4.83,3.83,4.38,6.21,5.58,4.65,4.5,4.32,4.83,4.32,5.48,4.83,5.13,5.52,5.99,5.93,3.26,4.09,3.91,4.5,5.44,5.08,4.79,4.38,4.32,5.99,5.7,4.3,5.13,5.48,5.78,5.3,3.47,5.19,4.83,4.86,5.01,5.7,4.74,4.7,3.76,4.25,4.23,5.3,4.25,3.69,5.3,5.52,5.48,3.87,3.14,4.08,5.24,4.86,4.61,5.7,4.55,4.5,5.01,5.29,4.32,4.61,4.6,4.44,3.97,5.22,4.61,5.27,5.3,4.25,4.61,4.09,3.76,5.47,4.7,5.19,4.91,4.83,4.09,5.58,5.16,4.94,4.61,4.38,4.43,4.74,5.01,5.44,4.61,5.0,5.7,4.38,5.14,6.75,5.04,4.63,5.14,5.29,5.35,4.61,4.38,5.04,4.32,4.83,4.32,5.52,4.33,4.28,4.38,4.44,4.49,4.32,4.44,4.09,3.97,4.09,4.75,4.47,4.08,5.14,4.32,4.49,4.5,4.5,4.5,5.3,4.01,4.6,4.36,4.5,4.51,4.06,4.09,5.3,4.49,3.76,4.17,4.09,5.16,4.01,4.78,5.01,5.19,4.79,5.42,4.5,4.83,4.61,5.52,4.38,3.4,4.5,3.69,4.3,3.69,5.01,3.85,3.69,4.17,4.17,4.08,4.01,5.67,4.32,5.99,4.17,6.4,5.12,5.14,5.52,5.01,5.78,5.3,5.99,4.38,4.17,5.29,4.55,4.93,4.17,6.11,4.32,4.7,4.01,4.48,5.3,4.7,4.17,4.61,4.38,5.27,5.29,5.01,4.49,5.3,4.94,5.29,4.32,4.08,5.7,4.55,4.96,5.16,4.38,4.38,5.31,5.34,5.01,5.01,4.74,4.74,3.69,4.94,5.29,3.78,5.29,4.55,5.01,4.87,5.72,5.98,3.64,3.69,3.5,4.84,4.32,4.25,4.23,4.61,5.3,5.15,4.25,4.44,3.69,4.61,4.17,5.19,4.38,4.83,3.69,5.52,5.16,4.61,5.62,4.5,3.81,4.25,4.74,5.04,4.6,5.07,4.01,4.09,4.09,4.01,4.3,4.25,4.91,5.52,4.01,5.52,4.5,4.32,4.17,5.21,5.04,4.83,4.08,5.02,5.52,4.87,4.01,4.25,4.01,4.23,4.55,5.99,5.08,4.87,4.72,5.53,5.52,4.09,4.25,4.25,5.27,3.22,5.19,4.44,4.23,3.89,5.63,5.19,3.91,4.91,3.81,4.25,4.09,4.79,4.83,3.81,5.01,5.3,4.7,3.93,4.83,4.61,4.25,4.78,4.32,4.49,5.22,4.23,4.86,3.91,4.83,4.55,5.3,5.29,5.01,5.52,3.76,4.09,6.4,3.91,4.61,3.69,4.32,5.7,5.16,3.74,3.69,4.32,5.42,5.04,3.69,3.81,4.6,4.25,4.79,5.58,3.69,4.25,6.31,5.08,5.16,4.23,5.24,5.42,3.64,4.09,5.3,4.32,4.52,4.83,4.5,5.01,5.69,5.52,3.69,4.61,4.6,5.86,6.31,5.3,5.52,3.81,4.61,5.24,3.81,4.85,4.38,4.74,4.3,4.32,7.6,5.16,4.08,4.83,5.14,4.29,4.62,4.83,4.61,5.3,5.63,5.15,4.6,4.7,5.44,4.58,4.94,4.38,4.13,4.5,4.7,5.01,5.24,5.5,4.22,4.87,5.11,5.16,5.5,5.8,4.06,6.11,4.79,5.39,5.11,5.14,5.3,4.25,5.53,5.8,4.09,4.79,5.52,4.89,3.91,4.74,4.55,4.61,5.3,3.81,3.69,4.61,5.77,4.25,5.35,4.69,4.5,4.25,5.01,3.64,6.21,3.91,4.58,4.23,3.69,4.09,4.79,4.83,4.61,4.83,4.5,5.3,3.91,4.79,4.16,5.04,3.26,5.3,3.5,5.86,5.08,3.78,5.01,4.09,3.66,6.31,5.19,4.6,4.09,4.79,3.89,3.61,5.01,3.47,4.16,5.01,5.14,5.14,5.01,4.71,4.94,5.7,4.38,5.58,5.19,4.25,4.32,4.49,5.52,4.17,5.54,4.88,4.5,4.55,5.7,5.32,4.79,5.0,4.32,4.5,3.97,3.56,4.74,4.41,3.56,3.89,5.08,4.61,5.52,5.16,4.55,5.11,4.81,7.47,4.79,4.32,4.08,4.25,4.25,5.25,5.7,5.86,4.83,6.11,4.94,4.44,6.26,4.6,5.37,5.05,5.24,4.6,4.79,4.01,5.16,4.17,5.52,4.01,4.38,6.91,5.5,5.19,4.04,4.37,4.09,5.7,5.01,4.74,5.99,3.69,4.55,4.61,5.01,5.52,4.52,5.27,5.3,5.3,5.52,5.99,5.42,5.11,4.83,5.3,5.63,4.74,4.62,3.91,4.6,5.34,4.01,5.3,4.94,4.5,5.52,4.17,4.94,5.11,6.4,5.11,4.55,4.43,4.55,4.38,5.7,5.32,4.94,4.08,5.52,5.01,4.32,4.09,4.32,4.38,3.91,4.01,4.74,5.19,3.81,4.09,3.81,4.38,4.25,6.4,5.3,4.65,3.91,4.23,4.5,3.69,5.51,5.83,5.42,3.91,4.61,4.38,3.71,4.83,4.93,5.08,5.99,4.79,5.19,4.49,4.32,5.39,4.25,6.05,4.5,4.34,5.99,5.65,4.6,4.94,4.86,4.38,5.62,3.91,3.69,4.09,4.09,5.01,4.61,3.91,4.83,4.19,4.83,4.82,4.79,5.08,5.01,5.01,4.7,5.58,3.58,4.17,4.17,5.25,4.09,4.91,5.01,4.09,4.61,4.87,4.79,4.78,5.37,4.74,4.38,3.81,4.87,4.98,4.7,5.19,4.61,4.38,5.3,5.5,6.05,4.17,4.98,5.01,4.44,5.48,4.53,5.07,5.56,4.17,4.49,4.61,4.61,4.84,5.87,4.22,5.7,5.3,3.22,3.69,4.61,5.52,3.56,4.73,5.11,4.38,4.25,4.17,4.01,3.91,6.11,4.6,5.01,4.83,4.09,4.25,4.32,4.87,3.91,4.61,5.19,5.98,4.91,4.25,5.48,4.53,4.25,5.29,3.91,5.01,3.66,4.5,4.79,4.63,5.22,5.04,4.5,4.87,4.09,4.17,3.89,5.3,4.58,4.17,3.91,3.47,3.66,5.04,5.01,4.93,3.91,3.91,4.79,5.89,4.37,4.7,5.19,5.01,4.7,4.62,5.52,3.91,4.09,4.01,6.48,5.3,3.69,4.09,4.49,4.25,4.17,4.44,5.52,4.61,7.15,4.37,5.01,4.7,4.74,4.6,4.01,4.13,5.6,5.52,3.56,4.74,4.09,4.79,5.16,4.82,5.29,3.58,4.77,5.7,4.55,3.87,3.81,4.61,4.17,4.6,3.37,4.79,4.93,5.08,6.91,4.61,5.7,3.81,4.5,3.83,4.7,4.83,4.41,5.7,5.19,4.23,5.25,5.7,3.69,5.11,4.55,6.33,5.3,4.28,5.42,3.97,5.63,3.4,4.09,4.58,4.5,4.69,4.13,4.7,4.44,5.23,5.7,4.17,3.69,3.89,4.55,4.32,4.44,4.38,5.46,5.52,3.91,3.37,4.32,4.61,3.91,4.7,3.91,4.79,3.91,4.79,4.23,4.17,4.79,4.37,4.74,3.81,4.17,5.29,4.38,5.16,4.04,4.98,4.91,5.3,5.01,5.39,4.48,4.79,5.7,4.17,5.67,5.7,5.01,5.0,4.85,4.86,4.91,6.05,3.93,4.22,4.65,4.32,4.5,3.81,3.56,4.32,3.87,4.09,5.63,4.38,5.99,3.91,4.74,4.61,4.06,3.66,4.37,4.58,4.87,4.25,5.27,5.13,4.09,5.99,5.49,4.32,5.14,5.7,3.5,3.74,4.7,4.01,4.94,4.6,4.58,3.85,4.09,5.01,4.32,4.61,5.42,3.69,4.09,4.17,6.48,4.38,5.0,4.26,4.38,4.32,3.69,4.44,5.23,5.29,4.61,4.61,4.5,3.58,4.61,4.61,4.09,4.65,4.32,4.55,5.91,5.08,4.7,3.91,5.13,4.49,5.3,4.6,5.3,5.14,5.11,6.62,4.91,5.24,4.83,5.22,3.91,4.08,3.64,3.91,4.17,4.54,3.81,3.74,4.98,3.91,4.84,4.6,3.81,4.78,4.49,4.32,5.52,4.3,5.3,4.5,4.94,4.32,4.93,4.72,4.6,4.44,4.32,5.99,4.74,5.14,4.44,4.55,3.81,5.01,4.25,5.11,5.52,4.78,4.44,3.74,5.16,3.58,4.69,6.11,4.6,4.22,6.21,4.83,4.79,5.86,4.61,3.56,3.43,4.5,4.65,3.64,4.01,3.91,4.79,7.31,4.09,4.5,4.61,4.17,5.35,5.16,5.08,4.48,5.29,4.09,4.2,5.0,4.09,5.35,4.87,5.6,3.0,5.67,4.48,5.52,4.11,5.39,3.91,4.09,6.91,3.91,4.87,3.69,5.3,4.7,4.56,4.06,5.01,4.09,4.83,3.69,5.27,5.98,4.69,5.16,4.25,4.09,4.29,4.32,4.09,4.48,5.62,4.32,3.26,5.3,3.81,5.52,7.03,4.61,5.16,4.36,4.37,4.75,5.29,4.23,4.09,3.5,5.52,5.11,5.16,4.32,4.23,4.98,5.7,3.56,4.32,5.78,4.61,5.08,5.27,4.55,5.3,4.79,4.61,4.61,3.85,4.5,4.55,5.19,4.25,4.17,5.01,4.03,6.04,4.65,4.83,5.56,4.44,5.01,3.89,3.89,5.56,4.5,3.81,5.7,3.89,5.06,6.21,4.69,6.21,4.49,5.29,5.16,5.8,4.32,5.42,4.44,5.3,5.16,5.01,4.09,4.25,4.87,5.58,6.16,4.44,6.1,5.19,4.79,4.7,5.01,6.21,5.63,4.83,3.89,5.42,4.09,4.7,4.17,5.08,4.7,4.09,4.09,5.3,4.65,4.09,3.91,4.98,4.25,4.87,3.83,4.6,4.61,5.62,5.3,5.97,4.25,3.91,4.36,3.91,5.43,4.78,3.99,4.01,5.7,3.26,3.91,4.32,6.93,4.57,5.14,4.09,5.14,4.32,3.81,5.3,4.83,5.01,3.91,5.5,4.87,4.5,4.32,4.22,4.34,5.48,4.09,4.44,4.17,4.61,3.69,4.25,5.3,5.16,4.61,4.83,4.7,3.76,3.61,4.44,4.61,5.0,3.69,4.09,4.08,5.16,4.87,4.79,3.89,3.66,5.32,5.16,4.32,5.52,4.7,5.04,4.25,3.09,5.7,4.6,5.19,3.93,5.01,6.68,4.55,5.52,5.46,5.38,5.29,6.11,4.01,5.89,5.08,5.99,3.91,3.14,4.38,4.32,4.37,5.3,3.85,4.17,3.81,4.09,5.19,4.61,4.61,4.91,5.16,4.44,5.39,4.83,5.7,4.38,3.91,4.37,5.52,4.25,4.6,4.25,5.01,5.99,5.72,5.29,4.89,5.08,4.61,4.61,4.14,4.34,5.39,5.52,5.27,4.7,4.61,5.52,4.61,3.91,5.3,5.16,3.69,5.11,3.69,4.17,5.41,4.17,4.61,4.04,3.91,4.98,7.0,4.7,4.38,4.01,5.07,4.49,6.1,4.17,3.81,4.32,5.52,5.69,5.42,3.5,5.43,3.91,5.7,4.69,5.01,4.84,4.06,4.17,4.32,6.06,4.38,3.81,5.3,3.78,4.68,4.54,5.01,5.0,3.81,3.91,3.91,4.25,4.65,4.78,5.14,5.5,5.43,3.91,4.74,5.27,4.61,4.17,3.56,4.87,3.81,4.5,4.25,5.39,5.3,3.78,4.32,4.5,4.32,4.7,4.5,4.47,4.45,4.17,5.08,5.3,4.61,3.69,5.48,4.5,5.29,5.22,4.01,6.11,5.72,4.5,4.22,5.14,5.21,4.08,4.09,4.79,4.57,6.4,4.94,4.14,4.51,5.04,3.69,5.07,3.81,4.03,5.11,4.79,4.61,4.5,4.61,4.7,4.93,5.69,4.61,4.75,5.1,5.19,4.38,5.01,5.78,5.0,4.61,4.44,4.09,5.42,4.38,4.49,5.68,4.03,4.38,3.69,5.16,4.09,3.61,4.25,3.81,5.86,3.69,5.01,4.94,3.69,4.09,4.98,5.52,4.61,4.17,5.01,5.3,5.69,4.06,4.61,4.74,5.04,3.56,4.33,5.19,4.98,4.09,4.78,4.17,5.02,4.22,5.63,4.61,3.91,4.83,5.01,4.38,4.83,3.91,4.83,5.16,5.01,4.74,4.09,5.37,5.3,4.25,5.01,3.64,4.7,4.87,4.2,4.87,4.78,4.83,5.78,5.19,4.61,5.3,4.85,5.3,4.87,4.97,4.61,5.52,5.01,4.61,5.7,3.56,4.36,5.63,4.01,4.32,4.17,5.44,5.0,7.46,5.19,5.7,4.58,5.86,4.5,4.65,5.29,4.32,4.94,5.01,5.86,4.25,4.29,5.86,5.3,4.61,5.01,4.67,5.29,4.17,4.38,6.11,6.11,5.14,5.08,4.09,4.25,5.62,4.79,4.38,3.91,4.51,4.23,5.69,4.01,5.27,5.62,4.61,4.8,5.0,5.8,4.09,4.61,3.91,4.25,4.53,5.86,5.02,5.35,4.17,4.89,4.61,4.79,5.01,4.5,5.44,4.63,5.54,5.7,3.22,5.01,4.26,4.19,4.94,4.49,4.32,5.99,4.87,3.91,4.55,4.09,5.11,6.55,3.81,3.81,4.17,4.5,4.72,4.25,4.04,5.39,4.61,4.17,4.09,4.55,4.74,4.7,5.63,5.27,4.79,4.38,5.06,4.6,3.4,5.7,4.7,5.63,4.83,5.06,5.78,3.91,4.93,5.24,4.91,4.01,4.32,6.11,4.25,4.43,4.25,3.87,3.61,4.6,4.44,5.32,5.7,3.56,5.39,5.83,6.21,4.25,5.01,4.2,5.96,4.61,3.76,5.3,3.64,5.48,4.25,5.07,4.38,3.64,4.38,5.05,4.43,5.62,4.6,5.48,4.55,5.51,5.13,4.36,4.5,3.89,5.69,4.7,3.69,6.4,4.91,4.25,4.61,4.7,4.81,4.69,4.17,4.91,3.69,5.7,4.49,4.98,4.66,5.19,4.5,5.7,5.22,4.6,3.91,4.09,4.32,5.24,4.61,4.94,4.7,4.09,4.09,4.44,5.11,5.52,4.48,5.42,4.09,3.22,4.94,4.72,5.11,4.32,4.32,5.01,4.58,4.94,4.74,5.0,4.38,3.81,4.09,4.01,4.44,4.38,3.81,5.17,4.06,5.01,5.44,4.38,3.56,4.98,4.32,5.52,4.61,5.3,5.39,5.62,4.78,4.51,4.08,4.58,4.32,5.39,4.32,4.38,5.7,5.3,4.25,3.69,5.88,5.7,4.25,5.14,3.4,3.09,3.37,5.0,5.22,5.14,3.81,5.62,4.94,5.7,4.5,5.29,4.61,4.06,3.93,5.39,3.97,5.11,4.5,5.3,4.79,5.5,5.29,4.87,5.14,4.32,4.38,5.3,4.84,5.32,5.99,3.74,5.3,4.5,5.16,5.3,4.79,4.44,4.45,4.34,5.01,4.65,3.4,3.91,4.38,4.61,3.56,5.3,4.87,4.86,4.82,4.98,3.56,4.83,4.25,4.37,4.79,4.38,5.16,5.7,4.79,4.36,5.08,3.81,4.93,4.44,4.32,4.74,6.87,4.32,3.91,4.01,4.65,5.11,5.27,4.55,3.76,4.01,4.83,4.38,4.38,4.44,5.33,4.29,5.86,4.83,4.79,4.5,3.85,4.38,4.74,4.87,4.17,4.61,4.38,4.38,3.69,4.38,4.82,5.86,4.32,5.01,4.38,5.99,5.99,5.19,4.44,3.95,5.3,4.55,3.81,5.08,4.79,3.85,4.55,4.38,6.21,4.09,3.69,4.38,4.6,4.32,4.25,4.09,5.01,3.91,4.33,5.23,3.76,5.7,4.25,3.91,4.38,5.56,4.32,5.11,4.94,4.47,4.32,4.7,3.69,3.91,3.81,4.87,5.01,4.6,3.69,5.78,4.38,4.17,5.94,5.42,4.17,5.52,3.89,5.39,5.0,5.16,3.69,4.32,4.5,4.44,3.81,4.32,5.99,4.74,4.13,4.11,4.61,5.23,4.32,4.47,5.25,3.71,5.04,4.83,3.58,5.42,3.66,4.3,5.01,4.32,5.42,3.81,5.7,4.5,5.14,6.34,3.91,5.08,4.38,3.91,3.91,5.01,5.13,5.29,4.09,5.3,4.16,4.09,4.22,4.13,4.79,4.79,5.7,5.52,4.83,4.09,4.6,4.23,4.61,4.79,4.25,4.09,4.6,4.47,5.7,4.61,5.0,4.16,5.01,5.01,5.86,5.39,4.44,4.32,4.55,5.69,4.28,5.7,6.68,4.26,5.35,3.91,4.6,4.87,5.67,4.61,4.7,3.81,4.61,4.7,4.61,3.69,4.25,3.85,5.08,6.4,4.6,4.17,5.22,3.56,4.17,5.52,4.79,5.07,4.74,5.19,5.59,5.12,5.29,5.16,5.63,5.3,5.0,4.25,3.69,4.55,4.79,4.7,4.5,3.91,5.35,3.47,4.9,4.7,5.01,4.6,5.11,4.23,5.7,5.3,5.42,4.32,5.08,3.81,3.83,5.13,3.22,3.91,5.16,4.09,4.25,4.79,5.29,4.28,4.01,5.99,4.79,6.16,3.99,4.83,5.42,4.7,4.34,4.01,4.72,4.16,3.85,6.55,4.61,4.38,4.95,5.78,4.36,5.01,4.37,4.01,4.87,3.69,5.14,5.16,5.99,4.61,4.23,4.83,6.17,3.91,5.99,4.94,6.11,5.14,5.52,5.56,3.89,5.01,4.36,3.89,5.22,5.11,4.7,4.37,4.98,4.44,4.61,4.61,4.01,4.94,4.09,4.32,5.19,5.21,4.79,5.16,4.83,6.21,5.16,4.53,5.07,5.62,6.71,3.91,4.83,3.85,5.08,5.01,4.83,4.08,5.61,4.87,4.38,5.52,5.3,4.49,5.16,4.66,4.79,3.69,4.23,3.91,6.08,5.01,5.35,5.16,3.91,5.98,5.11,5.42,4.55,4.78,3.91,4.44,5.01,5.68,4.38,4.38,4.5,5.32,5.19,5.52,4.6,4.38,4.93,5.14,4.5,4.09,4.17,4.61,4.83,4.01,5.01,5.3,5.3,5.3,5.01,5.99,4.25,5.01,5.63,5.0,5.11,4.32,4.65,5.01,5.35,4.74,4.74,4.25,4.25,5.7,4.84,4.75,4.98,5.59,3.56,6.2,5.39,6.4,5.04,5.52,4.38,3.0,3.56,5.13,4.25,4.91,4.7,4.09,4.86,5.28,3.91,4.01,5.67,4.09,5.0,3.81,5.7,4.8,4.87,5.0,3.99,6.21,4.6,5.3,4.01,4.79,4.23,4.25,4.65,5.52,4.01,4.91,4.25,6.29,5.39,4.83,4.74,4.09,4.17,3.81,4.54,5.3,5.86,3.4,6.04,5.48,4.55,4.83,4.38,5.14,3.69,4.23,4.53,4.51,5.25,4.25,4.44,3.81,5.16,4.32,3.89,4.09,3.64,5.01,4.55,3.89,4.92,4.25,3.95,4.43,4.94,5.29,5.99,6.09,4.09,4.23,4.87,5.52,4.98,5.3,4.55,4.09,4.49,5.3,4.7,4.32,5.18,5.16,4.3,3.81,4.61,4.32,5.52,4.61,4.36,5.3,4.83,5.08,4.09,3.74,4.17,5.37,5.01,4.09,4.01,4.01,4.79,4.09,4.01,3.37,4.44,4.25,4.16,5.18,4.7,4.87,5.42,5.3,5.52,5.86,4.01,4.88,5.16,3.3,4.73,4.5,5.01,5.01,4.61,4.58,3.95,4.23,4.08,4.79,5.01,4.83,4.6,4.17,3.69,3.81,4.55,4.79,4.61,4.61,4.32,4.17,5.3,4.32,4.83,6.21,4.88,4.17,6.21,4.94,5.42,5.67,4.32,4.44,4.37,4.17,3.81,4.09,5.62,5.34,6.38,5.52,5.3,5.62,4.32,4.61,4.38,4.17,5.99,4.01,3.71,7.0,4.09,3.91,4.55,4.38,5.3,4.44,4.44,5.87,4.61,3.74,4.79,5.25,4.94,4.94,4.63,7.31,4.61,4.91,3.91,4.87,4.09,5.7,5.3,5.0,4.38,4.17,4.17,3.37,4.61,5.01,4.74,4.09,5.3,5.16,4.83,4.79,5.52,4.69,3.91,3.69,4.09,4.61,4.44,4.49,4.25,4.25,5.86,4.37,5.7,4.94,5.0,5.77,4.09,6.11,3.91,4.6,3.53,4.17,3.56,4.91,5.39,4.61,5.39,4.7,4.98,3.78,4.84,5.25,4.32,5.51,4.61,5.42,4.61,4.5,5.06,5.25,3.91,5.09,4.61,5.01,3.74,5.75,4.23,5.7,5.52,4.61,4.79,3.91,4.79,4.38,3.87,5.01,5.29,4.5,4.32,4.32,3.91,4.17,5.7,5.44,4.48,5.42,5.65,5.6,5.99,5.3,5.3,4.5,5.03,4.32,5.63,3.83,4.17,3.91,5.01,4.7,5.01,4.44,4.16,6.21,5.52,4.38,3.66,4.93,4.79,4.22,4.98,3.69,5.01,5.52,3.53,3.81,5.52,4.25,4.09,4.48,4.83,5.7,5.93,4.17,5.3,4.09,4.38,5.01,6.01,3.64,5.01,5.3,4.38,4.91,5.08,4.38,4.74,4.54,3.91,4.01,4.79,4.6,4.69,5.3,4.69,4.5,6.4,3.69,3.74,4.55,5.86,4.3,4.79,4.98,3.95,4.43,5.35,5.93,3.89,5.3,4.19,4.62,4.61,4.17,3.89,4.69,4.79,5.7,5.11,5.3,4.55,4.56,5.3,5.07,4.91,5.01,4.23,4.38,4.47,4.87,5.04,4.38,4.32,5.22,5.7,3.58,3.69,4.38,5.01,5.06,4.38,3.81,3.56,4.09,4.74,5.19,4.79,5.08,4.32,4.3,4.65,4.49,5.3,4.09,4.61,3.89,6.11,4.87,5.44,5.0,4.5,4.91,4.09,4.83,4.61,4.61,4.17,4.09,4.09,4.79,4.28,4.09,4.38,4.09,6.11,6.02,4.38,4.49,4.36,4.83,4.25,3.91,5.13,5.99,5.65,4.49,4.78,4.37,4.17,4.6,6.2,4.72,5.3,4.79,4.6,6.68,3.91,7.06,4.25,5.06,3.83,4.7,4.79,4.94,5.16,3.81,3.3,4.79,3.81,4.38,4.83,4.61,3.71,4.32,5.3,6.21,5.0,5.44,4.22,3.91,4.37,3.91,4.6,3.89,6.57,5.86,4.61,5.52,5.44,5.01,3.69,4.47,5.67,4.09,4.74,4.09,4.61,5.08,5.16,3.53,4.7,4.61,4.09,4.61,4.94,4.25,4.32,4.74,5.3,4.01,6.21,5.08,3.76,4.87,4.65,4.91,4.79,4.44,4.25,3.85,4.83,5.52,3.91,3.91,4.5,5.02,6.4,5.01,4.44,4.32,5.25,4.01,4.79,4.78,5.8,5.52,4.61,5.19,5.78,5.01,4.61,4.01,4.17,4.76,3.61,5.04,4.55,4.7,4.25,4.25,4.06,4.17,3.56,4.7,4.56,5.42,4.61,3.91,5.01,4.98,3.76,4.55,4.58,4.55,5.16,4.73,4.61,5.22,4.78,4.17,3.81,4.55,5.42,4.23,4.25,4.01,4.98,4.49,3.56,5.39,5.3,4.74,4.79,4.44,4.44,4.52,5.27,4.17,4.38,4.6,4.61,5.24,5.42,4.44,6.62,5.52,4.09,4.44,4.79,5.0,4.32,4.79,4.94,5.01,6.68,4.69,4.3,6.2,5.01,5.18,5.83,3.95,3.91,6.8,5.58,4.09,4.49,5.52,3.81,5.01,4.87,4.87,5.52,4.34,3.83,5.13,4.17,5.69,5.01,5.91,4.42,4.08,5.01,6.11,4.32,4.25,3.69,5.19,4.81,3.93,4.25,5.3,5.52,5.7,4.7,4.74,3.74,4.32,4.7,4.32,5.01,4.44,5.5,4.87,5.99,4.13,5.01,5.01,3.69,4.61,4.7,6.31,4.83,3.91,4.6,5.52,4.79,3.56,4.87,5.2,4.79,4.83,4.17,6.31,5.16,5.07,5.01,4.01,5.52,4.38,4.17,4.55,5.48,4.79,5.86,5.3,5.01,5.42,3.91,4.6,5.07,4.6,4.25,4.44,5.3,5.56,5.78,5.46,4.09,4.23,4.44,4.5,6.68,5.19,4.32,5.19,4.85,4.47,4.25,4.32,3.91,3.74,3.91,5.01,5.19,4.25,4.61,5.27,6.55,5.28,4.51,4.61,4.01,5.25,4.08,4.3,5.94,4.98,3.69,5.52,4.79,5.67,5.99,5.24,4.61,4.87,5.19,5.98,3.81,4.94,4.38,4.32,4.83,3.89,5.95,4.44,4.47,5.01,3.91,4.61,4.94,5.45,4.87,5.69,5.3,4.87,5.08,4.94,3.91,5.08,4.5,4.88,4.01,3.81,4.17,7.24,4.55,4.17,4.79,4.17,4.23,3.4,5.22,4.42,3.56,4.61,4.13,4.38,5.52,4.61,5.99,4.69,6.11,4.55,5.3,4.09,4.25,4.94,5.42,4.75,4.83,4.94,4.17,4.83,4.17,5.01,5.39,3.91,4.55,4.09,4.38,4.94,4.87,5.3,4.6,4.01,5.52,5.01,3.66,4.83,4.61,5.25,5.01,4.91,4.7,3.66,4.91,4.32,6.4,5.3,5.37,5.3,4.5,4.09,3.66,4.94,4.17,5.43,3.56,4.53,5.12,4.7,4.6,5.39,3.81,5.25,4.25,5.0,5.19,4.43,4.84,3.91,4.74,4.38,4.61,4.38,5.88,5.5,3.81,5.01,4.7,6.68,4.09,5.52,3.91,4.01,5.0,5.7,4.01,3.91,4.09,5.3,4.98,4.51,5.29,6.91,4.23,4.61,4.23,5.37,4.32,5.93,5.16,5.3,5.01,5.01,4.01,3.81,4.5,4.28,4.43,5.07,5.42,4.09,4.61,4.83,5.16,5.3,4.61,4.38,4.32,4.5,3.69,5.52,5.01,4.79,4.74,5.62,3.89,5.99,4.32,5.08,4.55,5.52,4.43,4.62,3.56,4.44,4.38,6.21,4.5,5.52,5.48,4.11,4.5,5.42,4.38,5.69,4.87,5.14,6.48,3.91,3.83,4.91,6.21,4.44,3.97,6.11,5.19,3.64,4.61,4.08,5.15,4.61,5.3,5.3,4.94,5.7,4.79,4.55,3.91,5.08,4.09,5.25,4.91,4.17,4.91,5.3,4.38,4.25,5.86,5.41,4.09,4.87,4.09,5.11,5.3,4.85,4.91,4.94,4.87,4.61,4.44,4.79,5.7,4.54,5.2,4.51,3.3,5.78,4.48,4.06,5.52,4.19,4.38,3.81,4.61,4.17,5.3,5.52,5.52,3.58,4.79,4.38,3.91,4.09,5.01,4.5,5.52,4.96,4.09,4.38,5.02,4.65,4.93,4.38,4.32,4.01,5.24,4.23,4.32,3.99,4.74,4.61,4.01,5.07,4.6,4.09,5.29,4.98,5.13,5.08,5.27,4.7,6.21,4.55,4.91,4.17,4.09,4.04,3.58,4.65,5.29,3.97,5.54,5.0,5.42,4.7,5.41,5.39,6.8,6.51,4.91,4.32,4.38,5.7,5.01,4.83,6.1,4.41,5.01,4.01,4.3,5.7,4.83,5.08,4.61,5.01,4.86,4.08,4.08,3.81,4.5,3.91,4.83,4.61,3.71,4.28,4.61,4.61,4.26,4.8,4.32,5.29,4.79,4.44,4.44,4.38,4.87,3.56,5.56,5.01,4.72,3.56,5.39,3.89,3.76,3.78,5.08,4.61,5.12,5.29,4.6,5.52,5.29,4.44,4.17,3.69,4.44,4.32,4.5,5.29,5.22,5.19,3.58,4.01,4.01,5.27,4.6,4.09,5.19,5.42,5.52,5.11,5.24,4.23,4.55,5.28,5.56,4.91,4.14,5.08,5.01,5.25,4.38,3.61,5.16,3.91,4.5,4.55,6.36,6.54,4.79,5.01,4.17,3.69,5.39,5.2,5.62,4.55,5.22,5.27,4.3,4.79,4.01,7.31,4.09,4.38,5.08,4.49,5.08,3.81,4.09,4.74,4.01,4.17,5.07,4.17,4.91,4.16,5.29,3.97,4.94,4.38,3.69,5.3,5.01,4.83,4.61,5.3,4.83,4.69,4.32,4.44,5.08,5.04,5.7,5.95,4.78,5.01,4.32,4.91,5.08,4.96,5.19,5.19,4.5,3.91,4.04,4.44,4.93,4.32,5.19,4.61,5.3,5.12,5.29,5.01,4.94,5.01,4.37,5.3,4.79,5.54,4.61,5.44,4.8,3.91,5.99,4.32,4.09,5.01,4.5,4.77,5.3,5.52,4.09,4.74,5.52,4.61,4.48,3.91,5.17,5.19,4.38,5.27,5.01,5.22,3.69,4.6,4.98,5.13,3.91,4.23,4.23,4.49,3.81,5.01,4.5,4.55,4.49,5.52,4.5,4.39,4.23,3.4,3.97,4.83,4.28,5.58,3.91,4.79,4.74,4.17,5.69,4.38,4.75,5.16,5.7,5.19,4.61,4.38,4.49,5.15,5.19,5.3,5.78,4.38,4.49,4.08,3.56,6.11,4.61,4.17,4.08,4.74,5.86,4.17,4.01,4.37,4.09,3.91,5.14,5.52,4.87,5.01,4.38,4.44,3.66,5.3,5.84,5.11,5.01,5.19,4.87,4.7,4.61,4.61,4.38,5.3,5.16,4.69,3.91,4.49,3.22,4.34,4.83,4.26,5.56,5.3,5.86,5.25,5.86,4.57,5.02,5.99,4.5,4.86,4.26,4.61,5.42,4.23,4.79,3.81,4.87,5.2,5.48,5.3,4.14,3.74,4.09,4.38,4.79,5.7,4.98,4.61,4.09,5.19,4.36,4.55,5.3,5.27,5.3,4.65,5.01,3.95,4.38,4.5,5.25,4.74,4.5,4.44,3.66,4.44,4.91,5.01,4.32,4.94,3.76,3.71,4.79,4.32,1.61,4.7,5.01,3.87,3.91,4.61,4.78,5.14,4.98,4.61,4.32,4.37,5.27,4.39,5.52,5.25,4.17,5.99,4.09,3.69,4.58,4.61,4.09,3.66,5.01,4.61,3.91,5.01,4.87,4.5,5.39,4.61,4.16,4.83,5.01,3.89,4.5,4.37,5.7,4.86,5.78,3.81,3.91,5.59,4.74,4.25,6.21,5.01,5.08,4.83,4.9,4.17,4.32,5.22,5.7,4.87,4.65,6.02,4.83,5.86,5.21,4.54,4.32,4.25,5.02,4.5,4.25,4.79,5.01,4.5,4.08,5.01,5.7,5.19,4.48,4.62,3.87,3.91,5.01,4.5,4.26,4.17,3.58,4.98,4.3,4.87,3.91,4.83,5.29,4.68,4.25,5.01,3.91,5.95,4.09,4.79,4.44,4.32,4.87,5.05,4.01,4.38,4.94,5.03,4.7,5.23,5.3,4.38,4.94,5.3,5.24,4.55,5.42,5.01,5.93,4.01,7.13,5.3,4.65,4.5,5.7,5.01,4.86,3.56,4.5,6.48,5.16,4.55,4.01,3.91,5.58,5.52,4.87,3.91,3.89,4.91,5.16,4.83,4.51,3.91,5.07,4.75,5.86,5.17,5.01,3.91,5.01,4.32,4.65,4.09,5.62,4.23,5.29,5.39,4.01,4.2,4.83,5.01,3.91,3.61,4.61,4.32,4.83,3.91,4.79,4.56,5.07,4.61,5.52,4.38,4.09,4.5,5.5,5.19,4.77,3.56,4.37,4.5,4.09,5.29,4.32,5.24,3.95,5.16,3.81,6.91,5.52,4.08,4.17,3.4,4.61,4.78,4.61,6.11,5.52,5.16,5.16,4.61,6.11,4.79,4.42,4.91,6.21,5.08,4.33,5.46,5.01,4.13,5.67,4.17,4.44,3.91,6.05,4.14,5.11,5.3,4.79,5.27,5.59,4.61,3.91,4.79,4.93,4.09,5.16,4.49,4.17,4.17,5.01,5.67,4.6,4.61,4.5,5.01,3.81,4.61,4.09,5.22,4.25],\"coloraxis\":\"coloraxis\"},\"mode\":\"markers\",\"name\":\"\",\"showlegend\":false,\"subplot\":\"mapbox\",\"type\":\"scattermapbox\"}],                        {\"template\":{\"data\":{\"bar\":[{\"error_x\":{\"color\":\"#2a3f5f\"},\"error_y\":{\"color\":\"#2a3f5f\"},\"marker\":{\"line\":{\"color\":\"#E5ECF6\",\"width\":0.5},\"pattern\":{\"fillmode\":\"overlay\",\"size\":10,\"solidity\":0.2}},\"type\":\"bar\"}],\"barpolar\":[{\"marker\":{\"line\":{\"color\":\"#E5ECF6\",\"width\":0.5},\"pattern\":{\"fillmode\":\"overlay\",\"size\":10,\"solidity\":0.2}},\"type\":\"barpolar\"}],\"carpet\":[{\"aaxis\":{\"endlinecolor\":\"#2a3f5f\",\"gridcolor\":\"white\",\"linecolor\":\"white\",\"minorgridcolor\":\"white\",\"startlinecolor\":\"#2a3f5f\"},\"baxis\":{\"endlinecolor\":\"#2a3f5f\",\"gridcolor\":\"white\",\"linecolor\":\"white\",\"minorgridcolor\":\"white\",\"startlinecolor\":\"#2a3f5f\"},\"type\":\"carpet\"}],\"choropleth\":[{\"colorbar\":{\"outlinewidth\":0,\"ticks\":\"\"},\"type\":\"choropleth\"}],\"contour\":[{\"colorbar\":{\"outlinewidth\":0,\"ticks\":\"\"},\"colorscale\":[[0.0,\"#0d0887\"],[0.1111111111111111,\"#46039f\"],[0.2222222222222222,\"#7201a8\"],[0.3333333333333333,\"#9c179e\"],[0.4444444444444444,\"#bd3786\"],[0.5555555555555556,\"#d8576b\"],[0.6666666666666666,\"#ed7953\"],[0.7777777777777778,\"#fb9f3a\"],[0.8888888888888888,\"#fdca26\"],[1.0,\"#f0f921\"]],\"type\":\"contour\"}],\"contourcarpet\":[{\"colorbar\":{\"outlinewidth\":0,\"ticks\":\"\"},\"type\":\"contourcarpet\"}],\"heatmap\":[{\"colorbar\":{\"outlinewidth\":0,\"ticks\":\"\"},\"colorscale\":[[0.0,\"#0d0887\"],[0.1111111111111111,\"#46039f\"],[0.2222222222222222,\"#7201a8\"],[0.3333333333333333,\"#9c179e\"],[0.4444444444444444,\"#bd3786\"],[0.5555555555555556,\"#d8576b\"],[0.6666666666666666,\"#ed7953\"],[0.7777777777777778,\"#fb9f3a\"],[0.8888888888888888,\"#fdca26\"],[1.0,\"#f0f921\"]],\"type\":\"heatmap\"}],\"heatmapgl\":[{\"colorbar\":{\"outlinewidth\":0,\"ticks\":\"\"},\"colorscale\":[[0.0,\"#0d0887\"],[0.1111111111111111,\"#46039f\"],[0.2222222222222222,\"#7201a8\"],[0.3333333333333333,\"#9c179e\"],[0.4444444444444444,\"#bd3786\"],[0.5555555555555556,\"#d8576b\"],[0.6666666666666666,\"#ed7953\"],[0.7777777777777778,\"#fb9f3a\"],[0.8888888888888888,\"#fdca26\"],[1.0,\"#f0f921\"]],\"type\":\"heatmapgl\"}],\"histogram\":[{\"marker\":{\"pattern\":{\"fillmode\":\"overlay\",\"size\":10,\"solidity\":0.2}},\"type\":\"histogram\"}],\"histogram2d\":[{\"colorbar\":{\"outlinewidth\":0,\"ticks\":\"\"},\"colorscale\":[[0.0,\"#0d0887\"],[0.1111111111111111,\"#46039f\"],[0.2222222222222222,\"#7201a8\"],[0.3333333333333333,\"#9c179e\"],[0.4444444444444444,\"#bd3786\"],[0.5555555555555556,\"#d8576b\"],[0.6666666666666666,\"#ed7953\"],[0.7777777777777778,\"#fb9f3a\"],[0.8888888888888888,\"#fdca26\"],[1.0,\"#f0f921\"]],\"type\":\"histogram2d\"}],\"histogram2dcontour\":[{\"colorbar\":{\"outlinewidth\":0,\"ticks\":\"\"},\"colorscale\":[[0.0,\"#0d0887\"],[0.1111111111111111,\"#46039f\"],[0.2222222222222222,\"#7201a8\"],[0.3333333333333333,\"#9c179e\"],[0.4444444444444444,\"#bd3786\"],[0.5555555555555556,\"#d8576b\"],[0.6666666666666666,\"#ed7953\"],[0.7777777777777778,\"#fb9f3a\"],[0.8888888888888888,\"#fdca26\"],[1.0,\"#f0f921\"]],\"type\":\"histogram2dcontour\"}],\"mesh3d\":[{\"colorbar\":{\"outlinewidth\":0,\"ticks\":\"\"},\"type\":\"mesh3d\"}],\"parcoords\":[{\"line\":{\"colorbar\":{\"outlinewidth\":0,\"ticks\":\"\"}},\"type\":\"parcoords\"}],\"pie\":[{\"automargin\":true,\"type\":\"pie\"}],\"scatter\":[{\"marker\":{\"colorbar\":{\"outlinewidth\":0,\"ticks\":\"\"}},\"type\":\"scatter\"}],\"scatter3d\":[{\"line\":{\"colorbar\":{\"outlinewidth\":0,\"ticks\":\"\"}},\"marker\":{\"colorbar\":{\"outlinewidth\":0,\"ticks\":\"\"}},\"type\":\"scatter3d\"}],\"scattercarpet\":[{\"marker\":{\"colorbar\":{\"outlinewidth\":0,\"ticks\":\"\"}},\"type\":\"scattercarpet\"}],\"scattergeo\":[{\"marker\":{\"colorbar\":{\"outlinewidth\":0,\"ticks\":\"\"}},\"type\":\"scattergeo\"}],\"scattergl\":[{\"marker\":{\"colorbar\":{\"outlinewidth\":0,\"ticks\":\"\"}},\"type\":\"scattergl\"}],\"scattermapbox\":[{\"marker\":{\"colorbar\":{\"outlinewidth\":0,\"ticks\":\"\"}},\"type\":\"scattermapbox\"}],\"scatterpolar\":[{\"marker\":{\"colorbar\":{\"outlinewidth\":0,\"ticks\":\"\"}},\"type\":\"scatterpolar\"}],\"scatterpolargl\":[{\"marker\":{\"colorbar\":{\"outlinewidth\":0,\"ticks\":\"\"}},\"type\":\"scatterpolargl\"}],\"scatterternary\":[{\"marker\":{\"colorbar\":{\"outlinewidth\":0,\"ticks\":\"\"}},\"type\":\"scatterternary\"}],\"surface\":[{\"colorbar\":{\"outlinewidth\":0,\"ticks\":\"\"},\"colorscale\":[[0.0,\"#0d0887\"],[0.1111111111111111,\"#46039f\"],[0.2222222222222222,\"#7201a8\"],[0.3333333333333333,\"#9c179e\"],[0.4444444444444444,\"#bd3786\"],[0.5555555555555556,\"#d8576b\"],[0.6666666666666666,\"#ed7953\"],[0.7777777777777778,\"#fb9f3a\"],[0.8888888888888888,\"#fdca26\"],[1.0,\"#f0f921\"]],\"type\":\"surface\"}],\"table\":[{\"cells\":{\"fill\":{\"color\":\"#EBF0F8\"},\"line\":{\"color\":\"white\"}},\"header\":{\"fill\":{\"color\":\"#C8D4E3\"},\"line\":{\"color\":\"white\"}},\"type\":\"table\"}]},\"layout\":{\"annotationdefaults\":{\"arrowcolor\":\"#2a3f5f\",\"arrowhead\":0,\"arrowwidth\":1},\"autotypenumbers\":\"strict\",\"coloraxis\":{\"colorbar\":{\"outlinewidth\":0,\"ticks\":\"\"}},\"colorscale\":{\"diverging\":[[0,\"#8e0152\"],[0.1,\"#c51b7d\"],[0.2,\"#de77ae\"],[0.3,\"#f1b6da\"],[0.4,\"#fde0ef\"],[0.5,\"#f7f7f7\"],[0.6,\"#e6f5d0\"],[0.7,\"#b8e186\"],[0.8,\"#7fbc41\"],[0.9,\"#4d9221\"],[1,\"#276419\"]],\"sequential\":[[0.0,\"#0d0887\"],[0.1111111111111111,\"#46039f\"],[0.2222222222222222,\"#7201a8\"],[0.3333333333333333,\"#9c179e\"],[0.4444444444444444,\"#bd3786\"],[0.5555555555555556,\"#d8576b\"],[0.6666666666666666,\"#ed7953\"],[0.7777777777777778,\"#fb9f3a\"],[0.8888888888888888,\"#fdca26\"],[1.0,\"#f0f921\"]],\"sequentialminus\":[[0.0,\"#0d0887\"],[0.1111111111111111,\"#46039f\"],[0.2222222222222222,\"#7201a8\"],[0.3333333333333333,\"#9c179e\"],[0.4444444444444444,\"#bd3786\"],[0.5555555555555556,\"#d8576b\"],[0.6666666666666666,\"#ed7953\"],[0.7777777777777778,\"#fb9f3a\"],[0.8888888888888888,\"#fdca26\"],[1.0,\"#f0f921\"]]},\"colorway\":[\"#636efa\",\"#EF553B\",\"#00cc96\",\"#ab63fa\",\"#FFA15A\",\"#19d3f3\",\"#FF6692\",\"#B6E880\",\"#FF97FF\",\"#FECB52\"],\"font\":{\"color\":\"#2a3f5f\"},\"geo\":{\"bgcolor\":\"white\",\"lakecolor\":\"white\",\"landcolor\":\"#E5ECF6\",\"showlakes\":true,\"showland\":true,\"subunitcolor\":\"white\"},\"hoverlabel\":{\"align\":\"left\"},\"hovermode\":\"closest\",\"mapbox\":{\"style\":\"light\"},\"paper_bgcolor\":\"white\",\"plot_bgcolor\":\"#E5ECF6\",\"polar\":{\"angularaxis\":{\"gridcolor\":\"white\",\"linecolor\":\"white\",\"ticks\":\"\"},\"bgcolor\":\"#E5ECF6\",\"radialaxis\":{\"gridcolor\":\"white\",\"linecolor\":\"white\",\"ticks\":\"\"}},\"scene\":{\"xaxis\":{\"backgroundcolor\":\"#E5ECF6\",\"gridcolor\":\"white\",\"gridwidth\":2,\"linecolor\":\"white\",\"showbackground\":true,\"ticks\":\"\",\"zerolinecolor\":\"white\"},\"yaxis\":{\"backgroundcolor\":\"#E5ECF6\",\"gridcolor\":\"white\",\"gridwidth\":2,\"linecolor\":\"white\",\"showbackground\":true,\"ticks\":\"\",\"zerolinecolor\":\"white\"},\"zaxis\":{\"backgroundcolor\":\"#E5ECF6\",\"gridcolor\":\"white\",\"gridwidth\":2,\"linecolor\":\"white\",\"showbackground\":true,\"ticks\":\"\",\"zerolinecolor\":\"white\"}},\"shapedefaults\":{\"line\":{\"color\":\"#2a3f5f\"}},\"ternary\":{\"aaxis\":{\"gridcolor\":\"white\",\"linecolor\":\"white\",\"ticks\":\"\"},\"baxis\":{\"gridcolor\":\"white\",\"linecolor\":\"white\",\"ticks\":\"\"},\"bgcolor\":\"#E5ECF6\",\"caxis\":{\"gridcolor\":\"white\",\"linecolor\":\"white\",\"ticks\":\"\"}},\"title\":{\"x\":0.05},\"xaxis\":{\"automargin\":true,\"gridcolor\":\"white\",\"linecolor\":\"white\",\"ticks\":\"\",\"title\":{\"standoff\":15},\"zerolinecolor\":\"white\",\"zerolinewidth\":2},\"yaxis\":{\"automargin\":true,\"gridcolor\":\"white\",\"linecolor\":\"white\",\"ticks\":\"\",\"title\":{\"standoff\":15},\"zerolinecolor\":\"white\",\"zerolinewidth\":2}}},\"mapbox\":{\"domain\":{\"x\":[0.0,1.0],\"y\":[0.0,1.0]},\"center\":{\"lat\":40.72967724462267,\"lon\":-73.95510588113376},\"zoom\":10,\"style\":\"white-bg\",\"layers\":[{\"below\":\"traces\",\"source\":[\"https://basemap.nationalmap.gov/arcgis/rest/services/USGSImageryOnly/MapServer/tile/{z}/{y}/{x}\"],\"sourceattribution\":\"United States Geological Survey\",\"sourcetype\":\"raster\"}]},\"coloraxis\":{\"colorbar\":{\"title\":{\"text\":\"log_price\"}},\"colorscale\":[[0.0,\"#0d0887\"],[0.1111111111111111,\"#46039f\"],[0.2222222222222222,\"#7201a8\"],[0.3333333333333333,\"#9c179e\"],[0.4444444444444444,\"#bd3786\"],[0.5555555555555556,\"#d8576b\"],[0.6666666666666666,\"#ed7953\"],[0.7777777777777778,\"#fb9f3a\"],[0.8888888888888888,\"#fdca26\"],[1.0,\"#f0f921\"]]},\"legend\":{\"tracegroupgap\":0},\"margin\":{\"t\":60},\"geo\":{\"scope\":\"usa\"},\"title\":{\"text\":\"Airbnb prices in NYC\"},\"width\":1000,\"height\":600},                        {\"responsive\": true}                    ).then(function(){\n                            \nvar gd = document.getElementById('13522e1f-fb75-40eb-8aea-8a5fdb5a7043');\nvar x = new MutationObserver(function (mutations, observer) {{\n        var display = window.getComputedStyle(gd).display;\n        if (!display || display === 'none') {{\n            console.log([gd, 'removed!']);\n            Plotly.purge(gd);\n            observer.disconnect();\n        }}\n}});\n\n// Listen for the removal of the full notebook cells\nvar notebookContainer = gd.closest('#notebook-container');\nif (notebookContainer) {{\n    x.observe(notebookContainer, {childList: true});\n}}\n\n// Listen for the clearing of the current output cell\nvar outputEl = gd.closest('.output');\nif (outputEl) {{\n    x.observe(outputEl, {childList: true});\n}}\n\n                        })                };                            </script>        </div>\n</body>\n</html>"
                },
                "metadata": {}
              }
            ]
          }
        },
        "d2d018beefd7438a9dd709ee2012e16e": {
          "model_module": "@jupyter-widgets/base",
          "model_name": "LayoutModel",
          "model_module_version": "1.2.0",
          "state": {
            "_model_module": "@jupyter-widgets/base",
            "_model_module_version": "1.2.0",
            "_model_name": "LayoutModel",
            "_view_count": null,
            "_view_module": "@jupyter-widgets/base",
            "_view_module_version": "1.2.0",
            "_view_name": "LayoutView",
            "align_content": null,
            "align_items": null,
            "align_self": null,
            "border": null,
            "bottom": null,
            "display": null,
            "flex": null,
            "flex_flow": null,
            "grid_area": null,
            "grid_auto_columns": null,
            "grid_auto_flow": null,
            "grid_auto_rows": null,
            "grid_column": null,
            "grid_gap": null,
            "grid_row": null,
            "grid_template_areas": null,
            "grid_template_columns": null,
            "grid_template_rows": null,
            "height": null,
            "justify_content": null,
            "justify_items": null,
            "left": null,
            "margin": null,
            "max_height": null,
            "max_width": null,
            "min_height": null,
            "min_width": null,
            "object_fit": null,
            "object_position": null,
            "order": null,
            "overflow": null,
            "overflow_x": null,
            "overflow_y": null,
            "padding": null,
            "right": null,
            "top": null,
            "visibility": null,
            "width": null
          }
        },
        "2d5ac8f4dd3744668887d4df2341bd04": {
          "model_module": "@jupyter-widgets/base",
          "model_name": "LayoutModel",
          "model_module_version": "1.2.0",
          "state": {
            "_model_module": "@jupyter-widgets/base",
            "_model_module_version": "1.2.0",
            "_model_name": "LayoutModel",
            "_view_count": null,
            "_view_module": "@jupyter-widgets/base",
            "_view_module_version": "1.2.0",
            "_view_name": "LayoutView",
            "align_content": null,
            "align_items": null,
            "align_self": null,
            "border": null,
            "bottom": null,
            "display": null,
            "flex": null,
            "flex_flow": null,
            "grid_area": null,
            "grid_auto_columns": null,
            "grid_auto_flow": null,
            "grid_auto_rows": null,
            "grid_column": null,
            "grid_gap": null,
            "grid_row": null,
            "grid_template_areas": null,
            "grid_template_columns": null,
            "grid_template_rows": null,
            "height": null,
            "justify_content": null,
            "justify_items": null,
            "left": null,
            "margin": null,
            "max_height": null,
            "max_width": null,
            "min_height": null,
            "min_width": null,
            "object_fit": null,
            "object_position": null,
            "order": null,
            "overflow": null,
            "overflow_x": null,
            "overflow_y": null,
            "padding": null,
            "right": null,
            "top": null,
            "visibility": null,
            "width": null
          }
        },
        "6650f4a916e146b0b6aeaf133a6834f5": {
          "model_module": "@jupyter-widgets/controls",
          "model_name": "DescriptionStyleModel",
          "model_module_version": "1.5.0",
          "state": {
            "_model_module": "@jupyter-widgets/controls",
            "_model_module_version": "1.5.0",
            "_model_name": "DescriptionStyleModel",
            "_view_count": null,
            "_view_module": "@jupyter-widgets/base",
            "_view_module_version": "1.2.0",
            "_view_name": "StyleView",
            "description_width": ""
          }
        },
        "187013a482ea41f2b72ca0851ecf4d94": {
          "model_module": "@jupyter-widgets/base",
          "model_name": "LayoutModel",
          "model_module_version": "1.2.0",
          "state": {
            "_model_module": "@jupyter-widgets/base",
            "_model_module_version": "1.2.0",
            "_model_name": "LayoutModel",
            "_view_count": null,
            "_view_module": "@jupyter-widgets/base",
            "_view_module_version": "1.2.0",
            "_view_name": "LayoutView",
            "align_content": null,
            "align_items": null,
            "align_self": null,
            "border": null,
            "bottom": null,
            "display": null,
            "flex": null,
            "flex_flow": null,
            "grid_area": null,
            "grid_auto_columns": null,
            "grid_auto_flow": null,
            "grid_auto_rows": null,
            "grid_column": null,
            "grid_gap": null,
            "grid_row": null,
            "grid_template_areas": null,
            "grid_template_columns": null,
            "grid_template_rows": null,
            "height": null,
            "justify_content": null,
            "justify_items": null,
            "left": null,
            "margin": null,
            "max_height": null,
            "max_width": null,
            "min_height": null,
            "min_width": null,
            "object_fit": null,
            "object_position": null,
            "order": null,
            "overflow": null,
            "overflow_x": null,
            "overflow_y": null,
            "padding": null,
            "right": null,
            "top": null,
            "visibility": null,
            "width": null
          }
        }
      }
    }
  },
  "nbformat": 4,
  "nbformat_minor": 0
}